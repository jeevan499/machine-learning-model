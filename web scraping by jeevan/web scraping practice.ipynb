{
 "cells": [
  {
   "cell_type": "markdown",
   "id": "1c2388d8",
   "metadata": {},
   "source": [
    "# Loading the Library"
   ]
  },
  {
   "cell_type": "code",
   "execution_count": 4,
   "id": "84961b5c",
   "metadata": {},
   "outputs": [],
   "source": [
    "import csv\n",
    "from bs4 import BeautifulSoup"
   ]
  },
  {
   "cell_type": "code",
   "execution_count": 5,
   "id": "abd13edd",
   "metadata": {},
   "outputs": [],
   "source": [
    "from selenium import webdriver"
   ]
  },
  {
   "cell_type": "code",
   "execution_count": 6,
   "id": "8b44630d",
   "metadata": {},
   "outputs": [],
   "source": [
    "driver=webdriver.Chrome()"
   ]
  },
  {
   "cell_type": "code",
   "execution_count": 7,
   "id": "d0a8d221",
   "metadata": {},
   "outputs": [],
   "source": [
    "url='https://www.amazon.com'      # we are telling to chrome driver to open amazon website\n",
    "driver.get(url)"
   ]
  },
  {
   "cell_type": "code",
   "execution_count": 15,
   "id": "fe5befb8",
   "metadata": {},
   "outputs": [],
   "source": [
    "def get_url(search_item):\n",
    "    template='https://www.amazon.com/s?k={}&crid=14UY3K0N3KB2R&sprefix=ultrawide+monitor%2Caps%2C506&ref=nb_sb_noss_2'\n",
    "    search_item=search_item.replace(\" \",\"+\")\n",
    "    return template.format(search_item)"
   ]
  },
  {
   "cell_type": "code",
   "execution_count": 23,
   "id": "81767d8c",
   "metadata": {},
   "outputs": [
    {
     "name": "stdout",
     "output_type": "stream",
     "text": [
      "https://www.amazon.com/s?k=mouse&crid=14UY3K0N3KB2R&sprefix=ultrawide+monitor%2Caps%2C506&ref=nb_sb_noss_2\n"
     ]
    }
   ],
   "source": [
    "url=get_url('mouse')\n",
    "print(url)"
   ]
  },
  {
   "cell_type": "code",
   "execution_count": null,
   "id": "c61a5cb8",
   "metadata": {},
   "outputs": [],
   "source": [
    "soup1=BeautifulSoup(driver.page_source,)"
   ]
  },
  {
   "cell_type": "code",
   "execution_count": null,
   "id": "3a1e668d",
   "metadata": {},
   "outputs": [],
   "source": []
  },
  {
   "cell_type": "code",
   "execution_count": null,
   "id": "0682f6ef",
   "metadata": {},
   "outputs": [],
   "source": []
  },
  {
   "cell_type": "code",
   "execution_count": null,
   "id": "1a75e8ad",
   "metadata": {},
   "outputs": [],
   "source": []
  },
  {
   "cell_type": "code",
   "execution_count": null,
   "id": "ea5b6004",
   "metadata": {},
   "outputs": [],
   "source": []
  },
  {
   "cell_type": "code",
   "execution_count": null,
   "id": "50c2b820",
   "metadata": {},
   "outputs": [],
   "source": []
  }
 ],
 "metadata": {
  "kernelspec": {
   "display_name": "Python 3 (ipykernel)",
   "language": "python",
   "name": "python3"
  },
  "language_info": {
   "codemirror_mode": {
    "name": "ipython",
    "version": 3
   },
   "file_extension": ".py",
   "mimetype": "text/x-python",
   "name": "python",
   "nbconvert_exporter": "python",
   "pygments_lexer": "ipython3",
   "version": "3.9.7"
  }
 },
 "nbformat": 4,
 "nbformat_minor": 5
}
