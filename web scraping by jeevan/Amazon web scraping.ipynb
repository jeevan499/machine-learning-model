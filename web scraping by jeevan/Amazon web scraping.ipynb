{
 "cells": [
  {
   "cell_type": "markdown",
   "id": "4beb715d",
   "metadata": {},
   "source": [
    "# Amazon Web Scraper"
   ]
  },
  {
   "cell_type": "markdown",
   "id": "05b3e08f",
   "metadata": {},
   "source": [
    "## Requirements\n",
    "- Selenium\n",
    "- BeautifulSoup"
   ]
  },
  {
   "cell_type": "code",
   "execution_count": 1,
   "id": "d5c70a7e",
   "metadata": {},
   "outputs": [],
   "source": [
    "from bs4 import BeautifulSoup\n",
    "import csv\n",
    "import requests\n",
    "import pandas as pd"
   ]
  },
  {
   "cell_type": "code",
   "execution_count": 2,
   "id": "4e581468",
   "metadata": {},
   "outputs": [],
   "source": [
    "from selenium import webdriver"
   ]
  },
  {
   "cell_type": "markdown",
   "id": "07120761",
   "metadata": {},
   "source": [
    "## Startup the webdriver"
   ]
  },
  {
   "cell_type": "code",
   "execution_count": 3,
   "id": "a728512b",
   "metadata": {},
   "outputs": [],
   "source": [
    "driver = webdriver.Chrome()"
   ]
  },
  {
   "cell_type": "code",
   "execution_count": 4,
   "id": "7ba022d6",
   "metadata": {},
   "outputs": [],
   "source": [
    "url='http://www.amazon.com'\n",
    "driver.get(url)"
   ]
  },
  {
   "cell_type": "code",
   "execution_count": 5,
   "id": "efc2facc",
   "metadata": {},
   "outputs": [],
   "source": [
    "def get_url(search_term):\n",
    "    '''Generate a url from search term'''\n",
    "    template='https://www.amazon.com/s?k={}&crid=2EH2C75C82P0M&sprefix=ultrawide+monitor%2Caps%2C434&ref=nb_sb_noss_2'\n",
    "    search_term=search_term.replace(' ','+')\n",
    "    return template.format(search_term)"
   ]
  },
  {
   "cell_type": "code",
   "execution_count": 6,
   "id": "832b6232",
   "metadata": {},
   "outputs": [
    {
     "name": "stdout",
     "output_type": "stream",
     "text": [
      "https://www.amazon.com/s?k=ultrawide+moniter&crid=2EH2C75C82P0M&sprefix=ultrawide+monitor%2Caps%2C434&ref=nb_sb_noss_2\n"
     ]
    }
   ],
   "source": [
    "url=get_url('ultrawide moniter')\n",
    "print(url)"
   ]
  },
  {
   "cell_type": "code",
   "execution_count": 7,
   "id": "57357ed9",
   "metadata": {},
   "outputs": [],
   "source": [
    "driver.get(url)"
   ]
  },
  {
   "cell_type": "markdown",
   "id": "96ec4ad7",
   "metadata": {},
   "source": [
    "# Extract the collection"
   ]
  },
  {
   "cell_type": "code",
   "execution_count": 8,
   "id": "070e98e4",
   "metadata": {},
   "outputs": [],
   "source": [
    "soup=BeautifulSoup(driver.page_source,'html.parser')"
   ]
  },
  {
   "cell_type": "code",
   "execution_count": null,
   "id": "16b5bf4a",
   "metadata": {},
   "outputs": [],
   "source": []
  },
  {
   "cell_type": "code",
   "execution_count": 9,
   "id": "f2ddd1d8",
   "metadata": {},
   "outputs": [],
   "source": [
    "results=soup.find_all('div',{'data-component-type':'s-search-result'})"
   ]
  },
  {
   "cell_type": "code",
   "execution_count": 10,
   "id": "1494fb06",
   "metadata": {},
   "outputs": [
    {
     "data": {
      "text/plain": [
       "22"
      ]
     },
     "execution_count": 10,
     "metadata": {},
     "output_type": "execute_result"
    }
   ],
   "source": [
    "len(results)              # i totaly have only 16 records but it showing me the 22 records because of extra advertising data"
   ]
  },
  {
   "cell_type": "markdown",
   "id": "0ba29318",
   "metadata": {},
   "source": [
    "# Prototype the record"
   ]
  },
  {
   "cell_type": "code",
   "execution_count": 12,
   "id": "7d749701",
   "metadata": {},
   "outputs": [
    {
     "data": {
      "text/plain": [
       "<div class=\"s-result-item s-asin sg-col-0-of-12 sg-col-16-of-20 AdHolder sg-col s-widget-spacing-small sg-col-12-of-16\" data-asin=\"B097NJ43WW\" data-cel-widget=\"search_result_2\" data-component-id=\"45\" data-component-type=\"s-search-result\" data-index=\"2\" data-uuid=\"d4b6bc30-15b0-499b-9186-4632d3e983a0\"><div class=\"sg-col-inner\">\n",
       "<div cel_widget_id=\"MAIN-SEARCH_RESULTS-2\" class=\"s-widget-container s-spacing-small s-widget-container-height-small celwidget slot=MAIN template=SEARCH_RESULTS widgetId=search-results_1\" data-cel-widget=\"MAIN-SEARCH_RESULTS-2\" data-csa-c-id=\"uetoon-u60eni-1y6okz-y12bkx\">\n",
       "<div class=\"rush-component\" data-component-id=\"46\" data-component-props='{\"percentageShownToFire\":\"50\",\"batchable\":true,\"requiredElementSelector\":\".s-image:visible\",\"url\":\"https://unagi-na.amazon.com/1/events/com.amazon.eel.SponsoredProductsEventTracking.prod?qualifier=1649049271&amp;id=4629323023341950&amp;widgetName=sp_atf&amp;adId=200087116504321&amp;eventType=1&amp;adIndex=0\"}' data-component-type=\"s-impression-logger\">\n",
       "<div class=\"rush-component s-featured-result-item\" data-component-id=\"2\" data-component-props='{\"presenceCounterName\":\"sp_delivered\",\"testElementSelector\":\".s-image\",\"hiddenCounterName\":\"sp_hidden\"}' data-component-type=\"s-impression-counter\">\n",
       "<div class=\"s-card-container s-overflow-hidden aok-relative s-include-content-margin s-latency-cf-section s-card-border\"><div class=\"a-section\"><div class=\"sg-row\"><div class=\"sg-col sg-col-4-of-12 sg-col-4-of-16 sg-col-4-of-20 s-list-col-left\"><div class=\"sg-col-inner\"><div class=\"a-section a-spacing-none aok-relative s-image-overlay-grey s-list-status-badge-container\"></div><div class=\"s-product-image-container aok-relative s-image-overlay-grey s-text-center s-padding-left-small s-padding-right-small s-flex-expand-height\"><div class=\"aok-relative\"><span class=\"rush-component\" data-component-id=\"3\" data-component-type=\"s-product-image\"><a class=\"a-link-normal s-no-outline\" href=\"/gp/slredirect/picassoRedirect.html/ref=pa_sp_atf_aps_sr_pg1_1?ie=UTF8&amp;adId=A05130001QTMNK82HNO8C&amp;url=%2FGNV34DBE2-34-Inch-Multimedia-Monitor-Ultrawide%2Fdp%2FB097NJ43WW%2Fref%3Dsr_1_1_sspa%3Fcrid%3D2EH2C75C82P0M%26keywords%3Dultrawide%2Bmonitor%26qid%3D1649049271%26sprefix%3Dultrawide%2Bmonitor%252Caps%252C434%26sr%3D8-1-spons%26psc%3D1%26smid%3DA1BVYXEL822RF0&amp;qualifier=1649049271&amp;id=4629323023341950&amp;widgetName=sp_atf\"><div class=\"a-section aok-relative s-image-fixed-height\"><img alt=\"Sponsored Ad - VIOTEK GNV34DBE2 34-Inch UWQHD 144Hz Multimedia Gaming Monitor, Ultrawide 21:9 3440x1440p, Low Lag 1ms MPR...\" class=\"s-image\" data-image-index=\"1\" data-image-latency=\"s-product-image\" data-image-load=\"\" data-image-source-density=\"1\" src=\"https://m.media-amazon.com/images/I/71ZLTTCYRSS._AC_UY218_.jpg\" srcset=\"https://m.media-amazon.com/images/I/71ZLTTCYRSS._AC_UY218_.jpg 1x, https://m.media-amazon.com/images/I/71ZLTTCYRSS._AC_UY327_FMwebp_QL65_.jpg 1.5x, https://m.media-amazon.com/images/I/71ZLTTCYRSS._AC_UY436_FMwebp_QL65_.jpg 2x, https://m.media-amazon.com/images/I/71ZLTTCYRSS._AC_UY545_FMwebp_QL65_.jpg 2.5x, https://m.media-amazon.com/images/I/71ZLTTCYRSS._AC_UY654_FMwebp_QL65_.jpg 3x\"/></div></a></span></div></div></div></div><div class=\"sg-col sg-col-4-of-12 sg-col-8-of-16 sg-col-12-of-20 s-list-col-right\"><div class=\"sg-col-inner\"><div class=\"a-section a-spacing-small a-spacing-top-small\"><div class=\"a-section a-spacing-none s-padding-right-small s-title-instructions-style\"><div class=\"a-row a-spacing-micro\"><span class=\"a-declarative\" data-a-popover='{\"closeButton\":\"true\",\"dataStrategy\":\"preload\",\"name\":\"sp-info-popover-B097NJ43WW\",\"position\":\"triggerVertical\"}' data-action=\"a-popover\" data-csa-c-func-deps=\"aui-da-a-popover\" data-csa-c-id=\"kps76u-bel7y0-peye1d-3782d0\" data-csa-c-type=\"widget\"><a aria-label=\"View Sponsored information or leave ad feedback\" class=\"s-label-popover s-sponsored-label-text\" href=\"javascript:void(0)\" role=\"button\" style=\"text-decoration: none;\"><span class=\"s-label-popover-default\"><span class=\"a-color-secondary\">Sponsored</span></span><span class=\"s-label-popover-hover\"><span class=\"a-color-base\">Sponsored</span></span> <span class=\"aok-inline-block s-sponsored-label-info-icon\"></span></a></span><div class=\"a-popover-preload\" id=\"a-popover-sp-info-popover-B097NJ43WW\"><span>You’re seeing this ad based on the product’s relevance to your search query.</span><div class=\"a-row\"><span class=\"a-declarative\" data-action=\"s-safe-ajax-modal-trigger\" data-csa-c-func-deps=\"aui-da-s-safe-ajax-modal-trigger\" data-csa-c-id=\"8s3vkv-2u618j-grzknp-trfhhj\" data-csa-c-type=\"widget\" data-s-safe-ajax-modal-trigger='{\"ajaxUrl\":\"/af/sp-loom/feedback-form?pl=%7B%22adPlacementMetaData%22%3A%7B%22searchTerms%22%3A%22dWx0cmF3aWRlIG1vbml0b3I%3D%22%2C%22pageType%22%3A%22Search%22%2C%22feedbackType%22%3A%22sponsoredProductsLoom%22%2C%22slotName%22%3A%22TOP%22%7D%2C%22adCreativeMetaData%22%3A%7B%22adProgramId%22%3A1024%2C%22adCreativeDetails%22%3A%5B%7B%22asin%22%3A%22B097NJ43WW%22%2C%22title%22%3A%22VIOTEK+GNV34DBE2+34-Inch+UWQHD+144Hz+Multimedia+Gaming+Monitor%2C+Ultrawide+21%3A9+3440x1440p%2C+Low+Lag+1%22%2C%22priceInfo%22%3A%7B%22amount%22%3A389.99%2C%22currencyCode%22%3A%22USD%22%7D%2C%22sku%22%3A%2294021810FBA%22%2C%22adId%22%3A%22A05130001QTMNK82HNO8C%22%2C%22campaignId%22%3A%22A09242091MQPSPYYELNE0%22%7D%5D%7D%7D\",\"dataStrategy\":\"ajax\",\"header\":\"Share your feedback\"}'><a class=\"a-link-normal s-underline-text s-underline-link-text s-link-style\" href=\"#\"><span>Leave ad feedback</span> </a> </span></div></div></div><h2 class=\"a-size-mini a-spacing-none a-color-base s-line-clamp-2\"><a class=\"a-link-normal s-underline-text s-underline-link-text s-link-style a-text-normal\" href=\"/gp/slredirect/picassoRedirect.html/ref=pa_sp_atf_aps_sr_pg1_1?ie=UTF8&amp;adId=A05130001QTMNK82HNO8C&amp;url=%2FGNV34DBE2-34-Inch-Multimedia-Monitor-Ultrawide%2Fdp%2FB097NJ43WW%2Fref%3Dsr_1_1_sspa%3Fcrid%3D2EH2C75C82P0M%26keywords%3Dultrawide%2Bmonitor%26qid%3D1649049271%26sprefix%3Dultrawide%2Bmonitor%252Caps%252C434%26sr%3D8-1-spons%26psc%3D1%26smid%3DA1BVYXEL822RF0&amp;qualifier=1649049271&amp;id=4629323023341950&amp;widgetName=sp_atf\"><span class=\"a-size-medium a-color-base a-text-normal\">VIOTEK GNV34DBE2 34-Inch UWQHD 144Hz Multimedia Gaming Monitor, Ultrawide 21:9 3440x1440p, Low Lag 1ms MPRT, FreeSync &amp; G-Sync-Ready, HDR, 4000:1, 2X DP 2X HDMI 1x Audio Out (VESA)</span> </a> </h2></div><div class=\"a-section a-spacing-none a-spacing-top-micro\"><div class=\"a-row a-size-small\"><span aria-label=\"4.5 out of 5 stars\"><span class=\"a-declarative\" data-a-popover='{\"closeButton\":false,\"closeButtonLabel\":\"\",\"position\":\"triggerBottom\",\"popoverLabel\":\"\",\"url\":\"/review/widgets/average-customer-review/popover/ref=acr_search__popover?ie=UTF8&amp;asin=B097NJ43WW&amp;ref=acr_search__popover&amp;contextId=search\"}' data-action=\"a-popover\" data-csa-c-func-deps=\"aui-da-a-popover\" data-csa-c-id=\"x62bsz-lcevtt-ix0000-kgo3nl\" data-csa-c-type=\"widget\"><a class=\"a-popover-trigger a-declarative\" href=\"javascript:void(0)\" role=\"button\"><i class=\"a-icon a-icon-star-small a-star-small-4-5 aok-align-bottom\"><span class=\"a-icon-alt\">4.5 out of 5 stars</span></i><i class=\"a-icon a-icon-popover\"></i></a></span> </span><span aria-label=\"5,091\"><a class=\"a-link-normal s-underline-text s-underline-link-text s-link-style\" href=\"/gp/slredirect/picassoRedirect.html/ref=pa_sp_atf_aps_sr_pg1_1?ie=UTF8&amp;adId=A05130001QTMNK82HNO8C&amp;url=%2FGNV34DBE2-34-Inch-Multimedia-Monitor-Ultrawide%2Fdp%2FB097NJ43WW%2Fref%3Dsr_1_1_sspa%3Fcrid%3D2EH2C75C82P0M%26keywords%3Dultrawide%2Bmonitor%26qid%3D1649049271%26sprefix%3Dultrawide%2Bmonitor%252Caps%252C434%26sr%3D8-1-spons%26psc%3D1%26smid%3DA1BVYXEL822RF0&amp;qualifier=1649049271&amp;id=4629323023341950&amp;widgetName=sp_atf#customerReviews\"><span class=\"a-size-base s-underline-text\">5,091</span> </a> </span></div></div><div class=\"sg-row\"><div class=\"sg-col sg-col-4-of-12 sg-col-4-of-16 sg-col-4-of-20\"><div class=\"sg-col-inner\"><div class=\"a-section a-spacing-none a-spacing-top-small s-price-instructions-style\"><div class=\"a-row a-size-base a-color-base\"><a class=\"a-size-base a-link-normal s-underline-text s-underline-link-text s-link-style a-text-normal\" href=\"/gp/slredirect/picassoRedirect.html/ref=pa_sp_atf_aps_sr_pg1_1?ie=UTF8&amp;adId=A05130001QTMNK82HNO8C&amp;url=%2FGNV34DBE2-34-Inch-Multimedia-Monitor-Ultrawide%2Fdp%2FB097NJ43WW%2Fref%3Dsr_1_1_sspa%3Fcrid%3D2EH2C75C82P0M%26keywords%3Dultrawide%2Bmonitor%26qid%3D1649049271%26sprefix%3Dultrawide%2Bmonitor%252Caps%252C434%26sr%3D8-1-spons%26psc%3D1%26smid%3DA1BVYXEL822RF0&amp;qualifier=1649049271&amp;id=4629323023341950&amp;widgetName=sp_atf\"><span class=\"a-price\" data-a-color=\"base\" data-a-size=\"l\"><span class=\"a-offscreen\">$389.99</span><span aria-hidden=\"true\"><span class=\"a-price-symbol\">$</span><span class=\"a-price-whole\">389<span class=\"a-price-decimal\">.</span></span><span class=\"a-price-fraction\">99</span></span></span> </a> </div></div><div class=\"a-section a-spacing-none a-spacing-top-micro\"><div class=\"a-row a-size-base a-color-secondary s-align-children-center\"><span class=\"a-size-small a-color-base\">Ships to India</span></div></div></div></div><div class=\"sg-col sg-col-4-of-12 sg-col-4-of-16 sg-col-8-of-20\"><div class=\"sg-col-inner\"></div></div></div></div></div></div></div></div></div>\n",
       "</div>\n",
       "</div>\n",
       "</div>\n",
       "</div></div>"
      ]
     },
     "execution_count": 12,
     "metadata": {},
     "output_type": "execute_result"
    }
   ],
   "source": [
    "item=results[0]\n",
    "item"
   ]
  },
  {
   "cell_type": "code",
   "execution_count": 27,
   "id": "9d6f2636",
   "metadata": {},
   "outputs": [],
   "source": [
    "atag=item.h2.a"
   ]
  },
  {
   "cell_type": "code",
   "execution_count": 29,
   "id": "bcd31ed7",
   "metadata": {},
   "outputs": [],
   "source": [
    "description=atag.text.strip()"
   ]
  },
  {
   "cell_type": "code",
   "execution_count": 31,
   "id": "9ac97eca",
   "metadata": {},
   "outputs": [],
   "source": [
    "url='http://www.amazon.com' + atag.get('href')"
   ]
  },
  {
   "cell_type": "code",
   "execution_count": 33,
   "id": "813ad727",
   "metadata": {},
   "outputs": [],
   "source": [
    "price_parent=item.find('span','a-price')"
   ]
  },
  {
   "cell_type": "code",
   "execution_count": 36,
   "id": "c416e7a5",
   "metadata": {},
   "outputs": [],
   "source": [
    "price=price_parent.find('span','a-offscreen').text"
   ]
  },
  {
   "cell_type": "code",
   "execution_count": 39,
   "id": "1e0c10d8",
   "metadata": {},
   "outputs": [],
   "source": [
    "rating=item.i.text"
   ]
  },
  {
   "cell_type": "markdown",
   "id": "9fdc4716",
   "metadata": {},
   "source": [
    "# Generalize the pattern"
   ]
  },
  {
   "cell_type": "code",
   "execution_count": 46,
   "id": "a225d4e0",
   "metadata": {},
   "outputs": [],
   "source": [
    "def extract_record(item):\n",
    "    '''Extract and return data from a single record'''\n",
    "    \n",
    "    # description and url\n",
    "    atag=item.h2.a\n",
    "    description=atag.text.strip()\n",
    "    url='http://www.amazon.com' + atag.get('href')\n",
    "    \n",
    "    # price\n",
    "    price_parent=item.find('span','a-price')\n",
    "    price=price_parent.find('span','a-offscreen').text\n",
    "    \n",
    "    # rating\n",
    "    rating=item.i.text\n",
    "    \n",
    "    result =(description,price,rating,url)\n",
    "    \n",
    "    return result"
   ]
  },
  {
   "cell_type": "code",
   "execution_count": 47,
   "id": "b2bb50bc",
   "metadata": {},
   "outputs": [
    {
     "ename": "AttributeError",
     "evalue": "'NoneType' object has no attribute 'find'",
     "output_type": "error",
     "traceback": [
      "\u001b[1;31m---------------------------------------------------------------------------\u001b[0m",
      "\u001b[1;31mAttributeError\u001b[0m                            Traceback (most recent call last)",
      "\u001b[1;32m~\\AppData\\Local\\Temp/ipykernel_8864/1682423318.py\u001b[0m in \u001b[0;36m<module>\u001b[1;34m\u001b[0m\n\u001b[0;32m      3\u001b[0m \u001b[1;33m\u001b[0m\u001b[0m\n\u001b[0;32m      4\u001b[0m \u001b[1;32mfor\u001b[0m \u001b[0mitem\u001b[0m \u001b[1;32min\u001b[0m \u001b[0mresults\u001b[0m\u001b[1;33m:\u001b[0m\u001b[1;33m\u001b[0m\u001b[1;33m\u001b[0m\u001b[0m\n\u001b[1;32m----> 5\u001b[1;33m     \u001b[0mrecords\u001b[0m\u001b[1;33m.\u001b[0m\u001b[0mappend\u001b[0m\u001b[1;33m(\u001b[0m\u001b[0mextract_record\u001b[0m\u001b[1;33m(\u001b[0m\u001b[0mitem\u001b[0m\u001b[1;33m)\u001b[0m\u001b[1;33m)\u001b[0m\u001b[1;33m\u001b[0m\u001b[1;33m\u001b[0m\u001b[0m\n\u001b[0m",
      "\u001b[1;32m~\\AppData\\Local\\Temp/ipykernel_8864/3903956158.py\u001b[0m in \u001b[0;36mextract_record\u001b[1;34m(item)\u001b[0m\n\u001b[0;32m      9\u001b[0m     \u001b[1;31m# price\u001b[0m\u001b[1;33m\u001b[0m\u001b[1;33m\u001b[0m\u001b[0m\n\u001b[0;32m     10\u001b[0m     \u001b[0mprice_parent\u001b[0m\u001b[1;33m=\u001b[0m\u001b[0mitem\u001b[0m\u001b[1;33m.\u001b[0m\u001b[0mfind\u001b[0m\u001b[1;33m(\u001b[0m\u001b[1;34m'span'\u001b[0m\u001b[1;33m,\u001b[0m\u001b[1;34m'a-price'\u001b[0m\u001b[1;33m)\u001b[0m\u001b[1;33m\u001b[0m\u001b[1;33m\u001b[0m\u001b[0m\n\u001b[1;32m---> 11\u001b[1;33m     \u001b[0mprice\u001b[0m\u001b[1;33m=\u001b[0m\u001b[0mprice_parent\u001b[0m\u001b[1;33m.\u001b[0m\u001b[0mfind\u001b[0m\u001b[1;33m(\u001b[0m\u001b[1;34m'span'\u001b[0m\u001b[1;33m,\u001b[0m\u001b[1;34m'a-offscreen'\u001b[0m\u001b[1;33m)\u001b[0m\u001b[1;33m.\u001b[0m\u001b[0mtext\u001b[0m\u001b[1;33m\u001b[0m\u001b[1;33m\u001b[0m\u001b[0m\n\u001b[0m\u001b[0;32m     12\u001b[0m \u001b[1;33m\u001b[0m\u001b[0m\n\u001b[0;32m     13\u001b[0m     \u001b[1;31m# rating\u001b[0m\u001b[1;33m\u001b[0m\u001b[1;33m\u001b[0m\u001b[0m\n",
      "\u001b[1;31mAttributeError\u001b[0m: 'NoneType' object has no attribute 'find'"
     ]
    }
   ],
   "source": [
    "records =[]\n",
    "results=soup.find_all('div',{'data-component-type':'s-search-result'})\n",
    "\n",
    "for item in results:\n",
    "    records.append(extract_record(item))"
   ]
  },
  {
   "cell_type": "code",
   "execution_count": 48,
   "id": "e3dc720a",
   "metadata": {},
   "outputs": [],
   "source": [
    "# i am getting an error because some of the product has no price data so its giving me an error\n",
    "\n",
    "# so will write a command provide the data if their is no such data aswell"
   ]
  },
  {
   "cell_type": "markdown",
   "id": "a58ed190",
   "metadata": {},
   "source": [
    "# Error Handling"
   ]
  },
  {
   "cell_type": "code",
   "execution_count": 49,
   "id": "4194f1f4",
   "metadata": {},
   "outputs": [],
   "source": [
    "def extract_record(item):\n",
    "    '''Extract and return data from a single record'''\n",
    "    \n",
    "    # description and url\n",
    "    atag=item.h2.a\n",
    "    description=atag.text.strip()\n",
    "    url='http://www.amazon.com' + atag.get('href')\n",
    "    \n",
    "    try:\n",
    "        # price\n",
    "        price_parent=item.find('span','a-price')\n",
    "        price=price_parent.find('span','a-offscreen').text\n",
    "    except AttributeError:\n",
    "        return\n",
    "    \n",
    "    try:\n",
    "        # rating\n",
    "        rating=item.i.text\n",
    "    except AttributeError:\n",
    "        rating = \"\"\n",
    "    \n",
    "    result =(description,price,rating,url)\n",
    "    \n",
    "    return result"
   ]
  },
  {
   "cell_type": "code",
   "execution_count": 51,
   "id": "082e87ca",
   "metadata": {},
   "outputs": [],
   "source": [
    "records =[]\n",
    "results=soup.find_all('div',{'data-component-type':'s-search-result'})\n",
    "\n",
    "for item in results:\n",
    "    record =extract_record(item)\n",
    "    if record:\n",
    "        records.append(record)"
   ]
  },
  {
   "cell_type": "code",
   "execution_count": 52,
   "id": "8415cc67",
   "metadata": {},
   "outputs": [
    {
     "data": {
      "text/plain": [
       "('ViewSonic VG3456 34 Inch 21:9 UltraWide WQHD 1440p Monitor with Ergonomics Design USB Type C Docking Built-in Gigabit Ethernet for Home and Office',\n",
       " '$599.99',\n",
       " '4.2 out of 5 stars',\n",
       " 'http://www.amazon.com/gp/slredirect/picassoRedirect.html/ref=pa_sp_atf_aps_sr_pg1_1?ie=UTF8&adId=A091041722USLSNU4D44A&url=%2FViewSonic-VG3456-Inch-Ergonomics-Built%2Fdp%2FB0912L63P2%2Fref%3Dsr_1_1_sspa%3Fcrid%3D2EH2C75C82P0M%26keywords%3Dultrawide%2Bmonitor%26qid%3D1643943322%26sprefix%3Dultrawide%2Bmonitor%252Caps%252C434%26sr%3D8-1-spons%26psc%3D1&qualifier=1643943322&id=1458293824992456&widgetName=sp_atf')"
      ]
     },
     "execution_count": 52,
     "metadata": {},
     "output_type": "execute_result"
    }
   ],
   "source": [
    "records[0]"
   ]
  },
  {
   "cell_type": "code",
   "execution_count": 53,
   "id": "1bd0b297",
   "metadata": {},
   "outputs": [
    {
     "name": "stdout",
     "output_type": "stream",
     "text": [
      "$599.99\n",
      "$449.99\n",
      "$429.97\n",
      "$1,199.99\n",
      "$246.99\n",
      "$529.98\n",
      "$349.99\n",
      "$499.99\n",
      "$479.97\n",
      "$349.99\n",
      "$459.99\n",
      "$449.99\n",
      "$799.99\n",
      "$459.99\n",
      "$359.95\n",
      "$459.99\n",
      "$209.99\n",
      "$549.99\n",
      "$299.99\n"
     ]
    }
   ],
   "source": [
    "for row in records:\n",
    "    print(row[1])"
   ]
  },
  {
   "cell_type": "markdown",
   "id": "7fc60c34",
   "metadata": {},
   "source": [
    "# Getting the next page"
   ]
  },
  {
   "cell_type": "code",
   "execution_count": 54,
   "id": "d5530d8b",
   "metadata": {},
   "outputs": [],
   "source": [
    "def get_url(search_term):\n",
    "    '''Generate a url from search term'''\n",
    "    template='https://www.amazon.com/s?k={}&crid=2EH2C75C82P0M&sprefix=ultrawide+monitor%2Caps%2C434&ref=nb_sb_noss_2'\n",
    "    search_term=search_term.replace(' ','+')\n",
    "    \n",
    "    # add term query to url\n",
    "    url = template.format(search_term)\n",
    "    \n",
    "    # add page query placeholder\n",
    "    url+='&page{}'\n",
    "    return template.format(search_term)"
   ]
  },
  {
   "cell_type": "markdown",
   "id": "4bc0e345",
   "metadata": {},
   "source": [
    "## Putting it all together"
   ]
  },
  {
   "cell_type": "code",
   "execution_count": 56,
   "id": "69b1b991",
   "metadata": {},
   "outputs": [],
   "source": [
    "from bs4 import BeautifulSoup\n",
    "import csv\n",
    "\n",
    "def get_url(search_term):\n",
    "    '''Generate a url from search term'''\n",
    "    template='https://www.amazon.com/s?k={}&crid=2EH2C75C82P0M&sprefix=ultrawide+monitor%2Caps%2C434&ref=nb_sb_noss_2'\n",
    "    search_term=search_term.replace(' ','+')\n",
    "    \n",
    "    # add term query to url\n",
    "    url = template.format(search_term)\n",
    "    \n",
    "    # add page query placeholder\n",
    "    url+='&page{}'\n",
    "    return template.format(search_term)\n",
    "\n",
    "def extract_record(item):\n",
    "    '''Extract and return data from a single record'''\n",
    "    \n",
    "    # description and url\n",
    "    atag=item.h2.a\n",
    "    description=atag.text.strip()\n",
    "    url='http://www.amazon.com' + atag.get('href')\n",
    "    \n",
    "    try:\n",
    "        # price\n",
    "        price_parent=item.find('span','a-price')\n",
    "        price=price_parent.find('span','a-offscreen').text\n",
    "    except AttributeError:\n",
    "        return\n",
    "    \n",
    "    try:\n",
    "        # rating\n",
    "        rating=item.i.text\n",
    "    except AttributeError:\n",
    "        rating = \"\"\n",
    "    \n",
    "    result =(description,price,rating,url)\n",
    "    \n",
    "    return result\n",
    "\n",
    "def main(search_term):\n",
    "    '''run main program routine'''\n",
    "    # startup the webdriver\n",
    "    \n",
    "    driver = webdriver.Chrome()\n",
    "    \n",
    "    record=[]\n",
    "    url=get_url(search_term)\n",
    "    \n",
    "    for page in range(1,21):\n",
    "        driver.get(url.format(page))\n",
    "        soup=BeautifulSoup(driver.page_source,'html.parser')\n",
    "        results=soup.find_all('div',{'data-component-type':'s-search-result'})\n",
    "        \n",
    "        for item in results:\n",
    "            record=extract_record(item)\n",
    "            if record:\n",
    "                records.append(record)\n",
    "        \n",
    "    driver.close()\n",
    "    \n",
    "    # save data to csv file\n",
    "    with open('results.csv','w',newline='',encoding='utf-8') as f:\n",
    "        writer =csv.writer(f)\n",
    "        writer.writerow(['Description','price','rating','url'])\n",
    "        writer.writerows(records)\n"
   ]
  },
  {
   "cell_type": "code",
   "execution_count": 57,
   "id": "1b62e0f7",
   "metadata": {},
   "outputs": [],
   "source": [
    "main('ultrawide monitor')"
   ]
  },
  {
   "cell_type": "code",
   "execution_count": null,
   "id": "3345fc1a",
   "metadata": {},
   "outputs": [],
   "source": []
  },
  {
   "cell_type": "code",
   "execution_count": null,
   "id": "8e3e274d",
   "metadata": {},
   "outputs": [],
   "source": []
  },
  {
   "cell_type": "code",
   "execution_count": null,
   "id": "07613e23",
   "metadata": {},
   "outputs": [],
   "source": []
  },
  {
   "cell_type": "code",
   "execution_count": null,
   "id": "29d741da",
   "metadata": {},
   "outputs": [],
   "source": []
  }
 ],
 "metadata": {
  "kernelspec": {
   "display_name": "Python 3 (ipykernel)",
   "language": "python",
   "name": "python3"
  },
  "language_info": {
   "codemirror_mode": {
    "name": "ipython",
    "version": 3
   },
   "file_extension": ".py",
   "mimetype": "text/x-python",
   "name": "python",
   "nbconvert_exporter": "python",
   "pygments_lexer": "ipython3",
   "version": "3.9.7"
  }
 },
 "nbformat": 4,
 "nbformat_minor": 5
}
