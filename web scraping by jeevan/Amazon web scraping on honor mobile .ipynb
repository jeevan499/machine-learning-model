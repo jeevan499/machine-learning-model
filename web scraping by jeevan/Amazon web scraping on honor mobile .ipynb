{
 "cells": [
  {
   "cell_type": "markdown",
   "id": "4beb715d",
   "metadata": {},
   "source": [
    "# Amazon Web Scraper"
   ]
  },
  {
   "cell_type": "markdown",
   "id": "05b3e08f",
   "metadata": {},
   "source": [
    "## Requirements\n",
    "- Selenium\n",
    "- BeautifulSoup"
   ]
  },
  {
   "cell_type": "code",
   "execution_count": 1,
   "id": "d5c70a7e",
   "metadata": {},
   "outputs": [],
   "source": [
    "from bs4 import BeautifulSoup\n",
    "import csv\n",
    "import requests\n",
    "import pandas as pd"
   ]
  },
  {
   "cell_type": "code",
   "execution_count": 2,
   "id": "0c68e4f1",
   "metadata": {},
   "outputs": [],
   "source": [
    "# pip install selenium"
   ]
  },
  {
   "cell_type": "code",
   "execution_count": 4,
   "id": "4e581468",
   "metadata": {},
   "outputs": [],
   "source": [
    "from selenium import webdriver"
   ]
  },
  {
   "cell_type": "markdown",
   "id": "07120761",
   "metadata": {},
   "source": [
    "## Startup the webdriver"
   ]
  },
  {
   "cell_type": "code",
   "execution_count": 6,
   "id": "a728512b",
   "metadata": {},
   "outputs": [],
   "source": [
    "driver = webdriver.Chrome()"
   ]
  },
  {
   "cell_type": "code",
   "execution_count": 7,
   "id": "7ba022d6",
   "metadata": {},
   "outputs": [],
   "source": [
    "url='http://www.amazon.com'\n",
    "driver.get(url)"
   ]
  },
  {
   "cell_type": "code",
   "execution_count": 8,
   "id": "efc2facc",
   "metadata": {},
   "outputs": [],
   "source": [
    "def get_url(search_term):\n",
    "    '''Generate a url from search term'''\n",
    "    template='https://www.amazon.com/s?k={}&crid=2EH2C75C82P0M&sprefix={}r%2Caps%2C434&ref=nb_sb_noss_2'\n",
    "    search_term=search_term.replace(' ','+')\n",
    "    return template.format(search_term,search_term)"
   ]
  },
  {
   "cell_type": "code",
   "execution_count": 10,
   "id": "832b6232",
   "metadata": {},
   "outputs": [
    {
     "name": "stdout",
     "output_type": "stream",
     "text": [
      "https://www.amazon.com/s?k=honor+mobile&crid=2EH2C75C82P0M&sprefix=honor+mobiler%2Caps%2C434&ref=nb_sb_noss_2\n"
     ]
    }
   ],
   "source": [
    "url=get_url('honor mobile')\n",
    "print(url)"
   ]
  },
  {
   "cell_type": "code",
   "execution_count": 11,
   "id": "57357ed9",
   "metadata": {},
   "outputs": [],
   "source": [
    "driver.get(url)"
   ]
  },
  {
   "cell_type": "markdown",
   "id": "96ec4ad7",
   "metadata": {},
   "source": [
    "# Extract the collection"
   ]
  },
  {
   "cell_type": "code",
   "execution_count": 12,
   "id": "070e98e4",
   "metadata": {},
   "outputs": [],
   "source": [
    "soup=BeautifulSoup(driver.page_source,'html.parser')"
   ]
  },
  {
   "cell_type": "code",
   "execution_count": null,
   "id": "16b5bf4a",
   "metadata": {},
   "outputs": [],
   "source": []
  },
  {
   "cell_type": "code",
   "execution_count": 12,
   "id": "f2ddd1d8",
   "metadata": {},
   "outputs": [],
   "source": [
    "results=soup.find_all('div',{'data-component-type':'s-search-result'})"
   ]
  },
  {
   "cell_type": "code",
   "execution_count": 13,
   "id": "1494fb06",
   "metadata": {},
   "outputs": [
    {
     "data": {
      "text/plain": [
       "22"
      ]
     },
     "execution_count": 13,
     "metadata": {},
     "output_type": "execute_result"
    }
   ],
   "source": [
    "len(results)              # i totaly have only 16 records but it showing me the 22 records because of extra advertising data"
   ]
  },
  {
   "cell_type": "markdown",
   "id": "0ba29318",
   "metadata": {},
   "source": [
    "# Prototype the record"
   ]
  },
  {
   "cell_type": "code",
   "execution_count": 14,
   "id": "7d749701",
   "metadata": {},
   "outputs": [],
   "source": [
    "item=results[0]"
   ]
  },
  {
   "cell_type": "code",
   "execution_count": 15,
   "id": "9d6f2636",
   "metadata": {},
   "outputs": [],
   "source": [
    "atag=item.h2.a"
   ]
  },
  {
   "cell_type": "code",
   "execution_count": 16,
   "id": "bcd31ed7",
   "metadata": {},
   "outputs": [],
   "source": [
    "description=atag.text.strip()"
   ]
  },
  {
   "cell_type": "code",
   "execution_count": 17,
   "id": "9ac97eca",
   "metadata": {},
   "outputs": [],
   "source": [
    "url='http://www.amazon.com' + atag.get('href')"
   ]
  },
  {
   "cell_type": "code",
   "execution_count": 18,
   "id": "813ad727",
   "metadata": {},
   "outputs": [],
   "source": [
    "price_parent=item.find('span','a-price')"
   ]
  },
  {
   "cell_type": "code",
   "execution_count": 19,
   "id": "c416e7a5",
   "metadata": {},
   "outputs": [],
   "source": [
    "price=price_parent.find('span','a-offscreen').text"
   ]
  },
  {
   "cell_type": "code",
   "execution_count": 20,
   "id": "1e0c10d8",
   "metadata": {},
   "outputs": [],
   "source": [
    "rating=item.i.text"
   ]
  },
  {
   "cell_type": "markdown",
   "id": "9fdc4716",
   "metadata": {},
   "source": [
    "# Generalize the pattern"
   ]
  },
  {
   "cell_type": "code",
   "execution_count": 21,
   "id": "a225d4e0",
   "metadata": {},
   "outputs": [],
   "source": [
    "def extract_record(item):\n",
    "    '''Extract and return data from a single record'''\n",
    "    \n",
    "    # description and url\n",
    "    atag=item.h2.a\n",
    "    description=atag.text.strip()\n",
    "    url='http://www.amazon.com' + atag.get('href')\n",
    "    \n",
    "    # price\n",
    "    price_parent=item.find('span','a-price')\n",
    "    price=price_parent.find('span','a-offscreen').text\n",
    "    \n",
    "    # rating\n",
    "    rating=item.i.text\n",
    "    \n",
    "    result =(description,price,rating,url)\n",
    "    \n",
    "    return result"
   ]
  },
  {
   "cell_type": "code",
   "execution_count": 22,
   "id": "b2bb50bc",
   "metadata": {},
   "outputs": [
    {
     "ename": "AttributeError",
     "evalue": "'NoneType' object has no attribute 'find'",
     "output_type": "error",
     "traceback": [
      "\u001b[1;31m---------------------------------------------------------------------------\u001b[0m",
      "\u001b[1;31mAttributeError\u001b[0m                            Traceback (most recent call last)",
      "\u001b[1;32m<ipython-input-22-d9d8058cc603>\u001b[0m in \u001b[0;36m<module>\u001b[1;34m\u001b[0m\n\u001b[0;32m      3\u001b[0m \u001b[1;33m\u001b[0m\u001b[0m\n\u001b[0;32m      4\u001b[0m \u001b[1;32mfor\u001b[0m \u001b[0mitem\u001b[0m \u001b[1;32min\u001b[0m \u001b[0mresults\u001b[0m\u001b[1;33m:\u001b[0m\u001b[1;33m\u001b[0m\u001b[1;33m\u001b[0m\u001b[0m\n\u001b[1;32m----> 5\u001b[1;33m     \u001b[0mrecords\u001b[0m\u001b[1;33m.\u001b[0m\u001b[0mappend\u001b[0m\u001b[1;33m(\u001b[0m\u001b[0mextract_record\u001b[0m\u001b[1;33m(\u001b[0m\u001b[0mitem\u001b[0m\u001b[1;33m)\u001b[0m\u001b[1;33m)\u001b[0m\u001b[1;33m\u001b[0m\u001b[1;33m\u001b[0m\u001b[0m\n\u001b[0m",
      "\u001b[1;32m<ipython-input-21-c795c84bdaab>\u001b[0m in \u001b[0;36mextract_record\u001b[1;34m(item)\u001b[0m\n\u001b[0;32m      9\u001b[0m     \u001b[1;31m# price\u001b[0m\u001b[1;33m\u001b[0m\u001b[1;33m\u001b[0m\u001b[1;33m\u001b[0m\u001b[0m\n\u001b[0;32m     10\u001b[0m     \u001b[0mprice_parent\u001b[0m\u001b[1;33m=\u001b[0m\u001b[0mitem\u001b[0m\u001b[1;33m.\u001b[0m\u001b[0mfind\u001b[0m\u001b[1;33m(\u001b[0m\u001b[1;34m'span'\u001b[0m\u001b[1;33m,\u001b[0m\u001b[1;34m'a-price'\u001b[0m\u001b[1;33m)\u001b[0m\u001b[1;33m\u001b[0m\u001b[1;33m\u001b[0m\u001b[0m\n\u001b[1;32m---> 11\u001b[1;33m     \u001b[0mprice\u001b[0m\u001b[1;33m=\u001b[0m\u001b[0mprice_parent\u001b[0m\u001b[1;33m.\u001b[0m\u001b[0mfind\u001b[0m\u001b[1;33m(\u001b[0m\u001b[1;34m'span'\u001b[0m\u001b[1;33m,\u001b[0m\u001b[1;34m'a-offscreen'\u001b[0m\u001b[1;33m)\u001b[0m\u001b[1;33m.\u001b[0m\u001b[0mtext\u001b[0m\u001b[1;33m\u001b[0m\u001b[1;33m\u001b[0m\u001b[0m\n\u001b[0m\u001b[0;32m     12\u001b[0m \u001b[1;33m\u001b[0m\u001b[0m\n\u001b[0;32m     13\u001b[0m     \u001b[1;31m# rating\u001b[0m\u001b[1;33m\u001b[0m\u001b[1;33m\u001b[0m\u001b[1;33m\u001b[0m\u001b[0m\n",
      "\u001b[1;31mAttributeError\u001b[0m: 'NoneType' object has no attribute 'find'"
     ]
    }
   ],
   "source": [
    "records =[]\n",
    "results=soup.find_all('div',{'data-component-type':'s-search-result'})\n",
    "\n",
    "for item in results:\n",
    "    records.append(extract_record(item))"
   ]
  },
  {
   "cell_type": "code",
   "execution_count": 23,
   "id": "e3dc720a",
   "metadata": {},
   "outputs": [],
   "source": [
    "# i am getting an error because some of the product has no price data so its giving me an error\n",
    "\n",
    "# so will write a command provide the data if their is no such data aswell"
   ]
  },
  {
   "cell_type": "markdown",
   "id": "a58ed190",
   "metadata": {},
   "source": [
    "# Error Handling"
   ]
  },
  {
   "cell_type": "code",
   "execution_count": 24,
   "id": "4194f1f4",
   "metadata": {},
   "outputs": [],
   "source": [
    "def extract_record(item):\n",
    "    '''Extract and return data from a single record'''\n",
    "    \n",
    "    # description and url\n",
    "    atag=item.h2.a\n",
    "    description=atag.text.strip()\n",
    "    url='http://www.amazon.com' + atag.get('href')\n",
    "    \n",
    "    try:\n",
    "        # price\n",
    "        price_parent=item.find('span','a-price')\n",
    "        price=price_parent.find('span','a-offscreen').text\n",
    "    except AttributeError:\n",
    "        return\n",
    "    \n",
    "    try:\n",
    "        # rating\n",
    "        rating=item.i.text\n",
    "    except AttributeError:\n",
    "        rating = \"\"\n",
    "    \n",
    "    result =(description,price,rating,url)\n",
    "    \n",
    "    return result"
   ]
  },
  {
   "cell_type": "code",
   "execution_count": 25,
   "id": "082e87ca",
   "metadata": {},
   "outputs": [],
   "source": [
    "records =[]\n",
    "results=soup.find_all('div',{'data-component-type':'s-search-result'})\n",
    "\n",
    "for item in results:\n",
    "    record =extract_record(item)\n",
    "    if record:\n",
    "        records.append(record)"
   ]
  },
  {
   "cell_type": "code",
   "execution_count": 26,
   "id": "8415cc67",
   "metadata": {},
   "outputs": [
    {
     "data": {
      "text/plain": [
       "('TCL 20 SE 6.82\" Unlocked Cellphone, 4GB RAM + 128GB ROM, US Version Android 11 Smartphone with 48MP Rear AI Quad-Camera, 5000mAh Big Battery, Dual Speaker, OTG Reverse Charging Octa-Core, Aurora Green',\n",
       " '$189.99',\n",
       " '4.3 out of 5 stars',\n",
       " 'http://www.amazon.com/gp/slredirect/picassoRedirect.html/ref=pa_sp_atf_aps_sr_pg1_1?ie=UTF8&adId=A088291415ZHLA05YGTI&url=%2FTCL-Cellphone-Smartphone-Quad-Camera-Octa-Core%2Fdp%2FB0949744D3%2Fref%3Dsr_1_1_sspa%3Fcrid%3D2EH2C75C82P0M%26keywords%3Dhonor%2Bmobile%26qid%3D1643986247%26sprefix%3Dhonor%2Bmobiler%252Caps%252C434%26sr%3D8-1-spons%26psc%3D1%26smid%3DA30Q8ROZNHHS8N&qualifier=1643986247&id=2426495670451488&widgetName=sp_atf')"
      ]
     },
     "execution_count": 26,
     "metadata": {},
     "output_type": "execute_result"
    }
   ],
   "source": [
    "records[0]"
   ]
  },
  {
   "cell_type": "code",
   "execution_count": 27,
   "id": "1bd0b297",
   "metadata": {},
   "outputs": [
    {
     "name": "stdout",
     "output_type": "stream",
     "text": [
      "$189.99\n",
      "$499.99\n",
      "$189.99\n",
      "$249.99\n",
      "$57.85\n",
      "$179.99\n",
      "$159.99\n",
      "$119.99\n",
      "$69.99\n",
      "$71.99\n",
      "$228.88\n",
      "$159.99\n",
      "$289.00\n",
      "$199.99\n",
      "$77.77\n",
      "$159.99\n",
      "$169.99\n"
     ]
    }
   ],
   "source": [
    "for row in records:\n",
    "    print(row[1])"
   ]
  },
  {
   "cell_type": "markdown",
   "id": "7fc60c34",
   "metadata": {},
   "source": [
    "# Getting the next page"
   ]
  },
  {
   "cell_type": "code",
   "execution_count": 28,
   "id": "d5530d8b",
   "metadata": {},
   "outputs": [],
   "source": [
    "def get_url(search_term):\n",
    "    '''Generate a url from search term'''\n",
    "    template='https://www.amazon.com/s?k={}&crid=2EH2C75C82P0M&sprefix=ultrawide+monitor%2Caps%2C434&ref=nb_sb_noss_2'\n",
    "    search_term=search_term.replace(' ','+')\n",
    "    \n",
    "    # add term query to url\n",
    "    url = template.format(search_term)\n",
    "    \n",
    "    # add page query placeholder\n",
    "    url+='&page{}'\n",
    "    return template.format(search_term)"
   ]
  },
  {
   "cell_type": "markdown",
   "id": "4bc0e345",
   "metadata": {},
   "source": [
    "## Putting it all together"
   ]
  },
  {
   "cell_type": "code",
   "execution_count": 45,
   "id": "69b1b991",
   "metadata": {},
   "outputs": [],
   "source": [
    "from bs4 import BeautifulSoup\n",
    "import csv\n",
    "\n",
    "def get_url(search_term):\n",
    "    '''Generate a url from search term'''\n",
    "    template='https://www.amazon.com/s?k={}&crid=2EH2C75C82P0M&sprefix=honor+mobiler%2Caps%2C434&ref=nb_sb_noss_2'\n",
    "    search_term=search_term.replace(' ','+')\n",
    "    \n",
    "    # add term query to url\n",
    "    url = template.format(search_term)\n",
    "    \n",
    "    # add page query placeholder\n",
    "    url+='&page{}'\n",
    "    return template.format(search_term)\n",
    "\n",
    "def extract_record(item):\n",
    "    '''Extract and return data from a single record'''\n",
    "    \n",
    "    # description and url\n",
    "    atag=item.h2.a\n",
    "    description=atag.text.strip()\n",
    "    url='http://www.amazon.com' + atag.get('href')\n",
    "    \n",
    "    try:\n",
    "        # price\n",
    "        price_parent=item.find('span','a-price')\n",
    "        price=price_parent.find('span','a-offscreen').text\n",
    "    except AttributeError:\n",
    "        return\n",
    "    \n",
    "    try:\n",
    "        # rating\n",
    "        rating=item.i.text\n",
    "    except AttributeError:\n",
    "        rating = \"\"\n",
    "    \n",
    "    result =(description,price,rating,url)\n",
    "    \n",
    "    return result\n",
    "\n",
    "def main(search_term):\n",
    "    '''run main program routine'''\n",
    "    # startup the webdriver\n",
    "    \n",
    "    driver = webdriver.Chrome()\n",
    "    \n",
    "    records=[]\n",
    "    url=get_url(search_term)\n",
    "    \n",
    "    for page in range(1,2):\n",
    "        driver.get(url.format(page))\n",
    "        soup=BeautifulSoup(driver.page_source,'html.parser')\n",
    "        results=soup.find_all('div',{'data-component-type':'s-search-result'})\n",
    "        \n",
    "        for item in results:\n",
    "            record=extract_record(item)\n",
    "            if record:\n",
    "                records.append(record)\n",
    "        \n",
    "    driver.close()\n",
    "    \n",
    "    # save data to csv file\n",
    "    with open('output.csv','w',newline='',encoding='utf-8') as f:\n",
    "        writer =csv.writer(f)\n",
    "        writer.writerow(['description','price','rating','url'])\n",
    "        writer.writerows(records)\n"
   ]
  },
  {
   "cell_type": "code",
   "execution_count": 46,
   "id": "1b62e0f7",
   "metadata": {},
   "outputs": [],
   "source": [
    "main('honor mobile')"
   ]
  },
  {
   "cell_type": "code",
   "execution_count": 39,
   "id": "29d741da",
   "metadata": {},
   "outputs": [],
   "source": [
    "import csv"
   ]
  },
  {
   "cell_type": "code",
   "execution_count": 48,
   "id": "b62edb6d",
   "metadata": {
    "scrolled": true
   },
   "outputs": [
    {
     "data": {
      "text/plain": [
       "38.35"
      ]
     },
     "execution_count": 48,
     "metadata": {},
     "output_type": "execute_result"
    }
   ],
   "source": [
    "767/20"
   ]
  },
  {
   "cell_type": "code",
   "execution_count": null,
   "id": "a9f73ef9",
   "metadata": {},
   "outputs": [],
   "source": []
  }
 ],
 "metadata": {
  "kernelspec": {
   "display_name": "Python 3 (ipykernel)",
   "language": "python",
   "name": "python3"
  },
  "language_info": {
   "codemirror_mode": {
    "name": "ipython",
    "version": 3
   },
   "file_extension": ".py",
   "mimetype": "text/x-python",
   "name": "python",
   "nbconvert_exporter": "python",
   "pygments_lexer": "ipython3",
   "version": "3.9.7"
  }
 },
 "nbformat": 4,
 "nbformat_minor": 5
}
