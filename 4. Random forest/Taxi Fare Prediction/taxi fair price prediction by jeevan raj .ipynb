{
 "cells": [
  {
   "cell_type": "code",
   "execution_count": 1,
   "id": "8bc24e0c",
   "metadata": {},
   "outputs": [],
   "source": [
    "# loading the library\n",
    "import pandas as pd\n",
    "import numpy as np\n",
    "import matplotlib.pyplot as plt\n",
    "import seaborn as sns\n",
    "\n",
    "from warnings import filterwarnings\n",
    "filterwarnings('ignore')"
   ]
  },
  {
   "cell_type": "code",
   "execution_count": 2,
   "id": "239ceaa6",
   "metadata": {},
   "outputs": [
    {
     "data": {
      "text/html": [
       "<div>\n",
       "<style scoped>\n",
       "    .dataframe tbody tr th:only-of-type {\n",
       "        vertical-align: middle;\n",
       "    }\n",
       "\n",
       "    .dataframe tbody tr th {\n",
       "        vertical-align: top;\n",
       "    }\n",
       "\n",
       "    .dataframe thead th {\n",
       "        text-align: right;\n",
       "    }\n",
       "</style>\n",
       "<table border=\"1\" class=\"dataframe\">\n",
       "  <thead>\n",
       "    <tr style=\"text-align: right;\">\n",
       "      <th></th>\n",
       "      <th>unique_id</th>\n",
       "      <th>amount</th>\n",
       "      <th>date_time_of_pickup</th>\n",
       "      <th>longitude_of_pickup</th>\n",
       "      <th>latitude_of_pickup</th>\n",
       "      <th>longitude_of_dropoff</th>\n",
       "      <th>latitude_of_dropoff</th>\n",
       "      <th>no_of_passenger</th>\n",
       "    </tr>\n",
       "  </thead>\n",
       "  <tbody>\n",
       "    <tr>\n",
       "      <th>0</th>\n",
       "      <td>26:21.0</td>\n",
       "      <td>4.5</td>\n",
       "      <td>2009-06-15 17:26:21 UTC</td>\n",
       "      <td>-73.844311</td>\n",
       "      <td>40.721319</td>\n",
       "      <td>-73.841610</td>\n",
       "      <td>40.712278</td>\n",
       "      <td>1</td>\n",
       "    </tr>\n",
       "    <tr>\n",
       "      <th>1</th>\n",
       "      <td>52:16.0</td>\n",
       "      <td>16.9</td>\n",
       "      <td>2010-01-05 16:52:16 UTC</td>\n",
       "      <td>-74.016048</td>\n",
       "      <td>40.711303</td>\n",
       "      <td>-73.979268</td>\n",
       "      <td>40.782004</td>\n",
       "      <td>1</td>\n",
       "    </tr>\n",
       "    <tr>\n",
       "      <th>2</th>\n",
       "      <td>35:00.0</td>\n",
       "      <td>5.7</td>\n",
       "      <td>2011-08-18 00:35:00 UTC</td>\n",
       "      <td>-73.982738</td>\n",
       "      <td>40.761270</td>\n",
       "      <td>-73.991242</td>\n",
       "      <td>40.750562</td>\n",
       "      <td>2</td>\n",
       "    </tr>\n",
       "    <tr>\n",
       "      <th>3</th>\n",
       "      <td>30:42.0</td>\n",
       "      <td>7.7</td>\n",
       "      <td>2012-04-21 04:30:42 UTC</td>\n",
       "      <td>-73.987130</td>\n",
       "      <td>40.733143</td>\n",
       "      <td>-73.991567</td>\n",
       "      <td>40.758092</td>\n",
       "      <td>1</td>\n",
       "    </tr>\n",
       "    <tr>\n",
       "      <th>4</th>\n",
       "      <td>51:00.0</td>\n",
       "      <td>5.3</td>\n",
       "      <td>2010-03-09 07:51:00 UTC</td>\n",
       "      <td>-73.968095</td>\n",
       "      <td>40.768008</td>\n",
       "      <td>-73.956655</td>\n",
       "      <td>40.783762</td>\n",
       "      <td>1</td>\n",
       "    </tr>\n",
       "  </tbody>\n",
       "</table>\n",
       "</div>"
      ],
      "text/plain": [
       "  unique_id  amount      date_time_of_pickup  longitude_of_pickup  \\\n",
       "0   26:21.0     4.5  2009-06-15 17:26:21 UTC           -73.844311   \n",
       "1   52:16.0    16.9  2010-01-05 16:52:16 UTC           -74.016048   \n",
       "2   35:00.0     5.7  2011-08-18 00:35:00 UTC           -73.982738   \n",
       "3   30:42.0     7.7  2012-04-21 04:30:42 UTC           -73.987130   \n",
       "4   51:00.0     5.3  2010-03-09 07:51:00 UTC           -73.968095   \n",
       "\n",
       "   latitude_of_pickup  longitude_of_dropoff  latitude_of_dropoff  \\\n",
       "0           40.721319            -73.841610            40.712278   \n",
       "1           40.711303            -73.979268            40.782004   \n",
       "2           40.761270            -73.991242            40.750562   \n",
       "3           40.733143            -73.991567            40.758092   \n",
       "4           40.768008            -73.956655            40.783762   \n",
       "\n",
       "   no_of_passenger  \n",
       "0                1  \n",
       "1                1  \n",
       "2                2  \n",
       "3                1  \n",
       "4                1  "
      ]
     },
     "execution_count": 2,
     "metadata": {},
     "output_type": "execute_result"
    }
   ],
   "source": [
    "data=pd.read_csv(r\"C:\\Users\\JEEVAN\\Downloads\\TaxiFare.csv\")\n",
    "data.head()"
   ]
  },
  {
   "cell_type": "code",
   "execution_count": 3,
   "id": "7baa2f07",
   "metadata": {},
   "outputs": [
    {
     "data": {
      "text/plain": [
       "(50000, 8)"
      ]
     },
     "execution_count": 3,
     "metadata": {},
     "output_type": "execute_result"
    }
   ],
   "source": [
    "data.shape"
   ]
  },
  {
   "cell_type": "code",
   "execution_count": 4,
   "id": "e559d3b1",
   "metadata": {},
   "outputs": [
    {
     "name": "stdout",
     "output_type": "stream",
     "text": [
      "<class 'pandas.core.frame.DataFrame'>\n",
      "RangeIndex: 50000 entries, 0 to 49999\n",
      "Data columns (total 8 columns):\n",
      " #   Column                Non-Null Count  Dtype  \n",
      "---  ------                --------------  -----  \n",
      " 0   unique_id             50000 non-null  object \n",
      " 1   amount                50000 non-null  float64\n",
      " 2   date_time_of_pickup   50000 non-null  object \n",
      " 3   longitude_of_pickup   50000 non-null  float64\n",
      " 4   latitude_of_pickup    50000 non-null  float64\n",
      " 5   longitude_of_dropoff  50000 non-null  float64\n",
      " 6   latitude_of_dropoff   50000 non-null  float64\n",
      " 7   no_of_passenger       50000 non-null  int64  \n",
      "dtypes: float64(5), int64(1), object(2)\n",
      "memory usage: 3.1+ MB\n"
     ]
    }
   ],
   "source": [
    "data.info()    # their is no missing values"
   ]
  },
  {
   "cell_type": "markdown",
   "id": "7124eac8",
   "metadata": {},
   "source": [
    "## Target variable  (amount)"
   ]
  },
  {
   "cell_type": "code",
   "execution_count": 5,
   "id": "4f4ac679",
   "metadata": {},
   "outputs": [
    {
     "data": {
      "text/plain": [
       "count    50000.000000\n",
       "mean        11.364171\n",
       "std          9.685557\n",
       "min         -5.000000\n",
       "25%          6.000000\n",
       "50%          8.500000\n",
       "75%         12.500000\n",
       "max        200.000000\n",
       "Name: amount, dtype: float64"
      ]
     },
     "execution_count": 5,
     "metadata": {},
     "output_type": "execute_result"
    }
   ],
   "source": [
    "data.amount.describe()"
   ]
  },
  {
   "cell_type": "code",
   "execution_count": 6,
   "id": "20a1fb57",
   "metadata": {
    "scrolled": true
   },
   "outputs": [
    {
     "data": {
      "image/png": "[encoded data removed]",
      "text/plain": [
       "<Figure size 432x288 with 1 Axes>"
      ]
     },
     "metadata": {
      "needs_background": "light"
     },
     "output_type": "display_data"
    }
   ],
   "source": [
    "# histogram of amount\n",
    "plt.hist(data.amount,bins='auto')\n",
    "plt.xlabel('Fare Amount')\n",
    "plt.ylabel('Counts')\n",
    "plt.title('Histogram of Taxi Fare Amount')\n",
    "plt.show()"
   ]
  },
  {
   "cell_type": "code",
   "execution_count": 7,
   "id": "f96878f5",
   "metadata": {},
   "outputs": [
    {
     "data": {
      "image/png": "[encoded data removed]",
      "text/plain": [
       "<Figure size 432x288 with 1 Axes>"
      ]
     },
     "metadata": {
      "needs_background": "light"
     },
     "output_type": "display_data"
    }
   ],
   "source": [
    "# or else you can draw like this\n",
    "plt.hist(data.amount)\n",
    "plt.xlabel(\"Fare Amount\")\n",
    "plt.ylabel('Counts')\n",
    "plt.title('Histogram of Taxi Fare amount')\n",
    "plt.show()"
   ]
  },
  {
   "cell_type": "code",
   "execution_count": 8,
   "id": "f780d1c5",
   "metadata": {},
   "outputs": [
    {
     "data": {
      "text/plain": [
       "<AxesSubplot:>"
      ]
     },
     "execution_count": 8,
     "metadata": {},
     "output_type": "execute_result"
    },
    {
     "data": {
      "image/png": "[encoded data removed]",
      "text/plain": [
       "<Figure size 432x288 with 1 Axes>"
      ]
     },
     "metadata": {
      "needs_background": "light"
     },
     "output_type": "display_data"
    }
   ],
   "source": [
    "# Boxplot\n",
    "props2=dict(boxes='red',whiskers='green',medians='black',caps='red')\n",
    "data.amount.plot.box(color=props2,patch_artist=True,vert=False)    # outliers"
   ]
  },
  {
   "cell_type": "code",
   "execution_count": 9,
   "id": "ccd52f6a",
   "metadata": {},
   "outputs": [
    {
     "data": {
      "text/plain": [
       "<AxesSubplot:xlabel='amount'>"
      ]
     },
     "execution_count": 9,
     "metadata": {},
     "output_type": "execute_result"
    },
    {
     "data": {
      "image/png": "[encoded data removed]",
      "text/plain": [
       "<Figure size 432x288 with 1 Axes>"
      ]
     },
     "metadata": {
      "needs_background": "light"
     },
     "output_type": "display_data"
    }
   ],
   "source": [
    "# or you can do boxplot veryeasily\n",
    "\n",
    "sns.boxplot(data.amount)\n"
   ]
  },
  {
   "cell_type": "code",
   "execution_count": 10,
   "id": "b4bcfe1d",
   "metadata": {},
   "outputs": [
    {
     "data": {
      "text/plain": [
       "6.5"
      ]
     },
     "execution_count": 10,
     "metadata": {},
     "output_type": "execute_result"
    }
   ],
   "source": [
    "# getting the IQR,upper_limit,Lower_limit\n",
    "\n",
    "IQR=data.amount.quantile(0.75)-data.amount.quantile(0.25)\n",
    "IQR"
   ]
  },
  {
   "cell_type": "code",
   "execution_count": 11,
   "id": "693b6d3e",
   "metadata": {},
   "outputs": [
    {
     "data": {
      "text/plain": [
       "22.25"
      ]
     },
     "execution_count": 11,
     "metadata": {},
     "output_type": "execute_result"
    }
   ],
   "source": [
    "HE=data.amount.quantile(0.75)+(1.5*IQR)\n",
    "HE"
   ]
  },
  {
   "cell_type": "code",
   "execution_count": 12,
   "id": "f725b255",
   "metadata": {},
   "outputs": [
    {
     "data": {
      "text/plain": [
       "-3.75"
      ]
     },
     "execution_count": 12,
     "metadata": {},
     "output_type": "execute_result"
    }
   ],
   "source": [
    "LE=data.amount.quantile(0.25)-(1.5* IQR)\n",
    "LE"
   ]
  },
  {
   "cell_type": "code",
   "execution_count": 13,
   "id": "2b45becd",
   "metadata": {},
   "outputs": [
    {
     "data": {
      "text/plain": [
       "4364"
      ]
     },
     "execution_count": 13,
     "metadata": {},
     "output_type": "execute_result"
    }
   ],
   "source": [
    "len(data[data.amount>HE])"
   ]
  },
  {
   "cell_type": "code",
   "execution_count": 14,
   "id": "6b07b527",
   "metadata": {
    "scrolled": true
   },
   "outputs": [
    {
     "data": {
      "text/plain": [
       "1"
      ]
     },
     "execution_count": 14,
     "metadata": {},
     "output_type": "execute_result"
    }
   ],
   "source": [
    "len(data[data.amount<LE])"
   ]
  },
  {
   "cell_type": "code",
   "execution_count": 15,
   "id": "8fca1777",
   "metadata": {},
   "outputs": [
    {
     "data": {
      "text/plain": [
       "6.50     2468\n",
       "4.50     2104\n",
       "8.50     1929\n",
       "6.10     1441\n",
       "5.30     1440\n",
       "         ... \n",
       "26.60       1\n",
       "25.39       1\n",
       "55.83       1\n",
       "30.04       1\n",
       "27.05       1\n",
       "Name: amount, Length: 703, dtype: int64"
      ]
     },
     "execution_count": 15,
     "metadata": {},
     "output_type": "execute_result"
    }
   ],
   "source": [
    "# Getting the count of values\n",
    "data.amount.value_counts()"
   ]
  },
  {
   "cell_type": "code",
   "execution_count": 16,
   "id": "0e302720",
   "metadata": {},
   "outputs": [
    {
     "name": "stdout",
     "output_type": "stream",
     "text": [
      "Taxi Fare paid more than : 22 No of passengers : 4413\n",
      "Taxi Fare paid more than : 23 No of passengers : 4092\n",
      "Taxi Fare paid more than : 24 No of passengers : 3828\n",
      "Taxi Fare paid more than : 25 No of passengers : 3576\n",
      "Taxi Fare paid more than : 26 No of passengers : 3336\n",
      "Taxi Fare paid more than : 27 No of passengers : 3096\n",
      "Taxi Fare paid more than : 28 No of passengers : 2931\n",
      "Taxi Fare paid more than : 29 No of passengers : 2724\n",
      "Taxi Fare paid more than : 30 No of passengers : 2581\n",
      "Taxi Fare paid more than : 31 No of passengers : 2380\n"
     ]
    }
   ],
   "source": [
    "for i in range(22,32,1):\n",
    "    data_len=len(data.amount[data.amount>i])\n",
    "    print('Taxi Fare paid more than :',i,'No of passengers :',data_len)"
   ]
  },
  {
   "cell_type": "markdown",
   "id": "95766759",
   "metadata": {},
   "source": [
    "## date_time_of_pickup"
   ]
  },
  {
   "cell_type": "markdown",
   "id": "c41e0191",
   "metadata": {},
   "source": [
    "## where data_time_of_pickup is in the object we want to convert it into date time format"
   ]
  },
  {
   "cell_type": "code",
   "execution_count": 17,
   "id": "94fa0dc1",
   "metadata": {},
   "outputs": [
    {
     "data": {
      "text/plain": [
       "count                       50000\n",
       "unique                      49555\n",
       "top       2011-09-03 01:30:00 UTC\n",
       "freq                            3\n",
       "Name: date_time_of_pickup, dtype: object"
      ]
     },
     "execution_count": 17,
     "metadata": {},
     "output_type": "execute_result"
    }
   ],
   "source": [
    "data.date_time_of_pickup.describe()"
   ]
  },
  {
   "cell_type": "code",
   "execution_count": 18,
   "id": "65bcc544",
   "metadata": {},
   "outputs": [
    {
     "data": {
      "text/plain": [
       "0    2009-06-15 17:26:21 UTC\n",
       "1    2010-01-05 16:52:16 UTC\n",
       "2    2011-08-18 00:35:00 UTC\n",
       "3    2012-04-21 04:30:42 UTC\n",
       "4    2010-03-09 07:51:00 UTC\n",
       "Name: date_time_of_pickup, dtype: object"
      ]
     },
     "execution_count": 18,
     "metadata": {},
     "output_type": "execute_result"
    }
   ],
   "source": [
    "data.date_time_of_pickup.head()"
   ]
  },
  {
   "cell_type": "code",
   "execution_count": 19,
   "id": "d6d59d4e",
   "metadata": {},
   "outputs": [],
   "source": [
    "# first we are going to convert it in to datetime format\n",
    "data.date_time_of_pickup=pd.to_datetime(data.date_time_of_pickup)"
   ]
  },
  {
   "cell_type": "code",
   "execution_count": 20,
   "id": "eaca6498",
   "metadata": {},
   "outputs": [
    {
     "name": "stdout",
     "output_type": "stream",
     "text": [
      "<class 'pandas.core.frame.DataFrame'>\n",
      "RangeIndex: 50000 entries, 0 to 49999\n",
      "Data columns (total 8 columns):\n",
      " #   Column                Non-Null Count  Dtype              \n",
      "---  ------                --------------  -----              \n",
      " 0   unique_id             50000 non-null  object             \n",
      " 1   amount                50000 non-null  float64            \n",
      " 2   date_time_of_pickup   50000 non-null  datetime64[ns, UTC]\n",
      " 3   longitude_of_pickup   50000 non-null  float64            \n",
      " 4   latitude_of_pickup    50000 non-null  float64            \n",
      " 5   longitude_of_dropoff  50000 non-null  float64            \n",
      " 6   latitude_of_dropoff   50000 non-null  float64            \n",
      " 7   no_of_passenger       50000 non-null  int64              \n",
      "dtypes: datetime64[ns, UTC](1), float64(5), int64(1), object(1)\n",
      "memory usage: 3.1+ MB\n"
     ]
    }
   ],
   "source": [
    "data.info()    # see you can see here the date_time_of_pickup has been converted in to datatime format"
   ]
  },
  {
   "cell_type": "code",
   "execution_count": 21,
   "id": "111db9b7",
   "metadata": {},
   "outputs": [
    {
     "data": {
      "text/plain": [
       "0   2009-06-15 17:26:21+00:00\n",
       "1   2010-01-05 16:52:16+00:00\n",
       "2   2011-08-18 00:35:00+00:00\n",
       "3   2012-04-21 04:30:42+00:00\n",
       "4   2010-03-09 07:51:00+00:00\n",
       "Name: date_time_of_pickup, dtype: datetime64[ns, UTC]"
      ]
     },
     "execution_count": 21,
     "metadata": {},
     "output_type": "execute_result"
    }
   ],
   "source": [
    "data.date_time_of_pickup.head()"
   ]
  },
  {
   "cell_type": "code",
   "execution_count": 22,
   "id": "f898f49c",
   "metadata": {},
   "outputs": [],
   "source": [
    "# now will extract year,month,data and hour seperatly\n",
    "import datetime as dt\n",
    "\n",
    "data['year']=data.date_time_of_pickup.dt.year\n",
    "data['month']=data.date_time_of_pickup.dt.month_name()\n",
    "data['day']=data.date_time_of_pickup.dt.day_name()\n",
    "data['hour']=data.date_time_of_pickup.dt.hour   # 24hrs"
   ]
  },
  {
   "cell_type": "markdown",
   "id": "4af1455b",
   "metadata": {},
   "source": [
    "## YEAR"
   ]
  },
  {
   "cell_type": "code",
   "execution_count": 23,
   "id": "d672f1f5",
   "metadata": {},
   "outputs": [
    {
     "data": {
      "text/plain": [
       "Text(0.5, 1.0, 'Yearwise counting')"
      ]
     },
     "execution_count": 23,
     "metadata": {},
     "output_type": "execute_result"
    },
    {
     "data": {
      "image/png": "[encoded data removed]",
      "text/plain": [
       "<Figure size 432x288 with 1 Axes>"
      ]
     },
     "metadata": {
      "needs_background": "light"
     },
     "output_type": "display_data"
    }
   ],
   "source": [
    "# Year \n",
    "# Barplot/countplot\n",
    "sns.countplot(x='year',data=data)\n",
    "plt.xlabel(\"year\")\n",
    "plt.ylabel('counts')\n",
    "plt.title(\"Yearwise counting\")"
   ]
  },
  {
   "cell_type": "code",
   "execution_count": 24,
   "id": "be4fd156",
   "metadata": {},
   "outputs": [
    {
     "data": {
      "text/plain": [
       "2012    8005\n",
       "2011    7832\n",
       "2013    7819\n",
       "2009    7716\n",
       "2010    7646\n",
       "2014    7530\n",
       "2015    3452\n",
       "Name: year, dtype: int64"
      ]
     },
     "execution_count": 24,
     "metadata": {},
     "output_type": "execute_result"
    }
   ],
   "source": [
    "data.year.value_counts()"
   ]
  },
  {
   "cell_type": "code",
   "execution_count": 25,
   "id": "cbe4e24d",
   "metadata": {},
   "outputs": [
    {
     "data": {
      "text/plain": [
       "Text(0.5, 1.0, 'Boxplot of Year')"
      ]
     },
     "execution_count": 25,
     "metadata": {},
     "output_type": "execute_result"
    },
    {
     "data": {
      "image/png": "[encoded data removed]",
      "text/plain": [
       "<Figure size 432x288 with 1 Axes>"
      ]
     },
     "metadata": {
      "needs_background": "light"
     },
     "output_type": "display_data"
    }
   ],
   "source": [
    "# boxplot \n",
    "sns.boxplot(data.year)\n",
    "plt.title('Boxplot of Year')"
   ]
  },
  {
   "cell_type": "code",
   "execution_count": 26,
   "id": "3fd3dcbf",
   "metadata": {},
   "outputs": [
    {
     "data": {
      "text/html": [
       "<div>\n",
       "<style scoped>\n",
       "    .dataframe tbody tr th:only-of-type {\n",
       "        vertical-align: middle;\n",
       "    }\n",
       "\n",
       "    .dataframe tbody tr th {\n",
       "        vertical-align: top;\n",
       "    }\n",
       "\n",
       "    .dataframe thead th {\n",
       "        text-align: right;\n",
       "    }\n",
       "</style>\n",
       "<table border=\"1\" class=\"dataframe\">\n",
       "  <thead>\n",
       "    <tr style=\"text-align: right;\">\n",
       "      <th></th>\n",
       "      <th>count</th>\n",
       "      <th>mean</th>\n",
       "      <th>std</th>\n",
       "      <th>min</th>\n",
       "      <th>25%</th>\n",
       "      <th>50%</th>\n",
       "      <th>75%</th>\n",
       "      <th>max</th>\n",
       "    </tr>\n",
       "    <tr>\n",
       "      <th>year</th>\n",
       "      <th></th>\n",
       "      <th></th>\n",
       "      <th></th>\n",
       "      <th></th>\n",
       "      <th></th>\n",
       "      <th></th>\n",
       "      <th></th>\n",
       "      <th></th>\n",
       "    </tr>\n",
       "  </thead>\n",
       "  <tbody>\n",
       "    <tr>\n",
       "      <th>2009</th>\n",
       "      <td>7716.0</td>\n",
       "      <td>10.049168</td>\n",
       "      <td>8.447096</td>\n",
       "      <td>2.5</td>\n",
       "      <td>5.7</td>\n",
       "      <td>7.7</td>\n",
       "      <td>11.3</td>\n",
       "      <td>165.00</td>\n",
       "    </tr>\n",
       "    <tr>\n",
       "      <th>2010</th>\n",
       "      <td>7646.0</td>\n",
       "      <td>10.137180</td>\n",
       "      <td>8.406004</td>\n",
       "      <td>-2.9</td>\n",
       "      <td>5.7</td>\n",
       "      <td>7.7</td>\n",
       "      <td>11.3</td>\n",
       "      <td>143.00</td>\n",
       "    </tr>\n",
       "    <tr>\n",
       "      <th>2011</th>\n",
       "      <td>7832.0</td>\n",
       "      <td>10.465931</td>\n",
       "      <td>8.467032</td>\n",
       "      <td>2.5</td>\n",
       "      <td>5.7</td>\n",
       "      <td>7.7</td>\n",
       "      <td>11.7</td>\n",
       "      <td>96.00</td>\n",
       "    </tr>\n",
       "    <tr>\n",
       "      <th>2012</th>\n",
       "      <td>8005.0</td>\n",
       "      <td>11.228863</td>\n",
       "      <td>9.667937</td>\n",
       "      <td>2.5</td>\n",
       "      <td>6.0</td>\n",
       "      <td>8.5</td>\n",
       "      <td>12.5</td>\n",
       "      <td>200.00</td>\n",
       "    </tr>\n",
       "    <tr>\n",
       "      <th>2013</th>\n",
       "      <td>7819.0</td>\n",
       "      <td>12.439474</td>\n",
       "      <td>10.428842</td>\n",
       "      <td>-3.0</td>\n",
       "      <td>6.5</td>\n",
       "      <td>9.5</td>\n",
       "      <td>14.0</td>\n",
       "      <td>180.00</td>\n",
       "    </tr>\n",
       "    <tr>\n",
       "      <th>2014</th>\n",
       "      <td>7530.0</td>\n",
       "      <td>13.139649</td>\n",
       "      <td>11.311478</td>\n",
       "      <td>2.5</td>\n",
       "      <td>6.5</td>\n",
       "      <td>9.5</td>\n",
       "      <td>15.0</td>\n",
       "      <td>165.00</td>\n",
       "    </tr>\n",
       "    <tr>\n",
       "      <th>2015</th>\n",
       "      <td>3452.0</td>\n",
       "      <td>13.064392</td>\n",
       "      <td>10.799374</td>\n",
       "      <td>-5.0</td>\n",
       "      <td>6.5</td>\n",
       "      <td>9.5</td>\n",
       "      <td>15.0</td>\n",
       "      <td>96.25</td>\n",
       "    </tr>\n",
       "  </tbody>\n",
       "</table>\n",
       "</div>"
      ],
      "text/plain": [
       "       count       mean        std  min  25%  50%   75%     max\n",
       "year                                                           \n",
       "2009  7716.0  10.049168   8.447096  2.5  5.7  7.7  11.3  165.00\n",
       "2010  7646.0  10.137180   8.406004 -2.9  5.7  7.7  11.3  143.00\n",
       "2011  7832.0  10.465931   8.467032  2.5  5.7  7.7  11.7   96.00\n",
       "2012  8005.0  11.228863   9.667937  2.5  6.0  8.5  12.5  200.00\n",
       "2013  7819.0  12.439474  10.428842 -3.0  6.5  9.5  14.0  180.00\n",
       "2014  7530.0  13.139649  11.311478  2.5  6.5  9.5  15.0  165.00\n",
       "2015  3452.0  13.064392  10.799374 -5.0  6.5  9.5  15.0   96.25"
      ]
     },
     "execution_count": 26,
     "metadata": {},
     "output_type": "execute_result"
    }
   ],
   "source": [
    "data.groupby('year')['amount'].describe()"
   ]
  },
  {
   "cell_type": "code",
   "execution_count": 27,
   "id": "e5c3a136",
   "metadata": {},
   "outputs": [
    {
     "data": {
      "text/plain": [
       "Text(0, 0.5, 'count')"
      ]
     },
     "execution_count": 27,
     "metadata": {},
     "output_type": "execute_result"
    },
    {
     "data": {
      "image/png": "[encoded data removed]",
      "text/plain": [
       "<Figure size 432x288 with 1 Axes>"
      ]
     },
     "metadata": {
      "needs_background": "light"
     },
     "output_type": "display_data"
    }
   ],
   "source": [
    "plt.plot(data.groupby('year')['amount'].count())\n",
    "plt.xlabel('Year')\n",
    "plt.ylabel('count')"
   ]
  },
  {
   "cell_type": "code",
   "execution_count": 28,
   "id": "ef308032",
   "metadata": {},
   "outputs": [
    {
     "data": {
      "text/plain": [
       "Text(0, 0.5, 'Average')"
      ]
     },
     "execution_count": 28,
     "metadata": {},
     "output_type": "execute_result"
    },
    {
     "data": {
      "image/png": "[encoded data removed]",
      "text/plain": [
       "<Figure size 432x288 with 1 Axes>"
      ]
     },
     "metadata": {
      "needs_background": "light"
     },
     "output_type": "display_data"
    }
   ],
   "source": [
    "plt.plot(data.groupby('year')['amount'].mean())\n",
    "plt.xlabel('Year')\n",
    "plt.ylabel('Average')"
   ]
  },
  {
   "cell_type": "markdown",
   "id": "77bb354e",
   "metadata": {},
   "source": [
    "## Month"
   ]
  },
  {
   "cell_type": "code",
   "execution_count": 29,
   "id": "06382e2c",
   "metadata": {},
   "outputs": [
    {
     "data": {
      "image/png": "[encoded data removed]",
      "text/plain": [
       "<Figure size 432x288 with 1 Axes>"
      ]
     },
     "metadata": {
      "needs_background": "light"
     },
     "output_type": "display_data"
    }
   ],
   "source": [
    "sns.countplot(x='month', data=data)\n",
    "plt.xlabel(\"Month\")\n",
    "plt.ylabel('counts')\n",
    "plt.title(\"Monthwise counting\")\n",
    "plt.xticks(rotation=90)\n",
    "plt.show()"
   ]
  },
  {
   "cell_type": "code",
   "execution_count": 30,
   "id": "e4896434",
   "metadata": {
    "scrolled": true
   },
   "outputs": [
    {
     "data": {
      "text/html": [
       "<div>\n",
       "<style scoped>\n",
       "    .dataframe tbody tr th:only-of-type {\n",
       "        vertical-align: middle;\n",
       "    }\n",
       "\n",
       "    .dataframe tbody tr th {\n",
       "        vertical-align: top;\n",
       "    }\n",
       "\n",
       "    .dataframe thead th {\n",
       "        text-align: right;\n",
       "    }\n",
       "</style>\n",
       "<table border=\"1\" class=\"dataframe\">\n",
       "  <thead>\n",
       "    <tr style=\"text-align: right;\">\n",
       "      <th></th>\n",
       "      <th>count</th>\n",
       "      <th>mean</th>\n",
       "      <th>std</th>\n",
       "      <th>min</th>\n",
       "      <th>25%</th>\n",
       "      <th>50%</th>\n",
       "      <th>75%</th>\n",
       "      <th>max</th>\n",
       "    </tr>\n",
       "    <tr>\n",
       "      <th>month</th>\n",
       "      <th></th>\n",
       "      <th></th>\n",
       "      <th></th>\n",
       "      <th></th>\n",
       "      <th></th>\n",
       "      <th></th>\n",
       "      <th></th>\n",
       "      <th></th>\n",
       "    </tr>\n",
       "  </thead>\n",
       "  <tbody>\n",
       "    <tr>\n",
       "      <th>April</th>\n",
       "      <td>4519.0</td>\n",
       "      <td>11.321361</td>\n",
       "      <td>9.487037</td>\n",
       "      <td>-2.5</td>\n",
       "      <td>6.0</td>\n",
       "      <td>8.5</td>\n",
       "      <td>12.5</td>\n",
       "      <td>93.75</td>\n",
       "    </tr>\n",
       "    <tr>\n",
       "      <th>August</th>\n",
       "      <td>3543.0</td>\n",
       "      <td>11.316616</td>\n",
       "      <td>10.315227</td>\n",
       "      <td>-3.0</td>\n",
       "      <td>6.0</td>\n",
       "      <td>8.5</td>\n",
       "      <td>12.5</td>\n",
       "      <td>165.00</td>\n",
       "    </tr>\n",
       "    <tr>\n",
       "      <th>December</th>\n",
       "      <td>4015.0</td>\n",
       "      <td>11.670543</td>\n",
       "      <td>10.212445</td>\n",
       "      <td>2.5</td>\n",
       "      <td>6.0</td>\n",
       "      <td>8.5</td>\n",
       "      <td>13.0</td>\n",
       "      <td>135.00</td>\n",
       "    </tr>\n",
       "    <tr>\n",
       "      <th>February</th>\n",
       "      <td>4302.0</td>\n",
       "      <td>10.933728</td>\n",
       "      <td>9.510653</td>\n",
       "      <td>0.0</td>\n",
       "      <td>6.0</td>\n",
       "      <td>8.1</td>\n",
       "      <td>12.1</td>\n",
       "      <td>200.00</td>\n",
       "    </tr>\n",
       "    <tr>\n",
       "      <th>January</th>\n",
       "      <td>4546.0</td>\n",
       "      <td>10.700930</td>\n",
       "      <td>9.235979</td>\n",
       "      <td>2.5</td>\n",
       "      <td>5.7</td>\n",
       "      <td>8.0</td>\n",
       "      <td>11.7</td>\n",
       "      <td>180.00</td>\n",
       "    </tr>\n",
       "    <tr>\n",
       "      <th>July</th>\n",
       "      <td>3656.0</td>\n",
       "      <td>10.937166</td>\n",
       "      <td>8.947714</td>\n",
       "      <td>2.5</td>\n",
       "      <td>6.0</td>\n",
       "      <td>8.1</td>\n",
       "      <td>12.1</td>\n",
       "      <td>120.00</td>\n",
       "    </tr>\n",
       "    <tr>\n",
       "      <th>June</th>\n",
       "      <td>4516.0</td>\n",
       "      <td>11.457146</td>\n",
       "      <td>9.267060</td>\n",
       "      <td>2.5</td>\n",
       "      <td>6.1</td>\n",
       "      <td>8.5</td>\n",
       "      <td>13.0</td>\n",
       "      <td>96.25</td>\n",
       "    </tr>\n",
       "    <tr>\n",
       "      <th>March</th>\n",
       "      <td>4671.0</td>\n",
       "      <td>11.085596</td>\n",
       "      <td>9.172258</td>\n",
       "      <td>-5.0</td>\n",
       "      <td>5.8</td>\n",
       "      <td>8.1</td>\n",
       "      <td>12.5</td>\n",
       "      <td>80.50</td>\n",
       "    </tr>\n",
       "    <tr>\n",
       "      <th>May</th>\n",
       "      <td>4612.0</td>\n",
       "      <td>11.868103</td>\n",
       "      <td>10.307439</td>\n",
       "      <td>0.0</td>\n",
       "      <td>6.1</td>\n",
       "      <td>8.9</td>\n",
       "      <td>13.3</td>\n",
       "      <td>160.00</td>\n",
       "    </tr>\n",
       "    <tr>\n",
       "      <th>November</th>\n",
       "      <td>3764.0</td>\n",
       "      <td>11.618807</td>\n",
       "      <td>9.977558</td>\n",
       "      <td>2.5</td>\n",
       "      <td>6.1</td>\n",
       "      <td>8.5</td>\n",
       "      <td>13.0</td>\n",
       "      <td>165.00</td>\n",
       "    </tr>\n",
       "    <tr>\n",
       "      <th>October</th>\n",
       "      <td>4046.0</td>\n",
       "      <td>11.573947</td>\n",
       "      <td>9.732684</td>\n",
       "      <td>2.5</td>\n",
       "      <td>6.0</td>\n",
       "      <td>8.5</td>\n",
       "      <td>12.9</td>\n",
       "      <td>100.00</td>\n",
       "    </tr>\n",
       "    <tr>\n",
       "      <th>September</th>\n",
       "      <td>3810.0</td>\n",
       "      <td>11.970438</td>\n",
       "      <td>10.031989</td>\n",
       "      <td>2.5</td>\n",
       "      <td>6.1</td>\n",
       "      <td>8.9</td>\n",
       "      <td>13.5</td>\n",
       "      <td>96.00</td>\n",
       "    </tr>\n",
       "  </tbody>\n",
       "</table>\n",
       "</div>"
      ],
      "text/plain": [
       "            count       mean        std  min  25%  50%   75%     max\n",
       "month                                                               \n",
       "April      4519.0  11.321361   9.487037 -2.5  6.0  8.5  12.5   93.75\n",
       "August     3543.0  11.316616  10.315227 -3.0  6.0  8.5  12.5  165.00\n",
       "December   4015.0  11.670543  10.212445  2.5  6.0  8.5  13.0  135.00\n",
       "February   4302.0  10.933728   9.510653  0.0  6.0  8.1  12.1  200.00\n",
       "January    4546.0  10.700930   9.235979  2.5  5.7  8.0  11.7  180.00\n",
       "July       3656.0  10.937166   8.947714  2.5  6.0  8.1  12.1  120.00\n",
       "June       4516.0  11.457146   9.267060  2.5  6.1  8.5  13.0   96.25\n",
       "March      4671.0  11.085596   9.172258 -5.0  5.8  8.1  12.5   80.50\n",
       "May        4612.0  11.868103  10.307439  0.0  6.1  8.9  13.3  160.00\n",
       "November   3764.0  11.618807   9.977558  2.5  6.1  8.5  13.0  165.00\n",
       "October    4046.0  11.573947   9.732684  2.5  6.0  8.5  12.9  100.00\n",
       "September  3810.0  11.970438  10.031989  2.5  6.1  8.9  13.5   96.00"
      ]
     },
     "execution_count": 30,
     "metadata": {},
     "output_type": "execute_result"
    }
   ],
   "source": [
    "data.groupby('month')['amount'].describe()"
   ]
  },
  {
   "cell_type": "code",
   "execution_count": 31,
   "id": "86c47216",
   "metadata": {},
   "outputs": [
    {
     "data": {
      "image/png": "[encoded data removed]",
      "text/plain": [
       "<Figure size 432x288 with 1 Axes>"
      ]
     },
     "metadata": {
      "needs_background": "light"
     },
     "output_type": "display_data"
    }
   ],
   "source": [
    "#Plots for COUNTS as per alphabetical order\n",
    "plt.plot(data.groupby('month')['amount'].count())\n",
    "plt.xticks(rotation=90)\n",
    "plt.title(\"Monthwise counting\")\n",
    "plt.show()"
   ]
  },
  {
   "cell_type": "code",
   "execution_count": 32,
   "id": "3e1f0613",
   "metadata": {},
   "outputs": [
    {
     "data": {
      "image/png": "[encoded data removed]",
      "text/plain": [
       "<Figure size 432x288 with 1 Axes>"
      ]
     },
     "metadata": {
      "needs_background": "light"
     },
     "output_type": "display_data"
    }
   ],
   "source": [
    "# plot for MEAN\n",
    "plt.plot(data.groupby('month')['amount'].mean())\n",
    "plt.xticks(rotation=90)\n",
    "plt.title(\"Monthwise Mean Fare\")\n",
    "plt.show()"
   ]
  },
  {
   "cell_type": "code",
   "execution_count": 33,
   "id": "9622b088",
   "metadata": {},
   "outputs": [],
   "source": [
    "#Creating dict file\n",
    "month = {'January':1, 'February':2, 'March':3, 'April':4, 'May':5,\n",
    "         'June':6, 'July':7, 'August':8, 'September':9, 'October':10,\n",
    "         'November':11, 'December':12}"
   ]
  },
  {
   "cell_type": "code",
   "execution_count": 34,
   "id": "ad6a65cc",
   "metadata": {},
   "outputs": [
    {
     "name": "stdout",
     "output_type": "stream",
     "text": [
      "0         6\n",
      "1         1\n",
      "2         8\n",
      "3         4\n",
      "4         3\n",
      "         ..\n",
      "49995     6\n",
      "49996     6\n",
      "49997     1\n",
      "49998    11\n",
      "49999     1\n",
      "Name: month, Length: 50000, dtype: int64\n"
     ]
    }
   ],
   "source": [
    "data.month = [month[item] for item in data.month]\n",
    "print(data.month)"
   ]
  },
  {
   "cell_type": "code",
   "execution_count": 35,
   "id": "beb1d074",
   "metadata": {
    "scrolled": true
   },
   "outputs": [
    {
     "data": {
      "text/plain": [
       "0         6\n",
       "1         1\n",
       "2         8\n",
       "3         4\n",
       "4         3\n",
       "         ..\n",
       "49995     6\n",
       "49996     6\n",
       "49997     1\n",
       "49998    11\n",
       "49999     1\n",
       "Name: month, Length: 50000, dtype: int64"
      ]
     },
     "execution_count": 35,
     "metadata": {},
     "output_type": "execute_result"
    }
   ],
   "source": [
    "data.month"
   ]
  },
  {
   "cell_type": "code",
   "execution_count": 36,
   "id": "d85d0cb1",
   "metadata": {},
   "outputs": [
    {
     "data": {
      "image/png": "[encoded data removed]",
      "text/plain": [
       "<Figure size 432x288 with 1 Axes>"
      ]
     },
     "metadata": {
      "needs_background": "light"
     },
     "output_type": "display_data"
    }
   ],
   "source": [
    "# Plot COUNTS as per calendar\n",
    "plt.plot(data.groupby('month')['amount'].count())\n",
    "plt.xticks(rotation=90)\n",
    "plt.title(\"Monthwise counting\")\n",
    "plt.show()\n",
    "\n"
   ]
  },
  {
   "cell_type": "code",
   "execution_count": 37,
   "id": "ce5a22bb",
   "metadata": {},
   "outputs": [
    {
     "data": {
      "image/png": "[encoded data removed]",
      "text/plain": [
       "<Figure size 432x288 with 1 Axes>"
      ]
     },
     "metadata": {
      "needs_background": "light"
     },
     "output_type": "display_data"
    }
   ],
   "source": [
    "# Plot MEAN as per calendar\n",
    "plt.plot(data.groupby('month')['amount'].mean())\n",
    "plt.xticks(rotation=0)\n",
    "plt.xlabel('Month')\n",
    "plt.title(\"Monthwise Mean Fare\")\n",
    "plt.xticks(ticks=list(np.arange(1,13,1)))\n",
    "plt.show()"
   ]
  },
  {
   "cell_type": "markdown",
   "id": "46a2986b",
   "metadata": {},
   "source": [
    "## day"
   ]
  },
  {
   "cell_type": "code",
   "execution_count": 38,
   "id": "7b9292b4",
   "metadata": {},
   "outputs": [
    {
     "data": {
      "text/plain": [
       "Text(0.5, 1.0, 'Weekday wise counting')"
      ]
     },
     "execution_count": 38,
     "metadata": {},
     "output_type": "execute_result"
    },
    {
     "data": {
      "image/png": "[encoded data removed]",
      "text/plain": [
       "<Figure size 432x288 with 1 Axes>"
      ]
     },
     "metadata": {
      "needs_background": "light"
     },
     "output_type": "display_data"
    }
   ],
   "source": [
    "#Barplot/ Countplot\n",
    "sns.countplot(x='day', data=data)\n",
    "plt.xlabel(\"Weekdays\")\n",
    "plt.ylabel('counts')\n",
    "plt.title(\"Weekday wise counting\")"
   ]
  },
  {
   "cell_type": "code",
   "execution_count": 39,
   "id": "27285c99",
   "metadata": {},
   "outputs": [
    {
     "data": {
      "text/html": [
       "<div>\n",
       "<style scoped>\n",
       "    .dataframe tbody tr th:only-of-type {\n",
       "        vertical-align: middle;\n",
       "    }\n",
       "\n",
       "    .dataframe tbody tr th {\n",
       "        vertical-align: top;\n",
       "    }\n",
       "\n",
       "    .dataframe thead th {\n",
       "        text-align: right;\n",
       "    }\n",
       "</style>\n",
       "<table border=\"1\" class=\"dataframe\">\n",
       "  <thead>\n",
       "    <tr style=\"text-align: right;\">\n",
       "      <th></th>\n",
       "      <th>count</th>\n",
       "      <th>mean</th>\n",
       "      <th>std</th>\n",
       "      <th>min</th>\n",
       "      <th>25%</th>\n",
       "      <th>50%</th>\n",
       "      <th>75%</th>\n",
       "      <th>max</th>\n",
       "    </tr>\n",
       "    <tr>\n",
       "      <th>day</th>\n",
       "      <th></th>\n",
       "      <th></th>\n",
       "      <th></th>\n",
       "      <th></th>\n",
       "      <th></th>\n",
       "      <th></th>\n",
       "      <th></th>\n",
       "      <th></th>\n",
       "    </tr>\n",
       "  </thead>\n",
       "  <tbody>\n",
       "    <tr>\n",
       "      <th>Friday</th>\n",
       "      <td>7668.0</td>\n",
       "      <td>11.402240</td>\n",
       "      <td>9.508604</td>\n",
       "      <td>-3.0</td>\n",
       "      <td>6.1</td>\n",
       "      <td>8.5</td>\n",
       "      <td>13.0</td>\n",
       "      <td>165.00</td>\n",
       "    </tr>\n",
       "    <tr>\n",
       "      <th>Monday</th>\n",
       "      <td>6639.0</td>\n",
       "      <td>11.569060</td>\n",
       "      <td>10.536296</td>\n",
       "      <td>-5.0</td>\n",
       "      <td>6.0</td>\n",
       "      <td>8.1</td>\n",
       "      <td>12.5</td>\n",
       "      <td>160.00</td>\n",
       "    </tr>\n",
       "    <tr>\n",
       "      <th>Saturday</th>\n",
       "      <td>7630.0</td>\n",
       "      <td>11.142731</td>\n",
       "      <td>9.201668</td>\n",
       "      <td>2.5</td>\n",
       "      <td>6.0</td>\n",
       "      <td>8.5</td>\n",
       "      <td>12.5</td>\n",
       "      <td>165.00</td>\n",
       "    </tr>\n",
       "    <tr>\n",
       "      <th>Sunday</th>\n",
       "      <td>6518.0</td>\n",
       "      <td>11.520578</td>\n",
       "      <td>9.954766</td>\n",
       "      <td>-2.5</td>\n",
       "      <td>6.0</td>\n",
       "      <td>8.5</td>\n",
       "      <td>13.0</td>\n",
       "      <td>200.00</td>\n",
       "    </tr>\n",
       "    <tr>\n",
       "      <th>Thursday</th>\n",
       "      <td>7406.0</td>\n",
       "      <td>11.668594</td>\n",
       "      <td>9.983516</td>\n",
       "      <td>-2.5</td>\n",
       "      <td>6.0</td>\n",
       "      <td>8.5</td>\n",
       "      <td>13.0</td>\n",
       "      <td>149.00</td>\n",
       "    </tr>\n",
       "    <tr>\n",
       "      <th>Tuesday</th>\n",
       "      <td>6927.0</td>\n",
       "      <td>11.166999</td>\n",
       "      <td>9.282690</td>\n",
       "      <td>-2.9</td>\n",
       "      <td>6.0</td>\n",
       "      <td>8.5</td>\n",
       "      <td>12.5</td>\n",
       "      <td>92.49</td>\n",
       "    </tr>\n",
       "    <tr>\n",
       "      <th>Wednesday</th>\n",
       "      <td>7212.0</td>\n",
       "      <td>11.104773</td>\n",
       "      <td>9.357399</td>\n",
       "      <td>2.5</td>\n",
       "      <td>6.0</td>\n",
       "      <td>8.5</td>\n",
       "      <td>12.5</td>\n",
       "      <td>180.00</td>\n",
       "    </tr>\n",
       "  </tbody>\n",
       "</table>\n",
       "</div>"
      ],
      "text/plain": [
       "            count       mean        std  min  25%  50%   75%     max\n",
       "day                                                                 \n",
       "Friday     7668.0  11.402240   9.508604 -3.0  6.1  8.5  13.0  165.00\n",
       "Monday     6639.0  11.569060  10.536296 -5.0  6.0  8.1  12.5  160.00\n",
       "Saturday   7630.0  11.142731   9.201668  2.5  6.0  8.5  12.5  165.00\n",
       "Sunday     6518.0  11.520578   9.954766 -2.5  6.0  8.5  13.0  200.00\n",
       "Thursday   7406.0  11.668594   9.983516 -2.5  6.0  8.5  13.0  149.00\n",
       "Tuesday    6927.0  11.166999   9.282690 -2.9  6.0  8.5  12.5   92.49\n",
       "Wednesday  7212.0  11.104773   9.357399  2.5  6.0  8.5  12.5  180.00"
      ]
     },
     "execution_count": 39,
     "metadata": {},
     "output_type": "execute_result"
    }
   ],
   "source": [
    "data.groupby('day')['amount'].describe()"
   ]
  },
  {
   "cell_type": "code",
   "execution_count": 40,
   "id": "9986a905",
   "metadata": {},
   "outputs": [
    {
     "data": {
      "text/plain": [
       "[<matplotlib.lines.Line2D at 0x24bf58ebe50>]"
      ]
     },
     "execution_count": 40,
     "metadata": {},
     "output_type": "execute_result"
    },
    {
     "data": {
      "image/png": "[encoded data removed]",
      "text/plain": [
       "<Figure size 432x288 with 1 Axes>"
      ]
     },
     "metadata": {
      "needs_background": "light"
     },
     "output_type": "display_data"
    }
   ],
   "source": [
    "plt.plot(data.groupby('day')['amount'].count())"
   ]
  },
  {
   "cell_type": "code",
   "execution_count": 41,
   "id": "832af8b7",
   "metadata": {},
   "outputs": [
    {
     "data": {
      "text/plain": [
       "[<matplotlib.lines.Line2D at 0x24bf5113400>]"
      ]
     },
     "execution_count": 41,
     "metadata": {},
     "output_type": "execute_result"
    },
    {
     "data": {
      "image/png": "[encoded data removed]",
      "text/plain": [
       "<Figure size 432x288 with 1 Axes>"
      ]
     },
     "metadata": {
      "needs_background": "light"
     },
     "output_type": "display_data"
    }
   ],
   "source": [
    "plt.plot(data.groupby('day')['amount'].mean())"
   ]
  },
  {
   "cell_type": "code",
   "execution_count": 42,
   "id": "f720b515",
   "metadata": {},
   "outputs": [],
   "source": [
    "#Creating dict file\n",
    "day = {'Sunday':1,'Monday':2, 'Tuesday':3, 'Wednesday':4, 'Thursday':5, \n",
    "       'Friday':6, 'Saturday':7 }"
   ]
  },
  {
   "cell_type": "code",
   "execution_count": 43,
   "id": "c97e72ed",
   "metadata": {},
   "outputs": [
    {
     "data": {
      "text/plain": [
       "0    2\n",
       "1    3\n",
       "2    5\n",
       "3    7\n",
       "4    3\n",
       "Name: day, dtype: int64"
      ]
     },
     "execution_count": 43,
     "metadata": {},
     "output_type": "execute_result"
    }
   ],
   "source": [
    "data.day=[day[item] for item in data.day]\n",
    "data.day.head()"
   ]
  },
  {
   "cell_type": "code",
   "execution_count": 44,
   "id": "20100f8c",
   "metadata": {},
   "outputs": [
    {
     "data": {
      "text/plain": [
       "[<matplotlib.lines.Line2D at 0x24bf610e9d0>]"
      ]
     },
     "execution_count": 44,
     "metadata": {},
     "output_type": "execute_result"
    },
    {
     "data": {
      "image/png": "[encoded data removed]",
      "text/plain": [
       "<Figure size 432x288 with 1 Axes>"
      ]
     },
     "metadata": {
      "needs_background": "light"
     },
     "output_type": "display_data"
    }
   ],
   "source": [
    "plt.plot(data.groupby('day')['amount'].count())"
   ]
  },
  {
   "cell_type": "code",
   "execution_count": 45,
   "id": "177a2ca2",
   "metadata": {},
   "outputs": [
    {
     "data": {
      "text/plain": [
       "[<matplotlib.lines.Line2D at 0x24bf50f1850>]"
      ]
     },
     "execution_count": 45,
     "metadata": {},
     "output_type": "execute_result"
    },
    {
     "data": {
      "image/png": "[encoded data removed]",
      "text/plain": [
       "<Figure size 432x288 with 1 Axes>"
      ]
     },
     "metadata": {
      "needs_background": "light"
     },
     "output_type": "display_data"
    }
   ],
   "source": [
    "plt.plot(data.groupby('day')['amount'].mean())"
   ]
  },
  {
   "cell_type": "markdown",
   "id": "bdd726bd",
   "metadata": {},
   "source": [
    "## hour"
   ]
  },
  {
   "cell_type": "code",
   "execution_count": 46,
   "id": "1e35ee4d",
   "metadata": {},
   "outputs": [
    {
     "data": {
      "text/plain": [
       "Text(0.5, 1.0, 'Hourly counting')"
      ]
     },
     "execution_count": 46,
     "metadata": {},
     "output_type": "execute_result"
    },
    {
     "data": {
      "image/png": "[encoded data removed]",
      "text/plain": [
       "<Figure size 432x288 with 1 Axes>"
      ]
     },
     "metadata": {
      "needs_background": "light"
     },
     "output_type": "display_data"
    }
   ],
   "source": [
    "#Barplot \n",
    "\n",
    "sns.countplot(x='hour',data=data)\n",
    "plt.xlabel(\"Hour's\")\n",
    "plt.ylabel('counts')\n",
    "plt.title(\"Hourly counting\")"
   ]
  },
  {
   "cell_type": "code",
   "execution_count": 47,
   "id": "e958bde5",
   "metadata": {},
   "outputs": [
    {
     "data": {
      "text/plain": [
       "<AxesSubplot:xlabel='hour'>"
      ]
     },
     "execution_count": 47,
     "metadata": {},
     "output_type": "execute_result"
    },
    {
     "data": {
      "image/png": "[encoded data removed]",
      "text/plain": [
       "<Figure size 432x288 with 1 Axes>"
      ]
     },
     "metadata": {
      "needs_background": "light"
     },
     "output_type": "display_data"
    }
   ],
   "source": [
    "sns.boxplot(data.hour)"
   ]
  },
  {
   "cell_type": "code",
   "execution_count": 48,
   "id": "b2cc3643",
   "metadata": {},
   "outputs": [
    {
     "data": {
      "text/html": [
       "<div>\n",
       "<style scoped>\n",
       "    .dataframe tbody tr th:only-of-type {\n",
       "        vertical-align: middle;\n",
       "    }\n",
       "\n",
       "    .dataframe tbody tr th {\n",
       "        vertical-align: top;\n",
       "    }\n",
       "\n",
       "    .dataframe thead th {\n",
       "        text-align: right;\n",
       "    }\n",
       "</style>\n",
       "<table border=\"1\" class=\"dataframe\">\n",
       "  <thead>\n",
       "    <tr style=\"text-align: right;\">\n",
       "      <th></th>\n",
       "      <th>count</th>\n",
       "      <th>mean</th>\n",
       "      <th>std</th>\n",
       "      <th>min</th>\n",
       "      <th>25%</th>\n",
       "      <th>50%</th>\n",
       "      <th>75%</th>\n",
       "      <th>max</th>\n",
       "    </tr>\n",
       "    <tr>\n",
       "      <th>hour</th>\n",
       "      <th></th>\n",
       "      <th></th>\n",
       "      <th></th>\n",
       "      <th></th>\n",
       "      <th></th>\n",
       "      <th></th>\n",
       "      <th></th>\n",
       "      <th></th>\n",
       "    </tr>\n",
       "  </thead>\n",
       "  <tbody>\n",
       "    <tr>\n",
       "      <th>0</th>\n",
       "      <td>1890.0</td>\n",
       "      <td>11.922873</td>\n",
       "      <td>8.592224</td>\n",
       "      <td>2.5</td>\n",
       "      <td>6.50</td>\n",
       "      <td>9.30</td>\n",
       "      <td>14.50</td>\n",
       "      <td>88.25</td>\n",
       "    </tr>\n",
       "    <tr>\n",
       "      <th>1</th>\n",
       "      <td>1484.0</td>\n",
       "      <td>11.726065</td>\n",
       "      <td>9.043038</td>\n",
       "      <td>2.5</td>\n",
       "      <td>6.50</td>\n",
       "      <td>9.00</td>\n",
       "      <td>14.10</td>\n",
       "      <td>128.83</td>\n",
       "    </tr>\n",
       "    <tr>\n",
       "      <th>2</th>\n",
       "      <td>1088.0</td>\n",
       "      <td>11.246765</td>\n",
       "      <td>8.628222</td>\n",
       "      <td>2.5</td>\n",
       "      <td>6.10</td>\n",
       "      <td>8.90</td>\n",
       "      <td>13.70</td>\n",
       "      <td>136.00</td>\n",
       "    </tr>\n",
       "    <tr>\n",
       "      <th>3</th>\n",
       "      <td>847.0</td>\n",
       "      <td>12.087237</td>\n",
       "      <td>12.358673</td>\n",
       "      <td>2.5</td>\n",
       "      <td>6.00</td>\n",
       "      <td>8.90</td>\n",
       "      <td>14.50</td>\n",
       "      <td>200.00</td>\n",
       "    </tr>\n",
       "    <tr>\n",
       "      <th>4</th>\n",
       "      <td>610.0</td>\n",
       "      <td>13.740623</td>\n",
       "      <td>10.944349</td>\n",
       "      <td>2.5</td>\n",
       "      <td>6.50</td>\n",
       "      <td>10.00</td>\n",
       "      <td>17.70</td>\n",
       "      <td>80.35</td>\n",
       "    </tr>\n",
       "    <tr>\n",
       "      <th>5</th>\n",
       "      <td>508.0</td>\n",
       "      <td>15.338209</td>\n",
       "      <td>14.856332</td>\n",
       "      <td>-2.5</td>\n",
       "      <td>5.95</td>\n",
       "      <td>9.15</td>\n",
       "      <td>18.60</td>\n",
       "      <td>82.50</td>\n",
       "    </tr>\n",
       "    <tr>\n",
       "      <th>6</th>\n",
       "      <td>1017.0</td>\n",
       "      <td>12.280570</td>\n",
       "      <td>12.168081</td>\n",
       "      <td>2.5</td>\n",
       "      <td>5.30</td>\n",
       "      <td>7.70</td>\n",
       "      <td>12.50</td>\n",
       "      <td>78.50</td>\n",
       "    </tr>\n",
       "    <tr>\n",
       "      <th>7</th>\n",
       "      <td>1899.0</td>\n",
       "      <td>11.121827</td>\n",
       "      <td>10.251250</td>\n",
       "      <td>2.5</td>\n",
       "      <td>5.70</td>\n",
       "      <td>8.00</td>\n",
       "      <td>11.70</td>\n",
       "      <td>87.00</td>\n",
       "    </tr>\n",
       "    <tr>\n",
       "      <th>8</th>\n",
       "      <td>2209.0</td>\n",
       "      <td>10.611852</td>\n",
       "      <td>8.604485</td>\n",
       "      <td>-3.0</td>\n",
       "      <td>6.00</td>\n",
       "      <td>8.10</td>\n",
       "      <td>11.70</td>\n",
       "      <td>95.00</td>\n",
       "    </tr>\n",
       "    <tr>\n",
       "      <th>9</th>\n",
       "      <td>2379.0</td>\n",
       "      <td>10.533871</td>\n",
       "      <td>8.120353</td>\n",
       "      <td>2.5</td>\n",
       "      <td>5.70</td>\n",
       "      <td>8.10</td>\n",
       "      <td>12.00</td>\n",
       "      <td>79.00</td>\n",
       "    </tr>\n",
       "    <tr>\n",
       "      <th>10</th>\n",
       "      <td>2259.0</td>\n",
       "      <td>10.852470</td>\n",
       "      <td>9.561050</td>\n",
       "      <td>-5.0</td>\n",
       "      <td>5.70</td>\n",
       "      <td>8.10</td>\n",
       "      <td>11.85</td>\n",
       "      <td>135.00</td>\n",
       "    </tr>\n",
       "    <tr>\n",
       "      <th>11</th>\n",
       "      <td>2357.0</td>\n",
       "      <td>11.087968</td>\n",
       "      <td>9.610039</td>\n",
       "      <td>2.5</td>\n",
       "      <td>6.00</td>\n",
       "      <td>8.10</td>\n",
       "      <td>12.50</td>\n",
       "      <td>160.00</td>\n",
       "    </tr>\n",
       "    <tr>\n",
       "      <th>12</th>\n",
       "      <td>2471.0</td>\n",
       "      <td>11.263934</td>\n",
       "      <td>9.196111</td>\n",
       "      <td>2.5</td>\n",
       "      <td>6.00</td>\n",
       "      <td>8.50</td>\n",
       "      <td>12.50</td>\n",
       "      <td>89.90</td>\n",
       "    </tr>\n",
       "    <tr>\n",
       "      <th>13</th>\n",
       "      <td>2475.0</td>\n",
       "      <td>11.654630</td>\n",
       "      <td>10.237041</td>\n",
       "      <td>-2.5</td>\n",
       "      <td>6.10</td>\n",
       "      <td>8.50</td>\n",
       "      <td>12.50</td>\n",
       "      <td>93.75</td>\n",
       "    </tr>\n",
       "    <tr>\n",
       "      <th>14</th>\n",
       "      <td>2471.0</td>\n",
       "      <td>12.086860</td>\n",
       "      <td>10.670418</td>\n",
       "      <td>0.0</td>\n",
       "      <td>6.10</td>\n",
       "      <td>8.50</td>\n",
       "      <td>13.00</td>\n",
       "      <td>88.00</td>\n",
       "    </tr>\n",
       "    <tr>\n",
       "      <th>15</th>\n",
       "      <td>2355.0</td>\n",
       "      <td>12.070505</td>\n",
       "      <td>11.269364</td>\n",
       "      <td>-2.5</td>\n",
       "      <td>6.00</td>\n",
       "      <td>8.50</td>\n",
       "      <td>12.90</td>\n",
       "      <td>104.67</td>\n",
       "    </tr>\n",
       "    <tr>\n",
       "      <th>16</th>\n",
       "      <td>2045.0</td>\n",
       "      <td>12.241614</td>\n",
       "      <td>11.503268</td>\n",
       "      <td>2.5</td>\n",
       "      <td>5.70</td>\n",
       "      <td>8.10</td>\n",
       "      <td>12.90</td>\n",
       "      <td>82.50</td>\n",
       "    </tr>\n",
       "    <tr>\n",
       "      <th>17</th>\n",
       "      <td>2490.0</td>\n",
       "      <td>11.331663</td>\n",
       "      <td>9.927398</td>\n",
       "      <td>2.5</td>\n",
       "      <td>6.00</td>\n",
       "      <td>8.50</td>\n",
       "      <td>12.50</td>\n",
       "      <td>120.00</td>\n",
       "    </tr>\n",
       "    <tr>\n",
       "      <th>18</th>\n",
       "      <td>3077.0</td>\n",
       "      <td>11.150640</td>\n",
       "      <td>9.525704</td>\n",
       "      <td>2.5</td>\n",
       "      <td>6.00</td>\n",
       "      <td>8.50</td>\n",
       "      <td>12.50</td>\n",
       "      <td>143.00</td>\n",
       "    </tr>\n",
       "    <tr>\n",
       "      <th>19</th>\n",
       "      <td>3118.0</td>\n",
       "      <td>10.734413</td>\n",
       "      <td>8.577008</td>\n",
       "      <td>0.0</td>\n",
       "      <td>6.00</td>\n",
       "      <td>8.10</td>\n",
       "      <td>12.10</td>\n",
       "      <td>92.49</td>\n",
       "    </tr>\n",
       "    <tr>\n",
       "      <th>20</th>\n",
       "      <td>2859.0</td>\n",
       "      <td>10.736439</td>\n",
       "      <td>9.028118</td>\n",
       "      <td>2.5</td>\n",
       "      <td>6.10</td>\n",
       "      <td>8.10</td>\n",
       "      <td>12.00</td>\n",
       "      <td>180.00</td>\n",
       "    </tr>\n",
       "    <tr>\n",
       "      <th>21</th>\n",
       "      <td>2817.0</td>\n",
       "      <td>11.062478</td>\n",
       "      <td>9.081034</td>\n",
       "      <td>0.0</td>\n",
       "      <td>6.10</td>\n",
       "      <td>8.50</td>\n",
       "      <td>12.50</td>\n",
       "      <td>165.00</td>\n",
       "    </tr>\n",
       "    <tr>\n",
       "      <th>22</th>\n",
       "      <td>2808.0</td>\n",
       "      <td>11.035808</td>\n",
       "      <td>8.064685</td>\n",
       "      <td>2.5</td>\n",
       "      <td>6.10</td>\n",
       "      <td>8.50</td>\n",
       "      <td>12.90</td>\n",
       "      <td>85.00</td>\n",
       "    </tr>\n",
       "    <tr>\n",
       "      <th>23</th>\n",
       "      <td>2467.0</td>\n",
       "      <td>11.355910</td>\n",
       "      <td>8.905995</td>\n",
       "      <td>-2.9</td>\n",
       "      <td>6.10</td>\n",
       "      <td>8.50</td>\n",
       "      <td>13.30</td>\n",
       "      <td>128.61</td>\n",
       "    </tr>\n",
       "  </tbody>\n",
       "</table>\n",
       "</div>"
      ],
      "text/plain": [
       "       count       mean        std  min   25%    50%    75%     max\n",
       "hour                                                               \n",
       "0     1890.0  11.922873   8.592224  2.5  6.50   9.30  14.50   88.25\n",
       "1     1484.0  11.726065   9.043038  2.5  6.50   9.00  14.10  128.83\n",
       "2     1088.0  11.246765   8.628222  2.5  6.10   8.90  13.70  136.00\n",
       "3      847.0  12.087237  12.358673  2.5  6.00   8.90  14.50  200.00\n",
       "4      610.0  13.740623  10.944349  2.5  6.50  10.00  17.70   80.35\n",
       "5      508.0  15.338209  14.856332 -2.5  5.95   9.15  18.60   82.50\n",
       "6     1017.0  12.280570  12.168081  2.5  5.30   7.70  12.50   78.50\n",
       "7     1899.0  11.121827  10.251250  2.5  5.70   8.00  11.70   87.00\n",
       "8     2209.0  10.611852   8.604485 -3.0  6.00   8.10  11.70   95.00\n",
       "9     2379.0  10.533871   8.120353  2.5  5.70   8.10  12.00   79.00\n",
       "10    2259.0  10.852470   9.561050 -5.0  5.70   8.10  11.85  135.00\n",
       "11    2357.0  11.087968   9.610039  2.5  6.00   8.10  12.50  160.00\n",
       "12    2471.0  11.263934   9.196111  2.5  6.00   8.50  12.50   89.90\n",
       "13    2475.0  11.654630  10.237041 -2.5  6.10   8.50  12.50   93.75\n",
       "14    2471.0  12.086860  10.670418  0.0  6.10   8.50  13.00   88.00\n",
       "15    2355.0  12.070505  11.269364 -2.5  6.00   8.50  12.90  104.67\n",
       "16    2045.0  12.241614  11.503268  2.5  5.70   8.10  12.90   82.50\n",
       "17    2490.0  11.331663   9.927398  2.5  6.00   8.50  12.50  120.00\n",
       "18    3077.0  11.150640   9.525704  2.5  6.00   8.50  12.50  143.00\n",
       "19    3118.0  10.734413   8.577008  0.0  6.00   8.10  12.10   92.49\n",
       "20    2859.0  10.736439   9.028118  2.5  6.10   8.10  12.00  180.00\n",
       "21    2817.0  11.062478   9.081034  0.0  6.10   8.50  12.50  165.00\n",
       "22    2808.0  11.035808   8.064685  2.5  6.10   8.50  12.90   85.00\n",
       "23    2467.0  11.355910   8.905995 -2.9  6.10   8.50  13.30  128.61"
      ]
     },
     "execution_count": 48,
     "metadata": {},
     "output_type": "execute_result"
    }
   ],
   "source": [
    "data.groupby('hour')['amount'].describe()"
   ]
  },
  {
   "cell_type": "code",
   "execution_count": 49,
   "id": "38876834",
   "metadata": {},
   "outputs": [
    {
     "data": {
      "text/plain": [
       "[<matplotlib.lines.Line2D at 0x24bf58d11f0>]"
      ]
     },
     "execution_count": 49,
     "metadata": {},
     "output_type": "execute_result"
    },
    {
     "data": {
      "image/png": "[encoded data removed]",
      "text/plain": [
       "<Figure size 432x288 with 1 Axes>"
      ]
     },
     "metadata": {
      "needs_background": "light"
     },
     "output_type": "display_data"
    }
   ],
   "source": [
    "plt.plot(data.groupby('hour')['amount'].count())"
   ]
  },
  {
   "cell_type": "code",
   "execution_count": 50,
   "id": "a3434735",
   "metadata": {},
   "outputs": [
    {
     "data": {
      "text/plain": [
       "[<matplotlib.lines.Line2D at 0x24bf5a396a0>]"
      ]
     },
     "execution_count": 50,
     "metadata": {},
     "output_type": "execute_result"
    },
    {
     "data": {
      "image/png": "[encoded data removed]",
      "text/plain": [
       "<Figure size 432x288 with 1 Axes>"
      ]
     },
     "metadata": {
      "needs_background": "light"
     },
     "output_type": "display_data"
    }
   ],
   "source": [
    "plt.plot(data.groupby('hour')['amount'].mean())"
   ]
  },
  {
   "cell_type": "code",
   "execution_count": 51,
   "id": "3418e340",
   "metadata": {},
   "outputs": [
    {
     "name": "stdout",
     "output_type": "stream",
     "text": [
      "<class 'pandas.core.frame.DataFrame'>\n",
      "RangeIndex: 50000 entries, 0 to 49999\n",
      "Data columns (total 12 columns):\n",
      " #   Column                Non-Null Count  Dtype              \n",
      "---  ------                --------------  -----              \n",
      " 0   unique_id             50000 non-null  object             \n",
      " 1   amount                50000 non-null  float64            \n",
      " 2   date_time_of_pickup   50000 non-null  datetime64[ns, UTC]\n",
      " 3   longitude_of_pickup   50000 non-null  float64            \n",
      " 4   latitude_of_pickup    50000 non-null  float64            \n",
      " 5   longitude_of_dropoff  50000 non-null  float64            \n",
      " 6   latitude_of_dropoff   50000 non-null  float64            \n",
      " 7   no_of_passenger       50000 non-null  int64              \n",
      " 8   year                  50000 non-null  int64              \n",
      " 9   month                 50000 non-null  int64              \n",
      " 10  day                   50000 non-null  int64              \n",
      " 11  hour                  50000 non-null  int64              \n",
      "dtypes: datetime64[ns, UTC](1), float64(5), int64(5), object(1)\n",
      "memory usage: 4.6+ MB\n"
     ]
    }
   ],
   "source": [
    "# longitude_of_pickup\n",
    "data.info()"
   ]
  },
  {
   "cell_type": "code",
   "execution_count": 52,
   "id": "4ba47b10",
   "metadata": {},
   "outputs": [
    {
     "data": {
      "text/plain": [
       "count    50000.000000\n",
       "mean        39.933759\n",
       "std          6.224857\n",
       "min        -74.006893\n",
       "25%         40.734880\n",
       "50%         40.752678\n",
       "75%         40.767360\n",
       "max        401.083332\n",
       "Name: latitude_of_pickup, dtype: float64"
      ]
     },
     "execution_count": 52,
     "metadata": {},
     "output_type": "execute_result"
    }
   ],
   "source": [
    "data.latitude_of_pickup.describe()"
   ]
  },
  {
   "cell_type": "code",
   "execution_count": 53,
   "id": "a0acbcd9",
   "metadata": {
    "scrolled": true
   },
   "outputs": [
    {
     "data": {
      "text/plain": [
       "Text(0.5, 1.0, 'Boxplot of latitude_of_pickup')"
      ]
     },
     "execution_count": 53,
     "metadata": {},
     "output_type": "execute_result"
    },
    {
     "data": {
      "image/png": "[encoded data removed]",
      "text/plain": [
       "<Figure size 432x288 with 1 Axes>"
      ]
     },
     "metadata": {
      "needs_background": "light"
     },
     "output_type": "display_data"
    }
   ],
   "source": [
    "sns.boxplot(data.latitude_of_pickup)\n",
    "plt.title('Boxplot of latitude_of_pickup')"
   ]
  },
  {
   "cell_type": "code",
   "execution_count": 54,
   "id": "de05f706",
   "metadata": {},
   "outputs": [
    {
     "data": {
      "text/plain": [
       "0.03248049999999836"
      ]
     },
     "execution_count": 54,
     "metadata": {},
     "output_type": "execute_result"
    }
   ],
   "source": [
    "# getting the IQR,upper_limit,Lower_limit\n",
    "\n",
    "IQR=data.latitude_of_pickup.quantile(0.75)-data.latitude_of_pickup.quantile(0.25)\n",
    "IQR"
   ]
  },
  {
   "cell_type": "code",
   "execution_count": 55,
   "id": "033ef0f1",
   "metadata": {},
   "outputs": [
    {
     "data": {
      "text/plain": [
       "40.816081249999996"
      ]
     },
     "execution_count": 55,
     "metadata": {},
     "output_type": "execute_result"
    }
   ],
   "source": [
    "HE=data.latitude_of_pickup.quantile(0.75)+(1.5*IQR)\n",
    "HE"
   ]
  },
  {
   "cell_type": "code",
   "execution_count": 56,
   "id": "71dbdf08",
   "metadata": {},
   "outputs": [
    {
     "data": {
      "text/plain": [
       "40.68615925"
      ]
     },
     "execution_count": 56,
     "metadata": {},
     "output_type": "execute_result"
    }
   ],
   "source": [
    "LE=data.latitude_of_pickup.quantile(0.25)-(1.5* IQR)\n",
    "LE"
   ]
  },
  {
   "cell_type": "code",
   "execution_count": 57,
   "id": "51d74c0b",
   "metadata": {},
   "outputs": [
    {
     "data": {
      "text/plain": [
       "247"
      ]
     },
     "execution_count": 57,
     "metadata": {},
     "output_type": "execute_result"
    }
   ],
   "source": [
    "len(data[data.latitude_of_pickup>HE])"
   ]
  },
  {
   "cell_type": "code",
   "execution_count": 58,
   "id": "e17aae51",
   "metadata": {
    "scrolled": true
   },
   "outputs": [
    {
     "data": {
      "text/plain": [
       "2116"
      ]
     },
     "execution_count": 58,
     "metadata": {},
     "output_type": "execute_result"
    }
   ],
   "source": [
    "len(data[data.latitude_of_pickup<LE])"
   ]
  },
  {
   "cell_type": "code",
   "execution_count": 59,
   "id": "05047720",
   "metadata": {},
   "outputs": [
    {
     "name": "stdout",
     "output_type": "stream",
     "text": [
      "<class 'pandas.core.frame.DataFrame'>\n",
      "RangeIndex: 50000 entries, 0 to 49999\n",
      "Data columns (total 12 columns):\n",
      " #   Column                Non-Null Count  Dtype              \n",
      "---  ------                --------------  -----              \n",
      " 0   unique_id             50000 non-null  object             \n",
      " 1   amount                50000 non-null  float64            \n",
      " 2   date_time_of_pickup   50000 non-null  datetime64[ns, UTC]\n",
      " 3   longitude_of_pickup   50000 non-null  float64            \n",
      " 4   latitude_of_pickup    50000 non-null  float64            \n",
      " 5   longitude_of_dropoff  50000 non-null  float64            \n",
      " 6   latitude_of_dropoff   50000 non-null  float64            \n",
      " 7   no_of_passenger       50000 non-null  int64              \n",
      " 8   year                  50000 non-null  int64              \n",
      " 9   month                 50000 non-null  int64              \n",
      " 10  day                   50000 non-null  int64              \n",
      " 11  hour                  50000 non-null  int64              \n",
      "dtypes: datetime64[ns, UTC](1), float64(5), int64(5), object(1)\n",
      "memory usage: 4.6+ MB\n"
     ]
    }
   ],
   "source": [
    "data.info()"
   ]
  },
  {
   "cell_type": "code",
   "execution_count": 60,
   "id": "96e39f4e",
   "metadata": {},
   "outputs": [
    {
     "data": {
      "text/plain": [
       "count    50000.000000\n",
       "mean        39.933759\n",
       "std          6.224857\n",
       "min        -74.006893\n",
       "25%         40.734880\n",
       "50%         40.752678\n",
       "75%         40.767360\n",
       "max        401.083332\n",
       "Name: latitude_of_pickup, dtype: float64"
      ]
     },
     "execution_count": 60,
     "metadata": {},
     "output_type": "execute_result"
    }
   ],
   "source": [
    "data.latitude_of_pickup.describe()"
   ]
  },
  {
   "cell_type": "code",
   "execution_count": 61,
   "id": "f545fc00",
   "metadata": {},
   "outputs": [
    {
     "data": {
      "text/plain": [
       "<AxesSubplot:xlabel='latitude_of_pickup'>"
      ]
     },
     "execution_count": 61,
     "metadata": {},
     "output_type": "execute_result"
    },
    {
     "data": {
      "image/png": "[encoded data removed]",
      "text/plain": [
       "<Figure size 432x288 with 1 Axes>"
      ]
     },
     "metadata": {
      "needs_background": "light"
     },
     "output_type": "display_data"
    }
   ],
   "source": [
    "sns.boxplot(data.latitude_of_pickup)"
   ]
  },
  {
   "cell_type": "code",
   "execution_count": 62,
   "id": "d7474606",
   "metadata": {
    "scrolled": true
   },
   "outputs": [
    {
     "data": {
      "text/plain": [
       "<AxesSubplot:xlabel='longitude_of_pickup', ylabel='latitude_of_pickup'>"
      ]
     },
     "execution_count": 62,
     "metadata": {},
     "output_type": "execute_result"
    },
    {
     "data": {
      "image/png": "[encoded data removed]",
      "text/plain": [
       "<Figure size 432x288 with 1 Axes>"
      ]
     },
     "metadata": {
      "needs_background": "light"
     },
     "output_type": "display_data"
    }
   ],
   "source": [
    "sns.scatterplot(data.longitude_of_pickup,data.latitude_of_pickup, color='green')\n"
   ]
  },
  {
   "cell_type": "code",
   "execution_count": 63,
   "id": "79e4aadd",
   "metadata": {},
   "outputs": [],
   "source": [
    "# in all the columns you want to perform the same"
   ]
  },
  {
   "cell_type": "code",
   "execution_count": 64,
   "id": "68512c42",
   "metadata": {
    "scrolled": true
   },
   "outputs": [
    {
     "data": {
      "text/plain": [
       "Index(['unique_id', 'amount', 'date_time_of_pickup', 'longitude_of_pickup',\n",
       "       'latitude_of_pickup', 'longitude_of_dropoff', 'latitude_of_dropoff',\n",
       "       'no_of_passenger', 'year', 'month', 'day', 'hour'],\n",
       "      dtype='object')"
      ]
     },
     "execution_count": 64,
     "metadata": {},
     "output_type": "execute_result"
    }
   ],
   "source": [
    "data.columns"
   ]
  },
  {
   "cell_type": "code",
   "execution_count": null,
   "id": "91965e91",
   "metadata": {},
   "outputs": [],
   "source": [
    "x=data.loc[:,data.columns!='amount']\n",
    "y=data.loc[:,data.columns=='amount']"
   ]
  },
  {
   "cell_type": "code",
   "execution_count": null,
   "id": "7115bf87",
   "metadata": {},
   "outputs": [],
   "source": [
    "from sklearn.model_selection import train_test_split\n",
    "x_train,x_test,y_train,y_test=train_test_split(x,y,test_size=0.3,random_state=0)"
   ]
  },
  {
   "cell_type": "markdown",
   "id": "dc6c1bc9",
   "metadata": {},
   "source": [
    "## Building the model by using the random forest regressor [because it a regressor model where the traget variable is continious]"
   ]
  },
  {
   "cell_type": "markdown",
   "id": "93c0f5ee",
   "metadata": {},
   "source": [
    "# model1"
   ]
  },
  {
   "cell_type": "code",
   "execution_count": 72,
   "id": "cb3d18d7",
   "metadata": {},
   "outputs": [],
   "source": [
    "from sklearn.ensemble import RandomForestRegressor\n",
    "regressor=RandomForestRegressor(n_estimators=100,random_state=0)"
   ]
  },
  {
   "cell_type": "code",
   "execution_count": 74,
   "id": "ebfe5597",
   "metadata": {},
   "outputs": [],
   "source": [
    "mod=regressor.fit(x_train,y_train)\n",
    "y_pred=mod.predict(x_test)"
   ]
  },
  {
   "cell_type": "code",
   "execution_count": 75,
   "id": "4cace02d",
   "metadata": {},
   "outputs": [],
   "source": [
    "from sklearn.metrics import mean_squared_error\n",
    "mse=mean_squared_error(y_test,y_pred)"
   ]
  },
  {
   "cell_type": "code",
   "execution_count": 77,
   "id": "706d9d64",
   "metadata": {},
   "outputs": [
    {
     "data": {
      "text/plain": [
       "4.483305982226583"
      ]
     },
     "execution_count": 77,
     "metadata": {},
     "output_type": "execute_result"
    }
   ],
   "source": [
    "rmse=np.sqrt(mse)\n",
    "rmse"
   ]
  },
  {
   "cell_type": "code",
   "execution_count": 78,
   "id": "94ad6072",
   "metadata": {},
   "outputs": [],
   "source": [
    "# ploting the graph"
   ]
  },
  {
   "cell_type": "code",
   "execution_count": 79,
   "id": "1cc0d263",
   "metadata": {},
   "outputs": [
    {
     "data": {
      "text/plain": [
       "(15000, 1)"
      ]
     },
     "execution_count": 79,
     "metadata": {},
     "output_type": "execute_result"
    }
   ],
   "source": [
    "y_test.shape"
   ]
  },
  {
   "cell_type": "code",
   "execution_count": 83,
   "id": "260acd82",
   "metadata": {},
   "outputs": [],
   "source": [
    "y_test=y_test.iloc[:,0]"
   ]
  },
  {
   "cell_type": "code",
   "execution_count": 84,
   "id": "1eab55b5",
   "metadata": {
    "scrolled": true
   },
   "outputs": [],
   "source": [
    "residuals=y_test-y_pred"
   ]
  },
  {
   "cell_type": "code",
   "execution_count": 88,
   "id": "ff7cbbfa",
   "metadata": {},
   "outputs": [
    {
     "data": {
      "image/png": "[encoded data removed]",
      "text/plain": [
       "<Figure size 432x288 with 1 Axes>"
      ]
     },
     "metadata": {
      "needs_background": "light"
     },
     "output_type": "display_data"
    }
   ],
   "source": [
    "obsno=np.arange(15000)\n",
    "plt.plot(obsno,y_test,'b')\n",
    "plt.plot(obsno,y_pred,'g')\n",
    "plt.plot(obsno,residuals,'r')\n",
    "plt.legend(labels=('test','predict','Error'))\n",
    "plt.show()"
   ]
  },
  {
   "cell_type": "code",
   "execution_count": 91,
   "id": "2141c29f",
   "metadata": {},
   "outputs": [
    {
     "data": {
      "text/html": [
       "<div>\n",
       "<style scoped>\n",
       "    .dataframe tbody tr th:only-of-type {\n",
       "        vertical-align: middle;\n",
       "    }\n",
       "\n",
       "    .dataframe tbody tr th {\n",
       "        vertical-align: top;\n",
       "    }\n",
       "\n",
       "    .dataframe thead th {\n",
       "        text-align: right;\n",
       "    }\n",
       "</style>\n",
       "<table border=\"1\" class=\"dataframe\">\n",
       "  <thead>\n",
       "    <tr style=\"text-align: right;\">\n",
       "      <th></th>\n",
       "      <th>feature</th>\n",
       "      <th>importance</th>\n",
       "    </tr>\n",
       "  </thead>\n",
       "  <tbody>\n",
       "    <tr>\n",
       "      <th>2</th>\n",
       "      <td>longitude_of_dropoff</td>\n",
       "      <td>0.394514</td>\n",
       "    </tr>\n",
       "    <tr>\n",
       "      <th>0</th>\n",
       "      <td>longitude_of_pickup</td>\n",
       "      <td>0.237887</td>\n",
       "    </tr>\n",
       "    <tr>\n",
       "      <th>3</th>\n",
       "      <td>latitude_of_dropoff</td>\n",
       "      <td>0.163141</td>\n",
       "    </tr>\n",
       "    <tr>\n",
       "      <th>1</th>\n",
       "      <td>latitude_of_pickup</td>\n",
       "      <td>0.117255</td>\n",
       "    </tr>\n",
       "    <tr>\n",
       "      <th>5</th>\n",
       "      <td>year</td>\n",
       "      <td>0.024585</td>\n",
       "    </tr>\n",
       "    <tr>\n",
       "      <th>8</th>\n",
       "      <td>hour</td>\n",
       "      <td>0.024332</td>\n",
       "    </tr>\n",
       "    <tr>\n",
       "      <th>6</th>\n",
       "      <td>month</td>\n",
       "      <td>0.017729</td>\n",
       "    </tr>\n",
       "    <tr>\n",
       "      <th>7</th>\n",
       "      <td>day</td>\n",
       "      <td>0.013882</td>\n",
       "    </tr>\n",
       "    <tr>\n",
       "      <th>4</th>\n",
       "      <td>no_of_passenger</td>\n",
       "      <td>0.006675</td>\n",
       "    </tr>\n",
       "  </tbody>\n",
       "</table>\n",
       "</div>"
      ],
      "text/plain": [
       "                feature  importance\n",
       "2  longitude_of_dropoff    0.394514\n",
       "0   longitude_of_pickup    0.237887\n",
       "3   latitude_of_dropoff    0.163141\n",
       "1    latitude_of_pickup    0.117255\n",
       "5                  year    0.024585\n",
       "8                  hour    0.024332\n",
       "6                 month    0.017729\n",
       "7                   day    0.013882\n",
       "4       no_of_passenger    0.006675"
      ]
     },
     "execution_count": 91,
     "metadata": {},
     "output_type": "execute_result"
    }
   ],
   "source": [
    "# extract feature importance\n",
    "\n",
    "fi=pd.DataFrame({'feature':list(x_train.columns),'importance':mod.feature_importances_}).sort_values('importance',ascending=False)\n",
    "fi"
   ]
  },
  {
   "cell_type": "code",
   "execution_count": 106,
   "id": "34b16862",
   "metadata": {},
   "outputs": [],
   "source": [
    "x_train1=x_train.iloc[:,[2,0,3,1]]"
   ]
  },
  {
   "cell_type": "code",
   "execution_count": 107,
   "id": "148c268b",
   "metadata": {},
   "outputs": [],
   "source": [
    "x_test1=x_test.iloc[:,[2,0,3,1]]"
   ]
  },
  {
   "cell_type": "markdown",
   "id": "5653829c",
   "metadata": {},
   "source": [
    "# Model 2"
   ]
  },
  {
   "cell_type": "code",
   "execution_count": 110,
   "id": "43b51e42",
   "metadata": {},
   "outputs": [],
   "source": [
    "from sklearn.ensemble import RandomForestRegressor\n",
    "regressor=RandomForestRegressor(n_estimators=100,random_state=0)\n",
    "model2=regressor.fit(x_train1,y_train)"
   ]
  },
  {
   "cell_type": "code",
   "execution_count": 112,
   "id": "9668671a",
   "metadata": {},
   "outputs": [],
   "source": [
    "y_predict=model2.predict(x_test1)"
   ]
  },
  {
   "cell_type": "code",
   "execution_count": 116,
   "id": "cc627745",
   "metadata": {
    "scrolled": true
   },
   "outputs": [
    {
     "data": {
      "text/plain": [
       "22.73131957864993"
      ]
     },
     "execution_count": 116,
     "metadata": {},
     "output_type": "execute_result"
    }
   ],
   "source": [
    "from sklearn.metrics import mean_squared_error\n",
    "mse2=mean_squared_error(y_test,y_predict)\n",
    "mse2"
   ]
  },
  {
   "cell_type": "code",
   "execution_count": 128,
   "id": "96cb5d66",
   "metadata": {},
   "outputs": [
    {
     "data": {
      "text/plain": [
       "4.7677373646888235"
      ]
     },
     "execution_count": 128,
     "metadata": {},
     "output_type": "execute_result"
    }
   ],
   "source": [
    "rmse2=np.sqrt(mse2)\n",
    "rmse2"
   ]
  },
  {
   "cell_type": "code",
   "execution_count": 121,
   "id": "94644cc4",
   "metadata": {},
   "outputs": [],
   "source": [
    "residuals2=y_test-y_predict"
   ]
  },
  {
   "cell_type": "code",
   "execution_count": 122,
   "id": "32c8761f",
   "metadata": {},
   "outputs": [
    {
     "data": {
      "image/png": "[encoded data removed]",
      "text/plain": [
       "<Figure size 432x288 with 1 Axes>"
      ]
     },
     "metadata": {
      "needs_background": "light"
     },
     "output_type": "display_data"
    }
   ],
   "source": [
    "obsno=np.arange(15000)\n",
    "plt.plot(obsno,y_test,'b')\n",
    "plt.plot(obsno,y_predict,'g')\n",
    "plt.plot(obsno,residuals2,'r')\n",
    "plt.legend(labels=('test','predict','Error'))\n",
    "plt.show()"
   ]
  },
  {
   "cell_type": "markdown",
   "id": "9a8075bf",
   "metadata": {},
   "source": [
    "# Model 3"
   ]
  },
  {
   "cell_type": "code",
   "execution_count": 142,
   "id": "63694cc0",
   "metadata": {},
   "outputs": [],
   "source": [
    "# now will build the model using gridsearch\n",
    "\n",
    "from sklearn.model_selection import GridSearchCV\n",
    "param_grid={'bootstrap':[True],'max_depth':[4,5,6,7,8,9],'max_features':[\"auto\", \"sqrt\", \"log2\"],'n_estimators':[25,50,100]}\n",
    "rfr=RandomForestRegressor(random_state=1)\n",
    "g_search=GridSearchCV(estimator=rfr,param_grid=param_grid,cv=3)\n",
    "gmod=g_search.fit(x_train1,y_train)"
   ]
  },
  {
   "cell_type": "code",
   "execution_count": 143,
   "id": "8b08b747",
   "metadata": {
    "scrolled": true
   },
   "outputs": [
    {
     "name": "stdout",
     "output_type": "stream",
     "text": [
      "{'bootstrap': True, 'max_depth': 9, 'max_features': 'auto', 'n_estimators': 100}\n"
     ]
    }
   ],
   "source": [
    "# best parameters\n",
    "print(gmod.best_params_)"
   ]
  },
  {
   "cell_type": "code",
   "execution_count": 144,
   "id": "358a9c42",
   "metadata": {},
   "outputs": [],
   "source": [
    "from sklearn.ensemble import RandomForestRegressor\n",
    "regressor=RandomForestRegressor(bootstrap=True,max_depth=9,max_features='auto',n_estimators=100)"
   ]
  },
  {
   "cell_type": "code",
   "execution_count": 145,
   "id": "04058aa3",
   "metadata": {},
   "outputs": [],
   "source": [
    "model3=regressor.fit(x_train1,y_train)"
   ]
  },
  {
   "cell_type": "code",
   "execution_count": 146,
   "id": "e85b3a8f",
   "metadata": {},
   "outputs": [],
   "source": [
    "y_predict=model3.predict(x_test1)"
   ]
  },
  {
   "cell_type": "code",
   "execution_count": 147,
   "id": "d4ec2756",
   "metadata": {},
   "outputs": [],
   "source": [
    "from sklearn.metrics import mean_squared_error\n",
    "mse=mean_squared_error(y_test,y_predict)"
   ]
  },
  {
   "cell_type": "code",
   "execution_count": 148,
   "id": "07963f12",
   "metadata": {},
   "outputs": [
    {
     "data": {
      "text/plain": [
       "5.45297276349789"
      ]
     },
     "execution_count": 148,
     "metadata": {},
     "output_type": "execute_result"
    }
   ],
   "source": [
    "rmse=np.sqrt(mse)\n",
    "rmse"
   ]
  },
  {
   "cell_type": "markdown",
   "id": "f4ccd785",
   "metadata": {},
   "source": [
    "# Model 4"
   ]
  },
  {
   "cell_type": "code",
   "execution_count": null,
   "id": "08e379b6",
   "metadata": {},
   "outputs": [],
   "source": []
  }
 ],
 "metadata": {
  "kernelspec": {
   "display_name": "Python 3 (ipykernel)",
   "language": "python",
   "name": "python3"
  },
  "language_info": {
   "codemirror_mode": {
    "name": "ipython",
    "version": 3
   },
   "file_extension": ".py",
   "mimetype": "text/x-python",
   "name": "python",
   "nbconvert_exporter": "python",
   "pygments_lexer": "ipython3",
   "version": "3.9.7"
  }
 },
 "nbformat": 4,
 "nbformat_minor": 5
}
