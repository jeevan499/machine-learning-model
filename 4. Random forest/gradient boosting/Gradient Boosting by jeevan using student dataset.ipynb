{
 "cells": [
  {
   "cell_type": "code",
   "execution_count": 1,
   "id": "fc460372",
   "metadata": {},
   "outputs": [],
   "source": [
    "import pandas as pd \n",
    "import numpy as np\n",
    "import seaborn as sns\n",
    "from warnings import filterwarnings\n",
    "filterwarnings('ignore')"
   ]
  },
  {
   "cell_type": "code",
   "execution_count": 2,
   "id": "9b18fe88",
   "metadata": {},
   "outputs": [
    {
     "data": {
      "text/html": [
       "<div>\n",
       "<style scoped>\n",
       "    .dataframe tbody tr th:only-of-type {\n",
       "        vertical-align: middle;\n",
       "    }\n",
       "\n",
       "    .dataframe tbody tr th {\n",
       "        vertical-align: top;\n",
       "    }\n",
       "\n",
       "    .dataframe thead th {\n",
       "        text-align: right;\n",
       "    }\n",
       "</style>\n",
       "<table border=\"1\" class=\"dataframe\">\n",
       "  <thead>\n",
       "    <tr style=\"text-align: right;\">\n",
       "      <th></th>\n",
       "      <th>Student Id</th>\n",
       "      <th>Gender</th>\n",
       "      <th>Age</th>\n",
       "      <th>Motivation</th>\n",
       "      <th>Attendance_Rate</th>\n",
       "      <th>Mark</th>\n",
       "    </tr>\n",
       "  </thead>\n",
       "  <tbody>\n",
       "    <tr>\n",
       "      <th>0</th>\n",
       "      <td>30051076</td>\n",
       "      <td>Male</td>\n",
       "      <td>25</td>\n",
       "      <td>50</td>\n",
       "      <td>80</td>\n",
       "      <td>50.5</td>\n",
       "    </tr>\n",
       "    <tr>\n",
       "      <th>1</th>\n",
       "      <td>30067059</td>\n",
       "      <td>Male</td>\n",
       "      <td>25</td>\n",
       "      <td>41</td>\n",
       "      <td>56</td>\n",
       "      <td>24.5</td>\n",
       "    </tr>\n",
       "    <tr>\n",
       "      <th>2</th>\n",
       "      <td>30067059</td>\n",
       "      <td>Male</td>\n",
       "      <td>30</td>\n",
       "      <td>78</td>\n",
       "      <td>89</td>\n",
       "      <td>61.0</td>\n",
       "    </tr>\n",
       "    <tr>\n",
       "      <th>3</th>\n",
       "      <td>30071826</td>\n",
       "      <td>Male</td>\n",
       "      <td>25</td>\n",
       "      <td>53</td>\n",
       "      <td>76</td>\n",
       "      <td>51.5</td>\n",
       "    </tr>\n",
       "    <tr>\n",
       "      <th>4</th>\n",
       "      <td>30078801</td>\n",
       "      <td>Female</td>\n",
       "      <td>21</td>\n",
       "      <td>86</td>\n",
       "      <td>88</td>\n",
       "      <td>70.0</td>\n",
       "    </tr>\n",
       "  </tbody>\n",
       "</table>\n",
       "</div>"
      ],
      "text/plain": [
       "   Student Id  Gender  Age  Motivation  Attendance_Rate  Mark\n",
       "0    30051076    Male   25          50               80  50.5\n",
       "1    30067059    Male   25          41               56  24.5\n",
       "2    30067059    Male   30          78               89  61.0\n",
       "3    30071826    Male   25          53               76  51.5\n",
       "4    30078801  Female   21          86               88  70.0"
      ]
     },
     "execution_count": 2,
     "metadata": {},
     "output_type": "execute_result"
    }
   ],
   "source": [
    "data=pd.read_csv(r\"C:\\Users\\JEEVAN\\Downloads\\student23.csv\")\n",
    "data.head()"
   ]
  },
  {
   "cell_type": "markdown",
   "id": "caa7c043",
   "metadata": {},
   "source": [
    "### By using the student_id,Gender,Age,Motivation,Attendance_rate we must predict the Marks of the student"
   ]
  },
  {
   "cell_type": "code",
   "execution_count": 3,
   "id": "8e1a6ab0",
   "metadata": {},
   "outputs": [
    {
     "data": {
      "text/plain": [
       "Student Id         0\n",
       "Gender             0\n",
       "Age                0\n",
       "Motivation         0\n",
       "Attendance_Rate    0\n",
       "Mark               0\n",
       "dtype: int64"
      ]
     },
     "execution_count": 3,
     "metadata": {},
     "output_type": "execute_result"
    }
   ],
   "source": [
    "data.isnull().sum()"
   ]
  },
  {
   "cell_type": "code",
   "execution_count": 4,
   "id": "0cf0192d",
   "metadata": {},
   "outputs": [
    {
     "data": {
      "text/plain": [
       "<AxesSubplot:>"
      ]
     },
     "execution_count": 4,
     "metadata": {},
     "output_type": "execute_result"
    },
    {
     "data": {
      "image/png": "[encoded data removed]",
      "text/plain": [
       "<Figure size 432x288 with 2 Axes>"
      ]
     },
     "metadata": {
      "needs_background": "light"
     },
     "output_type": "display_data"
    }
   ],
   "source": [
    "sns.heatmap(data.isnull())"
   ]
  },
  {
   "cell_type": "code",
   "execution_count": 5,
   "id": "a7babdb9",
   "metadata": {},
   "outputs": [
    {
     "data": {
      "text/plain": [
       "Index(['Student Id', 'Gender', 'Age', 'Motivation', 'Attendance_Rate', 'Mark'], dtype='object')"
      ]
     },
     "execution_count": 5,
     "metadata": {},
     "output_type": "execute_result"
    }
   ],
   "source": [
    "data.columns"
   ]
  },
  {
   "cell_type": "code",
   "execution_count": 6,
   "id": "632c72d5",
   "metadata": {},
   "outputs": [],
   "source": [
    "x=data.iloc[:,[2,3,4]]       # only predictors\n",
    "y=data.iloc[:,5]             # only target variable"
   ]
  },
  {
   "cell_type": "code",
   "execution_count": 7,
   "id": "44691b69",
   "metadata": {},
   "outputs": [
    {
     "data": {
      "text/html": [
       "<div>\n",
       "<style scoped>\n",
       "    .dataframe tbody tr th:only-of-type {\n",
       "        vertical-align: middle;\n",
       "    }\n",
       "\n",
       "    .dataframe tbody tr th {\n",
       "        vertical-align: top;\n",
       "    }\n",
       "\n",
       "    .dataframe thead th {\n",
       "        text-align: right;\n",
       "    }\n",
       "</style>\n",
       "<table border=\"1\" class=\"dataframe\">\n",
       "  <thead>\n",
       "    <tr style=\"text-align: right;\">\n",
       "      <th></th>\n",
       "      <th>Age</th>\n",
       "      <th>Motivation</th>\n",
       "      <th>Attendance_Rate</th>\n",
       "    </tr>\n",
       "  </thead>\n",
       "  <tbody>\n",
       "    <tr>\n",
       "      <th>0</th>\n",
       "      <td>25</td>\n",
       "      <td>50</td>\n",
       "      <td>80</td>\n",
       "    </tr>\n",
       "    <tr>\n",
       "      <th>1</th>\n",
       "      <td>25</td>\n",
       "      <td>41</td>\n",
       "      <td>56</td>\n",
       "    </tr>\n",
       "    <tr>\n",
       "      <th>2</th>\n",
       "      <td>30</td>\n",
       "      <td>78</td>\n",
       "      <td>89</td>\n",
       "    </tr>\n",
       "    <tr>\n",
       "      <th>3</th>\n",
       "      <td>25</td>\n",
       "      <td>53</td>\n",
       "      <td>76</td>\n",
       "    </tr>\n",
       "    <tr>\n",
       "      <th>4</th>\n",
       "      <td>21</td>\n",
       "      <td>86</td>\n",
       "      <td>88</td>\n",
       "    </tr>\n",
       "    <tr>\n",
       "      <th>...</th>\n",
       "      <td>...</td>\n",
       "      <td>...</td>\n",
       "      <td>...</td>\n",
       "    </tr>\n",
       "    <tr>\n",
       "      <th>195</th>\n",
       "      <td>30</td>\n",
       "      <td>52</td>\n",
       "      <td>80</td>\n",
       "    </tr>\n",
       "    <tr>\n",
       "      <th>196</th>\n",
       "      <td>26</td>\n",
       "      <td>94</td>\n",
       "      <td>100</td>\n",
       "    </tr>\n",
       "    <tr>\n",
       "      <th>197</th>\n",
       "      <td>25</td>\n",
       "      <td>85</td>\n",
       "      <td>91</td>\n",
       "    </tr>\n",
       "    <tr>\n",
       "      <th>198</th>\n",
       "      <td>26</td>\n",
       "      <td>87</td>\n",
       "      <td>90</td>\n",
       "    </tr>\n",
       "    <tr>\n",
       "      <th>199</th>\n",
       "      <td>25</td>\n",
       "      <td>89</td>\n",
       "      <td>90</td>\n",
       "    </tr>\n",
       "  </tbody>\n",
       "</table>\n",
       "<p>200 rows × 3 columns</p>\n",
       "</div>"
      ],
      "text/plain": [
       "     Age  Motivation  Attendance_Rate\n",
       "0     25          50               80\n",
       "1     25          41               56\n",
       "2     30          78               89\n",
       "3     25          53               76\n",
       "4     21          86               88\n",
       "..   ...         ...              ...\n",
       "195   30          52               80\n",
       "196   26          94              100\n",
       "197   25          85               91\n",
       "198   26          87               90\n",
       "199   25          89               90\n",
       "\n",
       "[200 rows x 3 columns]"
      ]
     },
     "execution_count": 7,
     "metadata": {},
     "output_type": "execute_result"
    }
   ],
   "source": [
    "x"
   ]
  },
  {
   "cell_type": "code",
   "execution_count": 8,
   "id": "1d7081b8",
   "metadata": {},
   "outputs": [
    {
     "data": {
      "text/plain": [
       "0      50.5\n",
       "1      24.5\n",
       "2      61.0\n",
       "3      51.5\n",
       "4      70.0\n",
       "       ... \n",
       "195    51.0\n",
       "196    82.5\n",
       "197    75.5\n",
       "198    71.5\n",
       "199    73.5\n",
       "Name: Mark, Length: 200, dtype: float64"
      ]
     },
     "execution_count": 8,
     "metadata": {},
     "output_type": "execute_result"
    }
   ],
   "source": [
    "y"
   ]
  },
  {
   "cell_type": "markdown",
   "id": "8e43a98c",
   "metadata": {},
   "source": [
    "# Lets start with Gradient Boosting with 2 estimators1"
   ]
  },
  {
   "cell_type": "markdown",
   "id": "2822431c",
   "metadata": {},
   "source": [
    "## Lets build 2 estimators"
   ]
  },
  {
   "cell_type": "markdown",
   "id": "6816523c",
   "metadata": {},
   "source": [
    "### let us now use GradientBoostingRegressor with 2 estimators to train the model and to predict the age for the same inputs"
   ]
  },
  {
   "cell_type": "code",
   "execution_count": 12,
   "id": "8b5a47b9",
   "metadata": {},
   "outputs": [],
   "source": [
    "from sklearn.ensemble import GradientBoostingRegressor\n",
    "\n",
    "GB=GradientBoostingRegressor(n_estimators=2)"
   ]
  },
  {
   "cell_type": "code",
   "execution_count": 14,
   "id": "2fca069c",
   "metadata": {
    "scrolled": true
   },
   "outputs": [
    {
     "data": {
      "text/plain": [
       "array([58.57523286, 52.81242333, 61.44920438, 58.06237571, 63.20500111,\n",
       "       63.20500111, 63.20500111, 65.34688167, 52.81242333, 65.34688167,\n",
       "       57.63962968, 63.20500111, 61.44920438, 60.10790818, 63.20500111,\n",
       "       61.44920438, 65.34688167, 63.20500111, 63.20500111, 60.10790818,\n",
       "       60.77785589, 65.34688167, 61.44920438, 65.34688167, 56.05509   ,\n",
       "       60.10790818, 58.06237571, 57.63962968, 60.10790818, 61.44920438,\n",
       "       58.06237571, 57.63962968, 63.20500111, 61.44920438, 63.20500111,\n",
       "       63.20500111, 52.81242333, 57.63962968, 61.44920438, 63.20500111,\n",
       "       61.44920438, 57.63962968, 56.05509   , 65.34688167, 57.63962968,\n",
       "       57.63962968, 63.20500111, 57.63962968, 57.63962968, 63.20500111,\n",
       "       61.44920438, 52.81242333, 65.34688167, 60.10790818, 52.81242333,\n",
       "       63.20500111, 61.44920438, 63.20500111, 65.34688167, 60.77785589,\n",
       "       57.63962968, 61.44920438, 60.10790818, 58.57523286, 60.10790818,\n",
       "       60.77785589, 60.10790818, 61.44920438, 63.20500111, 65.34688167,\n",
       "       61.44920438, 60.77785589, 61.44920438, 60.10790818, 61.44920438,\n",
       "       52.81242333, 63.20500111, 52.81242333, 61.44920438, 63.20500111,\n",
       "       63.20500111, 61.44920438, 52.81242333, 58.57523286, 65.34688167,\n",
       "       52.81242333, 63.20500111, 58.06237571, 56.05509   , 61.44920438,\n",
       "       56.05509   , 56.05509   , 57.63962968, 60.10790818, 58.57523286,\n",
       "       52.81242333, 61.44920438, 61.44920438, 63.20500111, 60.77785589,\n",
       "       58.57523286, 58.57523286, 60.10790818, 61.44920438, 61.44920438,\n",
       "       61.44920438, 58.06237571, 60.10790818, 60.77785589, 65.34688167,\n",
       "       63.20500111, 61.44920438, 60.10790818, 61.44920438, 63.20500111,\n",
       "       57.63962968, 61.44920438, 65.34688167, 61.44920438, 61.44920438,\n",
       "       63.20500111, 61.44920438, 60.10790818, 63.20500111, 57.63962968,\n",
       "       63.20500111, 63.20500111, 65.34688167, 58.06237571, 61.44920438,\n",
       "       63.20500111, 58.57523286, 63.20500111, 63.20500111, 63.20500111,\n",
       "       63.20500111, 60.77785589, 63.20500111, 60.10790818, 65.34688167,\n",
       "       61.44920438, 65.34688167, 52.81242333, 63.20500111, 60.77785589,\n",
       "       58.06237571, 60.10790818, 65.34688167, 65.34688167, 63.20500111,\n",
       "       58.57523286, 65.34688167, 60.77785589, 63.20500111, 60.77785589,\n",
       "       63.20500111, 57.63962968, 61.44920438, 60.10790818, 52.81242333,\n",
       "       63.20500111, 63.20500111, 58.06237571, 61.44920438, 60.10790818,\n",
       "       61.44920438, 65.34688167, 52.81242333, 60.10790818, 52.81242333,\n",
       "       52.81242333, 61.44920438, 65.34688167, 58.06237571, 61.44920438,\n",
       "       63.20500111, 65.34688167, 61.44920438, 60.10790818, 61.44920438,\n",
       "       60.10790818, 61.44920438, 57.63962968, 60.10790818, 60.77785589,\n",
       "       63.20500111, 61.44920438, 57.63962968, 58.06237571, 65.34688167,\n",
       "       58.57523286, 63.20500111, 65.34688167, 57.63962968, 57.63962968,\n",
       "       58.57523286, 65.34688167, 63.20500111, 63.20500111, 63.20500111])"
      ]
     },
     "execution_count": 14,
     "metadata": {},
     "output_type": "execute_result"
    }
   ],
   "source": [
    "GB.fit(x,y)\n",
    "y_predict=GB.predict(x)\n",
    "y_predict"
   ]
  },
  {
   "cell_type": "markdown",
   "id": "ab654afc",
   "metadata": {},
   "source": [
    "# MSE of Residuals"
   ]
  },
  {
   "cell_type": "code",
   "execution_count": 17,
   "id": "c5b615f8",
   "metadata": {},
   "outputs": [
    {
     "name": "stdout",
     "output_type": "stream",
     "text": [
      "MSE for 2 estimators :  221.26473562442985\n"
     ]
    }
   ],
   "source": [
    "MSE_2=(sum((y-y_predict)**2))/len(y)\n",
    "print('MSE for 2 estimators : ',MSE_2)"
   ]
  },
  {
   "cell_type": "code",
   "execution_count": 18,
   "id": "6ebd4521",
   "metadata": {},
   "outputs": [],
   "source": [
    "# without doing anything our mse values is 221\n",
    "# we have to build multiple model with lesser than 221 mse"
   ]
  },
  {
   "cell_type": "markdown",
   "id": "119785ef",
   "metadata": {},
   "source": [
    "## GradientBoostingRegressor Model with number of estimators 3"
   ]
  },
  {
   "cell_type": "code",
   "execution_count": 20,
   "id": "0549b453",
   "metadata": {},
   "outputs": [],
   "source": [
    "from sklearn.ensemble import GradientBoostingRegressor\n",
    "\n",
    "GB3=GradientBoostingRegressor(n_estimators=3)"
   ]
  },
  {
   "cell_type": "code",
   "execution_count": 21,
   "id": "f923f55a",
   "metadata": {},
   "outputs": [
    {
     "data": {
      "text/plain": [
       "GradientBoostingRegressor(n_estimators=3)"
      ]
     },
     "execution_count": 21,
     "metadata": {},
     "output_type": "execute_result"
    }
   ],
   "source": [
    "GB3.fit(x,y)"
   ]
  },
  {
   "cell_type": "code",
   "execution_count": 22,
   "id": "a66ca5d0",
   "metadata": {
    "scrolled": true
   },
   "outputs": [
    {
     "data": {
      "text/plain": [
       "array([57.461681  , 49.45451433, 61.72055586, 56.94882386, 63.47635259,\n",
       "       64.2641248 , 64.2641248 , 67.33261017, 49.45451433, 67.33261017,\n",
       "       56.52607783, 64.2641248 , 61.72055586, 59.79529918, 64.2641248 ,\n",
       "       61.72055586, 67.33261017, 64.2641248 , 64.2641248 , 59.79529918,\n",
       "       61.04920737, 67.33261017, 61.72055586, 67.33261017, 54.079581  ,\n",
       "       59.79529918, 56.94882386, 56.52607783, 59.79529918, 61.72055586,\n",
       "       56.94882386, 56.52607783, 64.2641248 , 61.72055586, 64.2641248 ,\n",
       "       64.2641248 , 49.45451433, 56.52607783, 61.72055586, 64.2641248 ,\n",
       "       61.72055586, 56.52607783, 54.079581  , 67.33261017, 56.52607783,\n",
       "       56.52607783, 64.2641248 , 56.52607783, 56.52607783, 64.2641248 ,\n",
       "       61.72055586, 49.45451433, 67.33261017, 59.79529918, 49.45451433,\n",
       "       64.2641248 , 61.72055586, 64.2641248 , 67.33261017, 61.04920737,\n",
       "       56.52607783, 61.72055586, 59.79529918, 57.461681  , 59.79529918,\n",
       "       61.04920737, 59.79529918, 61.72055586, 64.2641248 , 67.33261017,\n",
       "       61.72055586, 61.04920737, 61.72055586, 59.79529918, 61.72055586,\n",
       "       49.45451433, 64.2641248 , 49.45451433, 62.50832807, 64.2641248 ,\n",
       "       64.2641248 , 61.72055586, 49.45451433, 57.461681  , 67.33261017,\n",
       "       49.45451433, 64.2641248 , 56.94882386, 54.079581  , 61.72055586,\n",
       "       54.079581  , 54.079581  , 56.52607783, 59.79529918, 57.461681  ,\n",
       "       49.45451433, 61.72055586, 61.72055586, 63.47635259, 61.04920737,\n",
       "       57.461681  , 57.461681  , 59.79529918, 61.72055586, 61.72055586,\n",
       "       61.72055586, 56.94882386, 59.79529918, 61.04920737, 67.33261017,\n",
       "       64.2641248 , 61.72055586, 59.79529918, 62.50832807, 64.2641248 ,\n",
       "       56.52607783, 61.72055586, 67.33261017, 62.50832807, 61.72055586,\n",
       "       64.2641248 , 61.72055586, 59.79529918, 64.2641248 , 56.52607783,\n",
       "       64.2641248 , 64.2641248 , 67.33261017, 56.94882386, 61.72055586,\n",
       "       64.2641248 , 56.16770957, 64.2641248 , 64.2641248 , 64.2641248 ,\n",
       "       64.2641248 , 61.04920737, 64.2641248 , 59.79529918, 67.33261017,\n",
       "       61.72055586, 67.33261017, 49.45451433, 64.2641248 , 61.04920737,\n",
       "       56.94882386, 59.79529918, 67.33261017, 67.33261017, 64.2641248 ,\n",
       "       57.461681  , 67.33261017, 61.04920737, 64.2641248 , 61.04920737,\n",
       "       64.2641248 , 56.52607783, 62.50832807, 59.79529918, 49.45451433,\n",
       "       64.2641248 , 64.2641248 , 56.94882386, 61.72055586, 59.79529918,\n",
       "       61.72055586, 67.33261017, 49.45451433, 59.79529918, 49.45451433,\n",
       "       49.45451433, 61.72055586, 67.33261017, 56.94882386, 61.72055586,\n",
       "       64.2641248 , 67.33261017, 61.72055586, 59.79529918, 61.72055586,\n",
       "       59.79529918, 61.72055586, 56.52607783, 59.79529918, 61.04920737,\n",
       "       64.2641248 , 61.72055586, 56.52607783, 56.94882386, 67.33261017,\n",
       "       57.461681  , 64.2641248 , 67.33261017, 56.52607783, 56.52607783,\n",
       "       57.461681  , 67.33261017, 64.2641248 , 64.2641248 , 64.2641248 ])"
      ]
     },
     "execution_count": 22,
     "metadata": {},
     "output_type": "execute_result"
    }
   ],
   "source": [
    "y_predict3=GB3.predict(x)\n",
    "y_predict3"
   ]
  },
  {
   "cell_type": "code",
   "execution_count": 23,
   "id": "eec464be",
   "metadata": {},
   "outputs": [
    {
     "name": "stdout",
     "output_type": "stream",
     "text": [
      "MSE of three estimators : 183.0\n"
     ]
    }
   ],
   "source": [
    "MSE_3=(sum((y-y_predict3)**2))//len(y)\n",
    "print('MSE of three estimators :',MSE_3)"
   ]
  },
  {
   "cell_type": "markdown",
   "id": "06718100",
   "metadata": {},
   "source": [
    "# Let's check with the 50th estimators"
   ]
  },
  {
   "cell_type": "code",
   "execution_count": 25,
   "id": "b3ec3bae",
   "metadata": {},
   "outputs": [
    {
     "data": {
      "text/plain": [
       "GradientBoostingRegressor(n_estimators=50)"
      ]
     },
     "execution_count": 25,
     "metadata": {},
     "output_type": "execute_result"
    }
   ],
   "source": [
    "from sklearn.ensemble import GradientBoostingRegressor\n",
    "GB_50=GradientBoostingRegressor(n_estimators=50)\n",
    "GB_50.fit(x,y)"
   ]
  },
  {
   "cell_type": "code",
   "execution_count": 26,
   "id": "41864299",
   "metadata": {
    "scrolled": true
   },
   "outputs": [
    {
     "data": {
      "text/plain": [
       "array([48.72909151, 24.03204851, 65.37921316, 48.05065771, 70.76833426,\n",
       "       76.8061968 , 73.71476405, 83.98205929, 15.39414814, 80.86801546,\n",
       "       45.72186141, 77.32085868, 63.27115477, 57.88808065, 73.1811369 ,\n",
       "       63.16867723, 83.98205929, 73.71476405, 71.11184836, 57.99055819,\n",
       "       63.17137557, 84.77126989, 65.22316727, 86.86244487, 37.82034553,\n",
       "       56.8147649 , 48.00348223, 43.59820073, 58.40351254, 64.47327796,\n",
       "       48.31923439, 45.39465661, 76.92662457, 65.3174053 , 73.6774376 ,\n",
       "       73.81724159, 21.11686353, 45.707355  , 63.36539281, 73.81003462,\n",
       "       63.26291527, 42.16584014, 36.84017034, 84.87431336, 46.34674309,\n",
       "       44.80516179, 73.68821213, 45.00522103, 43.65195137, 73.90397668,\n",
       "       65.22316727,  8.31387116, 84.36331342, 56.90559479, 10.18083243,\n",
       "       73.91251216, 65.4734512 , 73.69577594, 87.47673134, 62.16596796,\n",
       "       45.48512151, 65.22316727, 56.80311725, 50.9307305 , 56.05515418,\n",
       "       62.16596796, 57.99055819, 64.0486232 , 73.31300217, 83.87958175,\n",
       "       64.24533877, 63.27385311, 63.11510888, 57.8345123 , 63.16867723,\n",
       "       28.59408371, 73.77270818, 31.03637131, 68.19747256, 73.3893148 ,\n",
       "       77.21006201, 63.20934691, 12.89869302, 50.49113746, 84.55382202,\n",
       "       12.88166026, 73.71476405, 48.31923439, 36.65740431, 66.95074659,\n",
       "       36.4207175 , 34.48502725, 40.28546592, 57.99055819, 49.77650776,\n",
       "       15.76178567, 64.15110074, 64.15110074, 70.77583185, 62.16596796,\n",
       "       50.97790598, 50.97790598, 57.53554876, 65.27673562, 65.3174053 ,\n",
       "       66.95074659, 43.1349272 , 56.90559479, 58.24906927, 84.36331342,\n",
       "       73.71476405, 63.16867723, 54.30963373, 69.98494936, 73.71476405,\n",
       "       45.36493379, 64.37080042, 83.87958175, 70.40407278, 64.37903992,\n",
       "       73.81003462, 65.37097366, 58.40351254, 77.32085868, 45.72186141,\n",
       "       73.05210744, 73.81003462, 83.98205929, 46.67821597, 64.47327796,\n",
       "       73.81724159, 37.02390091, 73.81003462, 73.81003462, 73.50974257,\n",
       "       73.6774376 , 58.99703234, 71.11184836, 56.8147649 , 86.05334103,\n",
       "       64.37903992, 85.44551016, 28.26674417, 73.31300217, 64.27402635,\n",
       "       45.8414576 , 56.80311725, 83.98205929, 85.05070373, 73.94189989,\n",
       "       50.43994952, 84.32598697, 57.44215485, 73.1811369 , 58.26071692,\n",
       "       73.1811369 , 44.60897315, 67.32950878, 57.53554876, 18.59859188,\n",
       "       73.80870611, 73.71476405, 48.10184565, 65.37921316, 56.90559479,\n",
       "       63.99505484, 83.8422553 , 16.20010089, 57.88808065, 34.48768451,\n",
       "       16.52423179, 65.27673562, 88.14451601, 43.20737683, 63.92403049,\n",
       "       73.58573459, 84.56697206, 65.79216751, 57.88808065, 66.95074659,\n",
       "       56.15763172, 63.16867723, 45.78392615, 58.76802661, 64.27402635,\n",
       "       73.71476405, 65.37097366, 45.67468593, 52.26332045, 84.55382202,\n",
       "       55.23021067, 73.81003462, 83.8422553 , 45.78392615, 44.92890843,\n",
       "       49.99570109, 83.87958175, 73.81003462, 73.1811369 , 73.69577594])"
      ]
     },
     "execution_count": 26,
     "metadata": {},
     "output_type": "execute_result"
    }
   ],
   "source": [
    "y_predict50=GB_50.predict(x)\n",
    "y_predict50"
   ]
  },
  {
   "cell_type": "code",
   "execution_count": 27,
   "id": "a98910dd",
   "metadata": {},
   "outputs": [
    {
     "name": "stdout",
     "output_type": "stream",
     "text": [
      "MSE of 50 estimators : 9.468199279207536\n"
     ]
    }
   ],
   "source": [
    "MSE_50=sum((y-y_predict50)**2)/len(y)\n",
    "print('MSE of 50 estimators :',MSE_50)"
   ]
  },
  {
   "cell_type": "markdown",
   "id": "a650538a",
   "metadata": {},
   "source": [
    "# Grid Search"
   ]
  },
  {
   "cell_type": "code",
   "execution_count": 29,
   "id": "0cbfc338",
   "metadata": {},
   "outputs": [],
   "source": [
    "from sklearn.model_selection import GridSearchCV\n",
    "from sklearn.ensemble import GradientBoostingRegressor\n",
    "model=GradientBoostingRegressor()"
   ]
  },
  {
   "cell_type": "code",
   "execution_count": 34,
   "id": "33400acd",
   "metadata": {
    "scrolled": true
   },
   "outputs": [
    {
     "ename": "NameError",
     "evalue": "name 'gird' is not defined",
     "output_type": "error",
     "traceback": [
      "\u001b[1;31m---------------------------------------------------------------------------\u001b[0m",
      "\u001b[1;31mNameError\u001b[0m                                 Traceback (most recent call last)",
      "\u001b[1;32m~\\AppData\\Local\\Temp/ipykernel_6292/95071166.py\u001b[0m in \u001b[0;36m<module>\u001b[1;34m\u001b[0m\n\u001b[0;32m      2\u001b[0m \u001b[0mgrid\u001b[0m\u001b[1;33m=\u001b[0m\u001b[0mGridSearchCV\u001b[0m\u001b[1;33m(\u001b[0m\u001b[0mestimator\u001b[0m\u001b[1;33m=\u001b[0m\u001b[0mmodel\u001b[0m\u001b[1;33m,\u001b[0m\u001b[0mcv\u001b[0m\u001b[1;33m=\u001b[0m\u001b[1;36m3\u001b[0m\u001b[1;33m,\u001b[0m\u001b[0mparam_grid\u001b[0m\u001b[1;33m=\u001b[0m\u001b[0mparams\u001b[0m\u001b[1;33m,\u001b[0m\u001b[0mscoring\u001b[0m\u001b[1;33m=\u001b[0m\u001b[1;34m'neg_mean_squared_error'\u001b[0m\u001b[1;33m)\u001b[0m\u001b[1;33m\u001b[0m\u001b[1;33m\u001b[0m\u001b[0m\n\u001b[0;32m      3\u001b[0m \u001b[0mgrid\u001b[0m\u001b[1;33m.\u001b[0m\u001b[0mfit\u001b[0m\u001b[1;33m(\u001b[0m\u001b[0mx\u001b[0m\u001b[1;33m,\u001b[0m\u001b[0my\u001b[0m\u001b[1;33m)\u001b[0m\u001b[1;33m\u001b[0m\u001b[1;33m\u001b[0m\u001b[0m\n\u001b[1;32m----> 4\u001b[1;33m \u001b[0mprint\u001b[0m\u001b[1;33m(\u001b[0m\u001b[1;34m'The best estimator returned by GridSearch CV is ='\u001b[0m\u001b[1;33m,\u001b[0m\u001b[0mgird\u001b[0m\u001b[1;33m.\u001b[0m\u001b[0mbest_estimator_\u001b[0m\u001b[1;33m)\u001b[0m\u001b[1;33m\u001b[0m\u001b[1;33m\u001b[0m\u001b[0m\n\u001b[0m",
      "\u001b[1;31mNameError\u001b[0m: name 'gird' is not defined"
     ]
    }
   ],
   "source": [
    "params={'n_estimators':range(1,200)}\n",
    "grid=GridSearchCV(estimator=model,cv=3,param_grid=params,scoring='neg_mean_squared_error')\n",
    "grid.fit(x,y)"
   ]
  },
  {
   "cell_type": "code",
   "execution_count": 35,
   "id": "fa91cf08",
   "metadata": {},
   "outputs": [
    {
     "name": "stdout",
     "output_type": "stream",
     "text": [
      "The best estimator returned by GridSearch CV is = GradientBoostingRegressor(n_estimators=30)\n"
     ]
    }
   ],
   "source": [
    "print('The best estimator returned by GridSearch CV is =',grid.best_estimator_)"
   ]
  },
  {
   "cell_type": "markdown",
   "id": "2b1e28d1",
   "metadata": {},
   "source": [
    "# Best Model"
   ]
  },
  {
   "cell_type": "code",
   "execution_count": 36,
   "id": "9e8f2355",
   "metadata": {},
   "outputs": [
    {
     "data": {
      "text/plain": [
       "array([49.11584374, 26.88496478, 65.08172503, 48.33031899, 70.56589853,\n",
       "       76.38031236, 73.26837967, 83.63473389, 18.7572668 , 80.41723029,\n",
       "       46.14201642, 76.79159519, 63.03966873, 57.94151207, 72.85709684,\n",
       "       63.03966873, 83.63473389, 73.26837967, 70.81436023, 57.94151207,\n",
       "       62.94812903, 83.94044581, 65.08172503, 83.94044581, 36.08831833,\n",
       "       57.03984447, 48.33031899, 44.00747893, 57.94151207, 64.14755388,\n",
       "       48.33031899, 45.61134773, 76.79159519, 65.08172503, 73.26837967,\n",
       "       73.26837967, 22.45351465, 46.14201642, 63.03966873, 73.26837967,\n",
       "       63.03966873, 42.96704383, 36.58037885, 85.15824674, 46.14201642,\n",
       "       46.14201642, 73.26837967, 46.58280376, 44.26591222, 73.38248641,\n",
       "       65.08172503, 12.34543923, 83.63473389, 57.03984447, 12.9886907 ,\n",
       "       73.26837967, 65.08172503, 72.85709684, 85.15824674, 61.84024388,\n",
       "       46.14201642, 65.08172503, 57.03984447, 50.82670176, 56.2918814 ,\n",
       "       61.84024388, 57.94151207, 63.91961469, 72.85709684, 83.63473389,\n",
       "       63.91961469, 62.94812903, 63.03966873, 57.94151207, 63.03966873,\n",
       "       26.19997686, 73.26837967, 30.91578306, 67.48703008, 72.97120358,\n",
       "       76.48588327, 63.03966873, 21.0167406 , 50.82670176, 84.91680503,\n",
       "       18.7572668 , 73.26837967, 48.33031899, 36.77330626, 66.65325845,\n",
       "       33.98760786, 37.17985768, 40.94236082, 57.94151207, 49.73005983,\n",
       "       20.52945685, 63.91961469, 63.91961469, 70.4517918 , 61.84024388,\n",
       "       50.82670176, 50.82670176, 57.94151207, 65.08172503, 65.08172503,\n",
       "       66.65325845, 44.62054579, 57.03984447, 58.48579649, 83.63473389,\n",
       "       73.26837967, 63.03966873, 54.52632486, 69.46984633, 73.26837967,\n",
       "       46.53510772, 64.14755388, 83.63473389, 69.46984633, 64.14755388,\n",
       "       73.26837967, 65.08172503, 57.94151207, 76.79159519, 46.14201642,\n",
       "       72.85709684, 73.26837967, 83.63473389, 47.4268931 , 64.14755388,\n",
       "       73.26837967, 38.11125044, 73.26837967, 73.26837967, 73.38248641,\n",
       "       73.26837967, 59.23375956, 70.81436023, 57.03984447, 85.22251695,\n",
       "       64.14755388, 85.22251695, 26.75257036, 72.85709684, 63.88230019,\n",
       "       46.63998551, 57.03984447, 83.63473389, 83.63473389, 73.26837967,\n",
       "       50.82670176, 83.63473389, 57.5823706 , 72.85709684, 58.48579649,\n",
       "       72.85709684, 45.83343471, 67.48703008, 57.94151207, 20.99889786,\n",
       "       73.38248641, 73.26837967, 48.33031899, 65.08172503, 57.03984447,\n",
       "       63.91961469, 83.63473389, 15.05963598, 57.94151207, 30.18461876,\n",
       "       19.35882799, 65.08172503, 85.22251695, 44.19275941, 64.14755388,\n",
       "       73.26837967, 83.63473389, 65.08172503, 57.94151207, 66.65325845,\n",
       "       56.2918814 , 63.03966873, 46.14201642, 58.82145803, 63.88230019,\n",
       "       73.26837967, 65.08172503, 46.14201642, 52.48840001, 84.91680503,\n",
       "       54.98478279, 73.26837967, 83.63473389, 46.14201642, 46.14201642,\n",
       "       50.51812005, 83.63473389, 73.26837967, 72.85709684, 72.85709684])"
      ]
     },
     "execution_count": 36,
     "metadata": {},
     "output_type": "execute_result"
    }
   ],
   "source": [
    "GB=grid.best_estimator_\n",
    "GB.fit(x,y)\n",
    "y_predict=GB.predict(x)\n",
    "y_predict"
   ]
  },
  {
   "cell_type": "code",
   "execution_count": 39,
   "id": "92f65a4e",
   "metadata": {},
   "outputs": [
    {
     "data": {
      "text/plain": [
       "GradientBoostingRegressor(n_estimators=30)"
      ]
     },
     "execution_count": 39,
     "metadata": {},
     "output_type": "execute_result"
    }
   ],
   "source": [
    "GB"
   ]
  },
  {
   "cell_type": "code",
   "execution_count": 37,
   "id": "db2e7b7f",
   "metadata": {},
   "outputs": [
    {
     "name": "stdout",
     "output_type": "stream",
     "text": [
      "MSE for best estimators : 14.622150972223338\n"
     ]
    }
   ],
   "source": [
    "MSE_best=(sum((y-y_predict)**2))/len(y)\n",
    "print('MSE for best estimators :',MSE_best)"
   ]
  },
  {
   "cell_type": "code",
   "execution_count": null,
   "id": "e6499ce9",
   "metadata": {},
   "outputs": [],
   "source": []
  },
  {
   "cell_type": "code",
   "execution_count": null,
   "id": "f6d2bfcc",
   "metadata": {},
   "outputs": [],
   "source": []
  },
  {
   "cell_type": "code",
   "execution_count": null,
   "id": "ad16d022",
   "metadata": {},
   "outputs": [],
   "source": []
  },
  {
   "cell_type": "code",
   "execution_count": null,
   "id": "5390d763",
   "metadata": {},
   "outputs": [],
   "source": []
  },
  {
   "cell_type": "code",
   "execution_count": null,
   "id": "a240a245",
   "metadata": {},
   "outputs": [],
   "source": []
  },
  {
   "cell_type": "code",
   "execution_count": null,
   "id": "2a0d1a87",
   "metadata": {},
   "outputs": [],
   "source": []
  },
  {
   "cell_type": "code",
   "execution_count": null,
   "id": "d6a00668",
   "metadata": {},
   "outputs": [],
   "source": []
  },
  {
   "cell_type": "code",
   "execution_count": null,
   "id": "fb57b3d3",
   "metadata": {},
   "outputs": [],
   "source": []
  },
  {
   "cell_type": "code",
   "execution_count": null,
   "id": "cffe1a5d",
   "metadata": {},
   "outputs": [],
   "source": []
  },
  {
   "cell_type": "code",
   "execution_count": null,
   "id": "626acc8f",
   "metadata": {},
   "outputs": [],
   "source": []
  },
  {
   "cell_type": "code",
   "execution_count": null,
   "id": "3c2b1476",
   "metadata": {},
   "outputs": [],
   "source": []
  },
  {
   "cell_type": "code",
   "execution_count": null,
   "id": "09248e88",
   "metadata": {},
   "outputs": [],
   "source": []
  },
  {
   "cell_type": "code",
   "execution_count": null,
   "id": "f6df2093",
   "metadata": {},
   "outputs": [],
   "source": []
  },
  {
   "cell_type": "code",
   "execution_count": null,
   "id": "bcccea8b",
   "metadata": {},
   "outputs": [],
   "source": []
  },
  {
   "cell_type": "code",
   "execution_count": null,
   "id": "40445eef",
   "metadata": {},
   "outputs": [],
   "source": []
  },
  {
   "cell_type": "code",
   "execution_count": null,
   "id": "66b7dba5",
   "metadata": {},
   "outputs": [],
   "source": []
  },
  {
   "cell_type": "code",
   "execution_count": null,
   "id": "a947ba64",
   "metadata": {},
   "outputs": [],
   "source": []
  },
  {
   "cell_type": "code",
   "execution_count": null,
   "id": "01c35ab3",
   "metadata": {},
   "outputs": [],
   "source": []
  },
  {
   "cell_type": "code",
   "execution_count": null,
   "id": "1538a1b0",
   "metadata": {},
   "outputs": [],
   "source": []
  }
 ],
 "metadata": {
  "kernelspec": {
   "display_name": "Python 3 (ipykernel)",
   "language": "python",
   "name": "python3"
  },
  "language_info": {
   "codemirror_mode": {
    "name": "ipython",
    "version": 3
   },
   "file_extension": ".py",
   "mimetype": "text/x-python",
   "name": "python",
   "nbconvert_exporter": "python",
   "pygments_lexer": "ipython3",
   "version": "3.9.7"
  }
 },
 "nbformat": 4,
 "nbformat_minor": 5
}
