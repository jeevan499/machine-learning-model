{
 "cells": [
  {
   "cell_type": "code",
   "execution_count": 1,
   "id": "4a427f34",
   "metadata": {},
   "outputs": [],
   "source": [
    "import pandas as pd\n",
    "import numpy  as np\n",
    "from sklearn.preprocessing import LabelEncoder\n",
    "from sklearn.ensemble import GradientBoostingRegressor\n",
    "from sklearn.model_selection import GridSearchCV\n",
    "from warnings import filterwarnings\n",
    "filterwarnings('ignore')"
   ]
  },
  {
   "cell_type": "code",
   "execution_count": 2,
   "id": "0d9ee400",
   "metadata": {},
   "outputs": [
    {
     "data": {
      "text/html": [
       "<div>\n",
       "<style scoped>\n",
       "    .dataframe tbody tr th:only-of-type {\n",
       "        vertical-align: middle;\n",
       "    }\n",
       "\n",
       "    .dataframe tbody tr th {\n",
       "        vertical-align: top;\n",
       "    }\n",
       "\n",
       "    .dataframe thead th {\n",
       "        text-align: right;\n",
       "    }\n",
       "</style>\n",
       "<table border=\"1\" class=\"dataframe\">\n",
       "  <thead>\n",
       "    <tr style=\"text-align: right;\">\n",
       "      <th></th>\n",
       "      <th>LikesExcercising</th>\n",
       "      <th>GotoGym</th>\n",
       "      <th>DrivesCar</th>\n",
       "      <th>Age</th>\n",
       "      <th>Unnamed: 4</th>\n",
       "    </tr>\n",
       "  </thead>\n",
       "  <tbody>\n",
       "    <tr>\n",
       "      <th>0</th>\n",
       "      <td>False</td>\n",
       "      <td>True</td>\n",
       "      <td>True</td>\n",
       "      <td>14</td>\n",
       "      <td>NaN</td>\n",
       "    </tr>\n",
       "    <tr>\n",
       "      <th>1</th>\n",
       "      <td>False</td>\n",
       "      <td>True</td>\n",
       "      <td>False</td>\n",
       "      <td>15</td>\n",
       "      <td>NaN</td>\n",
       "    </tr>\n",
       "    <tr>\n",
       "      <th>2</th>\n",
       "      <td>False</td>\n",
       "      <td>True</td>\n",
       "      <td>False</td>\n",
       "      <td>16</td>\n",
       "      <td>NaN</td>\n",
       "    </tr>\n",
       "    <tr>\n",
       "      <th>3</th>\n",
       "      <td>False</td>\n",
       "      <td>True</td>\n",
       "      <td>True</td>\n",
       "      <td>36</td>\n",
       "      <td>NaN</td>\n",
       "    </tr>\n",
       "    <tr>\n",
       "      <th>4</th>\n",
       "      <td>True</td>\n",
       "      <td>True</td>\n",
       "      <td>True</td>\n",
       "      <td>26</td>\n",
       "      <td>NaN</td>\n",
       "    </tr>\n",
       "  </tbody>\n",
       "</table>\n",
       "</div>"
      ],
      "text/plain": [
       "   LikesExcercising   GotoGym  DrivesCar  Age  Unnamed: 4\n",
       "0              False     True       True   14         NaN\n",
       "1              False     True      False   15         NaN\n",
       "2              False     True      False   16         NaN\n",
       "3              False     True       True   36         NaN\n",
       "4               True     True       True   26         NaN"
      ]
     },
     "execution_count": 2,
     "metadata": {},
     "output_type": "execute_result"
    }
   ],
   "source": [
    "data=pd.read_csv(r\"C:\\Users\\JEEVAN\\Downloads\\demo_gdB.csv\")\n",
    "data.head()"
   ]
  },
  {
   "cell_type": "code",
   "execution_count": 3,
   "id": "96b2404b",
   "metadata": {},
   "outputs": [],
   "source": [
    "x=data.iloc[:,[0,1,2]]      # predictors variable\n",
    "y=data.loc[:,data.columns=='Age']      # target variable"
   ]
  },
  {
   "cell_type": "markdown",
   "id": "a0b257ce",
   "metadata": {},
   "source": [
    "# Lets make 0 and 1 for categorical variables [By using Label Encoding]"
   ]
  },
  {
   "cell_type": "code",
   "execution_count": 4,
   "id": "ebe1d136",
   "metadata": {},
   "outputs": [],
   "source": [
    "from sklearn.preprocessing import LabelEncoder\n",
    "\n",
    "LE=LabelEncoder()"
   ]
  },
  {
   "cell_type": "code",
   "execution_count": 5,
   "id": "667a948a",
   "metadata": {},
   "outputs": [
    {
     "data": {
      "text/plain": [
       "Index(['LikesExcercising ', 'GotoGym', 'DrivesCar'], dtype='object')"
      ]
     },
     "execution_count": 5,
     "metadata": {},
     "output_type": "execute_result"
    }
   ],
   "source": [
    "x.columns"
   ]
  },
  {
   "cell_type": "code",
   "execution_count": 6,
   "id": "a771f7d0",
   "metadata": {},
   "outputs": [],
   "source": [
    "x['LikesExcercising ']=LE.fit_transform(x['LikesExcercising '])"
   ]
  },
  {
   "cell_type": "code",
   "execution_count": 7,
   "id": "7dd54d46",
   "metadata": {},
   "outputs": [],
   "source": [
    "x.rename(columns={'LikesExcercising ':'LikesExcercising'},inplace=True)"
   ]
  },
  {
   "cell_type": "code",
   "execution_count": 8,
   "id": "4c7ea82a",
   "metadata": {},
   "outputs": [],
   "source": [
    "x['GotoGym']=LE.fit_transform(x['GotoGym'])"
   ]
  },
  {
   "cell_type": "code",
   "execution_count": 9,
   "id": "60643d19",
   "metadata": {},
   "outputs": [],
   "source": [
    "x['DrivesCar']=LE.fit_transform(x['DrivesCar'])"
   ]
  },
  {
   "cell_type": "code",
   "execution_count": 10,
   "id": "edbc4911",
   "metadata": {},
   "outputs": [
    {
     "data": {
      "text/html": [
       "<div>\n",
       "<style scoped>\n",
       "    .dataframe tbody tr th:only-of-type {\n",
       "        vertical-align: middle;\n",
       "    }\n",
       "\n",
       "    .dataframe tbody tr th {\n",
       "        vertical-align: top;\n",
       "    }\n",
       "\n",
       "    .dataframe thead th {\n",
       "        text-align: right;\n",
       "    }\n",
       "</style>\n",
       "<table border=\"1\" class=\"dataframe\">\n",
       "  <thead>\n",
       "    <tr style=\"text-align: right;\">\n",
       "      <th></th>\n",
       "      <th>LikesExcercising</th>\n",
       "      <th>GotoGym</th>\n",
       "      <th>DrivesCar</th>\n",
       "    </tr>\n",
       "  </thead>\n",
       "  <tbody>\n",
       "    <tr>\n",
       "      <th>0</th>\n",
       "      <td>0</td>\n",
       "      <td>1</td>\n",
       "      <td>1</td>\n",
       "    </tr>\n",
       "    <tr>\n",
       "      <th>1</th>\n",
       "      <td>0</td>\n",
       "      <td>1</td>\n",
       "      <td>0</td>\n",
       "    </tr>\n",
       "    <tr>\n",
       "      <th>2</th>\n",
       "      <td>0</td>\n",
       "      <td>1</td>\n",
       "      <td>0</td>\n",
       "    </tr>\n",
       "    <tr>\n",
       "      <th>3</th>\n",
       "      <td>0</td>\n",
       "      <td>1</td>\n",
       "      <td>1</td>\n",
       "    </tr>\n",
       "    <tr>\n",
       "      <th>4</th>\n",
       "      <td>1</td>\n",
       "      <td>1</td>\n",
       "      <td>1</td>\n",
       "    </tr>\n",
       "    <tr>\n",
       "      <th>5</th>\n",
       "      <td>1</td>\n",
       "      <td>0</td>\n",
       "      <td>0</td>\n",
       "    </tr>\n",
       "    <tr>\n",
       "      <th>6</th>\n",
       "      <td>1</td>\n",
       "      <td>1</td>\n",
       "      <td>1</td>\n",
       "    </tr>\n",
       "    <tr>\n",
       "      <th>7</th>\n",
       "      <td>1</td>\n",
       "      <td>0</td>\n",
       "      <td>0</td>\n",
       "    </tr>\n",
       "    <tr>\n",
       "      <th>8</th>\n",
       "      <td>1</td>\n",
       "      <td>0</td>\n",
       "      <td>1</td>\n",
       "    </tr>\n",
       "  </tbody>\n",
       "</table>\n",
       "</div>"
      ],
      "text/plain": [
       "   LikesExcercising  GotoGym  DrivesCar\n",
       "0                 0        1          1\n",
       "1                 0        1          0\n",
       "2                 0        1          0\n",
       "3                 0        1          1\n",
       "4                 1        1          1\n",
       "5                 1        0          0\n",
       "6                 1        1          1\n",
       "7                 1        0          0\n",
       "8                 1        0          1"
      ]
     },
     "execution_count": 10,
     "metadata": {},
     "output_type": "execute_result"
    }
   ],
   "source": [
    "x"
   ]
  },
  {
   "cell_type": "markdown",
   "id": "fbe3fedd",
   "metadata": {},
   "source": [
    "# GradientBoosting with 2 estimators"
   ]
  },
  {
   "cell_type": "markdown",
   "id": "40619a8a",
   "metadata": {},
   "source": [
    "## Lets build 2 estimators\n",
    "\n",
    "#1) Let us now use GradientBoostingRegressor with 2 estimators to train the model and to predict the age for the same inputs"
   ]
  },
  {
   "cell_type": "code",
   "execution_count": 11,
   "id": "b8feb259",
   "metadata": {},
   "outputs": [],
   "source": [
    "from sklearn.ensemble import GradientBoostingRegressor\n",
    "\n",
    "GB=GradientBoostingRegressor(n_estimators=2)      # considering 2 variable to perform the task"
   ]
  },
  {
   "cell_type": "code",
   "execution_count": 12,
   "id": "8e96a7f3",
   "metadata": {},
   "outputs": [],
   "source": [
    "GB.fit(x,y)\n",
    "y_predict=GB.predict(x)      # ages predicted by model with 2 estimators"
   ]
  },
  {
   "cell_type": "code",
   "execution_count": 13,
   "id": "70126b4d",
   "metadata": {},
   "outputs": [
    {
     "data": {
      "text/plain": [
       "array([38.14 , 36.335, 36.335, 38.14 , 42.415, 44.98 , 42.415, 44.98 ,\n",
       "       47.26 ])"
      ]
     },
     "execution_count": 13,
     "metadata": {},
     "output_type": "execute_result"
    }
   ],
   "source": [
    "y_predict"
   ]
  },
  {
   "cell_type": "markdown",
   "id": "dca61d32",
   "metadata": {},
   "source": [
    "# MSE Of Residuals"
   ]
  },
  {
   "cell_type": "code",
   "execution_count": 16,
   "id": "1a7aa385",
   "metadata": {},
   "outputs": [
    {
     "data": {
      "text/html": [
       "<div>\n",
       "<style scoped>\n",
       "    .dataframe tbody tr th:only-of-type {\n",
       "        vertical-align: middle;\n",
       "    }\n",
       "\n",
       "    .dataframe tbody tr th {\n",
       "        vertical-align: top;\n",
       "    }\n",
       "\n",
       "    .dataframe thead th {\n",
       "        text-align: right;\n",
       "    }\n",
       "</style>\n",
       "<table border=\"1\" class=\"dataframe\">\n",
       "  <thead>\n",
       "    <tr style=\"text-align: right;\">\n",
       "      <th></th>\n",
       "      <th>Age</th>\n",
       "    </tr>\n",
       "  </thead>\n",
       "  <tbody>\n",
       "    <tr>\n",
       "      <th>0</th>\n",
       "      <td>14</td>\n",
       "    </tr>\n",
       "    <tr>\n",
       "      <th>1</th>\n",
       "      <td>15</td>\n",
       "    </tr>\n",
       "    <tr>\n",
       "      <th>2</th>\n",
       "      <td>16</td>\n",
       "    </tr>\n",
       "    <tr>\n",
       "      <th>3</th>\n",
       "      <td>36</td>\n",
       "    </tr>\n",
       "    <tr>\n",
       "      <th>4</th>\n",
       "      <td>26</td>\n",
       "    </tr>\n",
       "    <tr>\n",
       "      <th>5</th>\n",
       "      <td>50</td>\n",
       "    </tr>\n",
       "    <tr>\n",
       "      <th>6</th>\n",
       "      <td>69</td>\n",
       "    </tr>\n",
       "    <tr>\n",
       "      <th>7</th>\n",
       "      <td>72</td>\n",
       "    </tr>\n",
       "    <tr>\n",
       "      <th>8</th>\n",
       "      <td>73</td>\n",
       "    </tr>\n",
       "  </tbody>\n",
       "</table>\n",
       "</div>"
      ],
      "text/plain": [
       "   Age\n",
       "0   14\n",
       "1   15\n",
       "2   16\n",
       "3   36\n",
       "4   26\n",
       "5   50\n",
       "6   69\n",
       "7   72\n",
       "8   73"
      ]
     },
     "execution_count": 16,
     "metadata": {},
     "output_type": "execute_result"
    }
   ],
   "source": [
    "y"
   ]
  },
  {
   "cell_type": "code",
   "execution_count": 18,
   "id": "e4ba70e0",
   "metadata": {},
   "outputs": [],
   "source": [
    "y=y.iloc[:,0]"
   ]
  },
  {
   "cell_type": "code",
   "execution_count": 21,
   "id": "ae087585",
   "metadata": {},
   "outputs": [
    {
     "data": {
      "text/plain": [
       "0    14\n",
       "1    15\n",
       "2    16\n",
       "3    36\n",
       "4    26\n",
       "5    50\n",
       "6    69\n",
       "7    72\n",
       "8    73\n",
       "Name: Age, dtype: int64"
      ]
     },
     "execution_count": 21,
     "metadata": {},
     "output_type": "execute_result"
    }
   ],
   "source": [
    "y"
   ]
  },
  {
   "cell_type": "code",
   "execution_count": 23,
   "id": "18640939",
   "metadata": {},
   "outputs": [
    {
     "data": {
      "text/plain": [
       "array([38.14 , 36.335, 36.335, 38.14 , 42.415, 44.98 , 42.415, 44.98 ,\n",
       "       47.26 ])"
      ]
     },
     "execution_count": 23,
     "metadata": {},
     "output_type": "execute_result"
    }
   ],
   "source": [
    "y_predict"
   ]
  },
  {
   "cell_type": "code",
   "execution_count": 26,
   "id": "fce5f026",
   "metadata": {},
   "outputs": [
    {
     "name": "stdout",
     "output_type": "stream",
     "text": [
      "MSE for two estimators :  427.78405555555554\n"
     ]
    }
   ],
   "source": [
    "MSE_2=(sum((y-y_predict)**2))/len(y)\n",
    "print('MSE for two estimators : ',MSE_2)"
   ]
  },
  {
   "cell_type": "markdown",
   "id": "2bf28564",
   "metadata": {},
   "source": [
    "# GB Model with 3 estimators\n"
   ]
  },
  {
   "cell_type": "code",
   "execution_count": 28,
   "id": "4f5fcb5f",
   "metadata": {},
   "outputs": [],
   "source": [
    "GB3=GradientBoostingRegressor(n_estimators=3)"
   ]
  },
  {
   "cell_type": "code",
   "execution_count": 29,
   "id": "38d016a8",
   "metadata": {},
   "outputs": [
    {
     "data": {
      "text/plain": [
       "GradientBoostingRegressor(n_estimators=3)"
      ]
     },
     "execution_count": 29,
     "metadata": {},
     "output_type": "execute_result"
    }
   ],
   "source": [
    "GB3.fit(x,y)"
   ]
  },
  {
   "cell_type": "code",
   "execution_count": 31,
   "id": "afde2d1a",
   "metadata": {},
   "outputs": [
    {
     "data": {
      "text/plain": [
       "array([36.826 , 34.2515, 34.2515, 36.826 , 42.9235, 46.582 , 42.9235,\n",
       "       46.582 , 49.834 ])"
      ]
     },
     "execution_count": 31,
     "metadata": {},
     "output_type": "execute_result"
    }
   ],
   "source": [
    "y_predict3=GB3.predict(x)  # ages predicted by model with 3 estimators\n",
    "y_predict3"
   ]
  },
  {
   "cell_type": "code",
   "execution_count": 33,
   "id": "9af27649",
   "metadata": {},
   "outputs": [
    {
     "name": "stdout",
     "output_type": "stream",
     "text": [
      "MSE of three estimators : 376.25064055555566\n"
     ]
    }
   ],
   "source": [
    "MSE_3=(sum((y-y_predict3)**2))/len(y)\n",
    "print('MSE of three estimators :',MSE_3)"
   ]
  },
  {
   "cell_type": "markdown",
   "id": "df775c3f",
   "metadata": {},
   "source": [
    "# with 50 estimators"
   ]
  },
  {
   "cell_type": "code",
   "execution_count": 34,
   "id": "3d329e0c",
   "metadata": {},
   "outputs": [
    {
     "data": {
      "text/plain": [
       "GradientBoostingRegressor(n_estimators=50)"
      ]
     },
     "execution_count": 34,
     "metadata": {},
     "output_type": "execute_result"
    }
   ],
   "source": [
    "# GB model with 50 estimators\n",
    "\n",
    "GB50=GradientBoostingRegressor(n_estimators=50)\n",
    "GB50.fit(x,y)"
   ]
  },
  {
   "cell_type": "code",
   "execution_count": 69,
   "id": "a90559ff",
   "metadata": {},
   "outputs": [
    {
     "data": {
      "text/plain": [
       "array([25.08360569, 15.63256655, 15.63256655, 25.08360569, 47.46764574,\n",
       "       60.89806978, 47.46764574, 60.89806978, 72.83622448])"
      ]
     },
     "execution_count": 69,
     "metadata": {},
     "output_type": "execute_result"
    }
   ],
   "source": [
    "y_predict50=GB50.predict(x)    # ages predicted by model with 50 estimators\n",
    "y_predict50"
   ]
  },
  {
   "cell_type": "code",
   "execution_count": 70,
   "id": "55876df7",
   "metadata": {
    "scrolled": true
   },
   "outputs": [
    {
     "name": "stdout",
     "output_type": "stream",
     "text": [
      "MSE of three estimators : 156.56653590668827\n"
     ]
    }
   ],
   "source": [
    "MSE_50=(sum((y-y_predict50)**2))/len(y)\n",
    "print('MSE of three estimators :',MSE_50)"
   ]
  },
  {
   "cell_type": "markdown",
   "id": "23030975",
   "metadata": {},
   "source": [
    "# Grid Search"
   ]
  },
  {
   "cell_type": "code",
   "execution_count": 44,
   "id": "a9151904",
   "metadata": {},
   "outputs": [],
   "source": [
    "from sklearn.model_selection import GridSearchCV\n",
    "\n",
    "model=GradientBoostingRegressor()"
   ]
  },
  {
   "cell_type": "code",
   "execution_count": 84,
   "id": "ecd4c1f4",
   "metadata": {},
   "outputs": [
    {
     "name": "stdout",
     "output_type": "stream",
     "text": [
      "The best estimator returned by GridSearch CV is : GradientBoostingRegressor(n_estimators=8)\n"
     ]
    }
   ],
   "source": [
    "params={'n_estimators':range(1,200)}\n",
    "grid=GridSearchCV(estimator=model,cv=2,param_grid=params,scoring='neg_mean_squared_error')\n",
    "grid.fit(x,y)\n",
    "print('The best estimator returned by GridSearch CV is :',grid.best_estimator_)"
   ]
  },
  {
   "cell_type": "markdown",
   "id": "ebd90a11",
   "metadata": {},
   "source": [
    "# Best Model"
   ]
  },
  {
   "cell_type": "code",
   "execution_count": 50,
   "id": "bb27ad7c",
   "metadata": {},
   "outputs": [
    {
     "data": {
      "text/plain": [
       "array([31.98313474, 26.57257324, 26.57257324, 31.98313474, 44.79762252,\n",
       "       52.48631518, 44.79762252, 52.48631518, 59.32070866])"
      ]
     },
     "execution_count": 50,
     "metadata": {},
     "output_type": "execute_result"
    }
   ],
   "source": [
    "GB=grid.best_estimator_\n",
    "GB.fit(x,y)\n",
    "y_predict=GB.predict(x)\n",
    "y_predict"
   ]
  },
  {
   "cell_type": "code",
   "execution_count": 51,
   "id": "a6878af8",
   "metadata": {},
   "outputs": [
    {
     "name": "stdout",
     "output_type": "stream",
     "text": [
      "MSE for best estimators : 233.15849509099246\n"
     ]
    }
   ],
   "source": [
    "MSE_best=(sum((y-y_predict)**2))/len(y)\n",
    "print('MSE for best estimators :',MSE_best)"
   ]
  },
  {
   "cell_type": "markdown",
   "id": "ffc4e3b4",
   "metadata": {},
   "source": [
    "# What was 4th estimator?"
   ]
  },
  {
   "cell_type": "code",
   "execution_count": 53,
   "id": "5fb60d32",
   "metadata": {},
   "outputs": [],
   "source": [
    "sub_tree_4= GB.estimators_[4,0]  # GB is the best model"
   ]
  },
  {
   "cell_type": "code",
   "execution_count": 68,
   "id": "c5799808",
   "metadata": {},
   "outputs": [
    {
     "ename": "ModuleNotFoundError",
     "evalue": "No module named 'pydotplus'",
     "output_type": "error",
     "traceback": [
      "\u001b[1;31m---------------------------------------------------------------------------\u001b[0m",
      "\u001b[1;31mModuleNotFoundError\u001b[0m                       Traceback (most recent call last)",
      "\u001b[1;32m~\\AppData\\Local\\Temp/ipykernel_9168/2763200315.py\u001b[0m in \u001b[0;36m<module>\u001b[1;34m\u001b[0m\n\u001b[1;32m----> 1\u001b[1;33m \u001b[1;32mfrom\u001b[0m \u001b[0mpydotplus\u001b[0m \u001b[1;32mimport\u001b[0m \u001b[0mgraph_from_dot_data\u001b[0m\u001b[1;33m\u001b[0m\u001b[1;33m\u001b[0m\u001b[0m\n\u001b[0m",
      "\u001b[1;31mModuleNotFoundError\u001b[0m: No module named 'pydotplus'"
     ]
    }
   ],
   "source": [
    "from pydotplus import graph_from_dot_data"
   ]
  },
  {
   "cell_type": "code",
   "execution_count": null,
   "id": "d0b9de24",
   "metadata": {},
   "outputs": [],
   "source": []
  },
  {
   "cell_type": "code",
   "execution_count": 67,
   "id": "5d27f88f",
   "metadata": {
    "scrolled": true
   },
   "outputs": [],
   "source": [
    "import os\n",
    "os.environ[\"PATH\"] += os.pathsep + 'E:/Graphviz/bin/'"
   ]
  },
  {
   "cell_type": "code",
   "execution_count": 64,
   "id": "77878b18",
   "metadata": {},
   "outputs": [],
   "source": [
    "import os\n",
    "os.environ[\"PATH\"] += os.pathsep + 'C:/Program Files/Graphviz/bin'"
   ]
  },
  {
   "cell_type": "code",
   "execution_count": null,
   "id": "fed7e9ab",
   "metadata": {},
   "outputs": [],
   "source": []
  },
  {
   "cell_type": "code",
   "execution_count": 57,
   "id": "b40a7358",
   "metadata": {
    "scrolled": true
   },
   "outputs": [
    {
     "name": "stdout",
     "output_type": "stream",
     "text": [
      "Collecting pydotplus"
     ]
    },
    {
     "name": "stderr",
     "output_type": "stream",
     "text": [
      "WARNING: You are using pip version 20.2.3; however, version 21.3.1 is available.\n",
      "You should consider upgrading via the 'c:\\users\\jeevan\\appdata\\local\\programs\\python\\python39\\python.exe -m pip install --upgrade pip' command.\n"
     ]
    },
    {
     "name": "stdout",
     "output_type": "stream",
     "text": [
      "\n",
      "  Downloading pydotplus-2.0.2.tar.gz (278 kB)\n",
      "Collecting pyparsing>=2.0.1\n",
      "  Downloading pyparsing-3.0.7-py3-none-any.whl (98 kB)\n",
      "Using legacy 'setup.py install' for pydotplus, since package 'wheel' is not installed.\n",
      "Installing collected packages: pyparsing, pydotplus\n",
      "    Running setup.py install for pydotplus: started\n",
      "    Running setup.py install for pydotplus: finished with status 'done'\n",
      "Successfully installed pydotplus-2.0.2 pyparsing-3.0.7\n"
     ]
    }
   ],
   "source": [
    "! pip install pydotplus"
   ]
  },
  {
   "cell_type": "code",
   "execution_count": null,
   "id": "4b165ac9",
   "metadata": {},
   "outputs": [],
   "source": []
  }
 ],
 "metadata": {
  "kernelspec": {
   "display_name": "Python 3 (ipykernel)",
   "language": "python",
   "name": "python3"
  },
  "language_info": {
   "codemirror_mode": {
    "name": "ipython",
    "version": 3
   },
   "file_extension": ".py",
   "mimetype": "text/x-python",
   "name": "python",
   "nbconvert_exporter": "python",
   "pygments_lexer": "ipython3",
   "version": "3.9.7"
  }
 },
 "nbformat": 4,
 "nbformat_minor": 5
}
