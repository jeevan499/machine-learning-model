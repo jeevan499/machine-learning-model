{
 "cells": [
  {
   "cell_type": "code",
   "execution_count": 5,
   "id": "ee5daa39",
   "metadata": {},
   "outputs": [],
   "source": [
    "import pandas as pd\n",
    "import numpy as np\n",
    "import matplotlib.pyplot as plt\n",
    "import seaborn as sns\n",
    "from scipy import stats \n",
    "import statsmodels.api as sm\n",
    "from sklearn.tree import DecisionTreeRegressor\n",
    "from sklearn import tree\n",
    "from sklearn.metrics import mean_squared_error\n"
   ]
  },
  {
   "cell_type": "code",
   "execution_count": 6,
   "id": "dbfa4998",
   "metadata": {},
   "outputs": [],
   "source": [
    "data=pd.read_csv(r'C:\\Users\\admin\\Downloads\\autopriceTree.csv')\n"
   ]
  },
  {
   "cell_type": "code",
   "execution_count": 15,
   "id": "27b601db",
   "metadata": {},
   "outputs": [
    {
     "data": {
      "text/html": [
       "<div>\n",
       "<style scoped>\n",
       "    .dataframe tbody tr th:only-of-type {\n",
       "        vertical-align: middle;\n",
       "    }\n",
       "\n",
       "    .dataframe tbody tr th {\n",
       "        vertical-align: top;\n",
       "    }\n",
       "\n",
       "    .dataframe thead th {\n",
       "        text-align: right;\n",
       "    }\n",
       "</style>\n",
       "<table border=\"1\" class=\"dataframe\">\n",
       "  <thead>\n",
       "    <tr style=\"text-align: right;\">\n",
       "      <th></th>\n",
       "      <th>fueltype</th>\n",
       "      <th>length</th>\n",
       "      <th>curbweight</th>\n",
       "      <th>horsepower</th>\n",
       "      <th>price</th>\n",
       "    </tr>\n",
       "  </thead>\n",
       "  <tbody>\n",
       "    <tr>\n",
       "      <th>0</th>\n",
       "      <td>gas</td>\n",
       "      <td>168.8</td>\n",
       "      <td>2548</td>\n",
       "      <td>111</td>\n",
       "      <td>13495</td>\n",
       "    </tr>\n",
       "    <tr>\n",
       "      <th>1</th>\n",
       "      <td>gas</td>\n",
       "      <td>168.8</td>\n",
       "      <td>2548</td>\n",
       "      <td>111</td>\n",
       "      <td>16500</td>\n",
       "    </tr>\n",
       "    <tr>\n",
       "      <th>2</th>\n",
       "      <td>gas</td>\n",
       "      <td>171.2</td>\n",
       "      <td>2823</td>\n",
       "      <td>154</td>\n",
       "      <td>16500</td>\n",
       "    </tr>\n",
       "    <tr>\n",
       "      <th>3</th>\n",
       "      <td>gas</td>\n",
       "      <td>176.6</td>\n",
       "      <td>2337</td>\n",
       "      <td>102</td>\n",
       "      <td>13950</td>\n",
       "    </tr>\n",
       "    <tr>\n",
       "      <th>4</th>\n",
       "      <td>gas</td>\n",
       "      <td>176.6</td>\n",
       "      <td>2824</td>\n",
       "      <td>115</td>\n",
       "      <td>17450</td>\n",
       "    </tr>\n",
       "  </tbody>\n",
       "</table>\n",
       "</div>"
      ],
      "text/plain": [
       "  fueltype  length  curbweight  horsepower  price\n",
       "0      gas   168.8        2548         111  13495\n",
       "1      gas   168.8        2548         111  16500\n",
       "2      gas   171.2        2823         154  16500\n",
       "3      gas   176.6        2337         102  13950\n",
       "4      gas   176.6        2824         115  17450"
      ]
     },
     "execution_count": 15,
     "metadata": {},
     "output_type": "execute_result"
    }
   ],
   "source": [
    "data.head()"
   ]
  },
  {
   "cell_type": "code",
   "execution_count": 23,
   "id": "b7e4a0d0",
   "metadata": {},
   "outputs": [
    {
     "data": {
      "text/plain": [
       "fueltype      0\n",
       "length        0\n",
       "curbweight    0\n",
       "horsepower    0\n",
       "price         0\n",
       "dtype: int64"
      ]
     },
     "execution_count": 23,
     "metadata": {},
     "output_type": "execute_result"
    }
   ],
   "source": [
    "data.isnull().sum()"
   ]
  },
  {
   "cell_type": "code",
   "execution_count": 25,
   "id": "f6840ac0",
   "metadata": {},
   "outputs": [],
   "source": [
    "data.fueltype=data.fueltype.astype(int)"
   ]
  },
  {
   "cell_type": "code",
   "execution_count": 16,
   "id": "ae12e773",
   "metadata": {},
   "outputs": [
    {
     "data": {
      "text/plain": [
       "array(['gas', 'diesel'], dtype=object)"
      ]
     },
     "execution_count": 16,
     "metadata": {},
     "output_type": "execute_result"
    }
   ],
   "source": [
    "data.fueltype.unique()"
   ]
  },
  {
   "cell_type": "code",
   "execution_count": 21,
   "id": "a7e3411d",
   "metadata": {},
   "outputs": [],
   "source": [
    "data.fueltype=data.fueltype.replace(['gas', 'diesel'],[0,1])"
   ]
  },
  {
   "cell_type": "code",
   "execution_count": 37,
   "id": "8462e2e2",
   "metadata": {
    "scrolled": true
   },
   "outputs": [
    {
     "data": {
      "text/plain": [
       "Index(['fueltype', 'length', 'curbweight', 'horsepower', 'price'], dtype='object')"
      ]
     },
     "execution_count": 37,
     "metadata": {},
     "output_type": "execute_result"
    }
   ],
   "source": [
    "data.columns"
   ]
  },
  {
   "cell_type": "code",
   "execution_count": 39,
   "id": "02189d73",
   "metadata": {},
   "outputs": [],
   "source": [
    "data=data.loc[:,['fueltype', 'length', 'curbweight', 'horsepower', 'price']]"
   ]
  },
  {
   "cell_type": "code",
   "execution_count": 40,
   "id": "c93d038f",
   "metadata": {
    "scrolled": true
   },
   "outputs": [
    {
     "name": "stdout",
     "output_type": "stream",
     "text": [
      "<class 'pandas.core.frame.DataFrame'>\n",
      "RangeIndex: 199 entries, 0 to 198\n",
      "Data columns (total 5 columns):\n",
      " #   Column      Non-Null Count  Dtype  \n",
      "---  ------      --------------  -----  \n",
      " 0   fueltype    199 non-null    int32  \n",
      " 1   length      199 non-null    float64\n",
      " 2   curbweight  199 non-null    int64  \n",
      " 3   horsepower  199 non-null    int64  \n",
      " 4   price       199 non-null    int64  \n",
      "dtypes: float64(1), int32(1), int64(3)\n",
      "memory usage: 7.1 KB\n"
     ]
    }
   ],
   "source": [
    "data.info()"
   ]
  },
  {
   "cell_type": "code",
   "execution_count": 41,
   "id": "443fb08a",
   "metadata": {},
   "outputs": [],
   "source": [
    "x=data.loc[:,data.columns!='price']\n",
    "y=data.loc[:,data.columns=='price']"
   ]
  },
  {
   "cell_type": "code",
   "execution_count": 42,
   "id": "f594ee95",
   "metadata": {},
   "outputs": [],
   "source": [
    "from sklearn.model_selection import train_test_split\n",
    "x_train,x_test,y_train,y_test = train_test_split(x,y,test_size=0.20,random_state =45)"
   ]
  },
  {
   "cell_type": "code",
   "execution_count": 43,
   "id": "33e82534",
   "metadata": {
    "scrolled": true
   },
   "outputs": [],
   "source": [
    "regr=DecisionTreeRegressor()"
   ]
  },
  {
   "cell_type": "code",
   "execution_count": 48,
   "id": "c3cd01d8",
   "metadata": {},
   "outputs": [],
   "source": [
    "regr.fit(x_train,y_train)\n",
    "yest_train=regr.predict(x_train)"
   ]
  },
  {
   "cell_type": "code",
   "execution_count": 47,
   "id": "5b8b098a",
   "metadata": {},
   "outputs": [
    {
     "data": {
      "image/png": "[encoded data removed]",
      "text/plain": [
       "<Figure size 432x288 with 1 Axes>"
      ]
     },
     "metadata": {
      "needs_background": "light"
     },
     "output_type": "display_data"
    }
   ],
   "source": [
    "from sklearn import tree\n",
    "tree.plot_tree(regr.fit(x_train,y_train))\n",
    "plt.show()"
   ]
  },
  {
   "cell_type": "code",
   "execution_count": 49,
   "id": "5ab1e19e",
   "metadata": {},
   "outputs": [
    {
     "data": {
      "image/png": "[encoded data removed]",
      "text/plain": [
       "<Figure size 432x288 with 1 Axes>"
      ]
     },
     "metadata": {
      "needs_background": "light"
     },
     "output_type": "display_data"
    }
   ],
   "source": [
    "plt.figure()\n",
    "plt.scatter(y_train,y_pred,s=20,edgecolor='black',c=\"darkorange\",label=\"pred vs actual_train\")\n",
    "plt.xlabel(\"y_train\")\n",
    "plt.ylabel(\"y estimated/predicted_trin\")\n",
    "plt.title(\"Decision Tree Regression_train\")\n",
    "plt.legend()\n",
    "plt.show()"
   ]
  },
  {
   "cell_type": "code",
   "execution_count": 52,
   "id": "5c9592e6",
   "metadata": {},
   "outputs": [
    {
     "name": "stdout",
     "output_type": "stream",
     "text": [
      "21396.270440251574\n"
     ]
    }
   ],
   "source": [
    "from sklearn.metrics import mean_squared_error\n",
    "mse_train = mean_squared_error(y_train,yest_train)\n",
    "print(mse_train)"
   ]
  },
  {
   "cell_type": "code",
   "execution_count": 59,
   "id": "2c21dade",
   "metadata": {},
   "outputs": [],
   "source": [
    "y_test=y_test.iloc[:,0]"
   ]
  },
  {
   "cell_type": "code",
   "execution_count": 60,
   "id": "47b2cd6f",
   "metadata": {},
   "outputs": [
    {
     "data": {
      "text/plain": [
       "array([45400., 19699., 16430.,  8845.,  6692., 23875.,  7898., 14489.,\n",
       "       16430., 45400.,  7895., 11048., 18420.,  6529., 11199.,  9233.,\n",
       "       12440., 15040., 28176., 18399.,  8358., 18420.,  6529.,  9258.,\n",
       "       10795., 16430., 12440.,  8195., 11595., 10698.,  7898., 16500.,\n",
       "       17950., 15985.,  8358.,  8499., 28248., 10898., 15985., 12764.])"
      ]
     },
     "execution_count": 60,
     "metadata": {},
     "output_type": "execute_result"
    }
   ],
   "source": [
    "yest_test"
   ]
  },
  {
   "cell_type": "code",
   "execution_count": 62,
   "id": "f8669d54",
   "metadata": {},
   "outputs": [
    {
     "name": "stdout",
     "output_type": "stream",
     "text": [
      "12274077.35\n"
     ]
    }
   ],
   "source": [
    "yest_test = regr.predict(x_test)\n",
    "test_residual = y_test - yest_test\n",
    "\n",
    "from sklearn.metrics import mean_squared_error\n",
    "mse_test = mean_squared_error(y_test,yest_test)\n",
    "print(mse_test)\n"
   ]
  },
  {
   "cell_type": "code",
   "execution_count": 66,
   "id": "24c5da92",
   "metadata": {},
   "outputs": [],
   "source": [
    "depth=[5,6,7,8,9,10,11]\n",
    "mse_train,mse_test=[],[]\n",
    "for i in depth:\n",
    "    prdctr=DecisionTreeRegressor(max_depth=i)\n",
    "    prdctr.fit(x_train,y_train)\n",
    "    y_train_pred=prdctr.predict(x_train)\n",
    "    y_test_pred=prdctr.predict(x_test)\n",
    "    \n",
    "    mse_train.append(mean_squared_error(y_train,y_train_pred))\n",
    "    mse_test.append(mean_squared_error(y_test,y_test_pred))\n",
    "    \n",
    "    "
   ]
  },
  {
   "cell_type": "code",
   "execution_count": 67,
   "id": "5daa0ffa",
   "metadata": {},
   "outputs": [
    {
     "data": {
      "image/png": "[encoded data removed]",
      "text/plain": [
       "<Figure size 1008x504 with 1 Axes>"
      ]
     },
     "metadata": {},
     "output_type": "display_data"
    }
   ],
   "source": [
    "sns.set()\n",
    "plt.figure(figsize=(14,7))\n",
    "sns.lineplot(y=mse_train,x=depth,label='Train_mse')\n",
    "sns.lineplot(y=mse_test,x=depth,label='Test_mse')\n",
    "plt.xticks(ticks=np.arange(4,12,1))\n",
    "plt.show()"
   ]
  },
  {
   "cell_type": "code",
   "execution_count": null,
   "id": "360a3a11",
   "metadata": {},
   "outputs": [],
   "source": []
  }
 ],
 "metadata": {
  "kernelspec": {
   "display_name": "Python 3 (ipykernel)",
   "language": "python",
   "name": "python3"
  },
  "language_info": {
   "codemirror_mode": {
    "name": "ipython",
    "version": 3
   },
   "file_extension": ".py",
   "mimetype": "text/x-python",
   "name": "python",
   "nbconvert_exporter": "python",
   "pygments_lexer": "ipython3",
   "version": "3.9.7"
  }
 },
 "nbformat": 4,
 "nbformat_minor": 5
}
