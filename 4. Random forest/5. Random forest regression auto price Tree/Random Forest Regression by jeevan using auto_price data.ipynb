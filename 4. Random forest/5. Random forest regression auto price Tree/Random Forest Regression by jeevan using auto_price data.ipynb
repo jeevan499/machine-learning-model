{
 "cells": [
  {
   "cell_type": "code",
   "execution_count": 2,
   "id": "0740b798",
   "metadata": {},
   "outputs": [],
   "source": [
    "# loading the library\n",
    "import pandas as pd\n",
    "import matplotlib.pyplot as plt\n",
    "import numpy as np\n",
    "import seaborn as sns\n",
    "from warnings import filterwarnings\n",
    "filterwarnings('ignore')"
   ]
  },
  {
   "cell_type": "code",
   "execution_count": 3,
   "id": "ce9dd44e",
   "metadata": {},
   "outputs": [
    {
     "data": {
      "text/html": [
       "<div>\n",
       "<style scoped>\n",
       "    .dataframe tbody tr th:only-of-type {\n",
       "        vertical-align: middle;\n",
       "    }\n",
       "\n",
       "    .dataframe tbody tr th {\n",
       "        vertical-align: top;\n",
       "    }\n",
       "\n",
       "    .dataframe thead th {\n",
       "        text-align: right;\n",
       "    }\n",
       "</style>\n",
       "<table border=\"1\" class=\"dataframe\">\n",
       "  <thead>\n",
       "    <tr style=\"text-align: right;\">\n",
       "      <th></th>\n",
       "      <th>fueltype</th>\n",
       "      <th>length</th>\n",
       "      <th>curbweight</th>\n",
       "      <th>horsepower</th>\n",
       "      <th>price</th>\n",
       "    </tr>\n",
       "  </thead>\n",
       "  <tbody>\n",
       "    <tr>\n",
       "      <th>0</th>\n",
       "      <td>gas</td>\n",
       "      <td>168.8</td>\n",
       "      <td>2548</td>\n",
       "      <td>111</td>\n",
       "      <td>13495</td>\n",
       "    </tr>\n",
       "    <tr>\n",
       "      <th>1</th>\n",
       "      <td>gas</td>\n",
       "      <td>168.8</td>\n",
       "      <td>2548</td>\n",
       "      <td>111</td>\n",
       "      <td>16500</td>\n",
       "    </tr>\n",
       "    <tr>\n",
       "      <th>2</th>\n",
       "      <td>gas</td>\n",
       "      <td>171.2</td>\n",
       "      <td>2823</td>\n",
       "      <td>154</td>\n",
       "      <td>16500</td>\n",
       "    </tr>\n",
       "    <tr>\n",
       "      <th>3</th>\n",
       "      <td>gas</td>\n",
       "      <td>176.6</td>\n",
       "      <td>2337</td>\n",
       "      <td>102</td>\n",
       "      <td>13950</td>\n",
       "    </tr>\n",
       "    <tr>\n",
       "      <th>4</th>\n",
       "      <td>gas</td>\n",
       "      <td>176.6</td>\n",
       "      <td>2824</td>\n",
       "      <td>115</td>\n",
       "      <td>17450</td>\n",
       "    </tr>\n",
       "  </tbody>\n",
       "</table>\n",
       "</div>"
      ],
      "text/plain": [
       "  fueltype  length  curbweight  horsepower  price\n",
       "0      gas   168.8        2548         111  13495\n",
       "1      gas   168.8        2548         111  16500\n",
       "2      gas   171.2        2823         154  16500\n",
       "3      gas   176.6        2337         102  13950\n",
       "4      gas   176.6        2824         115  17450"
      ]
     },
     "execution_count": 3,
     "metadata": {},
     "output_type": "execute_result"
    }
   ],
   "source": [
    "# loading the data\n",
    "df=pd.read_csv(r\"C:\\Users\\JEEVAN\\Downloads\\autopriceTree.csv\")\n",
    "df.head()"
   ]
  },
  {
   "cell_type": "code",
   "execution_count": 4,
   "id": "27c9e616",
   "metadata": {},
   "outputs": [
    {
     "data": {
      "text/plain": [
       "(199, 5)"
      ]
     },
     "execution_count": 4,
     "metadata": {},
     "output_type": "execute_result"
    }
   ],
   "source": [
    "df.shape"
   ]
  },
  {
   "cell_type": "code",
   "execution_count": 5,
   "id": "63dd1baa",
   "metadata": {
    "scrolled": true
   },
   "outputs": [
    {
     "name": "stdout",
     "output_type": "stream",
     "text": [
      "<class 'pandas.core.frame.DataFrame'>\n",
      "RangeIndex: 199 entries, 0 to 198\n",
      "Data columns (total 5 columns):\n",
      " #   Column      Non-Null Count  Dtype  \n",
      "---  ------      --------------  -----  \n",
      " 0   fueltype    199 non-null    object \n",
      " 1   length      199 non-null    float64\n",
      " 2   curbweight  199 non-null    int64  \n",
      " 3   horsepower  199 non-null    int64  \n",
      " 4   price       199 non-null    int64  \n",
      "dtypes: float64(1), int64(3), object(1)\n",
      "memory usage: 7.9+ KB\n"
     ]
    }
   ],
   "source": [
    "df.info()"
   ]
  },
  {
   "cell_type": "code",
   "execution_count": 6,
   "id": "983913e5",
   "metadata": {},
   "outputs": [
    {
     "data": {
      "text/plain": [
       "fueltype      0\n",
       "length        0\n",
       "curbweight    0\n",
       "horsepower    0\n",
       "price         0\n",
       "dtype: int64"
      ]
     },
     "execution_count": 6,
     "metadata": {},
     "output_type": "execute_result"
    }
   ],
   "source": [
    "df.isnull().sum()"
   ]
  },
  {
   "cell_type": "code",
   "execution_count": 7,
   "id": "47b20468",
   "metadata": {},
   "outputs": [
    {
     "data": {
      "text/plain": [
       "gas       179\n",
       "diesel     20\n",
       "Name: fueltype, dtype: int64"
      ]
     },
     "execution_count": 7,
     "metadata": {},
     "output_type": "execute_result"
    }
   ],
   "source": [
    "df.fueltype.value_counts()"
   ]
  },
  {
   "cell_type": "code",
   "execution_count": 8,
   "id": "dc258f7a",
   "metadata": {},
   "outputs": [
    {
     "data": {
      "text/plain": [
       "array(['gas', 'diesel'], dtype=object)"
      ]
     },
     "execution_count": 8,
     "metadata": {},
     "output_type": "execute_result"
    }
   ],
   "source": [
    "df.fueltype.unique()"
   ]
  },
  {
   "cell_type": "code",
   "execution_count": 9,
   "id": "a1fa9c22",
   "metadata": {},
   "outputs": [],
   "source": [
    "# where i am going to convert gas as 0 and diesel as 1\n",
    "# where we have fueltype in object lets convert into int\n",
    "\n",
    "df.fueltype=df.fueltype.replace(['gas', 'diesel'],[0,1]).astype(int)"
   ]
  },
  {
   "cell_type": "code",
   "execution_count": 10,
   "id": "9c288d60",
   "metadata": {},
   "outputs": [
    {
     "name": "stdout",
     "output_type": "stream",
     "text": [
      "<class 'pandas.core.frame.DataFrame'>\n",
      "RangeIndex: 199 entries, 0 to 198\n",
      "Data columns (total 5 columns):\n",
      " #   Column      Non-Null Count  Dtype  \n",
      "---  ------      --------------  -----  \n",
      " 0   fueltype    199 non-null    int32  \n",
      " 1   length      199 non-null    float64\n",
      " 2   curbweight  199 non-null    int64  \n",
      " 3   horsepower  199 non-null    int64  \n",
      " 4   price       199 non-null    int64  \n",
      "dtypes: float64(1), int32(1), int64(3)\n",
      "memory usage: 7.1 KB\n"
     ]
    }
   ],
   "source": [
    "df.info()"
   ]
  },
  {
   "cell_type": "code",
   "execution_count": 11,
   "id": "e5e71070",
   "metadata": {},
   "outputs": [],
   "source": [
    "# lets split the data in to train and test\n",
    "# before that we want to keep all our feature(predictors) and target variable oneside\n",
    "x=df.loc[:,df.columns!='price']\n",
    "y=df.loc[:,df.columns=='price']"
   ]
  },
  {
   "cell_type": "code",
   "execution_count": 12,
   "id": "2114d59c",
   "metadata": {},
   "outputs": [],
   "source": [
    "# spliting the data into train and test\n",
    "from sklearn.model_selection import train_test_split\n",
    "x_train,x_test,y_train,y_test=train_test_split(x,y,test_size=0.20,random_state=45)       # you can give any random state and you can split the data how ever you want, here i took 80:20 ratio"
   ]
  },
  {
   "cell_type": "code",
   "execution_count": 13,
   "id": "b3e8cc25",
   "metadata": {},
   "outputs": [],
   "source": [
    "# fit the tree on train data\n",
    "# will build the model using decisiontree\n",
    "from sklearn.tree import DecisionTreeRegressor\n",
    "from sklearn import tree\n",
    "\n",
    "regr=DecisionTreeRegressor()      # here we are building the model on full depth so that we have not metioned any max depth over model \n",
    "# fit the regression model on train set\n",
    "regr.fit(x_train,y_train)\n",
    "# predict/estimate_train x_train\n",
    "yest_train=regr.predict(x_train)"
   ]
  },
  {
   "cell_type": "code",
   "execution_count": 14,
   "id": "c42760e3",
   "metadata": {},
   "outputs": [
    {
     "data": {
      "image/png": "[encoded data removed]",
      "text/plain": [
       "<Figure size 432x288 with 1 Axes>"
      ]
     },
     "metadata": {
      "needs_background": "light"
     },
     "output_type": "display_data"
    }
   ],
   "source": [
    "# see the tree of the train data\n",
    "from sklearn import tree\n",
    "tree.plot_tree(regr.fit(x_train,y_train))\n",
    "plt.show()"
   ]
  },
  {
   "cell_type": "code",
   "execution_count": 15,
   "id": "c8e02e9e",
   "metadata": {},
   "outputs": [],
   "source": [
    "# the total depth of the tree is 13"
   ]
  },
  {
   "cell_type": "code",
   "execution_count": 31,
   "id": "ccfff142",
   "metadata": {},
   "outputs": [
    {
     "data": {
      "image/png": "[encoded data removed]",
      "text/plain": [
       "<Figure size 432x288 with 1 Axes>"
      ]
     },
     "metadata": {},
     "output_type": "display_data"
    }
   ],
   "source": [
    "# train data,13 deep\n",
    "\n",
    "# plot the results;\n",
    "# looks that tree has learnt everything\n",
    "plt.figure()\n",
    "plt.scatter(y_train,yest_train,s=20,edgecolor='black',c='darkorange',label='pred vs actual_train')\n",
    "plt.xlabel('y_train')\n",
    "plt.ylabel('y estimated/predicted_train')\n",
    "plt.title('Decision Tree Regression_train')\n",
    "plt.legend()\n",
    "plt.show()"
   ]
  },
  {
   "cell_type": "code",
   "execution_count": 32,
   "id": "9fa8fd81",
   "metadata": {},
   "outputs": [
    {
     "name": "stdout",
     "output_type": "stream",
     "text": [
      "21396.270440251574\n"
     ]
    }
   ],
   "source": [
    "# mse/rmse_train\n",
    "from sklearn.metrics import mean_squared_error\n",
    "mse_train=mean_squared_error(y_train,yest_train)\n",
    "print(mse_train)"
   ]
  },
  {
   "cell_type": "code",
   "execution_count": 33,
   "id": "e4244495",
   "metadata": {},
   "outputs": [],
   "source": [
    "# mse for test data\n",
    "# predict/estimate_test x_est\n",
    "\n",
    "yest_test=regr.predict(x_test)"
   ]
  },
  {
   "cell_type": "code",
   "execution_count": 28,
   "id": "cc48d2d0",
   "metadata": {},
   "outputs": [
    {
     "ename": "IndexingError",
     "evalue": "Too many indexers",
     "output_type": "error",
     "traceback": [
      "\u001b[1;31m---------------------------------------------------------------------------\u001b[0m",
      "\u001b[1;31mIndexingError\u001b[0m                             Traceback (most recent call last)",
      "\u001b[1;32m~\\AppData\\Local\\Temp/ipykernel_10216/2246333757.py\u001b[0m in \u001b[0;36m<module>\u001b[1;34m\u001b[0m\n\u001b[0;32m      1\u001b[0m \u001b[1;31m# converting y_test into series\u001b[0m\u001b[1;33m\u001b[0m\u001b[1;33m\u001b[0m\u001b[0m\n\u001b[1;32m----> 2\u001b[1;33m \u001b[0my_test\u001b[0m\u001b[1;33m=\u001b[0m\u001b[0my_test\u001b[0m\u001b[1;33m.\u001b[0m\u001b[0miloc\u001b[0m\u001b[1;33m[\u001b[0m\u001b[1;33m:\u001b[0m\u001b[1;33m,\u001b[0m\u001b[1;36m0\u001b[0m\u001b[1;33m]\u001b[0m\u001b[1;33m\u001b[0m\u001b[1;33m\u001b[0m\u001b[0m\n\u001b[0m",
      "\u001b[1;32mE:\\anaconda\\lib\\site-packages\\pandas\\core\\indexing.py\u001b[0m in \u001b[0;36m__getitem__\u001b[1;34m(self, key)\u001b[0m\n\u001b[0;32m    923\u001b[0m                 \u001b[1;32mwith\u001b[0m \u001b[0msuppress\u001b[0m\u001b[1;33m(\u001b[0m\u001b[0mKeyError\u001b[0m\u001b[1;33m,\u001b[0m \u001b[0mIndexError\u001b[0m\u001b[1;33m)\u001b[0m\u001b[1;33m:\u001b[0m\u001b[1;33m\u001b[0m\u001b[1;33m\u001b[0m\u001b[0m\n\u001b[0;32m    924\u001b[0m                     \u001b[1;32mreturn\u001b[0m \u001b[0mself\u001b[0m\u001b[1;33m.\u001b[0m\u001b[0mobj\u001b[0m\u001b[1;33m.\u001b[0m\u001b[0m_get_value\u001b[0m\u001b[1;33m(\u001b[0m\u001b[1;33m*\u001b[0m\u001b[0mkey\u001b[0m\u001b[1;33m,\u001b[0m \u001b[0mtakeable\u001b[0m\u001b[1;33m=\u001b[0m\u001b[0mself\u001b[0m\u001b[1;33m.\u001b[0m\u001b[0m_takeable\u001b[0m\u001b[1;33m)\u001b[0m\u001b[1;33m\u001b[0m\u001b[1;33m\u001b[0m\u001b[0m\n\u001b[1;32m--> 925\u001b[1;33m             \u001b[1;32mreturn\u001b[0m \u001b[0mself\u001b[0m\u001b[1;33m.\u001b[0m\u001b[0m_getitem_tuple\u001b[0m\u001b[1;33m(\u001b[0m\u001b[0mkey\u001b[0m\u001b[1;33m)\u001b[0m\u001b[1;33m\u001b[0m\u001b[1;33m\u001b[0m\u001b[0m\n\u001b[0m\u001b[0;32m    926\u001b[0m         \u001b[1;32melse\u001b[0m\u001b[1;33m:\u001b[0m\u001b[1;33m\u001b[0m\u001b[1;33m\u001b[0m\u001b[0m\n\u001b[0;32m    927\u001b[0m             \u001b[1;31m# we by definition only have the 0th axis\u001b[0m\u001b[1;33m\u001b[0m\u001b[1;33m\u001b[0m\u001b[0m\n",
      "\u001b[1;32mE:\\anaconda\\lib\\site-packages\\pandas\\core\\indexing.py\u001b[0m in \u001b[0;36m_getitem_tuple\u001b[1;34m(self, tup)\u001b[0m\n\u001b[0;32m   1504\u001b[0m     \u001b[1;32mdef\u001b[0m \u001b[0m_getitem_tuple\u001b[0m\u001b[1;33m(\u001b[0m\u001b[0mself\u001b[0m\u001b[1;33m,\u001b[0m \u001b[0mtup\u001b[0m\u001b[1;33m:\u001b[0m \u001b[0mtuple\u001b[0m\u001b[1;33m)\u001b[0m\u001b[1;33m:\u001b[0m\u001b[1;33m\u001b[0m\u001b[1;33m\u001b[0m\u001b[0m\n\u001b[0;32m   1505\u001b[0m \u001b[1;33m\u001b[0m\u001b[0m\n\u001b[1;32m-> 1506\u001b[1;33m         \u001b[0mself\u001b[0m\u001b[1;33m.\u001b[0m\u001b[0m_has_valid_tuple\u001b[0m\u001b[1;33m(\u001b[0m\u001b[0mtup\u001b[0m\u001b[1;33m)\u001b[0m\u001b[1;33m\u001b[0m\u001b[1;33m\u001b[0m\u001b[0m\n\u001b[0m\u001b[0;32m   1507\u001b[0m         \u001b[1;32mwith\u001b[0m \u001b[0msuppress\u001b[0m\u001b[1;33m(\u001b[0m\u001b[0mIndexingError\u001b[0m\u001b[1;33m)\u001b[0m\u001b[1;33m:\u001b[0m\u001b[1;33m\u001b[0m\u001b[1;33m\u001b[0m\u001b[0m\n\u001b[0;32m   1508\u001b[0m             \u001b[1;32mreturn\u001b[0m \u001b[0mself\u001b[0m\u001b[1;33m.\u001b[0m\u001b[0m_getitem_lowerdim\u001b[0m\u001b[1;33m(\u001b[0m\u001b[0mtup\u001b[0m\u001b[1;33m)\u001b[0m\u001b[1;33m\u001b[0m\u001b[1;33m\u001b[0m\u001b[0m\n",
      "\u001b[1;32mE:\\anaconda\\lib\\site-packages\\pandas\\core\\indexing.py\u001b[0m in \u001b[0;36m_has_valid_tuple\u001b[1;34m(self, key)\u001b[0m\n\u001b[0;32m    749\u001b[0m         \u001b[0mCheck\u001b[0m \u001b[0mthe\u001b[0m \u001b[0mkey\u001b[0m \u001b[1;32mfor\u001b[0m \u001b[0mvalid\u001b[0m \u001b[0mkeys\u001b[0m \u001b[0macross\u001b[0m \u001b[0mmy\u001b[0m \u001b[0mindexer\u001b[0m\u001b[1;33m.\u001b[0m\u001b[1;33m\u001b[0m\u001b[1;33m\u001b[0m\u001b[0m\n\u001b[0;32m    750\u001b[0m         \"\"\"\n\u001b[1;32m--> 751\u001b[1;33m         \u001b[0mself\u001b[0m\u001b[1;33m.\u001b[0m\u001b[0m_validate_key_length\u001b[0m\u001b[1;33m(\u001b[0m\u001b[0mkey\u001b[0m\u001b[1;33m)\u001b[0m\u001b[1;33m\u001b[0m\u001b[1;33m\u001b[0m\u001b[0m\n\u001b[0m\u001b[0;32m    752\u001b[0m         \u001b[1;32mfor\u001b[0m \u001b[0mi\u001b[0m\u001b[1;33m,\u001b[0m \u001b[0mk\u001b[0m \u001b[1;32min\u001b[0m \u001b[0menumerate\u001b[0m\u001b[1;33m(\u001b[0m\u001b[0mkey\u001b[0m\u001b[1;33m)\u001b[0m\u001b[1;33m:\u001b[0m\u001b[1;33m\u001b[0m\u001b[1;33m\u001b[0m\u001b[0m\n\u001b[0;32m    753\u001b[0m             \u001b[1;32mtry\u001b[0m\u001b[1;33m:\u001b[0m\u001b[1;33m\u001b[0m\u001b[1;33m\u001b[0m\u001b[0m\n",
      "\u001b[1;32mE:\\anaconda\\lib\\site-packages\\pandas\\core\\indexing.py\u001b[0m in \u001b[0;36m_validate_key_length\u001b[1;34m(self, key)\u001b[0m\n\u001b[0;32m    790\u001b[0m     \u001b[1;32mdef\u001b[0m \u001b[0m_validate_key_length\u001b[0m\u001b[1;33m(\u001b[0m\u001b[0mself\u001b[0m\u001b[1;33m,\u001b[0m \u001b[0mkey\u001b[0m\u001b[1;33m:\u001b[0m \u001b[0mSequence\u001b[0m\u001b[1;33m[\u001b[0m\u001b[0mAny\u001b[0m\u001b[1;33m]\u001b[0m\u001b[1;33m)\u001b[0m \u001b[1;33m->\u001b[0m \u001b[1;32mNone\u001b[0m\u001b[1;33m:\u001b[0m\u001b[1;33m\u001b[0m\u001b[1;33m\u001b[0m\u001b[0m\n\u001b[0;32m    791\u001b[0m         \u001b[1;32mif\u001b[0m \u001b[0mlen\u001b[0m\u001b[1;33m(\u001b[0m\u001b[0mkey\u001b[0m\u001b[1;33m)\u001b[0m \u001b[1;33m>\u001b[0m \u001b[0mself\u001b[0m\u001b[1;33m.\u001b[0m\u001b[0mndim\u001b[0m\u001b[1;33m:\u001b[0m\u001b[1;33m\u001b[0m\u001b[1;33m\u001b[0m\u001b[0m\n\u001b[1;32m--> 792\u001b[1;33m             \u001b[1;32mraise\u001b[0m \u001b[0mIndexingError\u001b[0m\u001b[1;33m(\u001b[0m\u001b[1;34m\"Too many indexers\"\u001b[0m\u001b[1;33m)\u001b[0m\u001b[1;33m\u001b[0m\u001b[1;33m\u001b[0m\u001b[0m\n\u001b[0m\u001b[0;32m    793\u001b[0m \u001b[1;33m\u001b[0m\u001b[0m\n\u001b[0;32m    794\u001b[0m     \u001b[1;32mdef\u001b[0m \u001b[0m_getitem_tuple_same_dim\u001b[0m\u001b[1;33m(\u001b[0m\u001b[0mself\u001b[0m\u001b[1;33m,\u001b[0m \u001b[0mtup\u001b[0m\u001b[1;33m:\u001b[0m \u001b[0mtuple\u001b[0m\u001b[1;33m)\u001b[0m\u001b[1;33m:\u001b[0m\u001b[1;33m\u001b[0m\u001b[1;33m\u001b[0m\u001b[0m\n",
      "\u001b[1;31mIndexingError\u001b[0m: Too many indexers"
     ]
    }
   ],
   "source": [
    "# converting y_test into series\n",
    "y_test=y_test.iloc[:,0]"
   ]
  },
  {
   "cell_type": "code",
   "execution_count": 34,
   "id": "cfaa6018",
   "metadata": {},
   "outputs": [],
   "source": [
    "# residual test   (error)\n",
    "test_residual=y_test-yest_test"
   ]
  },
  {
   "cell_type": "code",
   "execution_count": 35,
   "id": "383ac4b3",
   "metadata": {},
   "outputs": [
    {
     "name": "stdout",
     "output_type": "stream",
     "text": [
      "17313259.35\n"
     ]
    }
   ],
   "source": [
    "# mse/rmse of test\n",
    "from sklearn.metrics import mean_squared_error\n",
    "mse_test=mean_squared_error(y_test,yest_test)\n",
    "print(mse_test)"
   ]
  },
  {
   "cell_type": "code",
   "execution_count": 40,
   "id": "091fbb9b",
   "metadata": {},
   "outputs": [],
   "source": [
    "# find optimum no of depth\n",
    "# here we are going to build the model no the basis of maxdepth and check on which depth the train, test error is minimum\n",
    "# here i am going to build the model again on depth of random number like(5,6,7,8,9,10,11,12)  where the max depth of tree =13  and based on the depth i amd finding that the tree is not overfitting(overfitting:- it performs very well in the train data but once it comes to test data it fails and the accuracy will go down)\n",
    "depth=[5,6,7,8,9,10,11,12]\n",
    "mse_train,mse_test=[],[]\n",
    "\n",
    "for i in depth:\n",
    "    prdctr=DecisionTreeRegressor(max_depth=i)    # we are telling that the max depth of the tree should by (i)\n",
    "    prdctr.fit(x_train,y_train)                  # we are building model only on train data not for test data\n",
    "    y_train_pred=prdctr.predict(x_train)\n",
    "    y_test_pred=prdctr.predict(x_test)\n",
    "    \n",
    "    mse_train.append(mean_squared_error(y_train,y_train_pred))\n",
    "    mse_test.append(mean_squared_error(y_test,y_test_pred))\n"
   ]
  },
  {
   "cell_type": "code",
   "execution_count": 41,
   "id": "d46029ab",
   "metadata": {},
   "outputs": [
    {
     "data": {
      "image/png": "[encoded data removed]",
      "text/plain": [
       "<Figure size 1008x504 with 1 Axes>"
      ]
     },
     "metadata": {},
     "output_type": "display_data"
    }
   ],
   "source": [
    "# now we have mse for train and test with different depth like [5,6,7,8,9,10,11,12]\n",
    "# lets plot it\n",
    "sns.set()\n",
    "plt.figure(figsize=(14,7))\n",
    "sns.lineplot(y=mse_train,x=depth,label='Train_mse')\n",
    "sns.lineplot(y=mse_test,x=depth,label='Test_mse')\n",
    "plt.xlabel('Depth')\n",
    "plt.ylabel('MSE')\n",
    "plt.xticks(ticks=np.arange(4,13,1))\n",
    "plt.show()"
   ]
  },
  {
   "cell_type": "code",
   "execution_count": 39,
   "id": "0f24b648",
   "metadata": {},
   "outputs": [],
   "source": [
    "# their is less error on train and more error or test it leads to over fitting so we take the mindistance of train and test"
   ]
  },
  {
   "cell_type": "markdown",
   "id": "31eb461d",
   "metadata": {},
   "source": [
    "### where in dept 6 we have minimum difference so we are considering the dept 7"
   ]
  },
  {
   "cell_type": "code",
   "execution_count": 42,
   "id": "04f52079",
   "metadata": {},
   "outputs": [],
   "source": [
    "# Now we are going to finalizing our tree with dept=7"
   ]
  },
  {
   "cell_type": "code",
   "execution_count": 43,
   "id": "1ff86efb",
   "metadata": {},
   "outputs": [],
   "source": [
    "# Above we have performed by using DecisionTreeRegressor         # why we call it as Decision Tree regressor (here we have performed on only one tree and took the decision howmuch depth of tree was good and was giving less mse on both train and test)\n",
    "\n",
    "# Now we are going to perform using RandomForestRegressor       # why we call it as random forest regressor (here we have to perform on n-number of tree(ex:-100 or 500 your wish) so for multiple tree we are calling it as random forest)"
   ]
  },
  {
   "cell_type": "code",
   "execution_count": 44,
   "id": "95a41b30",
   "metadata": {},
   "outputs": [],
   "source": [
    "# Random Forest Regression       \n",
    "\n",
    "from sklearn.ensemble import RandomForestRegressor\n",
    "\n",
    "#create regressor object (model)\n",
    "# In our previous experiment, we found 7 is the best dept\n",
    "regressor=RandomForestRegressor(n_estimators=100,max_depth=7,random_state=0)         # n_estimator = no of trees we going to plot =for ex we are ploting 100 trees wwith maximum depth of 6\n",
    "\n",
    "# fit the regressor with x and y data --train\n",
    "mod=regressor.fit(x_train,y_train)           # building the random forest model on train data\n",
    "                                         \n",
    "# Prediction       \n",
    "y_pred=mod.predict(x_test)              # now we are going to predict on test data "
   ]
  },
  {
   "cell_type": "code",
   "execution_count": 45,
   "id": "41c40075",
   "metadata": {},
   "outputs": [
    {
     "data": {
      "text/plain": [
       "10291193.329258585"
      ]
     },
     "execution_count": 45,
     "metadata": {},
     "output_type": "execute_result"
    }
   ],
   "source": [
    "# RMSE\n",
    "from sklearn.metrics import mean_squared_error\n",
    "mse=mean_squared_error(y_test,y_pred)\n",
    "mse"
   ]
  },
  {
   "cell_type": "code",
   "execution_count": 46,
   "id": "f9e8cecc",
   "metadata": {},
   "outputs": [
    {
     "data": {
      "text/plain": [
       "3207.9889852146603"
      ]
     },
     "execution_count": 46,
     "metadata": {},
     "output_type": "execute_result"
    }
   ],
   "source": [
    "rmse=np.sqrt(mse)\n",
    "rmse"
   ]
  },
  {
   "cell_type": "code",
   "execution_count": 47,
   "id": "3471f907",
   "metadata": {},
   "outputs": [
    {
     "data": {
      "text/plain": [
       "(40,)"
      ]
     },
     "execution_count": 47,
     "metadata": {},
     "output_type": "execute_result"
    }
   ],
   "source": [
    "y_test.shape"
   ]
  },
  {
   "cell_type": "code",
   "execution_count": 48,
   "id": "f97d70e4",
   "metadata": {},
   "outputs": [],
   "source": [
    "obsno=np.arange(40)\n",
    "resid=y_test-y_pred       # residuals(error)"
   ]
  },
  {
   "cell_type": "code",
   "execution_count": 49,
   "id": "df1cd891",
   "metadata": {},
   "outputs": [
    {
     "data": {
      "image/png": "[encoded data removed]",
      "text/plain": [
       "<Figure size 432x288 with 1 Axes>"
      ]
     },
     "metadata": {},
     "output_type": "display_data"
    }
   ],
   "source": [
    "# lets plot the residuals   with actual and predicted \n",
    "\n",
    "plt.plot(obsno,y_test,'b')\n",
    "plt.plot(obsno,y_pred,'g')\n",
    "plt.plot(obsno,resid,'r')\n",
    "plt.xlabel('No of observation')\n",
    "plt.title('Random Forest : autopriceTree')\n",
    "plt.legend(labels=('Test','Predict','Error'),loc='upper left')\n",
    "plt.show()"
   ]
  },
  {
   "cell_type": "markdown",
   "id": "5e91d313",
   "metadata": {},
   "source": [
    "# The above one is the 1ST Model using Random forest Regressor [For all the variable with max_depth=7]"
   ]
  },
  {
   "cell_type": "markdown",
   "id": "ce91b638",
   "metadata": {},
   "source": [
    "### Now will build another model by keeping only good predictors [selection of good predictor is done by feature importance] :- after building the model it check and say that which feature is playing howmuch importance while predicting the model   if the feature having low importance we are just droping those feature"
   ]
  },
  {
   "cell_type": "code",
   "execution_count": 50,
   "id": "9ed05d19",
   "metadata": {},
   "outputs": [
    {
     "data": {
      "text/html": [
       "<div>\n",
       "<style scoped>\n",
       "    .dataframe tbody tr th:only-of-type {\n",
       "        vertical-align: middle;\n",
       "    }\n",
       "\n",
       "    .dataframe tbody tr th {\n",
       "        vertical-align: top;\n",
       "    }\n",
       "\n",
       "    .dataframe thead th {\n",
       "        text-align: right;\n",
       "    }\n",
       "</style>\n",
       "<table border=\"1\" class=\"dataframe\">\n",
       "  <thead>\n",
       "    <tr style=\"text-align: right;\">\n",
       "      <th></th>\n",
       "      <th>feature</th>\n",
       "      <th>importance</th>\n",
       "    </tr>\n",
       "  </thead>\n",
       "  <tbody>\n",
       "    <tr>\n",
       "      <th>2</th>\n",
       "      <td>curbweight</td>\n",
       "      <td>0.550861</td>\n",
       "    </tr>\n",
       "    <tr>\n",
       "      <th>3</th>\n",
       "      <td>horsepower</td>\n",
       "      <td>0.402847</td>\n",
       "    </tr>\n",
       "    <tr>\n",
       "      <th>1</th>\n",
       "      <td>length</td>\n",
       "      <td>0.041460</td>\n",
       "    </tr>\n",
       "    <tr>\n",
       "      <th>0</th>\n",
       "      <td>fueltype</td>\n",
       "      <td>0.004832</td>\n",
       "    </tr>\n",
       "  </tbody>\n",
       "</table>\n",
       "</div>"
      ],
      "text/plain": [
       "      feature  importance\n",
       "2  curbweight    0.550861\n",
       "3  horsepower    0.402847\n",
       "1      length    0.041460\n",
       "0    fueltype    0.004832"
      ]
     },
     "execution_count": 50,
     "metadata": {},
     "output_type": "execute_result"
    }
   ],
   "source": [
    "# Extract Feature importance\n",
    "\n",
    "fi=pd.DataFrame({'feature':list(x_train.columns),'importance':mod.feature_importances_}).sort_values('importance',ascending=False)\n",
    "fi"
   ]
  },
  {
   "cell_type": "code",
   "execution_count": 51,
   "id": "241b154b",
   "metadata": {},
   "outputs": [],
   "source": [
    "# where its telling that curbweight and horsepower feature is very important feature"
   ]
  },
  {
   "cell_type": "code",
   "execution_count": 52,
   "id": "953fc45f",
   "metadata": {},
   "outputs": [],
   "source": [
    "# we can build a model which has high feature importance\n",
    "# ex:- lets consider curbweight and horsepower\n",
    "\n",
    "# import the regressor"
   ]
  },
  {
   "cell_type": "markdown",
   "id": "9b373857",
   "metadata": {},
   "source": [
    "### Again we are going to build a model on Random forest regressor by keeping only which has higest importance feature   [Model 2]"
   ]
  },
  {
   "cell_type": "code",
   "execution_count": 53,
   "id": "85d1da8e",
   "metadata": {},
   "outputs": [],
   "source": [
    "from sklearn.ensemble import RandomForestRegressor"
   ]
  },
  {
   "cell_type": "code",
   "execution_count": 54,
   "id": "daea6707",
   "metadata": {},
   "outputs": [],
   "source": [
    "# create regressor object\n",
    "# in our previous expreimen,we found 6 is the best depth  so we are considering that the max depth of the tree is 6\n",
    "regressor=RandomForestRegressor(n_estimators=100,max_depth=7,random_state=0)"
   ]
  },
  {
   "cell_type": "code",
   "execution_count": 55,
   "id": "f87f875d",
   "metadata": {},
   "outputs": [
    {
     "name": "stdout",
     "output_type": "stream",
     "text": [
      "<class 'pandas.core.frame.DataFrame'>\n",
      "Int64Index: 159 entries, 97 to 158\n",
      "Data columns (total 4 columns):\n",
      " #   Column      Non-Null Count  Dtype  \n",
      "---  ------      --------------  -----  \n",
      " 0   fueltype    159 non-null    int32  \n",
      " 1   length      159 non-null    float64\n",
      " 2   curbweight  159 non-null    int64  \n",
      " 3   horsepower  159 non-null    int64  \n",
      "dtypes: float64(1), int32(1), int64(2)\n",
      "memory usage: 5.6 KB\n"
     ]
    }
   ],
   "source": [
    "# fit the regressor with x and y data=Train,this time with curbweight and horsepower only\n",
    "x_train.info()"
   ]
  },
  {
   "cell_type": "code",
   "execution_count": 56,
   "id": "fc0a6c1a",
   "metadata": {},
   "outputs": [
    {
     "name": "stdout",
     "output_type": "stream",
     "text": [
      "<class 'pandas.core.frame.DataFrame'>\n",
      "Int64Index: 159 entries, 97 to 158\n",
      "Data columns (total 2 columns):\n",
      " #   Column      Non-Null Count  Dtype\n",
      "---  ------      --------------  -----\n",
      " 0   curbweight  159 non-null    int64\n",
      " 1   horsepower  159 non-null    int64\n",
      "dtypes: int64(2)\n",
      "memory usage: 3.7 KB\n"
     ]
    }
   ],
   "source": [
    "x_train1=x_train.iloc[:,[2,3]]\n",
    "x_train1.info()\n"
   ]
  },
  {
   "cell_type": "code",
   "execution_count": 57,
   "id": "c77f99f1",
   "metadata": {},
   "outputs": [],
   "source": [
    "# now we have selected only 2 features and using that will build the model\n",
    "mod1=regressor.fit(x_train1,y_train)"
   ]
  },
  {
   "cell_type": "code",
   "execution_count": 58,
   "id": "a31e75eb",
   "metadata": {},
   "outputs": [
    {
     "name": "stdout",
     "output_type": "stream",
     "text": [
      "<class 'pandas.core.frame.DataFrame'>\n",
      "Int64Index: 40 entries, 45 to 28\n",
      "Data columns (total 4 columns):\n",
      " #   Column      Non-Null Count  Dtype  \n",
      "---  ------      --------------  -----  \n",
      " 0   fueltype    40 non-null     int32  \n",
      " 1   length      40 non-null     float64\n",
      " 2   curbweight  40 non-null     int64  \n",
      " 3   horsepower  40 non-null     int64  \n",
      "dtypes: float64(1), int32(1), int64(2)\n",
      "memory usage: 1.4 KB\n"
     ]
    }
   ],
   "source": [
    "# prediction\n",
    "x_test.info()\n",
    "x_test1=x_test.iloc[:,[2,3]]      # here x-test also should have only those 2 feature which are present in the x_train \n",
    "y_pred1=mod1.predict(x_test1)"
   ]
  },
  {
   "cell_type": "code",
   "execution_count": 59,
   "id": "7501c4ff",
   "metadata": {},
   "outputs": [
    {
     "data": {
      "text/plain": [
       "9509829.153861312"
      ]
     },
     "execution_count": 59,
     "metadata": {},
     "output_type": "execute_result"
    }
   ],
   "source": [
    "# RMSE\n",
    "from sklearn.metrics import mean_squared_error\n",
    "mse1=mean_squared_error(y_test,y_pred1)\n",
    "mse1"
   ]
  },
  {
   "cell_type": "code",
   "execution_count": 60,
   "id": "de61842d",
   "metadata": {},
   "outputs": [
    {
     "data": {
      "text/plain": [
       "3083.8010885693184"
      ]
     },
     "execution_count": 60,
     "metadata": {},
     "output_type": "execute_result"
    }
   ],
   "source": [
    "rmse=np.sqrt(mse1)\n",
    "rmse"
   ]
  },
  {
   "cell_type": "code",
   "execution_count": 62,
   "id": "2edd885c",
   "metadata": {},
   "outputs": [],
   "source": [
    "# For all 4 variables i was getting rmse=3207\n",
    "# For only 2 variables i am getting rmse=3083"
   ]
  },
  {
   "cell_type": "code",
   "execution_count": 63,
   "id": "f4bc81aa",
   "metadata": {
    "scrolled": false
   },
   "outputs": [
    {
     "data": {
      "text/plain": [
       "(40,)"
      ]
     },
     "execution_count": 63,
     "metadata": {},
     "output_type": "execute_result"
    }
   ],
   "source": [
    "y_test.shape"
   ]
  },
  {
   "cell_type": "code",
   "execution_count": 64,
   "id": "d75d347c",
   "metadata": {},
   "outputs": [],
   "source": [
    "# Always i want to plot a graph on Test(actual),Predicted,Error      (y_test,y_pred,residuals)"
   ]
  },
  {
   "cell_type": "code",
   "execution_count": 65,
   "id": "b3ecbfb4",
   "metadata": {},
   "outputs": [],
   "source": [
    "obsno=np.arange(40)\n",
    "resid1=y_test-y_pred1"
   ]
  },
  {
   "cell_type": "code",
   "execution_count": 66,
   "id": "7b0e4496",
   "metadata": {},
   "outputs": [
    {
     "data": {
      "image/png": "[encoded data removed]",
      "text/plain": [
       "<Figure size 432x288 with 1 Axes>"
      ]
     },
     "metadata": {},
     "output_type": "display_data"
    }
   ],
   "source": [
    "#plot \n",
    "plt.plot(obsno,y_test,'b')\n",
    "plt.plot(obsno,y_pred1,'g')\n",
    "plt.plot(obsno,resid1,'r')\n",
    "plt.xlabel('No of Observarions')\n",
    "plt.ylabel('Test & Predict & residuals')\n",
    "plt.title('Random Forest : autopriceTree')\n",
    "plt.legend(labels=('Test','Predict1','Error 1'),loc='upper right')\n",
    "plt.show()"
   ]
  },
  {
   "cell_type": "code",
   "execution_count": 67,
   "id": "7dcb3b96",
   "metadata": {},
   "outputs": [],
   "source": [
    "# Now we built 2 Model using Random Forest Regressor\n",
    "# Model1:-  with all the feature with depth of 6\n",
    "# Model2:-  with only selected features which has high feature importance [using :- curbweight,horsepower] this 2 features\n"
   ]
  },
  {
   "cell_type": "markdown",
   "id": "76024e4d",
   "metadata": {},
   "source": [
    "## Now lets build our 3rd Model using GridSearch"
   ]
  },
  {
   "cell_type": "markdown",
   "id": "f9bc43cd",
   "metadata": {},
   "source": [
    "## GridSearchCV and RandomSearchCV are both are Hyper tuning Parameter"
   ]
  },
  {
   "cell_type": "code",
   "execution_count": 76,
   "id": "e8bdac5f",
   "metadata": {},
   "outputs": [],
   "source": [
    "# Grid Search \n",
    "from sklearn.model_selection import GridSearchCV        # CV[cross validation]   \n",
    "\n",
    "param_grid={'bootstrap':[True],'max_depth':[5,6,7,8,9,10,11],'max_features':['auto','log2'],'n_estimators':[25,50,100,150,200]}   # where auto is nothing but (square root), n_estimators =no of tree (first it will build 25 tree and it will build 50 tree and goes on)\n",
    "rfr=RandomForestRegressor(random_state=1)\n",
    "g_search=GridSearchCV(estimator=rfr,param_grid=param_grid,cv=3)\n",
    "gmod=g_search.fit(x_train1,y_train)                      # building model using gridSearch"
   ]
  },
  {
   "cell_type": "code",
   "execution_count": 77,
   "id": "025a9b49",
   "metadata": {},
   "outputs": [
    {
     "name": "stdout",
     "output_type": "stream",
     "text": [
      "{'bootstrap': True, 'max_depth': 7, 'max_features': 'log2', 'n_estimators': 25}\n"
     ]
    }
   ],
   "source": [
    "# best parametrs\n",
    "print(gmod.best_params_)"
   ]
  },
  {
   "cell_type": "code",
   "execution_count": 78,
   "id": "6be92b26",
   "metadata": {},
   "outputs": [
    {
     "data": {
      "text/plain": [
       "(40, 2)"
      ]
     },
     "execution_count": 78,
     "metadata": {},
     "output_type": "execute_result"
    }
   ],
   "source": [
    "x_test1.shape"
   ]
  },
  {
   "cell_type": "code",
   "execution_count": 79,
   "id": "2514d637",
   "metadata": {},
   "outputs": [],
   "source": [
    "gprd=gmod.predict(x_test1)\n",
    "# RMSE\n",
    "from sklearn.metrics import mean_squared_error\n",
    "mse_g=mean_squared_error(y_test,gprd)"
   ]
  },
  {
   "cell_type": "code",
   "execution_count": 80,
   "id": "b60d03fc",
   "metadata": {},
   "outputs": [
    {
     "name": "stdout",
     "output_type": "stream",
     "text": [
      "3090.7072911711684\n"
     ]
    }
   ],
   "source": [
    "RMSE_g=np.sqrt(mse_g)\n",
    "print(RMSE_g)"
   ]
  },
  {
   "cell_type": "code",
   "execution_count": 81,
   "id": "ddbe4704",
   "metadata": {},
   "outputs": [],
   "source": [
    "# For all 4 variables i was getting rmse=3330\n",
    "# For only 2 variables i am getting rmse=3235\n",
    "# while using gridsearchCV we are getting rmse=3091 "
   ]
  },
  {
   "cell_type": "code",
   "execution_count": 83,
   "id": "f7cf6030",
   "metadata": {},
   "outputs": [],
   "source": [
    "from sklearn.ensemble import RandomForestRegressor\n",
    "regressor1=RandomForestRegressor(bootstrap=True,max_depth=7,max_features='log2',n_estimators=25)"
   ]
  },
  {
   "cell_type": "code",
   "execution_count": 84,
   "id": "af17901f",
   "metadata": {},
   "outputs": [],
   "source": [
    "regressorfit=regressor1.fit(x_train1,y_train)"
   ]
  },
  {
   "cell_type": "code",
   "execution_count": 85,
   "id": "179b2b7d",
   "metadata": {},
   "outputs": [],
   "source": [
    "y_pred2=regressorfit.predict(x_test1)"
   ]
  },
  {
   "cell_type": "code",
   "execution_count": 86,
   "id": "1849370e",
   "metadata": {},
   "outputs": [],
   "source": [
    "from sklearn.metrics import mean_squared_error\n",
    "mse2=mean_squared_error(y_test,y_pred2)"
   ]
  },
  {
   "cell_type": "code",
   "execution_count": 87,
   "id": "d01b22c9",
   "metadata": {
    "scrolled": true
   },
   "outputs": [
    {
     "data": {
      "text/plain": [
       "3018.0823203063583"
      ]
     },
     "execution_count": 87,
     "metadata": {},
     "output_type": "execute_result"
    }
   ],
   "source": [
    "rmse2=np.sqrt(mse2)\n",
    "rmse2"
   ]
  },
  {
   "cell_type": "code",
   "execution_count": null,
   "id": "ba86743f",
   "metadata": {},
   "outputs": [],
   "source": [
    "# For all 4 variables i was getting rmse=3330\n",
    "# For only 2 variables i am getting rmse=3235\n",
    "# by using the gridsearch we have selected the parameter and we got the rmse has=3018"
   ]
  },
  {
   "cell_type": "markdown",
   "id": "2fa68fd4",
   "metadata": {},
   "source": [
    "## Now will perform using RandomSearch "
   ]
  },
  {
   "cell_type": "code",
   "execution_count": 92,
   "id": "6a8fa1a3",
   "metadata": {},
   "outputs": [],
   "source": [
    "# using random search\n",
    "from sklearn.model_selection import RandomizedSearchCV\n",
    "rfr_random=RandomizedSearchCV(estimator=rfr,param_distributions=param_grid,n_iter=20,cv=3,random_state=421)\n",
    "rmod=rfr_random.fit(x_train1,y_train)        # building model using random frest"
   ]
  },
  {
   "cell_type": "code",
   "execution_count": 93,
   "id": "74adc15f",
   "metadata": {},
   "outputs": [
    {
     "name": "stdout",
     "output_type": "stream",
     "text": [
      "{'n_estimators': 200, 'max_features': 'log2', 'max_depth': 11, 'bootstrap': True}\n"
     ]
    }
   ],
   "source": [
    "# best parameter,  hyper tuned\n",
    "print(rmod.best_params_)"
   ]
  },
  {
   "cell_type": "code",
   "execution_count": 94,
   "id": "5c5fe37e",
   "metadata": {},
   "outputs": [],
   "source": [
    "rprd=rmod.predict(x_test)"
   ]
  },
  {
   "cell_type": "code",
   "execution_count": 95,
   "id": "7309fc26",
   "metadata": {
    "scrolled": true
   },
   "outputs": [
    {
     "data": {
      "text/plain": [
       "8575668.36821634"
      ]
     },
     "execution_count": 95,
     "metadata": {},
     "output_type": "execute_result"
    }
   ],
   "source": [
    "# RMSE\n",
    "from sklearn.metrics import mean_squared_error\n",
    "mse_r=mean_squared_error(y_test,rprd)\n",
    "mse_r"
   ]
  },
  {
   "cell_type": "code",
   "execution_count": 96,
   "id": "7cdd0a7f",
   "metadata": {
    "scrolled": true
   },
   "outputs": [
    {
     "name": "stdout",
     "output_type": "stream",
     "text": [
      "2928.4242124761126\n"
     ]
    }
   ],
   "source": [
    "RMSE_r=np.sqrt(mse_r)\n",
    "print(RMSE_r)                    # this is the rmse of grid search not the real rmse "
   ]
  },
  {
   "cell_type": "code",
   "execution_count": 97,
   "id": "3fb2eca5",
   "metadata": {},
   "outputs": [],
   "source": [
    "from sklearn.ensemble import RandomForestRegressor\n",
    "regressor1=RandomForestRegressor(bootstrap=True,max_depth=11,max_features='log2',n_estimators=200)"
   ]
  },
  {
   "cell_type": "code",
   "execution_count": 98,
   "id": "bb59f3b9",
   "metadata": {},
   "outputs": [],
   "source": [
    "regressorfit=regressor1.fit(x_train1,y_train)"
   ]
  },
  {
   "cell_type": "code",
   "execution_count": 99,
   "id": "453e8e40",
   "metadata": {},
   "outputs": [],
   "source": [
    "y_pred2=regressorfit.predict(x_test1)"
   ]
  },
  {
   "cell_type": "code",
   "execution_count": 100,
   "id": "e954e6b5",
   "metadata": {},
   "outputs": [],
   "source": [
    "from sklearn.metrics import mean_squared_error\n",
    "mse2=mean_squared_error(y_test,y_pred2)"
   ]
  },
  {
   "cell_type": "code",
   "execution_count": 101,
   "id": "c432dae8",
   "metadata": {
    "scrolled": true
   },
   "outputs": [
    {
     "data": {
      "text/plain": [
       "2899.6748594825185"
      ]
     },
     "execution_count": 101,
     "metadata": {},
     "output_type": "execute_result"
    }
   ],
   "source": [
    "rmse2=np.sqrt(mse2)\n",
    "rmse2"
   ]
  },
  {
   "cell_type": "code",
   "execution_count": 102,
   "id": "679ba490",
   "metadata": {},
   "outputs": [],
   "source": [
    "# For all 4 variables i was getting rmse=3330\n",
    "# For only 2 variables i am getting rmse=3235\n",
    "# by using the gridsearch we have selected the parameter and we got the rmse has=3018\n",
    "# by using the randomsearchcv we have selected the parameter and we got the rmse has 2899"
   ]
  },
  {
   "cell_type": "code",
   "execution_count": 129,
   "id": "f9252b0b",
   "metadata": {},
   "outputs": [
    {
     "name": "stdout",
     "output_type": "stream",
     "text": [
      "82.30864060000022\n"
     ]
    }
   ],
   "source": [
    "from timeit import default_timer\n",
    "\n",
    "# using grid search\n",
    "begining=default_timer()\n",
    "gmod=g_search.fit(x_train1,y_train)\n",
    "ending =default_timer()\n",
    "print((ending-begining))"
   ]
  },
  {
   "cell_type": "code",
   "execution_count": 128,
   "id": "a5cc2dcd",
   "metadata": {},
   "outputs": [
    {
     "name": "stdout",
     "output_type": "stream",
     "text": [
      "34.400859800000035\n"
     ]
    }
   ],
   "source": [
    "from timeit import default_timer\n",
    "\n",
    "# using random search\n",
    "begining=default_timer()\n",
    "rmod=rfr_random.fit(x_train1,y_train)\n",
    "ending=default_timer()\n",
    "print((ending-begining))"
   ]
  },
  {
   "cell_type": "code",
   "execution_count": 138,
   "id": "91b8b093",
   "metadata": {},
   "outputs": [],
   "source": [
    "# where grid search is taking 1.36 min and where randomsearch is taking just 35 sec"
   ]
  },
  {
   "cell_type": "code",
   "execution_count": null,
   "id": "8f016ad2",
   "metadata": {},
   "outputs": [],
   "source": []
  }
 ],
 "metadata": {
  "kernelspec": {
   "display_name": "Python 3 (ipykernel)",
   "language": "python",
   "name": "python3"
  },
  "language_info": {
   "codemirror_mode": {
    "name": "ipython",
    "version": 3
   },
   "file_extension": ".py",
   "mimetype": "text/x-python",
   "name": "python",
   "nbconvert_exporter": "python",
   "pygments_lexer": "ipython3",
   "version": "3.9.7"
  }
 },
 "nbformat": 4,
 "nbformat_minor": 5
}
