{
 "cells": [
  {
   "cell_type": "markdown",
   "id": "c9d7b727",
   "metadata": {},
   "source": [
    "# 1 loading the library"
   ]
  },
  {
   "cell_type": "code",
   "execution_count": 9,
   "id": "7d2316a5",
   "metadata": {},
   "outputs": [],
   "source": [
    "import pandas as pd\n",
    "import numpy as np\n",
    "import matplotlib.pyplot as plt\n",
    "import seaborn as sns\n",
    "from warnings import filterwarnings\n",
    "filterwarnings('ignore')"
   ]
  },
  {
   "cell_type": "markdown",
   "id": "6338a8d4",
   "metadata": {},
   "source": [
    "# 2. Let we load the data"
   ]
  },
  {
   "cell_type": "code",
   "execution_count": 2,
   "id": "15952b2e",
   "metadata": {},
   "outputs": [
    {
     "data": {
      "text/html": [
       "<div>\n",
       "<style scoped>\n",
       "    .dataframe tbody tr th:only-of-type {\n",
       "        vertical-align: middle;\n",
       "    }\n",
       "\n",
       "    .dataframe tbody tr th {\n",
       "        vertical-align: top;\n",
       "    }\n",
       "\n",
       "    .dataframe thead th {\n",
       "        text-align: right;\n",
       "    }\n",
       "</style>\n",
       "<table border=\"1\" class=\"dataframe\">\n",
       "  <thead>\n",
       "    <tr style=\"text-align: right;\">\n",
       "      <th></th>\n",
       "      <th>BP</th>\n",
       "      <th>Chlstrl</th>\n",
       "      <th>Age</th>\n",
       "      <th>Prgnt</th>\n",
       "      <th>AnxtyLH</th>\n",
       "      <th>DrugR</th>\n",
       "    </tr>\n",
       "  </thead>\n",
       "  <tbody>\n",
       "    <tr>\n",
       "      <th>0</th>\n",
       "      <td>100</td>\n",
       "      <td>150</td>\n",
       "      <td>20</td>\n",
       "      <td>0</td>\n",
       "      <td>0</td>\n",
       "      <td>0</td>\n",
       "    </tr>\n",
       "    <tr>\n",
       "      <th>1</th>\n",
       "      <td>120</td>\n",
       "      <td>160</td>\n",
       "      <td>16</td>\n",
       "      <td>0</td>\n",
       "      <td>0</td>\n",
       "      <td>0</td>\n",
       "    </tr>\n",
       "    <tr>\n",
       "      <th>2</th>\n",
       "      <td>110</td>\n",
       "      <td>150</td>\n",
       "      <td>18</td>\n",
       "      <td>0</td>\n",
       "      <td>0</td>\n",
       "      <td>0</td>\n",
       "    </tr>\n",
       "    <tr>\n",
       "      <th>3</th>\n",
       "      <td>100</td>\n",
       "      <td>175</td>\n",
       "      <td>25</td>\n",
       "      <td>0</td>\n",
       "      <td>0</td>\n",
       "      <td>0</td>\n",
       "    </tr>\n",
       "    <tr>\n",
       "      <th>4</th>\n",
       "      <td>95</td>\n",
       "      <td>250</td>\n",
       "      <td>36</td>\n",
       "      <td>0</td>\n",
       "      <td>0</td>\n",
       "      <td>0</td>\n",
       "    </tr>\n",
       "  </tbody>\n",
       "</table>\n",
       "</div>"
      ],
      "text/plain": [
       "    BP  Chlstrl  Age  Prgnt  AnxtyLH  DrugR\n",
       "0  100      150   20      0        0      0\n",
       "1  120      160   16      0        0      0\n",
       "2  110      150   18      0        0      0\n",
       "3  100      175   25      0        0      0\n",
       "4   95      250   36      0        0      0"
      ]
     },
     "execution_count": 2,
     "metadata": {},
     "output_type": "execute_result"
    }
   ],
   "source": [
    "df=pd.read_csv(r\"C:\\Users\\JEEVAN\\Documents\\vinod sir notes\\Machine Learning\\2. Logistic Regression\\datasets\\cs2m\\cs2m.csv\")\n",
    "df.head()"
   ]
  },
  {
   "cell_type": "code",
   "execution_count": 3,
   "id": "1acdecb6",
   "metadata": {},
   "outputs": [
    {
     "data": {
      "text/plain": [
       "(30, 6)"
      ]
     },
     "execution_count": 3,
     "metadata": {},
     "output_type": "execute_result"
    }
   ],
   "source": [
    "df.shape"
   ]
  },
  {
   "cell_type": "code",
   "execution_count": 4,
   "id": "15b50e21",
   "metadata": {},
   "outputs": [
    {
     "name": "stdout",
     "output_type": "stream",
     "text": [
      "<class 'pandas.core.frame.DataFrame'>\n",
      "RangeIndex: 30 entries, 0 to 29\n",
      "Data columns (total 6 columns):\n",
      " #   Column   Non-Null Count  Dtype\n",
      "---  ------   --------------  -----\n",
      " 0   BP       30 non-null     int64\n",
      " 1   Chlstrl  30 non-null     int64\n",
      " 2   Age      30 non-null     int64\n",
      " 3   Prgnt    30 non-null     int64\n",
      " 4   AnxtyLH  30 non-null     int64\n",
      " 5   DrugR    30 non-null     int64\n",
      "dtypes: int64(6)\n",
      "memory usage: 1.5 KB\n"
     ]
    }
   ],
   "source": [
    "df.info()"
   ]
  },
  {
   "cell_type": "code",
   "execution_count": 5,
   "id": "ee2426c6",
   "metadata": {},
   "outputs": [
    {
     "data": {
      "text/plain": [
       "BP         0\n",
       "Chlstrl    0\n",
       "Age        0\n",
       "Prgnt      0\n",
       "AnxtyLH    0\n",
       "DrugR      0\n",
       "dtype: int64"
      ]
     },
     "execution_count": 5,
     "metadata": {},
     "output_type": "execute_result"
    }
   ],
   "source": [
    "df.isnull().sum()"
   ]
  },
  {
   "cell_type": "markdown",
   "id": "24ca6dea",
   "metadata": {},
   "source": [
    "# Target variable DrugR"
   ]
  },
  {
   "cell_type": "code",
   "execution_count": 7,
   "id": "3e8f78af",
   "metadata": {},
   "outputs": [
    {
     "data": {
      "text/plain": [
       "0    15\n",
       "1    15\n",
       "Name: DrugR, dtype: int64"
      ]
     },
     "execution_count": 7,
     "metadata": {},
     "output_type": "execute_result"
    }
   ],
   "source": [
    "df.DrugR.value_counts()"
   ]
  },
  {
   "cell_type": "code",
   "execution_count": 10,
   "id": "3fda1b5a",
   "metadata": {},
   "outputs": [
    {
     "data": {
      "text/plain": [
       "Text(0.5, 1.0, 'countplot of DrugR')"
      ]
     },
     "execution_count": 10,
     "metadata": {},
     "output_type": "execute_result"
    },
    {
     "data": {
      "image/png": "[encoded data removed]",
      "text/plain": [
       "<Figure size 432x288 with 1 Axes>"
      ]
     },
     "metadata": {
      "needs_background": "light"
     },
     "output_type": "display_data"
    }
   ],
   "source": [
    "sns.countplot(df.DrugR)\n",
    "plt.title('countplot of DrugR')"
   ]
  },
  {
   "cell_type": "code",
   "execution_count": 11,
   "id": "7c964b5d",
   "metadata": {},
   "outputs": [
    {
     "data": {
      "text/plain": [
       "Index(['BP', 'Chlstrl', 'Age', 'Prgnt', 'AnxtyLH', 'DrugR'], dtype='object')"
      ]
     },
     "execution_count": 11,
     "metadata": {},
     "output_type": "execute_result"
    }
   ],
   "source": [
    "df.columns"
   ]
  },
  {
   "cell_type": "markdown",
   "id": "582e3229",
   "metadata": {},
   "source": [
    "# Feature no. 1\n",
    "# BP"
   ]
  },
  {
   "cell_type": "code",
   "execution_count": 12,
   "id": "f3344f1c",
   "metadata": {},
   "outputs": [
    {
     "data": {
      "text/plain": [
       "120    6\n",
       "100    4\n",
       "125    3\n",
       "110    2\n",
       "95     2\n",
       "150    2\n",
       "145    2\n",
       "130    2\n",
       "160    1\n",
       "135    1\n",
       "165    1\n",
       "115    1\n",
       "170    1\n",
       "180    1\n",
       "140    1\n",
       "Name: BP, dtype: int64"
      ]
     },
     "execution_count": 12,
     "metadata": {},
     "output_type": "execute_result"
    }
   ],
   "source": [
    "df.BP.value_counts()"
   ]
  },
  {
   "cell_type": "code",
   "execution_count": 14,
   "id": "a631231a",
   "metadata": {},
   "outputs": [
    {
     "data": {
      "text/plain": [
       "Text(0.5, 1.0, 'distribution of BP')"
      ]
     },
     "execution_count": 14,
     "metadata": {},
     "output_type": "execute_result"
    },
    {
     "data": {
      "image/png": "[encoded data removed]",
      "text/plain": [
       "<Figure size 432x288 with 1 Axes>"
      ]
     },
     "metadata": {
      "needs_background": "light"
     },
     "output_type": "display_data"
    }
   ],
   "source": [
    "sns.distplot(df.BP)\n",
    "plt.title('distribution of BP')"
   ]
  },
  {
   "cell_type": "code",
   "execution_count": 16,
   "id": "d6dca422",
   "metadata": {},
   "outputs": [
    {
     "data": {
      "text/plain": [
       "Text(0.5, 1.0, 'Countplot of BP')"
      ]
     },
     "execution_count": 16,
     "metadata": {},
     "output_type": "execute_result"
    },
    {
     "data": {
      "image/png": "[encoded data removed]",
      "text/plain": [
       "<Figure size 432x288 with 1 Axes>"
      ]
     },
     "metadata": {
      "needs_background": "light"
     },
     "output_type": "display_data"
    }
   ],
   "source": [
    "sns.countplot(df.BP)\n",
    "plt.title('Countplot of BP')"
   ]
  },
  {
   "cell_type": "code",
   "execution_count": 18,
   "id": "f728b03d",
   "metadata": {},
   "outputs": [
    {
     "data": {
      "text/plain": [
       "Text(0.5, 1.0, 'Boxplot of BP')"
      ]
     },
     "execution_count": 18,
     "metadata": {},
     "output_type": "execute_result"
    },
    {
     "data": {
      "image/png": "[encoded data removed]",
      "text/plain": [
       "<Figure size 432x288 with 1 Axes>"
      ]
     },
     "metadata": {
      "needs_background": "light"
     },
     "output_type": "display_data"
    }
   ],
   "source": [
    "sns.boxplot(df.BP)\n",
    "plt.title('Boxplot of BP')"
   ]
  },
  {
   "cell_type": "code",
   "execution_count": 28,
   "id": "2ae741fb",
   "metadata": {},
   "outputs": [],
   "source": [
    "from scipy.stats import ttest_ind\n",
    "\n",
    "a=df[df.DrugR==0]\n",
    "b=df[df.DrugR==1]"
   ]
  },
  {
   "cell_type": "code",
   "execution_count": 29,
   "id": "cad2a91b",
   "metadata": {},
   "outputs": [
    {
     "data": {
      "text/plain": [
       "Ttest_indResult(statistic=-0.8755089017845972, pvalue=0.388745989399778)"
      ]
     },
     "execution_count": 29,
     "metadata": {},
     "output_type": "execute_result"
    }
   ],
   "source": [
    "ttest_ind(a.BP,b.BP)"
   ]
  },
  {
   "cell_type": "code",
   "execution_count": 31,
   "id": "60b4a8b4",
   "metadata": {},
   "outputs": [
    {
     "data": {
      "text/plain": [
       "<AxesSubplot:xlabel='BP', ylabel='count'>"
      ]
     },
     "execution_count": 31,
     "metadata": {},
     "output_type": "execute_result"
    },
    {
     "data": {
      "image/png": "[encoded data removed]",
      "text/plain": [
       "<Figure size 432x288 with 1 Axes>"
      ]
     },
     "metadata": {
      "needs_background": "light"
     },
     "output_type": "display_data"
    }
   ],
   "source": [
    "sns.countplot('BP',hue='DrugR',data=df)"
   ]
  },
  {
   "cell_type": "code",
   "execution_count": 32,
   "id": "9d2df916",
   "metadata": {},
   "outputs": [],
   "source": [
    "# Will do all the test lateron1"
   ]
  },
  {
   "cell_type": "code",
   "execution_count": 33,
   "id": "a4338ffa",
   "metadata": {},
   "outputs": [],
   "source": [
    "import statsmodels.api as sm\n",
    "import statsmodels.formula.api as smf"
   ]
  },
  {
   "cell_type": "markdown",
   "id": "9cc0446d",
   "metadata": {},
   "source": [
    "# will build Generalized Linear Models (GLM)"
   ]
  },
  {
   "cell_type": "code",
   "execution_count": 34,
   "id": "293f7096",
   "metadata": {},
   "outputs": [
    {
     "data": {
      "text/plain": [
       "Index(['BP', 'Chlstrl', 'Age', 'Prgnt', 'AnxtyLH', 'DrugR'], dtype='object')"
      ]
     },
     "execution_count": 34,
     "metadata": {},
     "output_type": "execute_result"
    }
   ],
   "source": [
    "df.columns"
   ]
  },
  {
   "cell_type": "code",
   "execution_count": 38,
   "id": "0df6b55b",
   "metadata": {},
   "outputs": [
    {
     "data": {
      "text/html": [
       "<table class=\"simpletable\">\n",
       "<caption>Generalized Linear Model Regression Results</caption>\n",
       "<tr>\n",
       "  <th>Dep. Variable:</th>         <td>DrugR</td>      <th>  No. Observations:  </th>  <td>    30</td> \n",
       "</tr>\n",
       "<tr>\n",
       "  <th>Model:</th>                  <td>GLM</td>       <th>  Df Residuals:      </th>  <td>    24</td> \n",
       "</tr>\n",
       "<tr>\n",
       "  <th>Model Family:</th>        <td>Gaussian</td>     <th>  Df Model:          </th>  <td>     5</td> \n",
       "</tr>\n",
       "<tr>\n",
       "  <th>Link Function:</th>       <td>identity</td>     <th>  Scale:             </th> <td> 0.17559</td>\n",
       "</tr>\n",
       "<tr>\n",
       "  <th>Method:</th>                <td>IRLS</td>       <th>  Log-Likelihood:    </th> <td> -13.127</td>\n",
       "</tr>\n",
       "<tr>\n",
       "  <th>Date:</th>            <td>Mon, 31 Jan 2022</td> <th>  Deviance:          </th> <td>  4.2141</td>\n",
       "</tr>\n",
       "<tr>\n",
       "  <th>Time:</th>                <td>23:31:27</td>     <th>  Pearson chi2:      </th>  <td>  4.21</td> \n",
       "</tr>\n",
       "<tr>\n",
       "  <th>No. Iterations:</th>          <td>3</td>        <th>                     </th>     <td> </td>   \n",
       "</tr>\n",
       "<tr>\n",
       "  <th>Covariance Type:</th>     <td>nonrobust</td>    <th>                     </th>     <td> </td>   \n",
       "</tr>\n",
       "</table>\n",
       "<table class=\"simpletable\">\n",
       "<tr>\n",
       "      <td></td>         <th>coef</th>     <th>std err</th>      <th>z</th>      <th>P>|z|</th>  <th>[0.025</th>    <th>0.975]</th>  \n",
       "</tr>\n",
       "<tr>\n",
       "  <th>Intercept</th> <td>   -0.2947</td> <td>    0.690</td> <td>   -0.427</td> <td> 0.669</td> <td>   -1.646</td> <td>    1.057</td>\n",
       "</tr>\n",
       "<tr>\n",
       "  <th>BP</th>        <td>   -0.0035</td> <td>    0.004</td> <td>   -0.850</td> <td> 0.395</td> <td>   -0.011</td> <td>    0.005</td>\n",
       "</tr>\n",
       "<tr>\n",
       "  <th>Chlstrl</th>   <td>    0.0010</td> <td>    0.003</td> <td>    0.314</td> <td> 0.753</td> <td>   -0.005</td> <td>    0.007</td>\n",
       "</tr>\n",
       "<tr>\n",
       "  <th>Age</th>       <td>    0.0172</td> <td>    0.009</td> <td>    1.916</td> <td> 0.055</td> <td>   -0.000</td> <td>    0.035</td>\n",
       "</tr>\n",
       "<tr>\n",
       "  <th>Prgnt</th>     <td>    0.6090</td> <td>    0.187</td> <td>    3.262</td> <td> 0.001</td> <td>    0.243</td> <td>    0.975</td>\n",
       "</tr>\n",
       "<tr>\n",
       "  <th>AnxtyLH</th>   <td>    0.2151</td> <td>    0.289</td> <td>    0.743</td> <td> 0.457</td> <td>   -0.352</td> <td>    0.782</td>\n",
       "</tr>\n",
       "</table>"
      ],
      "text/plain": [
       "<class 'statsmodels.iolib.summary.Summary'>\n",
       "\"\"\"\n",
       "                 Generalized Linear Model Regression Results                  \n",
       "==============================================================================\n",
       "Dep. Variable:                  DrugR   No. Observations:                   30\n",
       "Model:                            GLM   Df Residuals:                       24\n",
       "Model Family:                Gaussian   Df Model:                            5\n",
       "Link Function:               identity   Scale:                         0.17559\n",
       "Method:                          IRLS   Log-Likelihood:                -13.127\n",
       "Date:                Mon, 31 Jan 2022   Deviance:                       4.2141\n",
       "Time:                        23:31:27   Pearson chi2:                     4.21\n",
       "No. Iterations:                     3                                         \n",
       "Covariance Type:            nonrobust                                         \n",
       "==============================================================================\n",
       "                 coef    std err          z      P>|z|      [0.025      0.975]\n",
       "------------------------------------------------------------------------------\n",
       "Intercept     -0.2947      0.690     -0.427      0.669      -1.646       1.057\n",
       "BP            -0.0035      0.004     -0.850      0.395      -0.011       0.005\n",
       "Chlstrl        0.0010      0.003      0.314      0.753      -0.005       0.007\n",
       "Age            0.0172      0.009      1.916      0.055      -0.000       0.035\n",
       "Prgnt          0.6090      0.187      3.262      0.001       0.243       0.975\n",
       "AnxtyLH        0.2151      0.289      0.743      0.457      -0.352       0.782\n",
       "==============================================================================\n",
       "\"\"\""
      ]
     },
     "execution_count": 38,
     "metadata": {},
     "output_type": "execute_result"
    }
   ],
   "source": [
    "model=smf.glm('DrugR~ BP+Chlstrl+Age+Prgnt+AnxtyLH',data=df).fit()\n",
    "model.summary()"
   ]
  },
  {
   "cell_type": "code",
   "execution_count": 39,
   "id": "3c3dc37b",
   "metadata": {},
   "outputs": [],
   "source": [
    "predictions=model.predict()"
   ]
  },
  {
   "cell_type": "code",
   "execution_count": 40,
   "id": "9934034b",
   "metadata": {},
   "outputs": [],
   "source": [
    "predictions_nominal=[0 if x<0.5 else 1 for x in predictions]"
   ]
  },
  {
   "cell_type": "code",
   "execution_count": 41,
   "id": "361db95b",
   "metadata": {},
   "outputs": [],
   "source": [
    "from sklearn.metrics import confusion_matrix,classification_report"
   ]
  },
  {
   "cell_type": "code",
   "execution_count": 43,
   "id": "64d38cf6",
   "metadata": {},
   "outputs": [
    {
     "name": "stdout",
     "output_type": "stream",
     "text": [
      "[[11  4]\n",
      " [ 2 13]]\n"
     ]
    }
   ],
   "source": [
    "print(confusion_matrix(df.DrugR,predictions_nominal))"
   ]
  },
  {
   "cell_type": "code",
   "execution_count": 44,
   "id": "b8b0c8eb",
   "metadata": {},
   "outputs": [
    {
     "name": "stdout",
     "output_type": "stream",
     "text": [
      "              precision    recall  f1-score   support\n",
      "\n",
      "           0       0.85      0.73      0.79        15\n",
      "           1       0.76      0.87      0.81        15\n",
      "\n",
      "    accuracy                           0.80        30\n",
      "   macro avg       0.81      0.80      0.80        30\n",
      "weighted avg       0.81      0.80      0.80        30\n",
      "\n"
     ]
    }
   ],
   "source": [
    "print(classification_report (df.DrugR,predictions_nominal))"
   ]
  },
  {
   "cell_type": "markdown",
   "id": "ffc3a1fd",
   "metadata": {},
   "source": [
    "## Roc Curve"
   ]
  },
  {
   "cell_type": "code",
   "execution_count": 45,
   "id": "9802ba26",
   "metadata": {},
   "outputs": [],
   "source": [
    "from sklearn.linear_model import LogisticRegression\n",
    "from sklearn.metrics import roc_curve,roc_auc_score"
   ]
  },
  {
   "cell_type": "code",
   "execution_count": 46,
   "id": "82ad7f9f",
   "metadata": {},
   "outputs": [],
   "source": [
    "x=df.loc[:,df.columns!='DrugR']\n",
    "y=df.loc[:,df.columns=='DrugR']"
   ]
  },
  {
   "cell_type": "code",
   "execution_count": 47,
   "id": "b1020009",
   "metadata": {},
   "outputs": [
    {
     "data": {
      "text/plain": [
       "LogisticRegression()"
      ]
     },
     "execution_count": 47,
     "metadata": {},
     "output_type": "execute_result"
    }
   ],
   "source": [
    "clf_reg=LogisticRegression()\n",
    "clf_reg.fit(x,y)"
   ]
  },
  {
   "cell_type": "code",
   "execution_count": 48,
   "id": "cd3358e7",
   "metadata": {},
   "outputs": [],
   "source": [
    "y_score=clf_reg.predict_proba(x)[:,1]"
   ]
  },
  {
   "cell_type": "code",
   "execution_count": 50,
   "id": "dbb74ea7",
   "metadata": {},
   "outputs": [],
   "source": [
    "fpr,tpr,threshold=roc_curve(y,y_score)"
   ]
  },
  {
   "cell_type": "code",
   "execution_count": 52,
   "id": "459b8377",
   "metadata": {},
   "outputs": [
    {
     "name": "stdout",
     "output_type": "stream",
     "text": [
      "roc_auc_score for logistic Regression=  0.88\n"
     ]
    }
   ],
   "source": [
    "print('roc_auc_score for logistic Regression= ',roc_auc_score(y,y_score))"
   ]
  },
  {
   "cell_type": "code",
   "execution_count": 60,
   "id": "91964beb",
   "metadata": {},
   "outputs": [],
   "source": [
    "from sklearn.metrics import auc\n",
    "auc=auc(fpr,tpr)"
   ]
  },
  {
   "cell_type": "code",
   "execution_count": 69,
   "id": "b18ddae2",
   "metadata": {},
   "outputs": [
    {
     "data": {
      "image/png": "[encoded data removed]",
      "text/plain": [
       "<Figure size 720x720 with 1 Axes>"
      ]
     },
     "metadata": {
      "needs_background": "light"
     },
     "output_type": "display_data"
    }
   ],
   "source": [
    "plt.subplots(1,figsize=(10,10))\n",
    "plt.title('Receiver Operating Characteristic - Logistic regression')\n",
    "plt.plot(fpr,tpr,label='auc= {}'.format(auc))\n",
    "plt.legend(loc='lower right')\n",
    "plt.plot([0, 1], ls=\"--\")\n",
    "plt.ylabel('True Positive Rate')\n",
    "plt.xlabel('False Positive Rate')\n",
    "plt.show()"
   ]
  },
  {
   "cell_type": "code",
   "execution_count": null,
   "id": "e9fe07ed",
   "metadata": {},
   "outputs": [],
   "source": []
  }
 ],
 "metadata": {
  "kernelspec": {
   "display_name": "Python 3 (ipykernel)",
   "language": "python",
   "name": "python3"
  },
  "language_info": {
   "codemirror_mode": {
    "name": "ipython",
    "version": 3
   },
   "file_extension": ".py",
   "mimetype": "text/x-python",
   "name": "python",
   "nbconvert_exporter": "python",
   "pygments_lexer": "ipython3",
   "version": "3.9.7"
  }
 },
 "nbformat": 4,
 "nbformat_minor": 5
}
