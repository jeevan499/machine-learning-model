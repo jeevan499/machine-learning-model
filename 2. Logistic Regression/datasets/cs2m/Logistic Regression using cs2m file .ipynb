{
 "cells": [
  {
   "cell_type": "markdown",
   "id": "ac65767e",
   "metadata": {},
   "source": [
    "# 1 loading the library"
   ]
  },
  {
   "cell_type": "code",
   "execution_count": 1,
   "id": "f431edce",
   "metadata": {},
   "outputs": [],
   "source": [
    "import pandas as pd\n",
    "import numpy as np\n",
    "import matplotlib.pyplot as plt\n",
    "import seaborn as sns"
   ]
  },
  {
   "cell_type": "markdown",
   "id": "b13f2f37",
   "metadata": {},
   "source": [
    "# 2. Let we load the data"
   ]
  },
  {
   "cell_type": "code",
   "execution_count": null,
   "id": "a34ccf76",
   "metadata": {},
   "outputs": [],
   "source": [
    "df=pd.read_csv()"
   ]
  }
 ],
 "metadata": {
  "kernelspec": {
   "display_name": "Python 3 (ipykernel)",
   "language": "python",
   "name": "python3"
  },
  "language_info": {
   "codemirror_mode": {
    "name": "ipython",
    "version": 3
   },
   "file_extension": ".py",
   "mimetype": "text/x-python",
   "name": "python",
   "nbconvert_exporter": "python",
   "pygments_lexer": "ipython3",
   "version": "3.9.7"
  }
 },
 "nbformat": 4,
 "nbformat_minor": 5
}
