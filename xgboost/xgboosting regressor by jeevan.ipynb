{
 "cells": [
  {
   "cell_type": "markdown",
   "id": "7e9e8182",
   "metadata": {},
   "source": [
    "# 1. Loading library"
   ]
  },
  {
   "cell_type": "code",
   "execution_count": 1,
   "id": "386dc9bf",
   "metadata": {},
   "outputs": [],
   "source": [
    "# evaluate an xgboost regression model on the housing dataset\n",
    "\n",
    "from numpy import absolute\n",
    "from pandas import read_csv\n",
    "from sklearn.model_selection import cross_val_score\n",
    "from sklearn.model_selection import RepeatedKFold\n",
    "from xgboost import XGBRegressor"
   ]
  },
  {
   "cell_type": "code",
   "execution_count": 2,
   "id": "477892b4",
   "metadata": {},
   "outputs": [],
   "source": [
    "# loading the dataset by using url\n",
    "\n",
    "url='https://raw.githubusercontent.com/jbrownlee/Datasets/master/housing.csv'\n",
    "\n",
    "dataframe=read_csv(url,header=None)  # dataframe"
   ]
  },
  {
   "cell_type": "code",
   "execution_count": 4,
   "id": "b728af48",
   "metadata": {},
   "outputs": [],
   "source": [
    "data=dataframe.values"
   ]
  },
  {
   "cell_type": "code",
   "execution_count": 5,
   "id": "e473abf9",
   "metadata": {},
   "outputs": [],
   "source": [
    "# split data [array format] into input and output columns\n",
    "\n",
    "x,y=data[:,:-1],data[:,-1]"
   ]
  },
  {
   "cell_type": "code",
   "execution_count": 9,
   "id": "30eced79",
   "metadata": {},
   "outputs": [],
   "source": [
    "# define model\n",
    "model=XGBRegressor()"
   ]
  },
  {
   "cell_type": "code",
   "execution_count": 6,
   "id": "0607df36",
   "metadata": {},
   "outputs": [],
   "source": [
    "# define model evaluation method\n",
    "\n",
    "cv= RepeatedKFold(n_splits=10,n_repeats=3,random_state=1)"
   ]
  },
  {
   "cell_type": "code",
   "execution_count": 7,
   "id": "0ddca41f",
   "metadata": {},
   "outputs": [],
   "source": [
    "# n_repeats =3, means that the entire process of cross_validation with 10 folds will happen 3 times"
   ]
  },
  {
   "cell_type": "code",
   "execution_count": 10,
   "id": "bd80e774",
   "metadata": {},
   "outputs": [],
   "source": [
    "# evalueate model\n",
    "\n",
    "scores= cross_val_score(model,x,y,scoring='neg_mean_absolute_error',cv=cv,n_jobs=-1)"
   ]
  },
  {
   "cell_type": "code",
   "execution_count": 12,
   "id": "3ab2ae04",
   "metadata": {},
   "outputs": [
    {
     "name": "stdout",
     "output_type": "stream",
     "text": [
      "mean MAE: 2.109 (0.320)\n"
     ]
    }
   ],
   "source": [
    "# force scores to be positive\n",
    "\n",
    "scores= absolute(scores)\n",
    "print('mean MAE: %.3f (%.3f)' % (scores.mean(),scores.std()))"
   ]
  },
  {
   "cell_type": "code",
   "execution_count": null,
   "id": "5f8820dc",
   "metadata": {},
   "outputs": [],
   "source": []
  }
 ],
 "metadata": {
  "kernelspec": {
   "display_name": "Python 3 (ipykernel)",
   "language": "python",
   "name": "python3"
  },
  "language_info": {
   "codemirror_mode": {
    "name": "ipython",
    "version": 3
   },
   "file_extension": ".py",
   "mimetype": "text/x-python",
   "name": "python",
   "nbconvert_exporter": "python",
   "pygments_lexer": "ipython3",
   "version": "3.9.7"
  }
 },
 "nbformat": 4,
 "nbformat_minor": 5
}
