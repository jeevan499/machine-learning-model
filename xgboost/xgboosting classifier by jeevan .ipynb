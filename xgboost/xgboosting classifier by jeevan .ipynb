{
 "cells": [
  {
   "cell_type": "markdown",
   "id": "aec37ce3",
   "metadata": {},
   "source": [
    "# 1. Importing library"
   ]
  },
  {
   "cell_type": "code",
   "execution_count": 1,
   "id": "31c8d614",
   "metadata": {},
   "outputs": [],
   "source": [
    "import numpy as np\n",
    "import pandas as pd\n",
    "import matplotlib.pyplot as plt\n",
    "from matplotlib.pyplot import rcParams\n",
    "rcParams['figure.figsize']=12,4\n",
    "\n",
    "from sklearn.impute import SimpleImputer\n",
    "from sklearn.pipeline import Pipeline\n",
    "from sklearn.preprocessing import OneHotEncoder\n",
    "from sklearn.preprocessing import StandardScaler\n",
    "from sklearn.compose import ColumnTransformer"
   ]
  },
  {
   "cell_type": "code",
   "execution_count": 5,
   "id": "160b20e7",
   "metadata": {},
   "outputs": [
    {
     "name": "stdout",
     "output_type": "stream",
     "text": [
      "^C\n",
      "\n",
      "Note: you may need to restart the kernel to use updated packages.\n"
     ]
    }
   ],
   "source": [
    "conda install -c anaconda py-xgboost"
   ]
  },
  {
   "cell_type": "code",
   "execution_count": 7,
   "id": "79d24321",
   "metadata": {},
   "outputs": [],
   "source": [
    "import xgboost as xgb\n",
    "from xgboost.sklearn import XGBClassifier\n",
    "from sklearn.model_selection import cross_validate\n",
    "from sklearn.model_selection import GridSearchCV"
   ]
  },
  {
   "cell_type": "code",
   "execution_count": 9,
   "id": "6c398deb",
   "metadata": {},
   "outputs": [
    {
     "data": {
      "text/html": [
       "<div>\n",
       "<style scoped>\n",
       "    .dataframe tbody tr th:only-of-type {\n",
       "        vertical-align: middle;\n",
       "    }\n",
       "\n",
       "    .dataframe tbody tr th {\n",
       "        vertical-align: top;\n",
       "    }\n",
       "\n",
       "    .dataframe thead th {\n",
       "        text-align: right;\n",
       "    }\n",
       "</style>\n",
       "<table border=\"1\" class=\"dataframe\">\n",
       "  <thead>\n",
       "    <tr style=\"text-align: right;\">\n",
       "      <th></th>\n",
       "      <th>Unnamed: 0</th>\n",
       "      <th>Date</th>\n",
       "      <th>Location</th>\n",
       "      <th>MinTemp</th>\n",
       "      <th>MaxTemp</th>\n",
       "      <th>Rainfall</th>\n",
       "      <th>Evaporation</th>\n",
       "      <th>Sunshine</th>\n",
       "      <th>WindGustDir</th>\n",
       "      <th>WindGustSpeed</th>\n",
       "      <th>...</th>\n",
       "      <th>Humidity3pm</th>\n",
       "      <th>Pressure9am</th>\n",
       "      <th>Pressure3pm</th>\n",
       "      <th>Cloud9am</th>\n",
       "      <th>Cloud3pm</th>\n",
       "      <th>Temp9am</th>\n",
       "      <th>Temp3pm</th>\n",
       "      <th>RainToday</th>\n",
       "      <th>RISK_MM</th>\n",
       "      <th>RainTomorrow</th>\n",
       "    </tr>\n",
       "  </thead>\n",
       "  <tbody>\n",
       "    <tr>\n",
       "      <th>0</th>\n",
       "      <td>1</td>\n",
       "      <td>2008-12-01</td>\n",
       "      <td>Albury</td>\n",
       "      <td>13.4</td>\n",
       "      <td>22.9</td>\n",
       "      <td>0.6</td>\n",
       "      <td>NaN</td>\n",
       "      <td>NaN</td>\n",
       "      <td>W</td>\n",
       "      <td>44.0</td>\n",
       "      <td>...</td>\n",
       "      <td>22.0</td>\n",
       "      <td>1007.7</td>\n",
       "      <td>1007.1</td>\n",
       "      <td>8.0</td>\n",
       "      <td>NaN</td>\n",
       "      <td>16.9</td>\n",
       "      <td>21.8</td>\n",
       "      <td>No</td>\n",
       "      <td>0.0</td>\n",
       "      <td>No</td>\n",
       "    </tr>\n",
       "    <tr>\n",
       "      <th>1</th>\n",
       "      <td>2</td>\n",
       "      <td>2008-12-02</td>\n",
       "      <td>Albury</td>\n",
       "      <td>7.4</td>\n",
       "      <td>25.1</td>\n",
       "      <td>0.0</td>\n",
       "      <td>NaN</td>\n",
       "      <td>NaN</td>\n",
       "      <td>WNW</td>\n",
       "      <td>44.0</td>\n",
       "      <td>...</td>\n",
       "      <td>25.0</td>\n",
       "      <td>1010.6</td>\n",
       "      <td>1007.8</td>\n",
       "      <td>NaN</td>\n",
       "      <td>NaN</td>\n",
       "      <td>17.2</td>\n",
       "      <td>24.3</td>\n",
       "      <td>No</td>\n",
       "      <td>0.0</td>\n",
       "      <td>No</td>\n",
       "    </tr>\n",
       "    <tr>\n",
       "      <th>2</th>\n",
       "      <td>3</td>\n",
       "      <td>2008-12-03</td>\n",
       "      <td>Albury</td>\n",
       "      <td>12.9</td>\n",
       "      <td>25.7</td>\n",
       "      <td>0.0</td>\n",
       "      <td>NaN</td>\n",
       "      <td>NaN</td>\n",
       "      <td>WSW</td>\n",
       "      <td>46.0</td>\n",
       "      <td>...</td>\n",
       "      <td>30.0</td>\n",
       "      <td>1007.6</td>\n",
       "      <td>1008.7</td>\n",
       "      <td>NaN</td>\n",
       "      <td>2.0</td>\n",
       "      <td>21.0</td>\n",
       "      <td>23.2</td>\n",
       "      <td>No</td>\n",
       "      <td>0.0</td>\n",
       "      <td>No</td>\n",
       "    </tr>\n",
       "    <tr>\n",
       "      <th>3</th>\n",
       "      <td>4</td>\n",
       "      <td>2008-12-04</td>\n",
       "      <td>Albury</td>\n",
       "      <td>9.2</td>\n",
       "      <td>28.0</td>\n",
       "      <td>0.0</td>\n",
       "      <td>NaN</td>\n",
       "      <td>NaN</td>\n",
       "      <td>NE</td>\n",
       "      <td>24.0</td>\n",
       "      <td>...</td>\n",
       "      <td>16.0</td>\n",
       "      <td>1017.6</td>\n",
       "      <td>1012.8</td>\n",
       "      <td>NaN</td>\n",
       "      <td>NaN</td>\n",
       "      <td>18.1</td>\n",
       "      <td>26.5</td>\n",
       "      <td>No</td>\n",
       "      <td>1.0</td>\n",
       "      <td>No</td>\n",
       "    </tr>\n",
       "    <tr>\n",
       "      <th>4</th>\n",
       "      <td>5</td>\n",
       "      <td>2008-12-05</td>\n",
       "      <td>Albury</td>\n",
       "      <td>17.5</td>\n",
       "      <td>32.3</td>\n",
       "      <td>1.0</td>\n",
       "      <td>NaN</td>\n",
       "      <td>NaN</td>\n",
       "      <td>W</td>\n",
       "      <td>41.0</td>\n",
       "      <td>...</td>\n",
       "      <td>33.0</td>\n",
       "      <td>1010.8</td>\n",
       "      <td>1006.0</td>\n",
       "      <td>7.0</td>\n",
       "      <td>8.0</td>\n",
       "      <td>17.8</td>\n",
       "      <td>29.7</td>\n",
       "      <td>No</td>\n",
       "      <td>0.2</td>\n",
       "      <td>No</td>\n",
       "    </tr>\n",
       "  </tbody>\n",
       "</table>\n",
       "<p>5 rows × 25 columns</p>\n",
       "</div>"
      ],
      "text/plain": [
       "   Unnamed: 0        Date Location  MinTemp  MaxTemp  Rainfall  Evaporation  \\\n",
       "0           1  2008-12-01   Albury     13.4     22.9       0.6          NaN   \n",
       "1           2  2008-12-02   Albury      7.4     25.1       0.0          NaN   \n",
       "2           3  2008-12-03   Albury     12.9     25.7       0.0          NaN   \n",
       "3           4  2008-12-04   Albury      9.2     28.0       0.0          NaN   \n",
       "4           5  2008-12-05   Albury     17.5     32.3       1.0          NaN   \n",
       "\n",
       "   Sunshine WindGustDir  WindGustSpeed  ... Humidity3pm Pressure9am  \\\n",
       "0       NaN           W           44.0  ...        22.0      1007.7   \n",
       "1       NaN         WNW           44.0  ...        25.0      1010.6   \n",
       "2       NaN         WSW           46.0  ...        30.0      1007.6   \n",
       "3       NaN          NE           24.0  ...        16.0      1017.6   \n",
       "4       NaN           W           41.0  ...        33.0      1010.8   \n",
       "\n",
       "   Pressure3pm  Cloud9am  Cloud3pm  Temp9am  Temp3pm  RainToday  RISK_MM  \\\n",
       "0       1007.1       8.0       NaN     16.9     21.8         No      0.0   \n",
       "1       1007.8       NaN       NaN     17.2     24.3         No      0.0   \n",
       "2       1008.7       NaN       2.0     21.0     23.2         No      0.0   \n",
       "3       1012.8       NaN       NaN     18.1     26.5         No      1.0   \n",
       "4       1006.0       7.0       8.0     17.8     29.7         No      0.2   \n",
       "\n",
       "   RainTomorrow  \n",
       "0            No  \n",
       "1            No  \n",
       "2            No  \n",
       "3            No  \n",
       "4            No  \n",
       "\n",
       "[5 rows x 25 columns]"
      ]
     },
     "execution_count": 9,
     "metadata": {},
     "output_type": "execute_result"
    }
   ],
   "source": [
    "rain=pd.read_csv('weatherAUS.csv')\n",
    "rain.head()"
   ]
  },
  {
   "cell_type": "code",
   "execution_count": 10,
   "id": "afce5d5a",
   "metadata": {},
   "outputs": [
    {
     "name": "stdout",
     "output_type": "stream",
     "text": [
      "<class 'pandas.core.frame.DataFrame'>\n",
      "RangeIndex: 145460 entries, 0 to 145459\n",
      "Data columns (total 25 columns):\n",
      " #   Column         Non-Null Count   Dtype  \n",
      "---  ------         --------------   -----  \n",
      " 0   Unnamed: 0     145460 non-null  int64  \n",
      " 1   Date           145460 non-null  object \n",
      " 2   Location       145460 non-null  object \n",
      " 3   MinTemp        143975 non-null  float64\n",
      " 4   MaxTemp        144199 non-null  float64\n",
      " 5   Rainfall       142199 non-null  float64\n",
      " 6   Evaporation    82670 non-null   float64\n",
      " 7   Sunshine       75625 non-null   float64\n",
      " 8   WindGustDir    135134 non-null  object \n",
      " 9   WindGustSpeed  135197 non-null  float64\n",
      " 10  WindDir9am     134894 non-null  object \n",
      " 11  WindDir3pm     141232 non-null  object \n",
      " 12  WindSpeed9am   143693 non-null  float64\n",
      " 13  WindSpeed3pm   142398 non-null  float64\n",
      " 14  Humidity9am    142806 non-null  float64\n",
      " 15  Humidity3pm    140953 non-null  float64\n",
      " 16  Pressure9am    130395 non-null  float64\n",
      " 17  Pressure3pm    130432 non-null  float64\n",
      " 18  Cloud9am       89572 non-null   float64\n",
      " 19  Cloud3pm       86102 non-null   float64\n",
      " 20  Temp9am        143693 non-null  float64\n",
      " 21  Temp3pm        141851 non-null  float64\n",
      " 22  RainToday      142199 non-null  object \n",
      " 23  RISK_MM        142193 non-null  float64\n",
      " 24  RainTomorrow   142193 non-null  object \n",
      "dtypes: float64(17), int64(1), object(7)\n",
      "memory usage: 27.7+ MB\n"
     ]
    }
   ],
   "source": [
    "rain.info()"
   ]
  },
  {
   "cell_type": "markdown",
   "id": "4e904088",
   "metadata": {},
   "source": [
    "# Target variable = RainToday\n",
    "\n",
    "## we are going to predict the rain will happen or not happen today"
   ]
  },
  {
   "cell_type": "code",
   "execution_count": 12,
   "id": "399729fb",
   "metadata": {},
   "outputs": [],
   "source": [
    "# Dropping the Rainfall column is a must because it records the amount of rain in millimeters.\n",
    "\n",
    "cols_to_drop=['Date','Location','RainTomorrow','Rainfall']\n",
    "rain.drop(cols_to_drop,axis=1,inplace=True)"
   ]
  },
  {
   "cell_type": "code",
   "execution_count": 13,
   "id": "b659cfd1",
   "metadata": {},
   "outputs": [
    {
     "data": {
      "text/plain": [
       "Unnamed: 0       0.000000\n",
       "MinTemp          0.010209\n",
       "MaxTemp          0.008669\n",
       "Evaporation      0.431665\n",
       "Sunshine         0.480098\n",
       "WindGustDir      0.070989\n",
       "WindGustSpeed    0.070555\n",
       "WindDir9am       0.072639\n",
       "WindDir3pm       0.029066\n",
       "WindSpeed9am     0.012148\n",
       "WindSpeed3pm     0.021050\n",
       "Humidity9am      0.018246\n",
       "Humidity3pm      0.030984\n",
       "Pressure9am      0.103568\n",
       "Pressure3pm      0.103314\n",
       "Cloud9am         0.384216\n",
       "Cloud3pm         0.408071\n",
       "Temp9am          0.012148\n",
       "Temp3pm          0.024811\n",
       "RainToday        0.022419\n",
       "RISK_MM          0.022460\n",
       "dtype: float64"
      ]
     },
     "execution_count": 13,
     "metadata": {},
     "output_type": "execute_result"
    }
   ],
   "source": [
    "# missing values/proportions\n",
    "\n",
    "missing_props=rain.isna().mean(axis=0)\n",
    "missing_props"
   ]
  },
  {
   "cell_type": "code",
   "execution_count": 14,
   "id": "d758be09",
   "metadata": {},
   "outputs": [
    {
     "data": {
      "text/plain": [
       "Evaporation    0.431665\n",
       "Sunshine       0.480098\n",
       "Cloud3pm       0.408071\n",
       "dtype: float64"
      ]
     },
     "execution_count": 14,
     "metadata": {},
     "output_type": "execute_result"
    }
   ],
   "source": [
    "# If the proportion is higher than 40% we will drop the columns\n",
    "\n",
    "over_threshold=missing_props[missing_props>=0.4]\n",
    "over_threshold"
   ]
  },
  {
   "cell_type": "code",
   "execution_count": 15,
   "id": "3a522932",
   "metadata": {},
   "outputs": [],
   "source": [
    "rain.drop(over_threshold.index,axis=1,inplace=True)"
   ]
  },
  {
   "cell_type": "code",
   "execution_count": 16,
   "id": "8c622cf5",
   "metadata": {},
   "outputs": [],
   "source": [
    "# x and y\n",
    "\n",
    "x=rain.drop('RainToday',axis=1)\n",
    "y=rain.RainToday"
   ]
  },
  {
   "cell_type": "markdown",
   "id": "5cc8768f",
   "metadata": {},
   "source": [
    "### categorical vars,impute missing vals by mode='Most_frequent',and encode them using(one-hot-encoding)"
   ]
  },
  {
   "cell_type": "code",
   "execution_count": 27,
   "id": "e15651b5",
   "metadata": {},
   "outputs": [],
   "source": [
    "# importing the pipelines\n",
    "from sklearn.impute import SimpleImputer\n",
    "from sklearn.pipeline import Pipeline\n",
    "from sklearn.preprocessing import OneHotEncoder"
   ]
  },
  {
   "cell_type": "code",
   "execution_count": 18,
   "id": "4944834f",
   "metadata": {},
   "outputs": [],
   "source": [
    "categorical_pipeline=Pipeline(steps=[('impute',SimpleImputer(strategy='most_frequent')),('oh-encode',OneHotEncoder(handle_unknown='ignore',sparse=False)),])"
   ]
  },
  {
   "cell_type": "markdown",
   "id": "8bd035a0",
   "metadata": {},
   "source": [
    "## For continuous/numeric vars,we will standardize and impute by median"
   ]
  },
  {
   "cell_type": "code",
   "execution_count": 21,
   "id": "c020ba36",
   "metadata": {},
   "outputs": [],
   "source": [
    "from sklearn.preprocessing import StandardScaler\n",
    "\n",
    "numeric_pipeline=Pipeline(steps=[('impute',SimpleImputer(strategy='mean')),('scale',StandardScaler())])"
   ]
  },
  {
   "cell_type": "code",
   "execution_count": 22,
   "id": "72995249",
   "metadata": {},
   "outputs": [],
   "source": [
    "# after making pipelines, lets seprate categorical and continious variable\n",
    "\n",
    "cat_cols=x.select_dtypes(exclude='number').columns\n",
    "num_cols=x.select_dtypes(include='number').columns"
   ]
  },
  {
   "cell_type": "code",
   "execution_count": 23,
   "id": "9f27c043",
   "metadata": {},
   "outputs": [],
   "source": [
    "# now see how we are using pipelines for transforming categorical and continious variables.\n",
    "\n",
    "# first we make columnTransformer which will transform catg+numeric var by our pipelines\n",
    "\n",
    "from sklearn.compose import ColumnTransformer\n",
    "\n",
    "full_processor=ColumnTransformer(transformers=[('numeric',numeric_pipeline,num_cols),('categorical',categorical_pipeline,cat_cols)])"
   ]
  },
  {
   "cell_type": "code",
   "execution_count": 24,
   "id": "9d3e9acd",
   "metadata": {},
   "outputs": [],
   "source": [
    "# now we will apply on x (predictors)\n",
    "x_processed=full_processor.fit_transform(x)"
   ]
  },
  {
   "cell_type": "code",
   "execution_count": null,
   "id": "2f78a5b5",
   "metadata": {},
   "outputs": [],
   "source": [
    "# see now there are 60 columns (predictors!). x was 15 only!\n",
    "# In one shot, all catg and cont vars treated!!! "
   ]
  },
  {
   "cell_type": "code",
   "execution_count": 25,
   "id": "6e1d9116",
   "metadata": {},
   "outputs": [],
   "source": [
    "# y is having null values,  we will impute by mode and it is in series form which should convert in to array form, so we will reshape it"
   ]
  },
  {
   "cell_type": "code",
   "execution_count": 34,
   "id": "40d2ce42",
   "metadata": {},
   "outputs": [],
   "source": [
    "y_processed=SimpleImputer(strategy='most_frequent').fit_transform(y.values.reshape(-1,1))"
   ]
  },
  {
   "cell_type": "code",
   "execution_count": null,
   "id": "a99a2f53",
   "metadata": {},
   "outputs": [],
   "source": [
    "# meaning of reshape(-1,1)\n",
    "## our y is a series, which is transformed into an array bcz, if you see, x_processed in an array, so y should also be in array form."
   ]
  },
  {
   "cell_type": "code",
   "execution_count": 35,
   "id": "20041f79",
   "metadata": {},
   "outputs": [],
   "source": [
    "# so far we have done\n",
    "#(i) missing value treatment \n",
    "#(ii) one hod encodeing of catg vars\n",
    "#(iii) reshaping of y as sn array\n",
    "\n",
    "## Now time to go for XGB Modeling"
   ]
  },
  {
   "cell_type": "markdown",
   "id": "13fc15b8",
   "metadata": {},
   "source": [
    "# XGB Modeling"
   ]
  },
  {
   "cell_type": "code",
   "execution_count": 36,
   "id": "de50a0c0",
   "metadata": {},
   "outputs": [],
   "source": [
    "# first will split the data into train and test\n",
    "\n",
    "from sklearn.model_selection import train_test_split\n",
    "\n",
    "x_train,x_test,y_train,y_test=train_test_split(x_processed,y_processed,stratify=y_processed,random_state=1121218)"
   ]
  },
  {
   "cell_type": "code",
   "execution_count": 37,
   "id": "70be3339",
   "metadata": {},
   "outputs": [
    {
     "data": {
      "text/plain": [
       "No     110319\n",
       "Yes     31880\n",
       "Name: RainToday, dtype: int64"
      ]
     },
     "execution_count": 37,
     "metadata": {},
     "output_type": "execute_result"
    }
   ],
   "source": [
    "y.value_counts()  "
   ]
  },
  {
   "cell_type": "markdown",
   "id": "7523c08d",
   "metadata": {},
   "source": [
    "## No is 110319 and Yes is 31880 too imbalanced in data that's why stratify is used"
   ]
  },
  {
   "cell_type": "code",
   "execution_count": 39,
   "id": "256f4726",
   "metadata": {},
   "outputs": [],
   "source": [
    "# building model\n",
    "\n",
    "from sklearn.metrics import accuracy_score\n",
    "# Init classifier\n",
    "xgb_cl=xgb.XGBClassifier()"
   ]
  },
  {
   "cell_type": "code",
   "execution_count": 41,
   "id": "913a40c0",
   "metadata": {},
   "outputs": [
    {
     "name": "stdout",
     "output_type": "stream",
     "text": [
      "[07:18:28] WARNING: ..\\src\\learner.cc:1115: Starting in XGBoost 1.3.0, the default evaluation metric used with the objective 'binary:logistic' was changed from 'error' to 'logloss'. Explicitly set eval_metric if you'd like to restore the old behavior.\n"
     ]
    }
   ],
   "source": [
    "# fit\n",
    "xgb_cl.fit(x_train,y_train)\n",
    "# predict\n",
    "preds=xgb_cl.predict(x_test)"
   ]
  },
  {
   "cell_type": "code",
   "execution_count": 42,
   "id": "a532b713",
   "metadata": {},
   "outputs": [
    {
     "data": {
      "text/plain": [
       "0.8601952426783995"
      ]
     },
     "execution_count": 42,
     "metadata": {},
     "output_type": "execute_result"
    }
   ],
   "source": [
    "# score\n",
    "\n",
    "accuracy_score(y_test,preds)"
   ]
  },
  {
   "cell_type": "code",
   "execution_count": null,
   "id": "4ed8dac4",
   "metadata": {},
   "outputs": [],
   "source": []
  },
  {
   "cell_type": "code",
   "execution_count": null,
   "id": "dd69d401",
   "metadata": {},
   "outputs": [],
   "source": []
  },
  {
   "cell_type": "code",
   "execution_count": null,
   "id": "4052f1d4",
   "metadata": {},
   "outputs": [],
   "source": []
  },
  {
   "cell_type": "code",
   "execution_count": null,
   "id": "2d669d33",
   "metadata": {},
   "outputs": [],
   "source": []
  },
  {
   "cell_type": "code",
   "execution_count": null,
   "id": "181e778f",
   "metadata": {},
   "outputs": [],
   "source": []
  },
  {
   "cell_type": "code",
   "execution_count": null,
   "id": "30a6a382",
   "metadata": {},
   "outputs": [],
   "source": []
  },
  {
   "cell_type": "code",
   "execution_count": null,
   "id": "29774c37",
   "metadata": {},
   "outputs": [],
   "source": []
  },
  {
   "cell_type": "code",
   "execution_count": null,
   "id": "3a38db3d",
   "metadata": {},
   "outputs": [],
   "source": []
  },
  {
   "cell_type": "code",
   "execution_count": null,
   "id": "22b0bf53",
   "metadata": {},
   "outputs": [],
   "source": []
  },
  {
   "cell_type": "code",
   "execution_count": null,
   "id": "dc68d7a1",
   "metadata": {},
   "outputs": [],
   "source": []
  },
  {
   "cell_type": "code",
   "execution_count": null,
   "id": "adba35d9",
   "metadata": {},
   "outputs": [],
   "source": []
  },
  {
   "cell_type": "code",
   "execution_count": null,
   "id": "75aa1878",
   "metadata": {},
   "outputs": [],
   "source": []
  },
  {
   "cell_type": "code",
   "execution_count": null,
   "id": "e3d42bd8",
   "metadata": {},
   "outputs": [],
   "source": []
  },
  {
   "cell_type": "code",
   "execution_count": null,
   "id": "4e406a27",
   "metadata": {},
   "outputs": [],
   "source": []
  },
  {
   "cell_type": "code",
   "execution_count": null,
   "id": "2b5dd994",
   "metadata": {},
   "outputs": [],
   "source": []
  },
  {
   "cell_type": "code",
   "execution_count": null,
   "id": "7444229f",
   "metadata": {},
   "outputs": [],
   "source": []
  },
  {
   "cell_type": "code",
   "execution_count": null,
   "id": "030193c3",
   "metadata": {},
   "outputs": [],
   "source": []
  }
 ],
 "metadata": {
  "kernelspec": {
   "display_name": "Python 3 (ipykernel)",
   "language": "python",
   "name": "python3"
  },
  "language_info": {
   "codemirror_mode": {
    "name": "ipython",
    "version": 3
   },
   "file_extension": ".py",
   "mimetype": "text/x-python",
   "name": "python",
   "nbconvert_exporter": "python",
   "pygments_lexer": "ipython3",
   "version": "3.9.7"
  }
 },
 "nbformat": 4,
 "nbformat_minor": 5
}
