{
 "cells": [
  {
   "cell_type": "code",
   "execution_count": 1,
   "id": "5529dd99",
   "metadata": {},
   "outputs": [
    {
     "data": {
      "text/plain": [
       "'C:\\\\Users\\\\JEEVAN\\\\Downloads'"
      ]
     },
     "execution_count": 1,
     "metadata": {},
     "output_type": "execute_result"
    }
   ],
   "source": [
    "import os\n",
    "os.getcwd()"
   ]
  },
  {
   "cell_type": "code",
   "execution_count": 2,
   "id": "a355441d",
   "metadata": {},
   "outputs": [],
   "source": [
    "os.chdir(r'E:\\vinod sir complete data\\vinod sir notes\\Machine Learning\\Random forest\\adaptive boosting')"
   ]
  },
  {
   "cell_type": "code",
   "execution_count": 1,
   "id": "cdc45277",
   "metadata": {},
   "outputs": [],
   "source": [
    "import pandas as pd\n",
    "import numpy as np\n",
    "import seaborn as sns\n",
    "import matplotlib.pyplot as plt\n",
    "from warnings import filterwarnings\n",
    "filterwarnings('ignore')"
   ]
  },
  {
   "cell_type": "code",
   "execution_count": 2,
   "id": "e460d24f",
   "metadata": {},
   "outputs": [
    {
     "data": {
      "text/html": [
       "<div>\n",
       "<style scoped>\n",
       "    .dataframe tbody tr th:only-of-type {\n",
       "        vertical-align: middle;\n",
       "    }\n",
       "\n",
       "    .dataframe tbody tr th {\n",
       "        vertical-align: top;\n",
       "    }\n",
       "\n",
       "    .dataframe thead th {\n",
       "        text-align: right;\n",
       "    }\n",
       "</style>\n",
       "<table border=\"1\" class=\"dataframe\">\n",
       "  <thead>\n",
       "    <tr style=\"text-align: right;\">\n",
       "      <th></th>\n",
       "      <th>age</th>\n",
       "      <th>ed</th>\n",
       "      <th>employ</th>\n",
       "      <th>address</th>\n",
       "      <th>income</th>\n",
       "      <th>debtinc</th>\n",
       "      <th>creddebt</th>\n",
       "      <th>othdebt</th>\n",
       "      <th>default</th>\n",
       "    </tr>\n",
       "  </thead>\n",
       "  <tbody>\n",
       "    <tr>\n",
       "      <th>0</th>\n",
       "      <td>41</td>\n",
       "      <td>3</td>\n",
       "      <td>17</td>\n",
       "      <td>12</td>\n",
       "      <td>176</td>\n",
       "      <td>9.3</td>\n",
       "      <td>11.36</td>\n",
       "      <td>5.01</td>\n",
       "      <td>1</td>\n",
       "    </tr>\n",
       "    <tr>\n",
       "      <th>1</th>\n",
       "      <td>27</td>\n",
       "      <td>1</td>\n",
       "      <td>10</td>\n",
       "      <td>6</td>\n",
       "      <td>31</td>\n",
       "      <td>17.3</td>\n",
       "      <td>1.36</td>\n",
       "      <td>4.00</td>\n",
       "      <td>0</td>\n",
       "    </tr>\n",
       "    <tr>\n",
       "      <th>2</th>\n",
       "      <td>40</td>\n",
       "      <td>1</td>\n",
       "      <td>15</td>\n",
       "      <td>14</td>\n",
       "      <td>55</td>\n",
       "      <td>5.5</td>\n",
       "      <td>0.86</td>\n",
       "      <td>2.17</td>\n",
       "      <td>0</td>\n",
       "    </tr>\n",
       "    <tr>\n",
       "      <th>3</th>\n",
       "      <td>41</td>\n",
       "      <td>1</td>\n",
       "      <td>15</td>\n",
       "      <td>14</td>\n",
       "      <td>120</td>\n",
       "      <td>2.9</td>\n",
       "      <td>2.66</td>\n",
       "      <td>0.82</td>\n",
       "      <td>0</td>\n",
       "    </tr>\n",
       "    <tr>\n",
       "      <th>4</th>\n",
       "      <td>24</td>\n",
       "      <td>2</td>\n",
       "      <td>2</td>\n",
       "      <td>0</td>\n",
       "      <td>28</td>\n",
       "      <td>17.3</td>\n",
       "      <td>1.79</td>\n",
       "      <td>3.06</td>\n",
       "      <td>1</td>\n",
       "    </tr>\n",
       "  </tbody>\n",
       "</table>\n",
       "</div>"
      ],
      "text/plain": [
       "   age  ed  employ  address  income  debtinc  creddebt  othdebt  default\n",
       "0   41   3      17       12     176      9.3     11.36     5.01        1\n",
       "1   27   1      10        6      31     17.3      1.36     4.00        0\n",
       "2   40   1      15       14      55      5.5      0.86     2.17        0\n",
       "3   41   1      15       14     120      2.9      2.66     0.82        0\n",
       "4   24   2       2        0      28     17.3      1.79     3.06        1"
      ]
     },
     "execution_count": 2,
     "metadata": {},
     "output_type": "execute_result"
    }
   ],
   "source": [
    "data=pd.read_csv(r\"E:\\vinod sir complete data\\vinod sir notes\\Machine Learning\\Decision Tree\\bankloan.csv\")\n",
    "data.head()"
   ]
  },
  {
   "cell_type": "code",
   "execution_count": 3,
   "id": "4d2813a6",
   "metadata": {},
   "outputs": [],
   "source": [
    "data=pd.DataFrame(data)"
   ]
  },
  {
   "cell_type": "code",
   "execution_count": 4,
   "id": "0769a8f8",
   "metadata": {
    "scrolled": true
   },
   "outputs": [
    {
     "data": {
      "text/plain": [
       "(700, 9)"
      ]
     },
     "execution_count": 4,
     "metadata": {},
     "output_type": "execute_result"
    }
   ],
   "source": [
    "data.shape"
   ]
  },
  {
   "cell_type": "markdown",
   "id": "4d4ef91c",
   "metadata": {},
   "source": [
    "# Selecting the useful variables"
   ]
  },
  {
   "cell_type": "code",
   "execution_count": 5,
   "id": "47e7bab3",
   "metadata": {},
   "outputs": [],
   "source": [
    "b1=data.iloc[:,[0,4,6,7,8]]"
   ]
  },
  {
   "cell_type": "code",
   "execution_count": 6,
   "id": "35cec9dc",
   "metadata": {},
   "outputs": [
    {
     "data": {
      "text/html": [
       "<div>\n",
       "<style scoped>\n",
       "    .dataframe tbody tr th:only-of-type {\n",
       "        vertical-align: middle;\n",
       "    }\n",
       "\n",
       "    .dataframe tbody tr th {\n",
       "        vertical-align: top;\n",
       "    }\n",
       "\n",
       "    .dataframe thead th {\n",
       "        text-align: right;\n",
       "    }\n",
       "</style>\n",
       "<table border=\"1\" class=\"dataframe\">\n",
       "  <thead>\n",
       "    <tr style=\"text-align: right;\">\n",
       "      <th></th>\n",
       "      <th>age</th>\n",
       "      <th>income</th>\n",
       "      <th>creddebt</th>\n",
       "      <th>othdebt</th>\n",
       "      <th>default</th>\n",
       "    </tr>\n",
       "  </thead>\n",
       "  <tbody>\n",
       "    <tr>\n",
       "      <th>0</th>\n",
       "      <td>41</td>\n",
       "      <td>176</td>\n",
       "      <td>11.36</td>\n",
       "      <td>5.01</td>\n",
       "      <td>1</td>\n",
       "    </tr>\n",
       "    <tr>\n",
       "      <th>1</th>\n",
       "      <td>27</td>\n",
       "      <td>31</td>\n",
       "      <td>1.36</td>\n",
       "      <td>4.00</td>\n",
       "      <td>0</td>\n",
       "    </tr>\n",
       "    <tr>\n",
       "      <th>2</th>\n",
       "      <td>40</td>\n",
       "      <td>55</td>\n",
       "      <td>0.86</td>\n",
       "      <td>2.17</td>\n",
       "      <td>0</td>\n",
       "    </tr>\n",
       "    <tr>\n",
       "      <th>3</th>\n",
       "      <td>41</td>\n",
       "      <td>120</td>\n",
       "      <td>2.66</td>\n",
       "      <td>0.82</td>\n",
       "      <td>0</td>\n",
       "    </tr>\n",
       "    <tr>\n",
       "      <th>4</th>\n",
       "      <td>24</td>\n",
       "      <td>28</td>\n",
       "      <td>1.79</td>\n",
       "      <td>3.06</td>\n",
       "      <td>1</td>\n",
       "    </tr>\n",
       "    <tr>\n",
       "      <th>...</th>\n",
       "      <td>...</td>\n",
       "      <td>...</td>\n",
       "      <td>...</td>\n",
       "      <td>...</td>\n",
       "      <td>...</td>\n",
       "    </tr>\n",
       "    <tr>\n",
       "      <th>695</th>\n",
       "      <td>36</td>\n",
       "      <td>27</td>\n",
       "      <td>0.26</td>\n",
       "      <td>0.98</td>\n",
       "      <td>1</td>\n",
       "    </tr>\n",
       "    <tr>\n",
       "      <th>696</th>\n",
       "      <td>29</td>\n",
       "      <td>21</td>\n",
       "      <td>0.37</td>\n",
       "      <td>2.05</td>\n",
       "      <td>0</td>\n",
       "    </tr>\n",
       "    <tr>\n",
       "      <th>697</th>\n",
       "      <td>33</td>\n",
       "      <td>32</td>\n",
       "      <td>0.49</td>\n",
       "      <td>1.94</td>\n",
       "      <td>0</td>\n",
       "    </tr>\n",
       "    <tr>\n",
       "      <th>698</th>\n",
       "      <td>45</td>\n",
       "      <td>77</td>\n",
       "      <td>2.30</td>\n",
       "      <td>4.17</td>\n",
       "      <td>0</td>\n",
       "    </tr>\n",
       "    <tr>\n",
       "      <th>699</th>\n",
       "      <td>37</td>\n",
       "      <td>44</td>\n",
       "      <td>2.99</td>\n",
       "      <td>3.47</td>\n",
       "      <td>0</td>\n",
       "    </tr>\n",
       "  </tbody>\n",
       "</table>\n",
       "<p>700 rows × 5 columns</p>\n",
       "</div>"
      ],
      "text/plain": [
       "     age  income  creddebt  othdebt  default\n",
       "0     41     176     11.36     5.01        1\n",
       "1     27      31      1.36     4.00        0\n",
       "2     40      55      0.86     2.17        0\n",
       "3     41     120      2.66     0.82        0\n",
       "4     24      28      1.79     3.06        1\n",
       "..   ...     ...       ...      ...      ...\n",
       "695   36      27      0.26     0.98        1\n",
       "696   29      21      0.37     2.05        0\n",
       "697   33      32      0.49     1.94        0\n",
       "698   45      77      2.30     4.17        0\n",
       "699   37      44      2.99     3.47        0\n",
       "\n",
       "[700 rows x 5 columns]"
      ]
     },
     "execution_count": 6,
     "metadata": {},
     "output_type": "execute_result"
    }
   ],
   "source": [
    "b1"
   ]
  },
  {
   "cell_type": "code",
   "execution_count": 7,
   "id": "d9246192",
   "metadata": {},
   "outputs": [
    {
     "data": {
      "text/plain": [
       "(700, 5)"
      ]
     },
     "execution_count": 7,
     "metadata": {},
     "output_type": "execute_result"
    }
   ],
   "source": [
    "b1.shape"
   ]
  },
  {
   "cell_type": "code",
   "execution_count": 8,
   "id": "0bfe3887",
   "metadata": {},
   "outputs": [
    {
     "name": "stdout",
     "output_type": "stream",
     "text": [
      "<class 'pandas.core.frame.DataFrame'>\n",
      "RangeIndex: 700 entries, 0 to 699\n",
      "Data columns (total 5 columns):\n",
      " #   Column    Non-Null Count  Dtype  \n",
      "---  ------    --------------  -----  \n",
      " 0   age       700 non-null    int64  \n",
      " 1   income    700 non-null    int64  \n",
      " 2   creddebt  700 non-null    float64\n",
      " 3   othdebt   700 non-null    float64\n",
      " 4   default   700 non-null    int64  \n",
      "dtypes: float64(2), int64(3)\n",
      "memory usage: 27.5 KB\n"
     ]
    }
   ],
   "source": [
    "b1.info()"
   ]
  },
  {
   "cell_type": "markdown",
   "id": "2ca6af5e",
   "metadata": {},
   "source": [
    "# Will check the null values in the DataFrame"
   ]
  },
  {
   "cell_type": "code",
   "execution_count": 9,
   "id": "47dbaccb",
   "metadata": {
    "scrolled": true
   },
   "outputs": [
    {
     "data": {
      "text/plain": [
       "age         0\n",
       "income      0\n",
       "creddebt    0\n",
       "othdebt     0\n",
       "default     0\n",
       "dtype: int64"
      ]
     },
     "execution_count": 9,
     "metadata": {},
     "output_type": "execute_result"
    }
   ],
   "source": [
    "b1.isnull().sum()"
   ]
  },
  {
   "cell_type": "markdown",
   "id": "6c545aa4",
   "metadata": {},
   "source": [
    "# X as set of predictors"
   ]
  },
  {
   "cell_type": "code",
   "execution_count": 10,
   "id": "bc4ad82e",
   "metadata": {},
   "outputs": [
    {
     "name": "stdout",
     "output_type": "stream",
     "text": [
      "<class 'pandas.core.frame.DataFrame'>\n",
      "RangeIndex: 700 entries, 0 to 699\n",
      "Data columns (total 4 columns):\n",
      " #   Column    Non-Null Count  Dtype  \n",
      "---  ------    --------------  -----  \n",
      " 0   age       700 non-null    int64  \n",
      " 1   income    700 non-null    int64  \n",
      " 2   creddebt  700 non-null    float64\n",
      " 3   othdebt   700 non-null    float64\n",
      "dtypes: float64(2), int64(2)\n",
      "memory usage: 22.0 KB\n"
     ]
    }
   ],
   "source": [
    "x=b1.iloc[:,[0,1,2,3]]       # only predictors\n",
    "x.info()"
   ]
  },
  {
   "cell_type": "code",
   "execution_count": 11,
   "id": "d0657ade",
   "metadata": {},
   "outputs": [
    {
     "data": {
      "text/html": [
       "<div>\n",
       "<style scoped>\n",
       "    .dataframe tbody tr th:only-of-type {\n",
       "        vertical-align: middle;\n",
       "    }\n",
       "\n",
       "    .dataframe tbody tr th {\n",
       "        vertical-align: top;\n",
       "    }\n",
       "\n",
       "    .dataframe thead th {\n",
       "        text-align: right;\n",
       "    }\n",
       "</style>\n",
       "<table border=\"1\" class=\"dataframe\">\n",
       "  <thead>\n",
       "    <tr style=\"text-align: right;\">\n",
       "      <th></th>\n",
       "      <th>default</th>\n",
       "    </tr>\n",
       "  </thead>\n",
       "  <tbody>\n",
       "    <tr>\n",
       "      <th>0</th>\n",
       "      <td>1</td>\n",
       "    </tr>\n",
       "    <tr>\n",
       "      <th>1</th>\n",
       "      <td>0</td>\n",
       "    </tr>\n",
       "    <tr>\n",
       "      <th>2</th>\n",
       "      <td>0</td>\n",
       "    </tr>\n",
       "    <tr>\n",
       "      <th>3</th>\n",
       "      <td>0</td>\n",
       "    </tr>\n",
       "    <tr>\n",
       "      <th>4</th>\n",
       "      <td>1</td>\n",
       "    </tr>\n",
       "  </tbody>\n",
       "</table>\n",
       "</div>"
      ],
      "text/plain": [
       "   default\n",
       "0        1\n",
       "1        0\n",
       "2        0\n",
       "3        0\n",
       "4        1"
      ]
     },
     "execution_count": 11,
     "metadata": {},
     "output_type": "execute_result"
    }
   ],
   "source": [
    "y=b1.loc[:,b1.columns=='default']   # only target variable\n",
    "y.head()"
   ]
  },
  {
   "cell_type": "markdown",
   "id": "d0d46873",
   "metadata": {},
   "source": [
    "# Partitioning "
   ]
  },
  {
   "cell_type": "code",
   "execution_count": 12,
   "id": "36e0b610",
   "metadata": {},
   "outputs": [],
   "source": [
    "# Partitioning    spliting the data into 60:40 ratio\n",
    "from sklearn.model_selection import train_test_split\n",
    "\n",
    "x_train,x_test,y_train,y_test=train_test_split(x,y,test_size=0.4,random_state=0)"
   ]
  },
  {
   "cell_type": "markdown",
   "id": "ad4c543a",
   "metadata": {},
   "source": [
    "# Build base estimator-tree"
   ]
  },
  {
   "cell_type": "code",
   "execution_count": 13,
   "id": "af3147c6",
   "metadata": {},
   "outputs": [
    {
     "data": {
      "text/plain": [
       "DecisionTreeClassifier()"
      ]
     },
     "execution_count": 13,
     "metadata": {},
     "output_type": "execute_result"
    }
   ],
   "source": [
    "# Build base estimator-tree\n",
    "from sklearn.tree import DecisionTreeClassifier\n",
    "from sklearn import tree\n",
    "\n",
    "clf=DecisionTreeClassifier()\n",
    "clf"
   ]
  },
  {
   "cell_type": "code",
   "execution_count": 14,
   "id": "942be5c6",
   "metadata": {},
   "outputs": [
    {
     "data": {
      "text/plain": [
       "DecisionTreeClassifier()"
      ]
     },
     "execution_count": 14,
     "metadata": {},
     "output_type": "execute_result"
    }
   ],
   "source": [
    "# Building the model using DecisionTreeClassifier on TrainData\n",
    "\n",
    "clfFit=clf.fit(x_train,y_train)\n",
    "clfFit"
   ]
  },
  {
   "cell_type": "code",
   "execution_count": 15,
   "id": "fad116ba",
   "metadata": {},
   "outputs": [
    {
     "data": {
      "image/png": "[encoded data removed]",
      "text/plain": [
       "<Figure size 432x288 with 1 Axes>"
      ]
     },
     "metadata": {
      "needs_background": "light"
     },
     "output_type": "display_data"
    }
   ],
   "source": [
    "tree.plot_tree(clfFit)\n",
    "plt.show()"
   ]
  },
  {
   "cell_type": "markdown",
   "id": "c69f3e41",
   "metadata": {},
   "source": [
    "# Bootstrap Aggregating, also called bagging.\n",
    "\n",
    "## It is a machine learning ensemble meta-algorithm designed to improve the stability and accuracy of machine learning algorithms used in statistical classification and regression. It also reduces variance and helps to avoid overfitting"
   ]
  },
  {
   "cell_type": "code",
   "execution_count": 16,
   "id": "c0244730",
   "metadata": {},
   "outputs": [],
   "source": [
    "# Bagging Tree\n",
    "\n",
    "from sklearn.ensemble import BaggingClassifier"
   ]
  },
  {
   "cell_type": "markdown",
   "id": "1c2e7f04",
   "metadata": {},
   "source": [
    "## Base estimator is clf  [Decision Tree Classifier] (tree build before with all the depth) "
   ]
  },
  {
   "cell_type": "markdown",
   "id": "5259af6b",
   "metadata": {},
   "source": [
    "# Build BaggingClassifier 'bc'"
   ]
  },
  {
   "cell_type": "code",
   "execution_count": 17,
   "id": "645909f0",
   "metadata": {},
   "outputs": [],
   "source": [
    "bc=BaggingClassifier(base_estimator=clf,n_estimators=300,oob_score=True,n_jobs=-1)     # [oob_score=Out-of-bag its an error =, The average error for each calculated using predictions from the tree that do not contain in their respective bootstrap sample]"
   ]
  },
  {
   "cell_type": "markdown",
   "id": "b76290ca",
   "metadata": {},
   "source": [
    "# Fit bagging"
   ]
  },
  {
   "cell_type": "code",
   "execution_count": 18,
   "id": "e9057e93",
   "metadata": {},
   "outputs": [
    {
     "data": {
      "text/plain": [
       "BaggingClassifier(base_estimator=DecisionTreeClassifier(), n_estimators=300,\n",
       "                  n_jobs=-1, oob_score=True)"
      ]
     },
     "execution_count": 18,
     "metadata": {},
     "output_type": "execute_result"
    }
   ],
   "source": [
    "# Fit 'bc' to the training set\n",
    "\n",
    "bc.fit(x_train,y_train)"
   ]
  },
  {
   "cell_type": "markdown",
   "id": "84bf50cc",
   "metadata": {},
   "source": [
    "# Predicitons"
   ]
  },
  {
   "cell_type": "code",
   "execution_count": 19,
   "id": "db9b5279",
   "metadata": {},
   "outputs": [],
   "source": [
    "y_predB=bc.predict(x_test)"
   ]
  },
  {
   "cell_type": "code",
   "execution_count": 20,
   "id": "d7add75f",
   "metadata": {},
   "outputs": [
    {
     "data": {
      "text/plain": [
       "array([0, 1, 0, 0, 0, 0, 0, 1, 0, 0, 0, 1, 0, 0, 0, 0, 0, 0, 1, 0, 0, 0,\n",
       "       0, 0, 0, 0, 0, 0, 0, 0, 0, 1, 0, 1, 0, 0, 0, 0, 0, 1, 0, 0, 0, 0,\n",
       "       0, 1, 0, 0, 0, 0, 0, 0, 0, 1, 0, 1, 0, 0, 1, 0, 0, 0, 0, 1, 0, 0,\n",
       "       0, 0, 0, 0, 0, 0, 0, 0, 0, 0, 1, 1, 0, 1, 0, 0, 0, 1, 0, 1, 1, 0,\n",
       "       0, 0, 0, 0, 0, 1, 0, 1, 1, 0, 0, 0, 0, 1, 0, 0, 0, 1, 0, 0, 1, 0,\n",
       "       0, 1, 0, 0, 0, 1, 0, 0, 0, 1, 0, 0, 0, 0, 0, 0, 0, 0, 1, 1, 0, 0,\n",
       "       0, 0, 0, 0, 0, 0, 1, 0, 0, 0, 0, 0, 0, 0, 1, 1, 0, 0, 0, 0, 0, 0,\n",
       "       0, 1, 0, 0, 0, 0, 0, 0, 0, 0, 0, 0, 0, 0, 0, 0, 0, 0, 1, 0, 0, 1,\n",
       "       0, 0, 0, 0, 0, 1, 0, 0, 0, 0, 1, 0, 0, 0, 0, 0, 0, 0, 1, 0, 0, 1,\n",
       "       0, 0, 0, 0, 0, 0, 0, 0, 0, 0, 0, 0, 1, 0, 1, 0, 0, 0, 0, 1, 1, 0,\n",
       "       0, 1, 0, 0, 0, 0, 0, 0, 0, 0, 0, 0, 0, 0, 0, 0, 0, 0, 0, 0, 0, 1,\n",
       "       0, 1, 0, 0, 0, 0, 0, 0, 1, 0, 1, 0, 0, 0, 0, 0, 0, 0, 0, 0, 0, 1,\n",
       "       0, 0, 1, 0, 1, 1, 0, 0, 0, 0, 0, 0, 0, 0, 0, 0], dtype=int64)"
      ]
     },
     "execution_count": 20,
     "metadata": {},
     "output_type": "execute_result"
    }
   ],
   "source": [
    "y_predB"
   ]
  },
  {
   "cell_type": "markdown",
   "id": "f4b92d12",
   "metadata": {},
   "source": [
    "# Confusion Matrix "
   ]
  },
  {
   "cell_type": "code",
   "execution_count": 21,
   "id": "3d5b7eaf",
   "metadata": {},
   "outputs": [],
   "source": [
    "from sklearn.metrics import confusion_matrix"
   ]
  },
  {
   "cell_type": "code",
   "execution_count": 22,
   "id": "59212f17",
   "metadata": {},
   "outputs": [
    {
     "name": "stdout",
     "output_type": "stream",
     "text": [
      "[[180  26]\n",
      " [ 48  26]]\n"
     ]
    }
   ],
   "source": [
    "confusion_matrix=confusion_matrix(y_test,y_predB)\n",
    "print(confusion_matrix)"
   ]
  },
  {
   "cell_type": "code",
   "execution_count": 23,
   "id": "471ea9f0",
   "metadata": {},
   "outputs": [],
   "source": [
    "y_test=y_test.iloc[:,0]    # we want to convert the Y-test into series"
   ]
  },
  {
   "cell_type": "code",
   "execution_count": 24,
   "id": "d495461e",
   "metadata": {
    "scrolled": true
   },
   "outputs": [
    {
     "data": {
      "text/html": [
       "<div>\n",
       "<style scoped>\n",
       "    .dataframe tbody tr th:only-of-type {\n",
       "        vertical-align: middle;\n",
       "    }\n",
       "\n",
       "    .dataframe tbody tr th {\n",
       "        vertical-align: top;\n",
       "    }\n",
       "\n",
       "    .dataframe thead th {\n",
       "        text-align: right;\n",
       "    }\n",
       "</style>\n",
       "<table border=\"1\" class=\"dataframe\">\n",
       "  <thead>\n",
       "    <tr style=\"text-align: right;\">\n",
       "      <th>Predict</th>\n",
       "      <th>0</th>\n",
       "      <th>1</th>\n",
       "      <th>All</th>\n",
       "    </tr>\n",
       "    <tr>\n",
       "      <th>Actual</th>\n",
       "      <th></th>\n",
       "      <th></th>\n",
       "      <th></th>\n",
       "    </tr>\n",
       "  </thead>\n",
       "  <tbody>\n",
       "    <tr>\n",
       "      <th>0</th>\n",
       "      <td>180</td>\n",
       "      <td>26</td>\n",
       "      <td>206</td>\n",
       "    </tr>\n",
       "    <tr>\n",
       "      <th>1</th>\n",
       "      <td>48</td>\n",
       "      <td>26</td>\n",
       "      <td>74</td>\n",
       "    </tr>\n",
       "    <tr>\n",
       "      <th>All</th>\n",
       "      <td>228</td>\n",
       "      <td>52</td>\n",
       "      <td>280</td>\n",
       "    </tr>\n",
       "  </tbody>\n",
       "</table>\n",
       "</div>"
      ],
      "text/plain": [
       "Predict    0   1  All\n",
       "Actual               \n",
       "0        180  26  206\n",
       "1         48  26   74\n",
       "All      228  52  280"
      ]
     },
     "execution_count": 24,
     "metadata": {},
     "output_type": "execute_result"
    }
   ],
   "source": [
    "# will do confusion matrix with cross tab method\n",
    "\n",
    "pd.crosstab(y_test,y_predB,margins=True,rownames=['Actual'],colnames=['Predict'])"
   ]
  },
  {
   "cell_type": "markdown",
   "id": "312fc413",
   "metadata": {},
   "source": [
    "# Classification Report"
   ]
  },
  {
   "cell_type": "code",
   "execution_count": 25,
   "id": "7cfc8f5d",
   "metadata": {},
   "outputs": [
    {
     "name": "stdout",
     "output_type": "stream",
     "text": [
      "              precision    recall  f1-score   support\n",
      "\n",
      "           0       0.79      0.87      0.83       206\n",
      "           1       0.50      0.35      0.41        74\n",
      "\n",
      "    accuracy                           0.74       280\n",
      "   macro avg       0.64      0.61      0.62       280\n",
      "weighted avg       0.71      0.74      0.72       280\n",
      "\n"
     ]
    }
   ],
   "source": [
    "from sklearn.metrics import classification_report\n",
    "print(classification_report(y_test,y_predB))"
   ]
  },
  {
   "cell_type": "markdown",
   "id": "2fc4e22c",
   "metadata": {},
   "source": [
    "# Probabilities"
   ]
  },
  {
   "cell_type": "code",
   "execution_count": 26,
   "id": "1cc3b838",
   "metadata": {},
   "outputs": [
    {
     "data": {
      "text/plain": [
       "array([0.08      , 0.80666667, 0.30666667, 0.16666667, 0.16666667,\n",
       "       0.28666667, 0.21666667, 0.56      , 0.06      , 0.18      ,\n",
       "       0.04333333, 0.59      , 0.14      , 0.13      , 0.40666667,\n",
       "       0.36666667, 0.07666667, 0.06333333, 0.76      , 0.01333333,\n",
       "       0.17666667, 0.24666667, 0.48666667, 0.03      , 0.15      ,\n",
       "       0.09333333, 0.38      , 0.02333333, 0.14333333, 0.49333333,\n",
       "       0.32333333, 0.59333333, 0.39      , 0.56666667, 0.34      ,\n",
       "       0.03666667, 0.1       , 0.48333333, 0.19666667, 0.65      ,\n",
       "       0.09      , 0.34333333, 0.08333333, 0.00666667, 0.46333333,\n",
       "       0.81      , 0.30666667, 0.28666667, 0.09333333, 0.20333333,\n",
       "       0.49      , 0.04666667, 0.21333333, 0.76333333, 0.47333333,\n",
       "       0.67666667, 0.01333333, 0.16333333, 0.67666667, 0.06333333,\n",
       "       0.01666667, 0.32666667, 0.37      , 0.57666667, 0.17      ,\n",
       "       0.06333333, 0.46      , 0.11666667, 0.25333333, 0.12333333,\n",
       "       0.11666667, 0.04      , 0.43      , 0.04      , 0.08333333,\n",
       "       0.44      , 0.59333333, 0.59      , 0.19666667, 0.83      ,\n",
       "       0.29333333, 0.44333333, 0.00333333, 0.67      , 0.23      ,\n",
       "       0.86      , 0.58      , 0.05333333, 0.44333333, 0.29666667,\n",
       "       0.43333333, 0.27666667, 0.04333333, 0.57333333, 0.25666667,\n",
       "       0.76666667, 0.54333333, 0.34333333, 0.21      , 0.44333333,\n",
       "       0.13666667, 0.60666667, 0.08      , 0.14      , 0.48666667,\n",
       "       0.84666667, 0.18666667, 0.14333333, 0.56      , 0.31333333,\n",
       "       0.13      , 0.6       , 0.09333333, 0.36333333, 0.        ,\n",
       "       0.92      , 0.07333333, 0.41333333, 0.25666667, 0.61333333,\n",
       "       0.41333333, 0.01      , 0.07333333, 0.02      , 0.22333333,\n",
       "       0.10333333, 0.31666667, 0.04      , 0.50666667, 0.95      ,\n",
       "       0.32333333, 0.16      , 0.44666667, 0.06      , 0.25      ,\n",
       "       0.07333333, 0.07333333, 0.44666667, 0.76333333, 0.02      ,\n",
       "       0.18666667, 0.22      , 0.32333333, 0.05333333, 0.19333333,\n",
       "       0.02333333, 0.86333333, 0.62      , 0.03      , 0.24666667,\n",
       "       0.17333333, 0.00666667, 0.07666667, 0.02      , 0.12666667,\n",
       "       0.93      , 0.09      , 0.09333333, 0.16666667, 0.18      ,\n",
       "       0.07      , 0.05666667, 0.43333333, 0.15      , 0.13333333,\n",
       "       0.32666667, 0.40333333, 0.47      , 0.10666667, 0.31666667,\n",
       "       0.01333333, 0.44      , 0.68      , 0.35      , 0.10666667,\n",
       "       0.65333333, 0.01666667, 0.09666667, 0.47333333, 0.24666667,\n",
       "       0.1       , 0.7       , 0.42333333, 0.16666667, 0.47      ,\n",
       "       0.34      , 0.82333333, 0.28333333, 0.12666667, 0.35333333,\n",
       "       0.2       , 0.44      , 0.11666667, 0.1       , 0.68      ,\n",
       "       0.1       , 0.15      , 0.69      , 0.17666667, 0.11333333,\n",
       "       0.06666667, 0.12      , 0.43333333, 0.13333333, 0.02      ,\n",
       "       0.15666667, 0.06      , 0.07      , 0.21      , 0.34      ,\n",
       "       0.63666667, 0.32333333, 0.87333333, 0.02666667, 0.19333333,\n",
       "       0.43333333, 0.11      , 0.57333333, 0.95333333, 0.43333333,\n",
       "       0.05333333, 0.76333333, 0.25      , 0.24      , 0.12333333,\n",
       "       0.00333333, 0.49333333, 0.09      , 0.        , 0.28      ,\n",
       "       0.09333333, 0.07      , 0.08      , 0.06666667, 0.07666667,\n",
       "       0.01333333, 0.05333333, 0.04666667, 0.10666667, 0.01      ,\n",
       "       0.17333333, 0.67333333, 0.25666667, 0.51666667, 0.        ,\n",
       "       0.02333333, 0.13666667, 0.15      , 0.18333333, 0.02333333,\n",
       "       0.60333333, 0.29666667, 0.8       , 0.07333333, 0.03666667,\n",
       "       0.12666667, 0.02333333, 0.16333333, 0.27      , 0.03333333,\n",
       "       0.17333333, 0.34666667, 0.14333333, 0.62      , 0.1       ,\n",
       "       0.44333333, 0.65      , 0.3       , 0.54666667, 0.67666667,\n",
       "       0.05666667, 0.19      , 0.11666667, 0.48      , 0.27333333,\n",
       "       0.41333333, 0.02666667, 0.42333333, 0.28      , 0.12      ])"
      ]
     },
     "execution_count": 26,
     "metadata": {},
     "output_type": "execute_result"
    }
   ],
   "source": [
    "predPB=bc.predict_proba(x_test)[:,1]\n",
    "predPB"
   ]
  },
  {
   "cell_type": "markdown",
   "id": "30611220",
   "metadata": {},
   "source": [
    "# ROC Curve"
   ]
  },
  {
   "cell_type": "code",
   "execution_count": 27,
   "id": "41ff0ffc",
   "metadata": {},
   "outputs": [],
   "source": [
    "import sklearn\n",
    "# we are finding the fpr,tpr,thresholds with y_test,y_predicted_probability_xtest\n",
    "\n",
    "false_positive_rateB,true_positive_rateB,thresholdsB=sklearn.metrics.roc_curve(y_test,predPB)"
   ]
  },
  {
   "cell_type": "code",
   "execution_count": 28,
   "id": "11cd7198",
   "metadata": {},
   "outputs": [],
   "source": [
    "from sklearn.metrics import roc_curve,auc,roc_auc_score\n",
    "\n",
    "roc_aucBF=auc(false_positive_rateB,true_positive_rateB)"
   ]
  },
  {
   "cell_type": "code",
   "execution_count": 29,
   "id": "ec5a18a8",
   "metadata": {},
   "outputs": [
    {
     "data": {
      "text/plain": [
       "0.7335345053791655"
      ]
     },
     "execution_count": 29,
     "metadata": {},
     "output_type": "execute_result"
    }
   ],
   "source": [
    "roc_aucBF"
   ]
  },
  {
   "cell_type": "code",
   "execution_count": 30,
   "id": "92711449",
   "metadata": {},
   "outputs": [],
   "source": [
    "%matplotlib inline"
   ]
  },
  {
   "cell_type": "code",
   "execution_count": 31,
   "id": "7f8c2250",
   "metadata": {},
   "outputs": [
    {
     "data": {
      "image/png": "[encoded data removed]",
      "text/plain": [
       "<Figure size 432x288 with 1 Axes>"
      ]
     },
     "metadata": {
      "needs_background": "light"
     },
     "output_type": "display_data"
    }
   ],
   "source": [
    "plt.figure()\n",
    "plt.plot(false_positive_rateB,true_positive_rateB,label='ROC curve-RF(area=%0.2f)'% roc_aucBF)\n",
    "plt.plot([0,1],[0,1],'r--')       # color =k for black,r for red,b for blue, g for green\n",
    "plt.xlim([0.0,1.05])\n",
    "plt.ylim([0.0,1.05])\n",
    "plt.xlabel('False Positive Rate')\n",
    "plt.ylabel('True Positive Rate')\n",
    "plt.title('Receiver Operating Characteristic')\n",
    "plt.legend(loc='lower right')\n",
    "plt.show()"
   ]
  },
  {
   "cell_type": "markdown",
   "id": "764d9d9e",
   "metadata": {},
   "source": [
    "## By using Bagging i got an accuracy of 73.35%"
   ]
  },
  {
   "cell_type": "markdown",
   "id": "f58011e7",
   "metadata": {},
   "source": [
    " "
   ]
  },
  {
   "cell_type": "markdown",
   "id": "eb9a2571",
   "metadata": {},
   "source": [
    "#    "
   ]
  },
  {
   "cell_type": "markdown",
   "id": "3a489b47",
   "metadata": {},
   "source": [
    "# Building a Model using RandomForestClassifier  \n",
    "\n",
    "### Fit Random Forest"
   ]
  },
  {
   "cell_type": "code",
   "execution_count": 32,
   "id": "7f40dc9c",
   "metadata": {},
   "outputs": [],
   "source": [
    "from sklearn.ensemble import RandomForestClassifier"
   ]
  },
  {
   "cell_type": "code",
   "execution_count": 33,
   "id": "ec0b3521",
   "metadata": {},
   "outputs": [],
   "source": [
    "# Creating the model with 100 trees\n",
    "rf=RandomForestClassifier(n_estimators=100,bootstrap=True,max_features='sqrt')"
   ]
  },
  {
   "cell_type": "code",
   "execution_count": 34,
   "id": "a6d600c8",
   "metadata": {},
   "outputs": [],
   "source": [
    "rfFit=rf.fit(x_train,y_train)"
   ]
  },
  {
   "cell_type": "markdown",
   "id": "d0234ca5",
   "metadata": {},
   "source": [
    "# Predictions"
   ]
  },
  {
   "cell_type": "code",
   "execution_count": 35,
   "id": "3dd44c74",
   "metadata": {},
   "outputs": [],
   "source": [
    "# Actual class predictions\n",
    "y_predRF=rfFit.predict(x_test)"
   ]
  },
  {
   "cell_type": "code",
   "execution_count": 36,
   "id": "156c9b5e",
   "metadata": {},
   "outputs": [
    {
     "data": {
      "text/plain": [
       "280"
      ]
     },
     "execution_count": 36,
     "metadata": {},
     "output_type": "execute_result"
    }
   ],
   "source": [
    "len(y_predRF)"
   ]
  },
  {
   "cell_type": "code",
   "execution_count": 38,
   "id": "76958c53",
   "metadata": {},
   "outputs": [
    {
     "data": {
      "text/plain": [
       "280"
      ]
     },
     "execution_count": 38,
     "metadata": {},
     "output_type": "execute_result"
    }
   ],
   "source": [
    "len(x_test)"
   ]
  },
  {
   "cell_type": "code",
   "execution_count": 37,
   "id": "cdde61a2",
   "metadata": {},
   "outputs": [
    {
     "data": {
      "text/plain": [
       "array([0, 1, 0, 0, 0, 0, 0, 1, 0, 0, 0, 0, 0, 0, 0, 0, 0, 0, 1, 0, 0, 0,\n",
       "       0, 0, 0, 0, 0, 0, 0, 0, 0, 1, 0, 1, 0, 0, 0, 1, 0, 1, 0, 0, 0, 0,\n",
       "       0, 1, 0, 0, 0, 0, 1, 0, 0, 1, 1, 1, 0, 0, 1, 0, 0, 0, 0, 1, 0, 0,\n",
       "       0, 0, 0, 0, 0, 0, 0, 0, 0, 0, 1, 1, 0, 1, 0, 0, 0, 1, 0, 1, 1, 0,\n",
       "       0, 0, 0, 0, 0, 1, 0, 1, 1, 0, 0, 0, 0, 1, 0, 0, 1, 1, 0, 0, 1, 0,\n",
       "       0, 1, 0, 0, 0, 1, 0, 0, 0, 1, 0, 0, 0, 0, 0, 0, 0, 0, 0, 1, 0, 0,\n",
       "       0, 0, 0, 0, 0, 0, 1, 0, 0, 0, 0, 0, 0, 0, 1, 0, 0, 0, 0, 0, 0, 0,\n",
       "       0, 1, 0, 0, 0, 0, 0, 0, 0, 0, 0, 0, 0, 0, 0, 0, 0, 0, 1, 0, 0, 1,\n",
       "       0, 0, 0, 0, 0, 1, 0, 0, 0, 0, 1, 0, 0, 0, 0, 0, 0, 0, 1, 0, 0, 1,\n",
       "       0, 0, 0, 0, 0, 0, 0, 0, 0, 0, 0, 0, 0, 0, 1, 0, 0, 0, 0, 1, 1, 0,\n",
       "       0, 1, 0, 0, 0, 0, 1, 0, 0, 0, 0, 0, 0, 0, 0, 0, 0, 0, 0, 0, 0, 1,\n",
       "       0, 0, 0, 0, 0, 0, 0, 0, 1, 0, 1, 0, 0, 0, 0, 0, 0, 0, 0, 0, 0, 1,\n",
       "       0, 0, 1, 0, 0, 1, 0, 0, 0, 0, 0, 0, 0, 1, 0, 0], dtype=int64)"
      ]
     },
     "execution_count": 37,
     "metadata": {},
     "output_type": "execute_result"
    }
   ],
   "source": [
    "y_predRF"
   ]
  },
  {
   "cell_type": "markdown",
   "id": "7b37e03b",
   "metadata": {},
   "source": [
    "# Confusion Metrix"
   ]
  },
  {
   "cell_type": "code",
   "execution_count": 39,
   "id": "a19d8f57",
   "metadata": {},
   "outputs": [
    {
     "data": {
      "text/html": [
       "<div>\n",
       "<style scoped>\n",
       "    .dataframe tbody tr th:only-of-type {\n",
       "        vertical-align: middle;\n",
       "    }\n",
       "\n",
       "    .dataframe tbody tr th {\n",
       "        vertical-align: top;\n",
       "    }\n",
       "\n",
       "    .dataframe thead th {\n",
       "        text-align: right;\n",
       "    }\n",
       "</style>\n",
       "<table border=\"1\" class=\"dataframe\">\n",
       "  <thead>\n",
       "    <tr style=\"text-align: right;\">\n",
       "      <th>Predict</th>\n",
       "      <th>0</th>\n",
       "      <th>1</th>\n",
       "      <th>All</th>\n",
       "    </tr>\n",
       "    <tr>\n",
       "      <th>Actual</th>\n",
       "      <th></th>\n",
       "      <th></th>\n",
       "      <th></th>\n",
       "    </tr>\n",
       "  </thead>\n",
       "  <tbody>\n",
       "    <tr>\n",
       "      <th>0</th>\n",
       "      <td>179</td>\n",
       "      <td>27</td>\n",
       "      <td>206</td>\n",
       "    </tr>\n",
       "    <tr>\n",
       "      <th>1</th>\n",
       "      <td>49</td>\n",
       "      <td>25</td>\n",
       "      <td>74</td>\n",
       "    </tr>\n",
       "    <tr>\n",
       "      <th>All</th>\n",
       "      <td>228</td>\n",
       "      <td>52</td>\n",
       "      <td>280</td>\n",
       "    </tr>\n",
       "  </tbody>\n",
       "</table>\n",
       "</div>"
      ],
      "text/plain": [
       "Predict    0   1  All\n",
       "Actual               \n",
       "0        179  27  206\n",
       "1         49  25   74\n",
       "All      228  52  280"
      ]
     },
     "execution_count": 39,
     "metadata": {},
     "output_type": "execute_result"
    }
   ],
   "source": [
    "# Cross Tab\n",
    "\n",
    "pd.crosstab(y_test,y_predRF,margins=True,rownames=['Actual'],colnames=['Predict'])"
   ]
  },
  {
   "cell_type": "code",
   "execution_count": 40,
   "id": "39143e83",
   "metadata": {},
   "outputs": [
    {
     "data": {
      "text/plain": [
       "array([[179,  27],\n",
       "       [ 49,  25]], dtype=int64)"
      ]
     },
     "execution_count": 40,
     "metadata": {},
     "output_type": "execute_result"
    }
   ],
   "source": [
    "# or you can do in this way for confusion matrix\n",
    "from sklearn.metrics import confusion_matrix\n",
    "confusion_matrix(y_test,y_predRF)"
   ]
  },
  {
   "cell_type": "markdown",
   "id": "76c84905",
   "metadata": {},
   "source": [
    "# Classification Report"
   ]
  },
  {
   "cell_type": "code",
   "execution_count": 41,
   "id": "58cd14c4",
   "metadata": {},
   "outputs": [
    {
     "name": "stdout",
     "output_type": "stream",
     "text": [
      "              precision    recall  f1-score   support\n",
      "\n",
      "           0       0.79      0.87      0.82       206\n",
      "           1       0.48      0.34      0.40        74\n",
      "\n",
      "    accuracy                           0.73       280\n",
      "   macro avg       0.63      0.60      0.61       280\n",
      "weighted avg       0.70      0.73      0.71       280\n",
      "\n"
     ]
    }
   ],
   "source": [
    "# printing classification report\n",
    "from sklearn.metrics import classification_report\n",
    "\n",
    "print(classification_report(y_test,y_predRF))"
   ]
  },
  {
   "cell_type": "markdown",
   "id": "407857f5",
   "metadata": {},
   "source": [
    "# Probabilities"
   ]
  },
  {
   "cell_type": "code",
   "execution_count": 42,
   "id": "f6b170bd",
   "metadata": {},
   "outputs": [],
   "source": [
    "# Probabilities for each class\n",
    "\n",
    "predP_RF=rfFit.predict_proba(x_test)[:,1]"
   ]
  },
  {
   "cell_type": "code",
   "execution_count": 43,
   "id": "5af43444",
   "metadata": {
    "scrolled": true
   },
   "outputs": [
    {
     "data": {
      "text/plain": [
       "array([0.08, 0.73, 0.34, 0.14, 0.21, 0.35, 0.26, 0.52, 0.06, 0.17, 0.03,\n",
       "       0.48, 0.22, 0.15, 0.34, 0.19, 0.07, 0.09, 0.71, 0.02, 0.2 , 0.26,\n",
       "       0.5 , 0.04, 0.12, 0.09, 0.38, 0.05, 0.17, 0.38, 0.28, 0.58, 0.35,\n",
       "       0.56, 0.31, 0.12, 0.15, 0.54, 0.16, 0.66, 0.11, 0.31, 0.06, 0.01,\n",
       "       0.42, 0.73, 0.27, 0.34, 0.08, 0.21, 0.54, 0.03, 0.25, 0.66, 0.52,\n",
       "       0.68, 0.01, 0.07, 0.71, 0.02, 0.03, 0.3 , 0.28, 0.51, 0.14, 0.06,\n",
       "       0.31, 0.14, 0.28, 0.07, 0.06, 0.07, 0.5 , 0.07, 0.07, 0.43, 0.55,\n",
       "       0.58, 0.27, 0.8 , 0.24, 0.43, 0.01, 0.62, 0.27, 0.87, 0.54, 0.12,\n",
       "       0.44, 0.28, 0.36, 0.22, 0.06, 0.57, 0.23, 0.8 , 0.64, 0.37, 0.24,\n",
       "       0.46, 0.15, 0.64, 0.08, 0.18, 0.53, 0.88, 0.26, 0.17, 0.54, 0.1 ,\n",
       "       0.09, 0.67, 0.12, 0.42, 0.  , 0.93, 0.09, 0.38, 0.12, 0.53, 0.5 ,\n",
       "       0.02, 0.11, 0.04, 0.19, 0.07, 0.45, 0.02, 0.48, 0.96, 0.44, 0.09,\n",
       "       0.4 , 0.13, 0.24, 0.1 , 0.12, 0.36, 0.71, 0.01, 0.17, 0.13, 0.32,\n",
       "       0.04, 0.26, 0.  , 0.93, 0.5 , 0.04, 0.11, 0.19, 0.02, 0.07, 0.03,\n",
       "       0.16, 0.94, 0.07, 0.07, 0.15, 0.23, 0.06, 0.03, 0.44, 0.14, 0.13,\n",
       "       0.36, 0.4 , 0.45, 0.17, 0.42, 0.04, 0.38, 0.73, 0.3 , 0.09, 0.61,\n",
       "       0.08, 0.1 , 0.46, 0.27, 0.12, 0.59, 0.49, 0.17, 0.29, 0.37, 0.82,\n",
       "       0.33, 0.14, 0.37, 0.24, 0.45, 0.19, 0.11, 0.66, 0.15, 0.11, 0.62,\n",
       "       0.13, 0.04, 0.07, 0.09, 0.38, 0.2 , 0.02, 0.2 , 0.03, 0.08, 0.24,\n",
       "       0.35, 0.48, 0.31, 0.83, 0.04, 0.2 , 0.46, 0.12, 0.62, 0.94, 0.42,\n",
       "       0.08, 0.74, 0.25, 0.19, 0.14, 0.  , 0.53, 0.07, 0.01, 0.25, 0.07,\n",
       "       0.1 , 0.05, 0.06, 0.07, 0.02, 0.07, 0.05, 0.04, 0.01, 0.17, 0.64,\n",
       "       0.26, 0.43, 0.  , 0.04, 0.14, 0.15, 0.2 , 0.02, 0.51, 0.39, 0.8 ,\n",
       "       0.12, 0.07, 0.17, 0.02, 0.14, 0.2 , 0.12, 0.18, 0.34, 0.09, 0.63,\n",
       "       0.14, 0.36, 0.66, 0.23, 0.5 , 0.71, 0.06, 0.22, 0.08, 0.47, 0.31,\n",
       "       0.42, 0.04, 0.6 , 0.29, 0.12])"
      ]
     },
     "execution_count": 43,
     "metadata": {},
     "output_type": "execute_result"
    }
   ],
   "source": [
    "predP_RF    # actual number"
   ]
  },
  {
   "cell_type": "markdown",
   "id": "92c8cd32",
   "metadata": {},
   "source": [
    "# Roc Curve"
   ]
  },
  {
   "cell_type": "code",
   "execution_count": 44,
   "id": "68e62314",
   "metadata": {},
   "outputs": [],
   "source": [
    "# Find fpr,tpr,threshold\n",
    "\n",
    "false_positive_rateRF,true_positive_rateRF,thresholdsRF=sklearn.metrics.roc_curve(y_test,predP_RF)"
   ]
  },
  {
   "cell_type": "markdown",
   "id": "844bc037",
   "metadata": {},
   "source": [
    "# Accuracy"
   ]
  },
  {
   "cell_type": "code",
   "execution_count": 45,
   "id": "f2a98e49",
   "metadata": {},
   "outputs": [],
   "source": [
    "roc_aucRF=auc(false_positive_rateRF,true_positive_rateRF)"
   ]
  },
  {
   "cell_type": "code",
   "execution_count": 46,
   "id": "50e98775",
   "metadata": {},
   "outputs": [
    {
     "data": {
      "text/plain": [
       "0.7284177381264759"
      ]
     },
     "execution_count": 46,
     "metadata": {},
     "output_type": "execute_result"
    }
   ],
   "source": [
    "roc_aucRF"
   ]
  },
  {
   "cell_type": "markdown",
   "id": "3ddd60a2",
   "metadata": {},
   "source": [
    "# will plot the graph on false positive rate vs true positive rate"
   ]
  },
  {
   "cell_type": "code",
   "execution_count": 48,
   "id": "f429e995",
   "metadata": {},
   "outputs": [
    {
     "data": {
      "image/png": "[encoded data removed]",
      "text/plain": [
       "<Figure size 432x288 with 1 Axes>"
      ]
     },
     "metadata": {
      "needs_background": "light"
     },
     "output_type": "display_data"
    }
   ],
   "source": [
    "%matplotlib inline\n",
    "plt.figure()\n",
    "plt.plot(false_positive_rateRF,true_positive_rateRF,label='ROC curve-RF(area =%0.2f)'% roc_aucRF)\n",
    "plt.plot([0,1],[0,1],'k--')  # k for black,r for red b for blue g for green\n",
    "plt.xlim([0.0,1.05])\n",
    "plt.ylim([0.0,1.05])\n",
    "plt.title('Receiver rating characteristic')\n",
    "plt.legend(loc='lower right')\n",
    "plt.show()"
   ]
  },
  {
   "cell_type": "markdown",
   "id": "3335056d",
   "metadata": {},
   "source": [
    "## By using Bagging i got an accuracy of 73.35%\n",
    "## By using RandomForest i got an accuracy of 72.84%"
   ]
  },
  {
   "cell_type": "markdown",
   "id": "7cc665d2",
   "metadata": {},
   "source": [
    "# "
   ]
  },
  {
   "cell_type": "markdown",
   "id": "160a8878",
   "metadata": {},
   "source": [
    "# Importance of Variables"
   ]
  },
  {
   "cell_type": "markdown",
   "id": "aa284f9b",
   "metadata": {},
   "source": [
    "  "
   ]
  },
  {
   "cell_type": "markdown",
   "id": "5482382f",
   "metadata": {},
   "source": [
    "# Extract feature importances "
   ]
  },
  {
   "cell_type": "code",
   "execution_count": 50,
   "id": "85302c88",
   "metadata": {},
   "outputs": [],
   "source": [
    "fi=pd.DataFrame({'feature':list(x_train.columns),'importance':rfFit.feature_importances_}).sort_values('importance',ascending=False)"
   ]
  },
  {
   "cell_type": "markdown",
   "id": "0a05efd7",
   "metadata": {},
   "source": [
    "### Display the feature importances"
   ]
  },
  {
   "cell_type": "code",
   "execution_count": 52,
   "id": "46ecc9d4",
   "metadata": {},
   "outputs": [
    {
     "data": {
      "text/html": [
       "<div>\n",
       "<style scoped>\n",
       "    .dataframe tbody tr th:only-of-type {\n",
       "        vertical-align: middle;\n",
       "    }\n",
       "\n",
       "    .dataframe tbody tr th {\n",
       "        vertical-align: top;\n",
       "    }\n",
       "\n",
       "    .dataframe thead th {\n",
       "        text-align: right;\n",
       "    }\n",
       "</style>\n",
       "<table border=\"1\" class=\"dataframe\">\n",
       "  <thead>\n",
       "    <tr style=\"text-align: right;\">\n",
       "      <th></th>\n",
       "      <th>feature</th>\n",
       "      <th>importance</th>\n",
       "    </tr>\n",
       "  </thead>\n",
       "  <tbody>\n",
       "    <tr>\n",
       "      <th>2</th>\n",
       "      <td>creddebt</td>\n",
       "      <td>0.333173</td>\n",
       "    </tr>\n",
       "    <tr>\n",
       "      <th>3</th>\n",
       "      <td>othdebt</td>\n",
       "      <td>0.242794</td>\n",
       "    </tr>\n",
       "    <tr>\n",
       "      <th>1</th>\n",
       "      <td>income</td>\n",
       "      <td>0.236770</td>\n",
       "    </tr>\n",
       "    <tr>\n",
       "      <th>0</th>\n",
       "      <td>age</td>\n",
       "      <td>0.187263</td>\n",
       "    </tr>\n",
       "  </tbody>\n",
       "</table>\n",
       "</div>"
      ],
      "text/plain": [
       "    feature  importance\n",
       "2  creddebt    0.333173\n",
       "3   othdebt    0.242794\n",
       "1    income    0.236770\n",
       "0       age    0.187263"
      ]
     },
     "execution_count": 52,
     "metadata": {},
     "output_type": "execute_result"
    }
   ],
   "source": [
    "fi"
   ]
  },
  {
   "cell_type": "markdown",
   "id": "e6da6775",
   "metadata": {},
   "source": [
    "# Adaptive Boosting"
   ]
  },
  {
   "cell_type": "markdown",
   "id": "8366e0ea",
   "metadata": {},
   "source": [
    "## Adaptive Boost classifier is also called as AdaBoost Classifier it is a method of estimator that begis by fitting a classifier on the original dataset and then fits additional copies of the classifier on the same dataset but where the weights of incorrectly classified instances are adjusted such that subsequent classsifiers focus more on difficult cases    (for example vinod sir father gives pocket money for the children and the boy with more sensitive will be given more importance rather than other child)"
   ]
  },
  {
   "cell_type": "code",
   "execution_count": 87,
   "id": "371dfa3e",
   "metadata": {},
   "outputs": [],
   "source": [
    "from sklearn.ensemble import AdaBoostClassifier\n",
    "from sklearn.tree import DecisionTreeClassifier"
   ]
  },
  {
   "cell_type": "code",
   "execution_count": 72,
   "id": "2d017e92",
   "metadata": {},
   "outputs": [],
   "source": [
    "ada=AdaBoostClassifier(DecisionTreeClassifier(max_depth=1),n_estimators=200)"
   ]
  },
  {
   "cell_type": "code",
   "execution_count": 73,
   "id": "9d2f279b",
   "metadata": {},
   "outputs": [
    {
     "data": {
      "text/plain": [
       "AdaBoostClassifier(base_estimator=DecisionTreeClassifier(max_depth=1),\n",
       "                   n_estimators=200)"
      ]
     },
     "execution_count": 73,
     "metadata": {},
     "output_type": "execute_result"
    }
   ],
   "source": [
    "adaFit=ada.fit(x_train,y_train)\n",
    "adaFit"
   ]
  },
  {
   "cell_type": "code",
   "execution_count": 74,
   "id": "edcd4ad4",
   "metadata": {},
   "outputs": [],
   "source": [
    "y_predADA=ada.predict(x_test)"
   ]
  },
  {
   "cell_type": "code",
   "execution_count": 75,
   "id": "4bb394ba",
   "metadata": {},
   "outputs": [
    {
     "data": {
      "text/plain": [
       "280"
      ]
     },
     "execution_count": 75,
     "metadata": {},
     "output_type": "execute_result"
    }
   ],
   "source": [
    "len(y_predADA)"
   ]
  },
  {
   "cell_type": "code",
   "execution_count": 76,
   "id": "7a35f407",
   "metadata": {},
   "outputs": [
    {
     "data": {
      "text/plain": [
       "array([0, 1, 0, 0, 0, 0, 0, 0, 0, 0, 0, 0, 0, 0, 0, 0, 0, 0, 1, 0, 0, 1,\n",
       "       0, 0, 0, 0, 0, 0, 1, 1, 0, 0, 0, 0, 0, 0, 0, 0, 0, 1, 0, 0, 0, 0,\n",
       "       1, 1, 0, 0, 0, 0, 1, 0, 0, 0, 0, 1, 0, 0, 1, 0, 0, 1, 0, 1, 0, 0,\n",
       "       1, 0, 0, 0, 0, 0, 0, 0, 0, 0, 1, 0, 0, 1, 0, 0, 0, 1, 0, 1, 1, 0,\n",
       "       0, 0, 1, 0, 0, 0, 0, 1, 1, 0, 0, 0, 0, 1, 0, 0, 0, 1, 1, 0, 0, 1,\n",
       "       0, 1, 0, 0, 0, 1, 0, 0, 0, 1, 0, 0, 0, 0, 1, 0, 0, 0, 0, 1, 0, 0,\n",
       "       0, 0, 0, 0, 0, 0, 1, 0, 0, 0, 0, 0, 0, 0, 1, 1, 0, 0, 0, 0, 0, 0,\n",
       "       0, 1, 0, 0, 0, 1, 0, 0, 1, 0, 0, 0, 1, 1, 0, 0, 0, 0, 1, 0, 1, 0,\n",
       "       0, 0, 0, 0, 0, 1, 0, 0, 0, 0, 1, 1, 0, 0, 0, 1, 0, 0, 1, 0, 0, 1,\n",
       "       0, 0, 0, 0, 0, 0, 0, 0, 0, 0, 0, 0, 1, 1, 1, 0, 0, 1, 0, 1, 1, 1,\n",
       "       0, 1, 0, 0, 0, 0, 1, 0, 0, 0, 0, 0, 0, 0, 0, 0, 0, 0, 0, 0, 0, 0,\n",
       "       0, 0, 0, 1, 0, 0, 1, 0, 1, 0, 1, 0, 0, 0, 0, 0, 0, 0, 0, 0, 0, 1,\n",
       "       0, 0, 1, 0, 0, 1, 0, 0, 0, 0, 0, 1, 0, 0, 0, 0], dtype=int64)"
      ]
     },
     "execution_count": 76,
     "metadata": {},
     "output_type": "execute_result"
    }
   ],
   "source": [
    "y_predADA"
   ]
  },
  {
   "cell_type": "markdown",
   "id": "0a306c29",
   "metadata": {},
   "source": [
    "# results and report"
   ]
  },
  {
   "cell_type": "markdown",
   "id": "307e2c7e",
   "metadata": {},
   "source": [
    "## cross Tab for confusion metrix"
   ]
  },
  {
   "cell_type": "code",
   "execution_count": 77,
   "id": "ee5ecf6d",
   "metadata": {},
   "outputs": [
    {
     "data": {
      "text/html": [
       "<div>\n",
       "<style scoped>\n",
       "    .dataframe tbody tr th:only-of-type {\n",
       "        vertical-align: middle;\n",
       "    }\n",
       "\n",
       "    .dataframe tbody tr th {\n",
       "        vertical-align: top;\n",
       "    }\n",
       "\n",
       "    .dataframe thead th {\n",
       "        text-align: right;\n",
       "    }\n",
       "</style>\n",
       "<table border=\"1\" class=\"dataframe\">\n",
       "  <thead>\n",
       "    <tr style=\"text-align: right;\">\n",
       "      <th>Predict</th>\n",
       "      <th>0</th>\n",
       "      <th>1</th>\n",
       "      <th>All</th>\n",
       "    </tr>\n",
       "    <tr>\n",
       "      <th>Actual</th>\n",
       "      <th></th>\n",
       "      <th></th>\n",
       "      <th></th>\n",
       "    </tr>\n",
       "  </thead>\n",
       "  <tbody>\n",
       "    <tr>\n",
       "      <th>0</th>\n",
       "      <td>169</td>\n",
       "      <td>37</td>\n",
       "      <td>206</td>\n",
       "    </tr>\n",
       "    <tr>\n",
       "      <th>1</th>\n",
       "      <td>47</td>\n",
       "      <td>27</td>\n",
       "      <td>74</td>\n",
       "    </tr>\n",
       "    <tr>\n",
       "      <th>All</th>\n",
       "      <td>216</td>\n",
       "      <td>64</td>\n",
       "      <td>280</td>\n",
       "    </tr>\n",
       "  </tbody>\n",
       "</table>\n",
       "</div>"
      ],
      "text/plain": [
       "Predict    0   1  All\n",
       "Actual               \n",
       "0        169  37  206\n",
       "1         47  27   74\n",
       "All      216  64  280"
      ]
     },
     "execution_count": 77,
     "metadata": {},
     "output_type": "execute_result"
    }
   ],
   "source": [
    "pd.crosstab(y_test,y_predADA,margins=True,rownames=['Actual'],colnames=['Predict'])"
   ]
  },
  {
   "cell_type": "code",
   "execution_count": 78,
   "id": "0577fbbb",
   "metadata": {},
   "outputs": [
    {
     "data": {
      "text/plain": [
       "array([[169,  37],\n",
       "       [ 47,  27]], dtype=int64)"
      ]
     },
     "execution_count": 78,
     "metadata": {},
     "output_type": "execute_result"
    }
   ],
   "source": [
    "# or else you can write the confusion metrix in this way\n",
    "from sklearn.metrics import confusion_matrix\n",
    "confusion_matrix(y_test,y_predADA)"
   ]
  },
  {
   "cell_type": "markdown",
   "id": "330fb3cf",
   "metadata": {},
   "source": [
    "# will print classification report"
   ]
  },
  {
   "cell_type": "code",
   "execution_count": 79,
   "id": "dd30ea7e",
   "metadata": {},
   "outputs": [
    {
     "name": "stdout",
     "output_type": "stream",
     "text": [
      "              precision    recall  f1-score   support\n",
      "\n",
      "           0       0.78      0.82      0.80       206\n",
      "           1       0.42      0.36      0.39        74\n",
      "\n",
      "    accuracy                           0.70       280\n",
      "   macro avg       0.60      0.59      0.60       280\n",
      "weighted avg       0.69      0.70      0.69       280\n",
      "\n"
     ]
    }
   ],
   "source": [
    "print(classification_report(y_test,y_predADA))"
   ]
  },
  {
   "cell_type": "markdown",
   "id": "7ca459fc",
   "metadata": {},
   "source": [
    "# Probabilities"
   ]
  },
  {
   "cell_type": "code",
   "execution_count": 80,
   "id": "d9453757",
   "metadata": {},
   "outputs": [],
   "source": [
    "predP_ADA=adaFit.predict_proba(x_test)[:,1]"
   ]
  },
  {
   "cell_type": "code",
   "execution_count": 81,
   "id": "c6211a65",
   "metadata": {},
   "outputs": [
    {
     "data": {
      "text/plain": [
       "array([0.49432007, 0.50359383, 0.49805083, 0.49641009, 0.48183556,\n",
       "       0.49267032, 0.49715029, 0.49787844, 0.48115668, 0.48494855,\n",
       "       0.48243679, 0.45532538, 0.45376132, 0.49757934, 0.4972399 ,\n",
       "       0.45259966, 0.44920009, 0.44747578, 0.50543747, 0.47929092,\n",
       "       0.4971719 , 0.50012575, 0.49768988, 0.49207769, 0.49662345,\n",
       "       0.49657719, 0.49927241, 0.49088777, 0.50033536, 0.50112362,\n",
       "       0.49575711, 0.49935784, 0.49648241, 0.49494616, 0.49513019,\n",
       "       0.49459882, 0.49372311, 0.4878483 , 0.45541088, 0.50121036,\n",
       "       0.49342538, 0.48461958, 0.47740378, 0.48840127, 0.50017025,\n",
       "       0.50589365, 0.49844214, 0.4877958 , 0.49450771, 0.49889917,\n",
       "       0.50013285, 0.49649223, 0.49758061, 0.49379778, 0.4978563 ,\n",
       "       0.50674586, 0.49217534, 0.48703396, 0.50268612, 0.49275523,\n",
       "       0.49225158, 0.50021949, 0.45635916, 0.50868172, 0.49751688,\n",
       "       0.49528973, 0.50754309, 0.49350068, 0.49864139, 0.49131902,\n",
       "       0.40870722, 0.45411261, 0.49819793, 0.49471744, 0.49072181,\n",
       "       0.49774996, 0.50063426, 0.49935784, 0.49305551, 0.50402652,\n",
       "       0.49938015, 0.49737919, 0.49371395, 0.50664256, 0.48804569,\n",
       "       0.50340089, 0.50057599, 0.49011602, 0.49611144, 0.49848648,\n",
       "       0.50295961, 0.49342279, 0.49241284, 0.4974919 , 0.49943479,\n",
       "       0.52861358, 0.50156151, 0.49983205, 0.49925952, 0.49945474,\n",
       "       0.4985913 , 0.50502333, 0.40839155, 0.49652647, 0.49752068,\n",
       "       0.51796904, 0.50812752, 0.49703067, 0.4974919 , 0.50128399,\n",
       "       0.49558775, 0.50250144, 0.49594716, 0.49713968, 0.49112979,\n",
       "       0.5313454 , 0.47643175, 0.4985406 , 0.47446329, 0.50006914,\n",
       "       0.49717654, 0.49495259, 0.49392221, 0.49187679, 0.50162327,\n",
       "       0.49432009, 0.49815659, 0.48830341, 0.49995783, 0.52612117,\n",
       "       0.49867661, 0.49740228, 0.49819137, 0.49204355, 0.49473586,\n",
       "       0.49561067, 0.48941379, 0.49495425, 0.50187147, 0.44712938,\n",
       "       0.49733771, 0.49699575, 0.49585557, 0.49082329, 0.49581582,\n",
       "       0.49061211, 0.50697701, 0.50459533, 0.49186005, 0.49558964,\n",
       "       0.48612261, 0.49171486, 0.49279225, 0.4962488 , 0.49416417,\n",
       "       0.5098061 , 0.4940321 , 0.49681053, 0.49427247, 0.50028952,\n",
       "       0.49571912, 0.47822604, 0.50201512, 0.44663876, 0.49796665,\n",
       "       0.49762538, 0.50117351, 0.50229457, 0.49679728, 0.49040797,\n",
       "       0.48741495, 0.49773025, 0.52069974, 0.49739574, 0.50063537,\n",
       "       0.48865204, 0.49224059, 0.4928989 , 0.49929103, 0.49903464,\n",
       "       0.4907487 , 0.502937  , 0.49863258, 0.49530949, 0.49204331,\n",
       "       0.49787188, 0.50429032, 0.5006251 , 0.49516981, 0.45491135,\n",
       "       0.49568613, 0.50180831, 0.49871951, 0.49523573, 0.50264183,\n",
       "       0.4871159 , 0.49633006, 0.50072724, 0.49024806, 0.4898478 ,\n",
       "       0.49649649, 0.49712382, 0.49837598, 0.45918183, 0.47993111,\n",
       "       0.49501531, 0.49679692, 0.49464121, 0.49776431, 0.49999957,\n",
       "       0.50343757, 0.50213572, 0.5050487 , 0.44674988, 0.49403653,\n",
       "       0.50044422, 0.49807139, 0.54458527, 0.52612117, 0.50165106,\n",
       "       0.49049192, 0.50251883, 0.49654563, 0.49824868, 0.44820197,\n",
       "       0.49289585, 0.50110762, 0.49345273, 0.44830957, 0.49918603,\n",
       "       0.49386072, 0.44831774, 0.49606567, 0.49191633, 0.47716687,\n",
       "       0.49249718, 0.49106896, 0.49423159, 0.44879076, 0.48590503,\n",
       "       0.4981552 , 0.49887636, 0.49796988, 0.49677046, 0.49144453,\n",
       "       0.50615342, 0.49459904, 0.49519627, 0.50092517, 0.48755778,\n",
       "       0.50047797, 0.49918668, 0.53058054, 0.49321357, 0.49426755,\n",
       "       0.49605793, 0.49136802, 0.4970613 , 0.49691021, 0.49455047,\n",
       "       0.49689837, 0.49597149, 0.49284386, 0.50810824, 0.40843349,\n",
       "       0.4980498 , 0.50170566, 0.49297429, 0.49657672, 0.52523982,\n",
       "       0.49377056, 0.4988484 , 0.44879076, 0.4980445 , 0.49909298,\n",
       "       0.50082941, 0.49399323, 0.49233625, 0.49556524, 0.49549041])"
      ]
     },
     "execution_count": 81,
     "metadata": {},
     "output_type": "execute_result"
    }
   ],
   "source": [
    "predP_ADA         # actual number"
   ]
  },
  {
   "cell_type": "markdown",
   "id": "d7638400",
   "metadata": {},
   "source": [
    "# ROC Curve"
   ]
  },
  {
   "cell_type": "code",
   "execution_count": 82,
   "id": "da1df7f4",
   "metadata": {},
   "outputs": [],
   "source": [
    "false_positive_rateADA,true_positive_rateADA,thresholdsADA=sklearn.metrics.roc_curve(y_test,predP_ADA)"
   ]
  },
  {
   "cell_type": "code",
   "execution_count": 83,
   "id": "244dd022",
   "metadata": {},
   "outputs": [],
   "source": [
    "roc_aucADA=auc(false_positive_rateADA,true_positive_rateADA)"
   ]
  },
  {
   "cell_type": "code",
   "execution_count": 84,
   "id": "112f3c50",
   "metadata": {},
   "outputs": [
    {
     "data": {
      "text/plain": [
       "0.6638349514563107"
      ]
     },
     "execution_count": 84,
     "metadata": {},
     "output_type": "execute_result"
    }
   ],
   "source": [
    "roc_aucADA"
   ]
  },
  {
   "cell_type": "markdown",
   "id": "b2e4ce44",
   "metadata": {},
   "source": [
    "# Let's plot the graph"
   ]
  },
  {
   "cell_type": "code",
   "execution_count": 85,
   "id": "78481cb4",
   "metadata": {
    "scrolled": true
   },
   "outputs": [
    {
     "data": {
      "image/png": "[encoded data removed]",
      "text/plain": [
       "<Figure size 432x288 with 1 Axes>"
      ]
     },
     "metadata": {
      "needs_background": "light"
     },
     "output_type": "display_data"
    }
   ],
   "source": [
    "%matplotlib inline\n",
    "plt.figure()\n",
    "plt.plot(false_positive_rateADA,true_positive_rateADA,label='ROC Curve-ADA(area=%0.2f)'% roc_aucADA)\n",
    "plt.plot([0,1],[0,1],'k--')   # k for black,r for red,b for blue, g for green\n",
    "plt.xlim([0.0,1.05])\n",
    "plt.ylim([0.0,1.05])\n",
    "plt.xlabel('False Positive Rate')\n",
    "plt.ylabel('True Positive Rate')\n",
    "plt.title('Receiver rating characterstic')\n",
    "plt.legend(loc='lower right')\n",
    "plt.show()"
   ]
  },
  {
   "cell_type": "code",
   "execution_count": null,
   "id": "9b302170",
   "metadata": {},
   "outputs": [],
   "source": []
  },
  {
   "cell_type": "code",
   "execution_count": null,
   "id": "bb6fb9d5",
   "metadata": {},
   "outputs": [],
   "source": []
  }
 ],
 "metadata": {
  "kernelspec": {
   "display_name": "Python 3 (ipykernel)",
   "language": "python",
   "name": "python3"
  },
  "language_info": {
   "codemirror_mode": {
    "name": "ipython",
    "version": 3
   },
   "file_extension": ".py",
   "mimetype": "text/x-python",
   "name": "python",
   "nbconvert_exporter": "python",
   "pygments_lexer": "ipython3",
   "version": "3.9.7"
  }
 },
 "nbformat": 4,
 "nbformat_minor": 5
}
