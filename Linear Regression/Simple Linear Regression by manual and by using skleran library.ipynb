{
 "cells": [
  {
   "cell_type": "markdown",
   "id": "0f78772e",
   "metadata": {},
   "source": [
    "# Simple Linear Regression by manual and by sklearn library"
   ]
  },
  {
   "cell_type": "code",
   "execution_count": 3,
   "id": "22db60eb",
   "metadata": {},
   "outputs": [],
   "source": [
    "import pandas as pd\n",
    "import numpy as np\n",
    "import matplotlib.pyplot as plt\n",
    "import seaborn as sns\n",
    "%matplotlib inline\n",
    "from warnings import filterwarnings\n",
    "filterwarnings('ignore')"
   ]
  },
  {
   "cell_type": "code",
   "execution_count": 33,
   "id": "78a834c8",
   "metadata": {},
   "outputs": [],
   "source": [
    "x=pd.Series([1,2,3,4,5])\n",
    "y=pd.Series([3,4,2,4,5])"
   ]
  },
  {
   "cell_type": "code",
   "execution_count": 18,
   "id": "a00acc70",
   "metadata": {},
   "outputs": [
    {
     "name": "stdout",
     "output_type": "stream",
     "text": [
      "3.0 3.6\n"
     ]
    }
   ],
   "source": [
    "mean_x=np.mean(x)\n",
    "mean_y=np.mean(y)\n",
    "print(mean_x,mean_y)"
   ]
  },
  {
   "cell_type": "code",
   "execution_count": 29,
   "id": "b145f5ab",
   "metadata": {},
   "outputs": [
    {
     "name": "stdout",
     "output_type": "stream",
     "text": [
      "slope = 0.4\n"
     ]
    }
   ],
   "source": [
    "# finding the slope\n",
    "#  m=((xi-x`)(yi-y`)/(xi-x`)^2)\n",
    "\n",
    "a=0\n",
    "b=0\n",
    "for i in range(len(x)):\n",
    "    \n",
    "    a+=(x[i]-mean_x)*(y[i]-np.mean(y))\n",
    "    b+=(x[i]-mean_x)**2\n",
    "m=a/b\n",
    "print('slope =',m)"
   ]
  },
  {
   "cell_type": "code",
   "execution_count": 27,
   "id": "5b1839d7",
   "metadata": {},
   "outputs": [
    {
     "name": "stdout",
     "output_type": "stream",
     "text": [
      "intercept= 2.4\n"
     ]
    }
   ],
   "source": [
    "# finding the intercept\n",
    "# y`=mx`+c\n",
    "# 3.6=0.4*3+c\n",
    "c=3.6-(0.4*3)\n",
    "print('intercept=', c)"
   ]
  },
  {
   "cell_type": "code",
   "execution_count": 32,
   "id": "7bbdb10b",
   "metadata": {},
   "outputs": [
    {
     "name": "stdout",
     "output_type": "stream",
     "text": [
      "yp = [2.8, 3.2, 3.6, 4.0, 4.4]\n"
     ]
    }
   ],
   "source": [
    "# now will find the y(dependent variable)\n",
    "# y=mx+c\n",
    "yp=[]\n",
    "for j in range(len(x)):\n",
    "    yp.append(m*x[j]+c)\n",
    "print('yp =',y)"
   ]
  },
  {
   "cell_type": "code",
   "execution_count": 48,
   "id": "e0ca060f",
   "metadata": {},
   "outputs": [
    {
     "data": {
      "image/png": "[encoded data removed]",
      "text/plain": [
       "<Figure size 432x288 with 1 Axes>"
      ]
     },
     "metadata": {
      "needs_background": "light"
     },
     "output_type": "display_data"
    }
   ],
   "source": [
    "# lets plot a graph\n",
    "plt.plot(x,yp)\n",
    "sns.scatterplot(x,y)\n",
    "plt.xlabel('Independent Variable  (x)')\n",
    "plt.ylabel('Dependent Variable  (y)')\n",
    "plt.show()"
   ]
  },
  {
   "cell_type": "code",
   "execution_count": 36,
   "id": "39d14b32",
   "metadata": {},
   "outputs": [
    {
     "name": "stdout",
     "output_type": "stream",
     "text": [
      "0.3076923076923078\n"
     ]
    }
   ],
   "source": [
    "# finding the r-square\n",
    "# R-squared= (yp-(y`))^2/(y-y`)^2\n",
    "\n",
    "a=0\n",
    "b=0\n",
    "for i in range(len(yp)):\n",
    "    a+=(yp[i]-np.mean(y))**2\n",
    "    b+=(y[i]-np.mean(y))**2\n",
    "r_squared=a/b\n",
    "print(r_squared)"
   ]
  },
  {
   "cell_type": "code",
   "execution_count": 57,
   "id": "1399dc35",
   "metadata": {
    "scrolled": true
   },
   "outputs": [
    {
     "name": "stdout",
     "output_type": "stream",
     "text": [
      "[[2.8]\n",
      " [3.2]\n",
      " [3.6]\n",
      " [4. ]\n",
      " [4.4]]\n"
     ]
    }
   ],
   "source": [
    "# lets build the same model using sklearn\n",
    "\n",
    "from sklearn.linear_model import LinearRegression\n",
    "from sklearn.metrics import mean_squared_error\n",
    "\n",
    "model=LinearRegression()\n",
    "x=pd.DataFrame([1,2,3,4,5])\n",
    "y=pd.DataFrame([3,4,2,4,5])\n",
    "model.fit(x,y)\n",
    "y_pred=model.predict(x)\n",
    "print(y_pred)"
   ]
  },
  {
   "cell_type": "code",
   "execution_count": 72,
   "id": "bd04ca1a",
   "metadata": {},
   "outputs": [
    {
     "data": {
      "text/plain": [
       "0.7200000000000002"
      ]
     },
     "execution_count": 72,
     "metadata": {},
     "output_type": "execute_result"
    }
   ],
   "source": [
    "mse=mean_squared_error(y,y_pred)\n",
    "mse"
   ]
  },
  {
   "cell_type": "code",
   "execution_count": 74,
   "id": "5e8cc5f5",
   "metadata": {},
   "outputs": [
    {
     "data": {
      "text/plain": [
       "0.8485281374238571"
      ]
     },
     "execution_count": 74,
     "metadata": {},
     "output_type": "execute_result"
    }
   ],
   "source": [
    "rmse=np.sqrt(mse)\n",
    "rmse"
   ]
  },
  {
   "cell_type": "code",
   "execution_count": 76,
   "id": "94955c9c",
   "metadata": {
    "scrolled": true
   },
   "outputs": [
    {
     "data": {
      "text/plain": [
       "0.3076923076923075"
      ]
     },
     "execution_count": 76,
     "metadata": {},
     "output_type": "execute_result"
    }
   ],
   "source": [
    "# will find r_squared value\n",
    "r2_score=model.score(x,y)\n",
    "r2_score"
   ]
  },
  {
   "cell_type": "code",
   "execution_count": null,
   "id": "145cb18e",
   "metadata": {},
   "outputs": [],
   "source": []
  },
  {
   "cell_type": "markdown",
   "id": "d75cf779",
   "metadata": {},
   "source": [
    "### checkout the rough book which is giving same result we did in manual calculation "
   ]
  },
  {
   "cell_type": "code",
   "execution_count": null,
   "id": "fbd1ad12",
   "metadata": {},
   "outputs": [],
   "source": []
  }
 ],
 "metadata": {
  "kernelspec": {
   "display_name": "Python 3 (ipykernel)",
   "language": "python",
   "name": "python3"
  },
  "language_info": {
   "codemirror_mode": {
    "name": "ipython",
    "version": 3
   },
   "file_extension": ".py",
   "mimetype": "text/x-python",
   "name": "python",
   "nbconvert_exporter": "python",
   "pygments_lexer": "ipython3",
   "version": "3.9.7"
  }
 },
 "nbformat": 4,
 "nbformat_minor": 5
}
